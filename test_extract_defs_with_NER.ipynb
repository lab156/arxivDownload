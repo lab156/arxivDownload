{
 "cells": [
  {
   "cell_type": "markdown",
   "id": "a980f048-41df-4700-adfe-1624b077b70d",
   "metadata": {},
   "source": [
    "# Compare results from the Token Classification with other sources\n",
    "Getting the data from the repo: https://github.com/JUrban/extract-defs/tree/main/lm-inputs/defsCT"
   ]
  },
  {
   "cell_type": "code",
   "execution_count": 1,
   "id": "e119767f-ea2b-4e8c-9d4a-6b819b7d6077",
   "metadata": {},
   "outputs": [
    {
     "name": "stderr",
     "output_type": "stream",
     "text": [
      "/home/luis/code/arxivDownload/venv/lib/python3.10/site-packages/tqdm/auto.py:21: TqdmWarning: IProgress not found. Please update jupyter and ipywidgets. See https://ipywidgets.readthedocs.io/en/stable/user_install.html\n",
      "  from .autonotebook import tqdm as notebook_tqdm\n"
     ]
    }
   ],
   "source": [
    "import re\n",
    "import os\n",
    "from os.path import join\n",
    "\n",
    "from transformers import (AutoTokenizer,\n",
    "                         TFAutoModelForTokenClassification,)\n",
    "\n",
    "cfg = {'checkpoint': 'bert-base-uncased',\n",
    "      'max_length': 150, # check mp_infer_HFTrans_ner.py\n",
    "      }"
   ]
  },
  {
   "cell_type": "code",
   "execution_count": 2,
   "id": "dc8b1e9f-48a4-4228-9395-6a2c86c5a332",
   "metadata": {},
   "outputs": [],
   "source": [
    "xdefs_root = join(os.path.expanduser('~'),'zornMedia/extract-defs')\n",
    "xdefs_inputs = join(xdefs_root, 'lm-inputs/defsCT')\n",
    "xdefs_outputs = join(xdefs_root, 'lm-outputs/defsCT')\n",
    "xdefs_inputs_filelst = sorted(os.listdir(xdefs_inputs))\n",
    "xdefs_outputs_filelst = sorted(os.listdir(xdefs_outputs))\n",
    "\n",
    "with open(join(xdefs_outputs, xdefs_outputs_filelst[0]), 'r') as fobj:\n",
    "    xdefs_out_lst = fobj.readlines()\n",
    "with open(join(xdefs_inputs, xdefs_inputs_filelst[0]), 'r') as fobj:\n",
    "    xdefs_in_lst = fobj.readlines()"
   ]
  },
  {
   "cell_type": "code",
   "execution_count": 3,
   "id": "7d40d248-779c-40b5-80b5-7084de740646",
   "metadata": {},
   "outputs": [
    {
     "data": {
      "text/plain": [
       "['A reduced SC type $n$-operad in a symmetric monoidal category $V$ is a collection $A_{T}\\\\in V$ where $T$ runs over all coloured pruned $n$-trees such that $A_{U^{1}_{n}}=A_{U^{2}_{n}}=I$ and $A_{z^{n}U_{0}}=I,$ where $U^{1}_{n}$ is a linear tree with its unique tip coloured by $1$ and $U^{2}_{n}$ is a linear tree with its tip coloured by $2.$ This collection is equipped with a morphism $m_{\\\\sigma}:A_{S}\\\\otimes A_{T_{1}^{(p)}}\\\\otimes\\\\ldots\\\\otimes A_{T_{k}^{(p)}}% \\\\rightarrow A_{T}$ for every coloured morphism of trees $\\\\sigma:T\\\\rightarrow S$ between coloured pruned $n$-trees. They must satisfy the obvious associativity and unitarity conditions. For an unbased reduced SC-operad we use collections without degenerate trees and define multiplication only with respect to surjections of coloured trees.']"
      ]
     },
     "execution_count": 3,
     "metadata": {},
     "output_type": "execute_result"
    }
   ],
   "source": [
    "# Example to grab 'Definition 8.1: DEFINES \"taxotopic\"\\n'\n",
    "# and 'Definition 7.2: DEFINES \"taxotopic\", \"S-taxotopic\", \"taxotopy equivalent\", \"S-taxotopy equivalent\", \"null-taxotopic\"\\n'\n",
    "#reg_expr = re.compile('Definition[\\s\\d\\.\\:]+DEFINES\\s+\"(.+?)\"+')\n",
    "reg_expr = re.compile('\"(.+?)\"+')\n",
    "def get_term(out_str):\n",
    "    # The out_str is the output string produced by the LLM\n",
    "    Defin = reg_expr.findall(out_str)\n",
    "    return Defin\n",
    "\n",
    "reg_expr2 = re.compile('Definition\\s+[\\d\\.]+\\s+(.+)')\n",
    "def get_text(in_str):\n",
    "    Defin = reg_expr2.findall(in_str)\n",
    "    return Defin\n",
    "get_text(xdefs_in_lst[15])    "
   ]
  },
  {
   "cell_type": "code",
   "execution_count": 4,
   "id": "1485e976-e715-4686-b9ff-d25d839b9c38",
   "metadata": {},
   "outputs": [],
   "source": [
    "tokenizer = AutoTokenizer\\\n",
    "          .from_pretrained(cfg['checkpoint'])"
   ]
  },
  {
   "cell_type": "code",
   "execution_count": 5,
   "id": "ec624d8b-816b-460b-bf1d-b3d97eb4041f",
   "metadata": {},
   "outputs": [
    {
     "name": "stderr",
     "output_type": "stream",
     "text": [
      "2024-08-05 03:42:05.173600: I external/local_xla/xla/tsl/cuda/cudart_stub.cc:32] Could not find cuda drivers on your machine, GPU will not be used.\n",
      "2024-08-05 03:42:05.175761: I external/local_xla/xla/tsl/cuda/cudart_stub.cc:32] Could not find cuda drivers on your machine, GPU will not be used.\n",
      "2024-08-05 03:42:05.183593: E external/local_xla/xla/stream_executor/cuda/cuda_fft.cc:485] Unable to register cuFFT factory: Attempting to register factory for plugin cuFFT when one has already been registered\n",
      "2024-08-05 03:42:05.197704: E external/local_xla/xla/stream_executor/cuda/cuda_dnn.cc:8454] Unable to register cuDNN factory: Attempting to register factory for plugin cuDNN when one has already been registered\n",
      "2024-08-05 03:42:05.201749: E external/local_xla/xla/stream_executor/cuda/cuda_blas.cc:1452] Unable to register cuBLAS factory: Attempting to register factory for plugin cuBLAS when one has already been registered\n",
      "2024-08-05 03:42:05.212345: I tensorflow/core/platform/cpu_feature_guard.cc:210] This TensorFlow binary is optimized to use available CPU instructions in performance-critical operations.\n",
      "To enable the following instructions: AVX2 FMA, in other operations, rebuild TensorFlow with the appropriate compiler flags.\n",
      "2024-08-05 03:42:06.020875: W tensorflow/compiler/tf2tensorrt/utils/py_utils.cc:38] TF-TRT Warning: Could not find TensorRT\n"
     ]
    },
    {
     "data": {
      "text/plain": [
       "{'input_ids': <tf.Tensor: shape=(1, 31), dtype=int32, numpy=\n",
       "array([[  101,  6210,  1023,  1012,  1017,  1037,  4359,  8040,  2828,\n",
       "         1002,  1050,  1002,  1011,  3850,  2094,  1999,  1037, 19490,\n",
       "        18847, 16975,  4696,  1002,  1058,  1002,  2003,  1037,  3074,\n",
       "         1002,  1037,  1035,   102]], dtype=int32)>, 'token_type_ids': <tf.Tensor: shape=(1, 31), dtype=int32, numpy=\n",
       "array([[0, 0, 0, 0, 0, 0, 0, 0, 0, 0, 0, 0, 0, 0, 0, 0, 0, 0, 0, 0, 0, 0,\n",
       "        0, 0, 0, 0, 0, 0, 0, 0, 0]], dtype=int32)>, 'attention_mask': <tf.Tensor: shape=(1, 31), dtype=int32, numpy=\n",
       "array([[1, 1, 1, 1, 1, 1, 1, 1, 1, 1, 1, 1, 1, 1, 1, 1, 1, 1, 1, 1, 1, 1,\n",
       "        1, 1, 1, 1, 1, 1, 1, 1, 1]], dtype=int32)>}"
      ]
     },
     "execution_count": 5,
     "metadata": {},
     "output_type": "execute_result"
    }
   ],
   "source": [
    "tokenizer(xdefs_in_lst[15][:100],\n",
    "         return_tensors='tf',\n",
    "         is_split_into_words=False,\n",
    "         padding=True,\n",
    "         truncation=True,\n",
    "         max_length=cfg['max_length'])"
   ]
  },
  {
   "cell_type": "code",
   "execution_count": 9,
   "id": "c07e0474-16d9-4c4f-a946-cc3f8a459cd9",
   "metadata": {},
   "outputs": [
    {
     "data": {
      "text/plain": [
       "'Definition 9.3 A reduced SC type $n$-operad in a symmetric monoidal category $V$ is a collection $A_{T}\\\\in V$ where $T$ runs over all coloured pruned $n$-trees such that $A_{U^{1}_{n}}=A_{U^{2}_{n}}=I$ and $A_{z^{n}U_{0}}=I,$ where $U^{1}_{n}$ is a linear tree with its unique tip coloured by $1$ and $U^{2}_{n}$ is a linear tree with its tip coloured by $2.$ This collection is equipped with a morphism $m_{\\\\sigma}:A_{S}\\\\otimes A_{T_{1}^{(p)}}\\\\otimes\\\\ldots\\\\otimes A_{T_{k}^{(p)}}% \\\\rightarrow A_{T}$ for every coloured morphism of trees $\\\\sigma:T\\\\rightarrow S$ between coloured pruned $n$-trees. They must satisfy the obvious associativity and unitarity conditions. For an unbased reduced SC-operad we use collections without degenerate trees and define multiplication only with respect to surjections of coloured trees.\\n'"
      ]
     },
     "execution_count": 9,
     "metadata": {},
     "output_type": "execute_result"
    }
   ],
   "source": [
    "xdefs_in_lst[15]"
   ]
  },
  {
   "cell_type": "code",
   "execution_count": null,
   "id": "3ba82545-c2c2-49b8-8680-73e3baca05a4",
   "metadata": {},
   "outputs": [],
   "source": []
  }
 ],
 "metadata": {
  "kernelspec": {
   "display_name": "Python 3 (ipykernel)",
   "language": "python",
   "name": "python3"
  },
  "language_info": {
   "codemirror_mode": {
    "name": "ipython",
    "version": 3
   },
   "file_extension": ".py",
   "mimetype": "text/x-python",
   "name": "python",
   "nbconvert_exporter": "python",
   "pygments_lexer": "ipython3",
   "version": "3.10.0rc1"
  }
 },
 "nbformat": 4,
 "nbformat_minor": 5
}
