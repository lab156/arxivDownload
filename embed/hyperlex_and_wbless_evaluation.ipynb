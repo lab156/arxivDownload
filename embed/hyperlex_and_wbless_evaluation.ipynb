{
 "cells": [
  {
   "cell_type": "code",
   "execution_count": 4,
   "metadata": {},
   "outputs": [
    {
     "data": {
      "text/html": [
       "        <script type=\"text/javascript\">\n",
       "        window.PlotlyConfig = {MathJaxConfig: 'local'};\n",
       "        if (window.MathJax && window.MathJax.Hub && window.MathJax.Hub.Config) {window.MathJax.Hub.Config({SVG: {font: \"STIX-Web\"}});}\n",
       "        if (typeof require !== 'undefined') {\n",
       "        require.undef(\"plotly\");\n",
       "        requirejs.config({\n",
       "            paths: {\n",
       "                'plotly': ['https://cdn.plot.ly/plotly-2.34.0.min']\n",
       "            }\n",
       "        });\n",
       "        require(['plotly'], function(Plotly) {\n",
       "            window._Plotly = Plotly;\n",
       "        });\n",
       "        }\n",
       "        </script>\n",
       "        "
      ]
     },
     "metadata": {},
     "output_type": "display_data"
    },
    {
     "ename": "NameError",
     "evalue": "name 'Glove' is not defined",
     "output_type": "error",
     "traceback": [
      "\u001b[0;31m---------------------------------------------------------------------------\u001b[0m",
      "\u001b[0;31mNameError\u001b[0m                                 Traceback (most recent call last)",
      "Cell \u001b[0;32mIn[4], line 34\u001b[0m\n\u001b[1;32m     31\u001b[0m PLOTS_PER_ROW \u001b[38;5;241m=\u001b[39m \u001b[38;5;241m3\u001b[39m\n\u001b[1;32m     33\u001b[0m hyp_model_fn \u001b[38;5;241m=\u001b[39m os\u001b[38;5;241m.\u001b[39mpath\u001b[38;5;241m.\u001b[39mjoin(ROOT, \u001b[38;5;124m\"\u001b[39m\u001b[38;5;124mmodels/glove/geometric_emb/glove_ep25_size20_lr0.01_vocab200000_mix-poincare_OPTmixradagrad_COOCCFUNClog_DISTFUNCcosh-dist-sq_NUMEMBS10_bias\u001b[39m\u001b[38;5;124m\"\u001b[39m)\n\u001b[0;32m---> 34\u001b[0m hyp_model \u001b[38;5;241m=\u001b[39m \u001b[43mGlove\u001b[49m\u001b[38;5;241m.\u001b[39mload(hyp_model_fn)\n\u001b[1;32m     35\u001b[0m hyp_wv \u001b[38;5;241m=\u001b[39m hyp_model\u001b[38;5;241m.\u001b[39mwv\n\u001b[1;32m     37\u001b[0m get_ipython()\u001b[38;5;241m.\u001b[39mrun_line_magic(\u001b[38;5;124m'\u001b[39m\u001b[38;5;124mload_ext\u001b[39m\u001b[38;5;124m'\u001b[39m, \u001b[38;5;124m'\u001b[39m\u001b[38;5;124mautoreload\u001b[39m\u001b[38;5;124m'\u001b[39m)\n",
      "\u001b[0;31mNameError\u001b[0m: name 'Glove' is not defined"
     ]
    }
   ],
   "source": [
    "import colorsys\n",
    "#import gensim\n",
    "#from glove_code.src.glove import Glove\n",
    "#from gensim.models.callbacks import LossLogger, LossSetter\n",
    "#from gensim.models.keyedvectors import PoincareWordEmbeddingsKeyedVectors as pkv\n",
    "#from gensim.matutils import argsort\n",
    "import json\n",
    "import matplotlib.pyplot as plt\n",
    "import numpy as np\n",
    "from numpy.linalg import norm\n",
    "from numpy import dot\n",
    "from operator import itemgetter\n",
    "import os\n",
    "import random\n",
    "from nltk.corpus import wordnet as wn\n",
    "from scipy import stats\n",
    "from scipy.linalg import block_diag\n",
    "from plotly import tools, subplots\n",
    "#import plotly.plotly as py\n",
    "import plotly.graph_objs as go\n",
    "from plotly.offline import download_plotlyjs, init_notebook_mode, plot, iplot\n",
    "import pandas as pd\n",
    "import networkx as nx\n",
    "\n",
    "random.seed(42)\n",
    "\n",
    "ROOT = \"/home/luis/Documents/poincare_glove/\"\n",
    "\n",
    "init_notebook_mode(connected=True)\n",
    "\n",
    "PLOTS_PER_ROW = 3\n",
    "\n",
    "hyp_model_fn = os.path.join(ROOT, \"models/glove/geometric_emb/glove_ep25_size20_lr0.01_vocab200000_mix-poincare_OPTmixradagrad_COOCCFUNClog_DISTFUNCcosh-dist-sq_NUMEMBS10_bias\")\n",
    "hyp_model = Glove.load(hyp_model_fn)\n",
    "hyp_wv = hyp_model.wv\n",
    "\n",
    "%load_ext autoreload\n",
    "%autoreload 2\n",
    "import sys, inspect\n",
    "currentdir = os.path.dirname(os.path.abspath(inspect.getfile(inspect.currentframe())))\n",
    "parentdir = os.path.dirname(currentdir)\n",
    "sys.path.insert(0,parentdir) \n",
    "import graphs"
   ]
  },
  {
   "cell_type": "code",
   "execution_count": 2,
   "metadata": {},
   "outputs": [
    {
     "name": "stdout",
     "output_type": "stream",
     "text": [
      "0 1 ['t']\n",
      "1 7 ['bijection', 'wolf', 'crossing', 'strong', 'lucas']\n",
      "2 1 ['countable']\n",
      "3 1 ['generated']\n",
      "4 1 ['ample']\n",
      "5 2 ['argument', 'object']\n",
      "6 2 ['term', 'maximal']\n",
      "7 5 ['order', 'semiperimeter', 'exactly', 'c', 'bounded']\n",
      "8 5 ['d', 'chauvenet', 'generalized', 'chu', 'bound']\n",
      "9 10 ['dirac', 'b', 'collection', 'binary', 'square']\n",
      "10 12 ['mean', 'closed', 'mathematical', 'ada', 'star']\n",
      "11 12 ['strict', 'synthetic', 'open', 'addition', 'cartesian']\n",
      "12 22 ['tamely', 'full', 'product', 'borel', 'equivalence']\n",
      "13 8 ['relation', 'induce', 'identity', 'left', 'euclidean']\n",
      "14 17 ['variable', 'induced', 'disjoint', 'side', 'clique']\n",
      "15 28 ['zero', 'additive', 'roman', 'real', 'unit']\n",
      "16 40 ['von', 'null', 'negative', 'proper', 'factor']\n",
      "17 53 ['critical', 'non-associative', 'semiring', 'domain', 'logical']\n",
      "18 66 ['symplectic', 'divisor', 'stern', 'commutative', 'direct']\n",
      "19 119 ['net', 'basal', 'zero', 'delta', 'character']\n",
      "20 189 ['level', 'arrow', 'arithmetic', 'fibre', 'linearly']\n",
      "21 329 ['branch', 'ordered', 'analytic', 'level', 'common']\n",
      "22 307 ['logarithmic', 'bifurcation', 'motzkin', 'stufe', 'senior']\n",
      "23 286 ['logistic', 'markov', 'polylogarithm', 'mandelbrot', 'bitwise']\n",
      "24 317 ['digamma', 'mathematics', 'rational', 'contingency', 'null']\n",
      "25 308 ['amenable', 'paint', 'dual', 'unbiased', 'odds']\n",
      "26 272 ['amenable', 'indefinite', 'non-standard', 'straight-line', 'base']\n",
      "27 217 ['measure', 'hyperbolic', 'aronszajn', 'plaintext', 'neutrosophic']\n",
      "28 194 ['fock', 'preface', 'hilbert', 'ellipse', 'branch']\n",
      "29 178 ['bargmann', 'monodromy', 'logarithmic', 'level', 'tilt']\n",
      "30 129 ['html', 'forum', 'nonabelian', 'congruences', 'in-degree']\n",
      "31 79 ['cusp', 'noosphere', 'javascript', 'arithmetic-geometric', 'sss']\n",
      "32 55 ['pell', 'egyptian', 'reisner', 'universal', 'recursively']\n",
      "33 34 ['left-invariant', 'normal', 'continuum', 'nbg', 'diagonalisable']\n",
      "34 20 ['type', 'postulate', 'if-logic', 'highest', 'composition']\n",
      "35 18 ['neutrosophic', 'smarandache', 'exterior', 'operator', 'quantum']\n",
      "36 9 ['quantum', 'geometric', 'exterior', 'cayley-dickson', 'ornstein-uhlenbeck']\n",
      "37 10 ['lie', 'de', 'covariant', 'codifferential', 'moufang']\n",
      "38 6 ['hodge', 'incompressible', 'motion', 'ucp', 'tangency']\n",
      "39 5 ['semimartingale', 'quadratic', 'morse', 'semicubical', 'limited']\n"
     ]
    }
   ],
   "source": [
    "## Using PlanetMath rank data\n",
    "with open('/home/luis/rank_solution_1.txt', 'r') as json_fobj:\n",
    "    rank_sol = json.load(json_fobj)\n",
    "    \n",
    "num_levels = int(max(rank_sol.values()))+1\n",
    "# declare the list to allow appending\n",
    "pm_level2words = [[] for _ in range(num_levels)]\n",
    "for k,v in rank_sol.items():\n",
    "    pm_level2words[int(v)].append(k.lower().split()[0])\n",
    "\n",
    "for level, word_list in enumerate(pm_level2words):\n",
    "    print(level, len(word_list), word_list[:5])\n",
    "\n",
    "level2words = pm_level2words"
   ]
  },
  {
   "cell_type": "code",
   "execution_count": 3,
   "metadata": {},
   "outputs": [
    {
     "data": {
      "text/plain": [
       "40"
      ]
     },
     "execution_count": 3,
     "metadata": {},
     "output_type": "execute_result"
    }
   ],
   "source": [
    "# Get vocabulary from WordNet + labels for each section\n",
    "def read_word_dict():\n",
    "    result_dict = dict([(str(level), word_list[:50] + word_list[50::10]) for level, word_list in enumerate(level2words)])\n",
    "    return result_dict\n",
    "\n",
    "def HSVToRGB(h, s, v):\n",
    "    (r, g, b) = colorsys.hsv_to_rgb(h, s, v)\n",
    "    return (int(255*r), int(255*g), int(255*b))\n",
    "\n",
    "def get_colors(word_dict):\n",
    "    labels = word_dict.keys()\n",
    "    huePartition = 1.0 / (len(labels) + 1)\n",
    "    return dict(zip(labels, [HSVToRGB(huePartition * value, 1.0, 1.0) for value in range(0, len(labels))]))\n",
    "\n",
    "def plot_ball_vectors(vectors, x, model, word_dict, ratio_words=0.1):\n",
    "    colors = get_colors(labeled_word_dict)\n",
    "    \n",
    "    wv = model.wv\n",
    "    embeddings = vectors\n",
    "\n",
    "    traces = []\n",
    "    small_emb_size = int(model.vector_size / model.num_embs)\n",
    "    rows = int(np.ceil(model.num_embs / PLOTS_PER_ROW))\n",
    "    fig = subplots.make_subplots(rows=rows, cols=PLOTS_PER_ROW)\n",
    "    for level, words in word_dict.items():\n",
    "        if int(level) in range(4, 16):\n",
    "            continue\n",
    "            \n",
    "        idxs = [wv.vocab[w].index for w in filter(lambda w: w in wv.vocab, words)]\n",
    "        idxs = idxs[:int(len(idxs) * ratio_words)]\n",
    "\n",
    "        embs = embeddings[idxs, :]\n",
    "\n",
    "        for i in range(model.num_embs):\n",
    "            row = int(i / PLOTS_PER_ROW) + 1\n",
    "            col = i % PLOTS_PER_ROW + 1\n",
    "\n",
    "            trace = go.Scatter(\n",
    "                x=embs[:, small_emb_size * i],\n",
    "                y=embs[:, small_emb_size * i + 1],\n",
    "                text=[wv.index2word[idx] for idx in idxs],\n",
    "                textposition='top right',\n",
    "                name=level,\n",
    "                mode=\"markers\",\n",
    "                marker=dict(color=\"rgb\"+str(colors[level])))\n",
    "            fig.append_trace(trace, row, col)\n",
    "\n",
    "    layout = {\n",
    "        'width': PLOTS_PER_ROW * 300,\n",
    "        'height': rows * 300\n",
    "    }\n",
    "    \n",
    "    if isinstance(model.wv, pkv):\n",
    "        shapes = []\n",
    "        for i, trace in enumerate(fig['data']):\n",
    "            if i > 1: \n",
    "                trace['showlegend'] = False\n",
    "            if i < model.num_embs and isinstance(model.wv, pkv):\n",
    "                shapes.append(\n",
    "                    # unfilled circle\n",
    "                    {\n",
    "                        'type': 'circle',\n",
    "                        'xref': 'x'+str(i+1),\n",
    "                        'yref': 'y'+str(i+1),\n",
    "                        'x0': -1,\n",
    "                        'y0': -1,\n",
    "                        'x1': 1,\n",
    "                        'y1': 1,\n",
    "                        'line': {\n",
    "                            'color': 'rgba(0, 0, 0, 1)',\n",
    "                        },\n",
    "                    }\n",
    "                )\n",
    "\n",
    "        layout['shapes'] = shapes\n",
    "        \n",
    "    fig[\"layout\"].update(layout)\n",
    "    \n",
    "    return iplot(fig)\n",
    "\n",
    "labeled_word_dict = read_word_dict()\n",
    "len(labeled_word_dict)"
   ]
  },
  {
   "cell_type": "code",
   "execution_count": 4,
   "metadata": {},
   "outputs": [
    {
     "name": "stdout",
     "output_type": "stream",
     "text": [
      "Found 3379 terms in the file.\n",
      "doing k= 0\n",
      "doing k= 1000\n",
      "doing k= 2000\n",
      "doing k= 3000\n"
     ]
    },
    {
     "data": {
      "text/plain": [
       "3375"
      ]
     },
     "execution_count": 4,
     "metadata": {},
     "output_type": "execute_result"
    }
   ],
   "source": [
    "dgraph = graphs.read_pm_tree('/media/hd1/planetmath/datasets/planetmath_definitions.xml.gz')\n",
    "len(dgraph.nodes())"
   ]
  },
  {
   "cell_type": "code",
   "execution_count": 7,
   "metadata": {},
   "outputs": [
    {
     "name": "stdout",
     "output_type": "stream",
     "text": [
      "Discarded 335 pairs out of 2616\n",
      "[['conflict' 'disagreement' '7776' '13313' '8.67']\n",
      " ['advance' 'take' '5945' '220' '2.37']\n",
      " ['trail' 'follow' '10521' '638' '7.18']\n",
      " ['mason' 'worker' '14246' '15702' '7.5']\n",
      " ['aura' 'light' '16382' '1958' '6.15']]\n",
      "2281 1985\n",
      "Wbless has 1976 (988 positive) triples and 751 words\n",
      "wannabe wbless has 1598 (798 positive) triples and 1598 words\n",
      "[['fibration', 'permutation matrix', 1], ['fibration', 'completely metrizable', 0], ['removable singularity', 'Egyptian fraction', 1], ['removable singularity', 'Trice sequence', 0], ['polar coordinates', 'collection', 1], ['polar coordinates', 'quadratic algebra', 0], ['primary pseudoperfect number', 'block', 1], ['primary pseudoperfect number', 'pluripolar set', 0], ['modular discriminant', 'vacuous', 1], ['modular discriminant', 'hexecontahedron', 0], ['left Riemann sum', 'inscribe', 1], ['left Riemann sum', 'ucp convergence', 0], ['Gabor frame', 'natural logarithm', 1], ['Gabor frame', 'hexacode', 0], ['Greibach normal form', 'Krull dimension', 1]]\n"
     ]
    }
   ],
   "source": [
    "hyperlex_file = os.path.join(ROOT, \"data/hyperlex-all.txt\")\n",
    "wbless_file = os.path.join(ROOT, \"data/guess_bless.json\")\n",
    "\n",
    "def read_hyperlex_format(filename):\n",
    "    with open(filename, \"r\") as f:\n",
    "        lines = [line.strip().split() for line in f.readlines()[1:]]\n",
    "        result = []\n",
    "        hyperlex_vocab = {}\n",
    "        discarded_count = 0\n",
    "        for line in lines:\n",
    "            if line[0] not in hyp_wv.vocab or line[1] not in hyp_wv.vocab:\n",
    "                discarded_count += 1\n",
    "                continue\n",
    "            result.append([line[0], line[1], hyp_wv.vocab[line[0]].index, \n",
    "                           hyp_wv.vocab[line[1]].index, float(line[5])])\n",
    "            hyperlex_vocab[line[0]] = [line[0]]\n",
    "            hyperlex_vocab[line[1]] = [line[1]]\n",
    "        print(\"Discarded {} pairs out of {}\".format(discarded_count, len(lines)))\n",
    "        return np.array(result), hyperlex_vocab\n",
    "\n",
    "def read_wbless(filename):\n",
    "    with open(filename, \"r\") as f:\n",
    "        wbless_data = json.load(f)\n",
    "    \n",
    "    wbless_vocab = {}\n",
    "    for w1, w2, _ in wbless_data:\n",
    "        wbless_vocab[w1] = w1\n",
    "        wbless_vocab[w2] = w2\n",
    "  \n",
    "    return wbless_data, wbless_vocab\n",
    "\n",
    "def gen_wbless(sample_size):\n",
    "    '''\n",
    "    Emulate the wbles dataset.\n",
    "    extract a sample of size `sample_size`\n",
    "    find a positive ex.  ['fox', 'chordate', 1]\n",
    "    and a negative ex. ['mask', 'cloak', 0]\n",
    "    for each word\n",
    "    '''\n",
    "    return_lst = []\n",
    "    sample = random.sample(dgraph.nodes(), sample_size)\n",
    "    \n",
    "    for term in sample:\n",
    "        ancestors = nx.ancestors(dgraph, term)\n",
    "        try:\n",
    "            ancestor = random.sample(ancestors, 1)[0]\n",
    "            return_lst.append([term, ancestor, 1])\n",
    "        except ValueError:\n",
    "            pass\n",
    "        for tries in range(10):\n",
    "            rand_term = random.sample(dgraph.nodes(), 1)[0]\n",
    "            if rand_term not in ancestors:\n",
    "                return_lst.append([term, rand_term, 0])\n",
    "                break\n",
    "    return return_lst, [r[0] for r in return_lst]\n",
    "\n",
    "hyperlex_data, hyperlex_vocab = read_hyperlex_format(hyperlex_file)\n",
    "wbless_data, wbless_vocab = read_wbless(wbless_file)\n",
    "pm_wbless_data, pm_wbless_vocab = gen_wbless(800)\n",
    "\n",
    "\n",
    "print(hyperlex_data[:5]) \n",
    "print(len(hyperlex_data), len(hyperlex_vocab))\n",
    "print('Wbless has {} ({} positive) triples and {} words'.format(len(wbless_data),\n",
    "                        sum([1 for w in wbless_data if w[2] == 1]) ,len(wbless_vocab)))\n",
    "print('wannabe wbless has {} ({} positive) triples and {} words'.format(len(pm_wbless_data),\n",
    "                        sum([1 for w in pm_wbless_data if w[2] == 1]) ,len(pm_wbless_vocab)))\n",
    "print(pm_wbless_data[:15])"
   ]
  },
  {
   "cell_type": "code",
   "execution_count": 8,
   "metadata": {},
   "outputs": [
    {
     "name": "stdout",
     "output_type": "stream",
     "text": [
      "313 words from the TOP-most levels were selected\n",
      "400 words from the BOTTOM-most levels were selected\n",
      "[0.99999994 0.99999994 0.99999994 0.99999994 1.         0.99999994\n",
      " 0.99999994 1.         0.99999994 1.        ]\n",
      "HP shape (200000, 20)\n",
      "Gaussians shape (200000, 10, 2)\n",
      "(200000, 20)\n",
      "(200000, 20)\n"
     ]
    }
   ],
   "source": [
    "def mix_poincare_moebius_add_mat(A, B, num_embs):\n",
    "    small_emb_size = int(A.shape[1] / num_embs)\n",
    "    result = np.empty_like(A)\n",
    "    for i in range(num_embs):\n",
    "        start = i * small_emb_size\n",
    "        end = (i+1) * small_emb_size\n",
    "        result[:, start:end] = pkv.moebius_add_mat(A[:, start:end], B[:, start:end])\n",
    "    return result\n",
    "\n",
    "def mix_poincare_moebius_mul_mat(A, r, num_embs):\n",
    "    small_emb_size = int(A.shape[1] / num_embs)\n",
    "    result = np.empty_like(A)\n",
    "    for i in range(num_embs):\n",
    "        start = i * small_emb_size\n",
    "        end = (i+1) * small_emb_size\n",
    "        result[:, start:end] = pkv.moebius_mul_mat(A[:, start:end], r)\n",
    "    return result\n",
    "\n",
    "def fisher_info_distance(v, w, num_embs):\n",
    "    v = v.reshape(-1)\n",
    "    w = w.reshape(-1)\n",
    "    \n",
    "    half_plane_dists = []\n",
    "    small_emb_size = int(v.shape[0] / num_embs)\n",
    "    \n",
    "    if small_emb_size != 2:\n",
    "        raise RuntimeError(\"Only implemented for Cartesian product\\\n",
    "        of 2D spaces; Current small_emb_size is {}\".format(\n",
    "            small_emb_size))\n",
    "    \n",
    "    diff = v - w\n",
    "    for i in range(num_embs):\n",
    "        start = i * small_emb_size\n",
    "        end = (i+1) * small_emb_size\n",
    "        half_plane_dists.append(\n",
    "            np.arccosh(1 + np.dot(diff[start:end],\n",
    "                                  diff[start:end]) / (2 * v[start+1] * w[start+1])) )\n",
    "    return np.linalg.norm(half_plane_dists) * np.sqrt(2)\n",
    "\n",
    "\n",
    "# Rotate the rows of X. Each row is split into smaller 2D subspaces. \n",
    "#sin_cos_vector contains (sin a, cos a) pairs,\n",
    "# where a is the angle with which we rotate that 2D portion of a row of X.\n",
    "def rotate_mat(sin_cos_vector, X):\n",
    "    # Create rotation matrix.\n",
    "    cos_sin_blocks = [[[c, -s], [s, c]] for s, c in sin_cos_vector.reshape(-1, 2)]\n",
    "    rotation_matrix = cos_sin_blocks[0]\n",
    "    for i in range(1, len(cos_sin_blocks)):\n",
    "        rotation_matrix = block_diag(rotation_matrix, cos_sin_blocks[i])\n",
    "        \n",
    "    return (np.matmul(rotation_matrix, X.T)).T\n",
    "\n",
    "def poincare_ball2half_plane(A, num_embs):\n",
    "    small_emb_size = int(A.shape[1] / num_embs)\n",
    "    result = np.empty_like(A)\n",
    "    for i in range(num_embs):\n",
    "        start = i * small_emb_size\n",
    "        x = A[:, start]\n",
    "        y = A[:, start + 1]\n",
    "        denominator = x * x + (1 - y) * (1 - y)\n",
    "        result[:, start] = 2 * x / denominator\n",
    "        result[:, start + 1] = (1 - x * x - y * y) / denominator\n",
    "    return result\n",
    "\n",
    "def get_most_pm_words(num_words, level2words=pm_level2words):\n",
    "    top, bottom = [],[]\n",
    "    ind = 1\n",
    "    while len(top) < num_words:\n",
    "        top += level2words[ind]\n",
    "        ind += 1\n",
    "    ind = 1\n",
    "    while len(bottom) < num_words:\n",
    "        bottom += level2words[len(level2words) - ind]\n",
    "        ind += 1\n",
    "    return top , bottom\n",
    "\n",
    "recentered_vectors, rescaled_vectors, rotated_vectors = None, None, None\n",
    "top_and_bottom_levels_avg, top_levels_avg, top_levels_avg_norm = None, None, None\n",
    "def get_gaussians(model, aggregate=\"w\", unsupervised=False, scaling_factor=1.0, words_to_use=400):\n",
    "    global recentered_vectors, rescaled_vectors,\\\n",
    "    rotated_vectors, top_and_bottom_levels_avg, top_levels_avg, top_levels_avg_norm\n",
    "    \n",
    "    wv = model.wv\n",
    "    wordnet_selected_words_file = os.path.join(ROOT,\n",
    "                        \"poincare_glove/glove_code/data/wordnet_topmost_and_bottommost_words.txt\")\n",
    "    #with open(wordnet_selected_words_file, \"r\") as f:\n",
    "    #    # Select words that are on the top-most/bottom-most \n",
    "    #    #levels in WordNet, that are included in the\n",
    "    #    # vocabulary of the model AND that do not appear in any of the HyperLex pairs.\n",
    "    #    word_lst1 = f.readline().strip().split(\" \")\n",
    "    #    word_lst2 = f.readline().strip().split(\" \")\n",
    "    word_lst1, word_lst2 = get_most_pm_words(400)\n",
    "    top_level_word_idxs = np.array([wv.vocab[word].index for word in filter(\n",
    "        lambda w: w in wv.vocab and w not in hyperlex_vocab and w not in wbless_vocab,\\\n",
    "        word_lst1)])\n",
    "    bottom_level_word_idxs = np.array([wv.vocab[word].index for word in filter(\n",
    "        lambda w: w in wv.vocab and w not in hyperlex_vocab and w not in wbless_vocab,\\\n",
    "        word_lst2)])\n",
    "    \n",
    "    if unsupervised:\n",
    "        top_level_word_idxs = range(0, words_to_use)\n",
    "        bottom_level_word_idxs = range(len(wv.index2freq) - words_to_use, len(wv.index2freq))\n",
    "    else:\n",
    "        top_level_word_idxs = top_level_word_idxs[:words_to_use]\n",
    "        bottom_level_word_idxs = bottom_level_word_idxs[-words_to_use:]\n",
    "    \n",
    "#     print([hyp_wv.index2word[idx] for idx in top_level_word_idxs])\n",
    "#     print([hyp_wv.index2word[idx] for idx in bottom_level_word_idxs])\n",
    "    \n",
    "    print(len(top_level_word_idxs), \"words from the TOP-most levels were selected\")\n",
    "    print(len(bottom_level_word_idxs), \"words from the BOTTOM-most levels were selected\")\n",
    "    \n",
    "    if aggregate == \"w\":\n",
    "        vectors = wv.vectors    \n",
    "    elif aggregate == \"c\":\n",
    "        vectors = model.trainables.syn1neg   \n",
    "    else:\n",
    "        return None \n",
    "    \n",
    "    # Rescale ALL embeddings.\n",
    "    rescaled_vectors = mix_poincare_moebius_mul_mat(vectors, scaling_factor, model.num_embs)\n",
    "        \n",
    "    # Compute EUCLIDEAN average of top/bottom-most levels.\n",
    "    top_and_bottom_levels_avg = np.mean(rescaled_vectors[np.concatenate((top_level_word_idxs,\n",
    "                                             bottom_level_word_idxs)), :], axis=0)\n",
    "        \n",
    "    # Recenter ALL embeddings.\n",
    "    mean_mat = np.repeat(top_and_bottom_levels_avg.reshape(1, -1), rescaled_vectors.shape[0], axis=0)\n",
    "    recentered_vectors = mix_poincare_moebius_add_mat(-mean_mat, rescaled_vectors, model.num_embs)\n",
    "    \n",
    "    # Compute EUCLIDEAN average of the recentered top-most levels.\n",
    "    top_levels_avg = np.mean(recentered_vectors[top_level_word_idxs, :], axis=0).reshape(-1, 2)\n",
    "    top_levels_avg_norm = (top_levels_avg / np.linalg.norm(top_levels_avg, axis=1)[:, None])\\\n",
    "    .reshape(-1)\n",
    "    \n",
    "    print(np.linalg.norm(top_levels_avg_norm.reshape(-1, 2), axis=1))\n",
    "    # Rotate ALL embeddings.\n",
    "    rotated_vectors = rotate_mat(top_levels_avg_norm, recentered_vectors)\n",
    "    \n",
    "    # Isometry to convert from Poincare ball model to half-plane model.\n",
    "    half_plane_vectors = poincare_ball2half_plane(rotated_vectors, model.num_embs)\n",
    "    print(\"HP shape\", half_plane_vectors.shape)\n",
    "    \n",
    "    # Convert half-plane points to gaussian parameters.\n",
    "    gaussians = half_plane_vectors.reshape(-1, model.num_embs, 2)\n",
    "    gaussians[:, :, 0] /= np.sqrt(2)\n",
    "    print(\"Gaussians shape\", gaussians.shape)\n",
    "    \n",
    "    return gaussians\n",
    "gaussians = get_gaussians(hyp_model, scaling_factor=1.0, words_to_use=400)\n",
    "print(recentered_vectors.shape)\n",
    "print(rotated_vectors.shape)"
   ]
  },
  {
   "cell_type": "code",
   "execution_count": 9,
   "metadata": {},
   "outputs": [
    {
     "name": "stdout",
     "output_type": "stream",
     "text": [
      "Spearman correlation HyperLex: 0.1785706300357356\n"
     ]
    }
   ],
   "source": [
    "def get_KL_score(w1_idx, w2_idx, gaussians, **kwargs):\n",
    "    v1, v2 = gaussians[w1_idx].reshape(-1, 2), gaussians[w2_idx].reshape(-1, 2)\n",
    "    agg_neg_kl = 0.0\n",
    "    for i in range(v1.shape[0]):\n",
    "        m1, s1 = v1[i]\n",
    "        m2, s2 = v2[i]\n",
    "        curr_kl = 1.0 / 2 * (2 * np.log(s2 / s1) + (s1 / s2)**2 + (m1 - m2)**2 / s2**2 - 1)\n",
    "        agg_neg_kl -= curr_kl\n",
    "    return agg_neg_kl\n",
    "\n",
    "def get_cos_sim_score(w1_idx, w2_idx, gaussians, **kwargs):\n",
    "    v1, v2 = gaussians[w1_idx].reshape(-1, 2), gaussians[w2_idx].reshape(-1, 2)\n",
    "    cos_sims = []\n",
    "    for i in range(v1.shape[0]):\n",
    "        m1, _ = v1[i]\n",
    "        m2, _ = v2[i]\n",
    "        cos_sims.append(np.dot(m1, m2) / (np.linalg.norm(m1) + np.linalg.norm(m2) + 1e-10))\n",
    "    return np.sum(cos_sims)\n",
    "\n",
    "def get_nickel_score(w1_idx, w2_idx, gaussians, alpha=1000,\n",
    "                     debug_data=None, sigma_factor=1.0, **kwargs):\n",
    "    v1, v2 = gaussians[w1_idx].reshape(-1, 2), gaussians[w2_idx].reshape(-1, 2)\n",
    "    log_cardinal_v1 = v1.shape[0] * np.log(2 * sigma_factor) + np.log(v1[:, 1]).sum()\n",
    "    log_cardinal_v2 = v2.shape[0] * np.log(2 * sigma_factor) + np.log(v2[:, 1]).sum()\n",
    "    fisher_dist = fisher_info_distance(gaussians[w1_idx], gaussians[w2_idx], hyp_wv.num_embs)\n",
    "    \n",
    "    if debug_data != None:\n",
    "        debug_data.append((round(log_cardinal_v1, 2),\n",
    "                           round(log_cardinal_v2, 2), round(fisher_dist, 2)))\n",
    "    \n",
    "#     return -(1 + alpha * (1.0 / log_cardinal_v2 - 1.0 / log_cardinal_v1)) * max(fisher_dist, 2.5)\n",
    "    return -(1 + alpha * (log_cardinal_v1 - log_cardinal_v2)) * fisher_dist\n",
    "\n",
    "def get_is_a_score(w1_idx, w2_idx, gaussians,\n",
    "                   intersections=None, sigma_factor=1, debug_data=None, **kwargs):\n",
    "    v1, v2 = gaussians[w1_idx].reshape(-1, 2), gaussians[w2_idx].reshape(-1, 2)\n",
    "    log_cardinal_v1 = v1.shape[0] * np.log(2 * sigma_factor) + np.log(v1[:, 1]).sum()\n",
    "    log_cardinal_v2 = v2.shape[0] * np.log(2 * sigma_factor) + np.log(v2[:, 1]).sum()\n",
    "    cos_sim = 0.0\n",
    "    cardinal_intersection = 1.0\n",
    "    for i in range(v1.shape[0]):\n",
    "        m1, s1 = v1[i]\n",
    "        m2, s2 = v2[i]\n",
    "        s1 *= sigma_factor\n",
    "        s2 *= sigma_factor\n",
    "        a, b = m1 - s1, m1 + s1\n",
    "        c, d = m2 - s2, m2 + s2\n",
    "        if d > b:\n",
    "            if c > a:\n",
    "                cardinal_intersection = cardinal_intersection * max(0, b-c)\n",
    "            else:\n",
    "                cardinal_intersection = cardinal_intersection * (b-a)\n",
    "        else:\n",
    "            if c > a:\n",
    "                cardinal_intersection = cardinal_intersection * (d-c)\n",
    "            else:\n",
    "                cardinal_intersection = cardinal_intersection * max(0, d-a)\n",
    "\n",
    "        cos_sim += np.dot(m1, m2) / (np.linalg.norm(m1) + np.linalg.norm(m2) + 1e-10)\n",
    "\n",
    "    fisher_dist = fisher_info_distance(gaussians[w1_idx], gaussians[w2_idx], hyp_wv.num_embs)\n",
    "        \n",
    "    if intersections != None:\n",
    "        intersections.append((w1_idx, w2_idx, cardinal_intersection))\n",
    "    cardinal_intersection = np.log(1e-10 + cardinal_intersection)\n",
    "    \n",
    "    if debug_data != None:\n",
    "        debug_data.append((round(log_cardinal_v1, 2), round(log_cardinal_v2, 2),\n",
    "                           round(cardinal_intersection, 2), round(cos_sim, 2), round(fisher_dist, 2)))\n",
    "    \n",
    "    return log_cardinal_v2 - log_cardinal_v1\n",
    "#     return 1 - log_cardinal_v1 / log_cardinal_v2 if cos_sim > 0.01 else 0.0\n",
    "#     return 1 - log_cardinal_v1 / log_cardinal_v2 if fisher_dist < 2.95 else 0.0\n",
    "\n",
    "def get_hyperlex_score(sigma_factor=1.0, alpha=1000, intersections = None, debug=False):\n",
    "    gold_scores = []\n",
    "    model_scores = []\n",
    "    debug_data = None\n",
    "    if debug:\n",
    "        debug_data = []\n",
    "    \n",
    "    for _, _, w1_idx, w2_idx, gold_score in hyperlex_data:\n",
    "        gold_scores.append(float(gold_score))\n",
    "        model_scores.append(get_is_a_score(int(w1_idx), int(w2_idx), \n",
    "                                           gaussians=gaussians, intersections=intersections,\n",
    "                                           sigma_factor=sigma_factor, \n",
    "                                           alpha=alpha, debug_data=debug_data))\n",
    "    if debug == True:\n",
    "        model_ranks = stats.rankdata(-np.array(model_scores), method='ordinal')\n",
    "        gold_ranks = stats.rankdata(-np.array(gold_scores), method='ordinal')\n",
    "        abs_rank_diff = np.abs(model_ranks - gold_ranks)\n",
    "        all_debug_data = zip(list(hyperlex_data[:, 0]),\n",
    "                             list(hyperlex_data[:, 1]),\n",
    "                             gold_scores, model_scores, list(gold_ranks),\n",
    "                             list(model_ranks), list(abs_rank_diff), debug_data)\n",
    "        with open(os.path.join(ROOT, \"eval_logs/debug_new_hyperlex.csv\"), \"w\") as f:\n",
    "            f.write(\"Word1,Word2,Gold score,\\\n",
    "            Model score,Gold rank,Model rank,abs rank diff,log(|A|),log(|B|),Fisher dist\\n\")\n",
    "            #f.write(\"Word1,Word2,Gold score,Model \n",
    "            #score,Gold rank,Model rank,abs rank diff,log(|A|),\n",
    "            #log(|B|),log(|A int B|),cosine sim,Fisher dist\\n\")\n",
    "            for row in all_debug_data:\n",
    "                f.write(\",\".join([str(x) for x in row]) + \"\\n\")\n",
    "    return stats.spearmanr(gold_scores, model_scores)[0]\n",
    "\n",
    "intersections = []\n",
    "print(\"Spearman correlation HyperLex:\", \n",
    "      get_hyperlex_score(sigma_factor=1.0, alpha=300, intersections=intersections, debug=False))"
   ]
  },
  {
   "cell_type": "code",
   "execution_count": 10,
   "metadata": {},
   "outputs": [
    {
     "name": "stdout",
     "output_type": "stream",
     "text": [
      "Evaluation of the 'is-a' score map\n",
      "continuous_function 'is-a'         mapping  -- score: -0.05426657199859708\n",
      "bochner         'is-a'        integral  -- score: 1.7676802277565002\n",
      "integral_domain 'is-a'        integral  -- score: 0.7318996787071228\n",
      "inner_product   'is-a'        integral  -- score: 0.07398754358291626\n",
      "elliptic_curve  'is-a'        integral  -- score: 0.5419095009565353\n",
      "riemann         'is-a'      hypothesis  -- score: 1.1538194715976724\n",
      "morphism        'is-a'     isomorphism  -- score: 0.15202438831329435\n",
      "topological_group 'is-a'       lie_group  -- score: 0.31349092721939087\n",
      "laplace_transform 'is-a'       transform  -- score: -0.07958203554153442\n",
      "maximal_torus   'is-a'       connected  -- score: 0.6032439470291147\n",
      "maximal_torus   'is-a'          convex  -- score: -0.1494588851928711\n",
      "functional      'is-a'        function  -- score: 0.9324086904525757\n",
      "ring            'is-a'           group  -- score: 0.0031527280807495117\n",
      "hausdorff_space 'is-a'        topology  -- score: 0.4556749761104584\n",
      "minimal_polynomial 'is-a' characteristic_polynomial  -- score: 0.26994845271110535\n",
      "\n",
      "ALGEBRAIC INCLUSIONS\n",
      "ufd             'is-a'             pid  -- score: -0.3642209768295288\n",
      "ufd             'is-a'           field  -- score: 2.2690128087997437\n",
      "commutative_ring 'is-a' integral_domain  -- score: -0.5173614025115967\n"
     ]
    }
   ],
   "source": [
    "def print_is_score(w1, w2):\n",
    "    print(\"{:<15} 'is-a' {:>15}  -- score: {}\".format(w1, w2,\n",
    "                         get_is_a_score(hyp_wv.vocab[w1].index,\n",
    "                               hyp_wv.vocab[w2].index, \n",
    "                               gaussians=gaussians, sigma_factor=1.0)))\n",
    "print(\"Evaluation of the 'is-a' score map\")\n",
    "print_is_score('continuous_function', 'mapping') \n",
    "print_is_score('bochner', 'integral')\n",
    "print_is_score('integral_domain', 'integral')\n",
    "print_is_score('inner_product', 'integral')\n",
    "print_is_score('elliptic_curve', 'integral')\n",
    "print_is_score('riemann', 'hypothesis')\n",
    "print_is_score('morphism', 'isomorphism')\n",
    "print_is_score('topological_group', 'lie_group')\n",
    "print_is_score('laplace_transform', 'transform')\n",
    "print_is_score('maximal_torus', 'connected')\n",
    "print_is_score('maximal_torus', 'convex')\n",
    "print_is_score('functional', 'function')\n",
    "print_is_score('ring', 'group')\n",
    "print_is_score('hausdorff_space', 'topology')\n",
    "print_is_score('minimal_polynomial', 'characteristic_polynomial')\n",
    "print('')\n",
    "print('ALGEBRAIC INCLUSIONS')\n",
    "print_is_score('ufd', 'pid')\n",
    "print_is_score('ufd', 'field')\n",
    "print_is_score('commutative_ring', 'integral_domain')"
   ]
  },
  {
   "cell_type": "code",
   "execution_count": 11,
   "metadata": {},
   "outputs": [
    {
     "name": "stdout",
     "output_type": "stream",
     "text": [
      "log-intersections Mean 4.19195564396552 ; log-intersections stddev 1.0313816262342625\n"
     ]
    },
    {
     "data": {
      "image/png": "[encoded data removed]",
      "text/plain": [
       "<Figure size 432x288 with 1 Axes>"
      ]
     },
     "metadata": {
      "needs_background": "light"
     },
     "output_type": "display_data"
    }
   ],
   "source": [
    "intersections = np.array(intersections)\n",
    "intersections = np.array(sorted(intersections, key=lambda tup: tup[2], reverse=True))\n",
    "\n",
    "log_intersections = np.log(1e-10 + intersections[:, 2])\n",
    "print(\"log-intersections Mean\", np.mean(log_intersections),\n",
    "      \"; log-intersections stddev\", np.std(log_intersections))\n",
    "\n",
    "# for i1, i2, card in intersections:\n",
    "#     if abs(card) < 1e-2:\n",
    "#         continue\n",
    "#     print(hyp_wv.index2word[int(i1)], hyp_wv.index2word[int(i2)], round(card, 2))\n",
    "    \n",
    "# Plot intersections\n",
    "plt.hist(log_intersections, bins=\"auto\")\n",
    "# plt.plot(range(len(intersections[:, 2])), log_intersections)\n",
    "ax = plt.gca()\n",
    "_ = ax.set_ylabel(\"log-intersection\")"
   ]
  },
  {
   "cell_type": "code",
   "execution_count": 12,
   "metadata": {},
   "outputs": [
    {
     "name": "stdout",
     "output_type": "stream",
     "text": [
      "1000 words from the TOP-most levels were selected\n",
      "1000 words from the BOTTOM-most levels were selected\n",
      "[1.         0.99999994 1.         1.         1.         0.99999994\n",
      " 1.         1.         1.         1.         0.99999994 1.\n",
      " 1.         0.99999994 0.99999994 0.9999999  0.99999994 0.99999994\n",
      " 1.         1.         1.         1.         1.         1.\n",
      " 0.99999994 1.         1.         0.99999994 0.99999994 1.\n",
      " 1.         1.         1.         0.99999994 1.         0.99999994\n",
      " 1.         1.         1.         0.99999994 1.         0.99999994\n",
      " 1.         0.99999994 0.99999994 1.         0.99999994 0.99999994\n",
      " 1.         0.99999994]\n",
      "HP shape (200000, 100)\n",
      "Gaussians shape (200000, 50, 2)\n"
     ]
    }
   ],
   "source": [
    "hyp_model_fn = os.path.join(ROOT, \"models/glove/geometric_emb/glove_ep50_size100_lr0.05_vocab200000_mix-poincare_OPTmixradagrad_COOCCFUNClog_DISTFUNCdist-sq_NUMEMBS50_bias\")\n",
    "# hyp_model_fn = os.path.join(ROOT, \"models/glove/geometric_emb/glove_ep50_size100_lr0.01_vocab200000_mix-poincare_OPTmixradagrad_COOCCFUNClog_DISTFUNCcosh-dist-sq_NUMEMBS50_bias\")\n",
    "hyp_model = Glove.load(hyp_model_fn)\n",
    "hyp_wv = hyp_model.wv\n",
    "\n",
    "gaussians = get_gaussians(hyp_model, unsupervised=True, scaling_factor=1.0, words_to_use=1000)"
   ]
  },
  {
   "cell_type": "code",
   "execution_count": 14,
   "metadata": {},
   "outputs": [
    {
     "name": "stdout",
     "output_type": "stream",
     "text": [
      "0.596031753718853\n"
     ]
    },
    {
     "data": {
      "image/png": "[encoded data removed]",
      "text/plain": [
       "<Figure size 1440x720 with 1 Axes>"
      ]
     },
     "metadata": {
      "needs_background": "light"
     },
     "output_type": "display_data"
    }
   ],
   "source": [
    "lvl_avg_std = []\n",
    "lvl_std_std = []\n",
    "for level, word_list in enumerate(level2words):\n",
    "    word_idxs = np.array([hyp_wv.vocab[word].index for word in filter(lambda w: w in hyp_wv.vocab, word_list)])\n",
    "    if word_idxs.size == 0:\n",
    "        continue\n",
    "    level_avg_std = np.mean(gaussians[word_idxs][:, 1])\n",
    "    lvl_avg_std.append(level_avg_std)\n",
    "    lvl_std_std.append(np.std(gaussians[word_idxs][:, 1]))\n",
    "    \n",
    "print(sum(lvl_avg_std)/len(lvl_avg_std))\n",
    "fig = plt.figure(figsize=(20,10))\n",
    "plt.plot(range(len(lvl_avg_std)), np.array(lvl_avg_std)**2)\n",
    "# plt.errorbar(range(len(lvl_avg_std)), lvl_avg_std, lvl_std_std, capsize=10, marker=\".\", markersize=14)\n",
    "ax = plt.gca()\n",
    "_ = ax.set_xticks(range(len(lvl_avg_std)))\n",
    "_ = ax.set_xlabel(\"PlanetMath Level\", fontsize=20)\n",
    "_ = ax.set_ylabel(\"Avg Gaussian Variance\", fontsize=20)"
   ]
  },
  {
   "cell_type": "code",
   "execution_count": 16,
   "metadata": {},
   "outputs": [
    {
     "name": "stdout",
     "output_type": "stream",
     "text": [
      "Total words in top5 and bottom5 wordnet levels: 472\n",
      "HyperLex overlap: 0 out of 2281 pairs; 0 out of 472 words\n",
      "WBLESS overlap: 94 out of 1976 pairs; 94 out of 472 words\n"
     ]
    }
   ],
   "source": [
    "wv = hyp_model.wv\n",
    "wordnet_selected_words_file = os.path.join(ROOT,\n",
    "                    \"poincare_glove/glove_code/data/wordnet_topmost_and_bottommost_words.txt\")\n",
    "top5_bottom5_wn_words = {}\n",
    "#with open(wordnet_selected_words_file, \"r\") as f:\n",
    "#    word_lst1 = f.readline().strip().split(\" \")\n",
    "#    word_lst2 = f.readline().strip().split(\" \")\n",
    "word_lst1, word_lst2 = get_most_pm_words(300)\n",
    "\n",
    "top5_bottom5_wn_words.update(dict([(word, wv.vocab[word].index) for word in filter(\n",
    "    lambda w: w in wv.vocab and w not in hyperlex_vocab, word_lst1)]))\n",
    "\n",
    "top5_bottom5_wn_words.update(dict([(word, wv.vocab[word].index) for word in filter(\n",
    "    lambda w: w in wv.vocab and w not in hyperlex_vocab, word_lst2)]))\n",
    "\n",
    "print(\"Total words in top5 and bottom5 wordnet levels:\", len(top5_bottom5_wn_words))\n",
    "pair_overlap, word_overlap = 0, 0\n",
    "for w1, w2, _, _, _ in hyperlex_data:\n",
    "    pairs_are_overlapping = False\n",
    "    if w1 in top5_bottom5_wn_words:\n",
    "        pairs_are_overlapping = True\n",
    "        word_overlap += 1\n",
    "    if w2 in top5_bottom5_wn_words:\n",
    "        word_overlap += 1\n",
    "        pairs_are_overlapping = True\n",
    "    if pairs_are_overlapping:\n",
    "        pair_overlap += 1\n",
    "print(\"HyperLex overlap:\", pair_overlap, \"out of\", len(hyperlex_data),\"pairs;\",\n",
    "      word_overlap, \"out of\", len(top5_bottom5_wn_words), \"words\")\n",
    "\n",
    "pair_overlap, word_overlap = 0, 0\n",
    "for w1, w2, _ in wbless_data:\n",
    "    pairs_are_overlapping = False\n",
    "    if w1 in top5_bottom5_wn_words:\n",
    "        pairs_are_overlapping = True\n",
    "        word_overlap += 1\n",
    "    if w2 in top5_bottom5_wn_words:\n",
    "        word_overlap += 1\n",
    "        pairs_are_overlapping = True\n",
    "    if pairs_are_overlapping:\n",
    "        pair_overlap += 1\n",
    "print(\"WBLESS overlap:\", pair_overlap, \"out of\", len(wbless_data),\"pairs;\",\n",
    "      word_overlap, \"out of\", len(top5_bottom5_wn_words), \"words\")"
   ]
  },
  {
   "cell_type": "code",
   "execution_count": 17,
   "metadata": {},
   "outputs": [
    {
     "name": "stdout",
     "output_type": "stream",
     "text": [
      "313 words from the TOP-most levels were selected\n",
      "400 words from the BOTTOM-most levels were selected\n",
      "[1.         0.99999994 1.         1.         0.99999994 1.\n",
      " 1.         1.         0.9999999  1.         0.99999994 0.99999994\n",
      " 1.         1.         0.99999994 1.         1.         0.99999994\n",
      " 1.         0.99999994 1.         0.99999994 1.         1.\n",
      " 0.9999999  1.         1.         0.99999994 1.         1.\n",
      " 1.         1.         1.         1.         0.99999994 1.\n",
      " 0.99999994 1.         1.         1.         1.         1.\n",
      " 0.99999994 1.         0.99999994 1.         0.99999994 0.99999994\n",
      " 1.         1.        ]\n",
      "HP shape (200000, 100)\n",
      "Gaussians shape (200000, 50, 2)\n"
     ]
    }
   ],
   "source": [
    "gaussians = get_gaussians(hyp_model, scaling_factor=1.0)\n",
    "\n",
    "wbless_file = os.path.join(ROOT, \"data/guess_bless.json\")\n",
    "with open(wbless_file, \"r\") as f:\n",
    "    wbless_data = json.load(f)"
   ]
  },
  {
   "cell_type": "code",
   "execution_count": 18,
   "metadata": {},
   "outputs": [
    {
     "name": "stdout",
     "output_type": "stream",
     "text": [
      "Accuracy: 0.6150, from a total of 1418/1976 pairs\n"
     ]
    }
   ],
   "source": [
    "def wbless_get_is_a_score(w1_idx, w2_idx, gaussians, intersections=None, sigma_factor=1, **kwargs):\n",
    "    v1, v2 = gaussians[w1_idx].reshape(-1, 2), gaussians[w2_idx].reshape(-1, 2)\n",
    "    log_cardinal_v1 = v1.shape[0] * np.log(2 * sigma_factor) + np.log(v1[:, 1]).sum()\n",
    "    log_cardinal_v2 = v2.shape[0] * np.log(2 * sigma_factor) + np.log(v2[:, 1]).sum()\n",
    "    cos_sim = 0.0\n",
    "    cardinal_intersection = 1.0\n",
    "    for i in range(v1.shape[0]):\n",
    "        m1, s1 = v1[i]\n",
    "        m2, s2 = v2[i]\n",
    "        s1 *= sigma_factor\n",
    "        s2 *= sigma_factor\n",
    "        a, b = m1 - s1, m1 + s1\n",
    "        c, d = m2 - s2, m2 + s2\n",
    "        if d > b:\n",
    "            if c > a:\n",
    "                cardinal_intersection = cardinal_intersection * max(0, b-c)\n",
    "            else:\n",
    "                cardinal_intersection = cardinal_intersection * (b-a)\n",
    "        else:\n",
    "            if c > a:\n",
    "                cardinal_intersection = cardinal_intersection * (d-c)\n",
    "            else:\n",
    "                cardinal_intersection = cardinal_intersection * max(0, d-a)\n",
    "\n",
    "        cos_sim += np.dot(m1, m2) / (np.linalg.norm(m1) + np.linalg.norm(m2) + 1e-10)\n",
    "\n",
    "    if intersections != None:\n",
    "        intersections.append((w1_idx, w2_idx, cardinal_intersection))\n",
    "            \n",
    "    cardinal_intersection = np.log(1e-10 + cardinal_intersection)\n",
    "    return log_cardinal_v2-log_cardinal_v1\n",
    "#     return 1 - log_cardinal_v1 / log_cardinal_v2 if cos_sim > 0.01 else 0.0\n",
    "\n",
    "def wbless_eval(model, gaussians, sigma_factor=1.0, alpha=600):\n",
    "    correct_count, total_count = 0.0, 0.0\n",
    "\n",
    "    instances = []\n",
    "    for w1, w2, label in wbless_data:\n",
    "        if w1 not in model.wv.vocab or w2 not in model.wv.vocab:\n",
    "            continue\n",
    "        total_count += 1\n",
    "        model_score = get_nickel_score(model.wv.vocab[w1].index, model.wv.vocab[w2].index, gaussians, \n",
    "                                            sigma_factor=sigma_factor, alpha=alpha)\n",
    "        instances.append((w1, w2, label, model_score))\n",
    "        \n",
    "    threshold = np.mean(np.array([model_score for _, _, _, model_score in instances]))\n",
    "    correct = list(filter(lambda instance: (instance[3] > threshold and instance[2] == 1) \\\n",
    "                          or (instance[3] <= threshold and instance[2] == 0), instances))\n",
    "            \n",
    "    print(\"Accuracy: {:.4f}, from a total of {}/{} pairs\".format(\n",
    "        float(len(correct)) / len(instances), len(instances), len(wbless_data)))\n",
    "    return float(len(correct)) / len(instances)\n",
    "\n",
    "_ = wbless_eval(hyp_model, gaussians, sigma_factor=1.0, alpha=600)"
   ]
  },
  {
   "cell_type": "code",
   "execution_count": 19,
   "metadata": {},
   "outputs": [
    {
     "name": "stdout",
     "output_type": "stream",
     "text": [
      "Accuracy: 0.6150, from a total of 1418/1976 pairs\n",
      "Accuracy: 0.6150, from a total of 1418/1976 pairs\n",
      "Accuracy: 0.6150, from a total of 1418/1976 pairs\n",
      "Accuracy: 0.6150, from a total of 1418/1976 pairs\n",
      "Accuracy: 0.6150, from a total of 1418/1976 pairs\n",
      "Accuracy: 0.6150, from a total of 1418/1976 pairs\n",
      "Accuracy: 0.6150, from a total of 1418/1976 pairs\n",
      "Accuracy: 0.6150, from a total of 1418/1976 pairs\n",
      "Accuracy: 0.6150, from a total of 1418/1976 pairs\n"
     ]
    },
    {
     "data": {
      "image/png": "[encoded data removed]",
      "text/plain": [
       "<Figure size 1440x720 with 1 Axes>"
      ]
     },
     "metadata": {
      "needs_background": "light"
     },
     "output_type": "display_data"
    }
   ],
   "source": [
    "alphas = range(100, 1000, 100)\n",
    "scores = []\n",
    "for alpha in alphas:\n",
    "    scores.append(wbless_eval(hyp_model, gaussians, alpha=alpha))\n",
    "    \n",
    "fig = plt.figure(figsize=(20,10))\n",
    "plt.plot(alphas, scores, marker=\".\", markersize=14)\n",
    "ax = plt.gca()\n",
    "_ = ax.set_xticks(alphas)\n",
    "_ = ax.set_xlabel(\"Alpha\", fontsize=20)\n",
    "_ = ax.set_ylabel(\"Accuracy\", fontsize=20)"
   ]
  },
  {
   "cell_type": "code",
   "execution_count": 20,
   "metadata": {},
   "outputs": [
    {
     "name": "stdout",
     "output_type": "stream",
     "text": [
      "1\n",
      "7\n",
      "1\n",
      "1\n",
      "1\n",
      "2\n",
      "2\n",
      "5\n",
      "5\n",
      "10\n",
      "12\n",
      "12\n",
      "22\n",
      "8\n",
      "17\n",
      "28\n",
      "40\n",
      "51\n",
      "52\n",
      "57\n",
      "64\n",
      "78\n",
      "76\n",
      "74\n",
      "77\n",
      "76\n",
      "73\n",
      "67\n",
      "65\n",
      "63\n",
      "58\n",
      "53\n",
      "51\n",
      "34\n",
      "20\n",
      "18\n",
      "9\n",
      "10\n",
      "6\n",
      "5\n"
     ]
    }
   ],
   "source": [
    "# Get vocabulary from WordNet + labels for each section\n",
    "def read_word_dict():\n",
    "    result_dict = dict([(str(level), word_list[:50] + word_list[50::10])\\\n",
    "                        for level, word_list in enumerate(level2words)])\n",
    "    return result_dict\n",
    "\n",
    "def HSVToRGB(h, s, v):\n",
    "    (r, g, b) = colorsys.hsv_to_rgb(h, s, v)\n",
    "    return (int(255*r), int(255*g), int(255*b))\n",
    "\n",
    "def get_colors(word_dict):\n",
    "    labels = word_dict.keys()\n",
    "    huePartition = 1.0 / (len(labels) + 1)\n",
    "    return dict(zip(labels, [HSVToRGB(huePartition * value, 1.0, 1.0)\\\n",
    "                             for value in range(0, len(labels))]))\n",
    "\n",
    "def plot_halfplane_wordnet_per_level(model, gaussians,\n",
    "    word_dict, right_offset=None, left_offset=None, ratio_words=0.1, aggregate=\"w\"):\n",
    "    colors = get_colors(labeled_word_dict)\n",
    "\n",
    "    wv = model.wv\n",
    "    if aggregate == \"w\":\n",
    "        vectors = model.wv.vectors    \n",
    "    elif aggregate == \"c\":\n",
    "        vectors = model.trainables.syn1neg   \n",
    "    else:\n",
    "        return None \n",
    "    \n",
    "    embeddings = np.array([vectors[i] for i in range(len(wv.index2entity))])\n",
    "\n",
    "    traces = []\n",
    "    small_emb_size = int(model.vector_size // model.num_embs)\n",
    "    rows = int(np.ceil(model.num_embs / PLOTS_PER_ROW))\n",
    "    fig = tools.make_subplots(rows=rows, cols=PLOTS_PER_ROW)\n",
    "    \n",
    "    layout = {\n",
    "        'width': PLOTS_PER_ROW * 300,\n",
    "        'height': rows * 300\n",
    "    }\n",
    "    \n",
    "    for level, words in word_dict.items():\n",
    "        if int(level) in range(4, 16):\n",
    "            continue\n",
    "            \n",
    "        idxs = [wv.vocab[w].index for w in filter(lambda w: w in wv.vocab, words)]\n",
    "        idxs = idxs[:int(len(idxs) * ratio_words)]\n",
    "\n",
    "        embs = gaussians[idxs, :]\n",
    "        print(\"embs shape: \", embs.shape)\n",
    "\n",
    "        params = {}\n",
    "        for i in range(model.num_embs):\n",
    "            print(\"model.num_embs is: \", model.num_embs)\n",
    "            row = int(i / PLOTS_PER_ROW) + 1\n",
    "            col = i % PLOTS_PER_ROW + 1\n",
    "\n",
    "            trace = go.Scatter(\n",
    "                x=embs[:, small_emb_size * i],\n",
    "                y=embs[:, small_emb_size * i + 1],\n",
    "                text=[wv.index2word[idx] for idx in idxs],\n",
    "                textposition='top right',\n",
    "                name=level,\n",
    "                mode=\"markers\",\n",
    "                marker=dict(color=\"rgb\"+str(colors[level])))\n",
    "            fig.append_trace(trace, row, col)\n",
    "            \n",
    "#             if i == 0:\n",
    "#                 layout[\"xaxis\"] = {\"range\": (-1, 1)}\n",
    "#                 layout[\"yaxis\"] = {\"range\": (0, 3)}\n",
    "#             else:\n",
    "            layout[\"xaxis\"+str(i+1)] = {\"range\": (-1, 1)}\n",
    "            layout[\"yaxis\"+str(i+1)] = {\"range\": (0, 3)}\n",
    "\n",
    "    fig[\"layout\"].update(layout)\n",
    "    \n",
    "    return iplot(fig)\n",
    "\n",
    "labeled_word_dict = read_word_dict()\n",
    "for lvl in labeled_word_dict:\n",
    "    print(len(labeled_word_dict[lvl]))"
   ]
  },
  {
   "cell_type": "code",
   "execution_count": 21,
   "metadata": {},
   "outputs": [
    {
     "name": "stdout",
     "output_type": "stream",
     "text": [
      "embs shape:  (1, 20)\n",
      "model.num_embs is:  50\n",
      "model.num_embs is:  50\n",
      "model.num_embs is:  50\n",
      "model.num_embs is:  50\n",
      "model.num_embs is:  50\n",
      "model.num_embs is:  50\n",
      "model.num_embs is:  50\n",
      "model.num_embs is:  50\n",
      "model.num_embs is:  50\n",
      "model.num_embs is:  50\n",
      "model.num_embs is:  50\n"
     ]
    },
    {
     "name": "stderr",
     "output_type": "stream",
     "text": [
      "/home/luis/.local/lib/python3.8/site-packages/plotly/tools.py:461: DeprecationWarning:\n",
      "\n",
      "plotly.tools.make_subplots is deprecated, please use plotly.subplots.make_subplots instead\n",
      "\n"
     ]
    },
    {
     "ename": "IndexError",
     "evalue": "index 20 is out of bounds for axis 1 with size 20",
     "output_type": "error",
     "traceback": [
      "\u001b[0;31m---------------------------------------------------------------------------\u001b[0m",
      "\u001b[0;31mIndexError\u001b[0m                                Traceback (most recent call last)",
      "\u001b[0;32m<ipython-input-21-bc78ebb87360>\u001b[0m in \u001b[0;36m<module>\u001b[0;34m\u001b[0m\n\u001b[1;32m      1\u001b[0m \u001b[0mhalfplane\u001b[0m \u001b[0;34m=\u001b[0m \u001b[0mnp\u001b[0m\u001b[0;34m.\u001b[0m\u001b[0mcopy\u001b[0m\u001b[0;34m(\u001b[0m\u001b[0mgaussians\u001b[0m\u001b[0;34m)\u001b[0m\u001b[0;34m\u001b[0m\u001b[0;34m\u001b[0m\u001b[0m\n\u001b[1;32m      2\u001b[0m \u001b[0mhalfplane\u001b[0m\u001b[0;34m[\u001b[0m\u001b[0;34m:\u001b[0m\u001b[0;34m,\u001b[0m \u001b[0;34m:\u001b[0m\u001b[0;34m,\u001b[0m \u001b[0;36m0\u001b[0m\u001b[0;34m]\u001b[0m \u001b[0;34m*=\u001b[0m \u001b[0mnp\u001b[0m\u001b[0;34m.\u001b[0m\u001b[0msqrt\u001b[0m\u001b[0;34m(\u001b[0m\u001b[0;36m2\u001b[0m\u001b[0;34m)\u001b[0m\u001b[0;34m\u001b[0m\u001b[0;34m\u001b[0m\u001b[0m\n\u001b[0;32m----> 3\u001b[0;31m plot_halfplane_wordnet_per_level(hyp_model, halfplane.reshape(-1, 20), labeled_word_dict, ratio_words=1,\n\u001b[0m\u001b[1;32m      4\u001b[0m                        left_offset=None, right_offset=None, aggregate=\"w\")\n",
      "\u001b[0;32m<ipython-input-20-2a278dab64f1>\u001b[0m in \u001b[0;36mplot_halfplane_wordnet_per_level\u001b[0;34m(model, gaussians, word_dict, right_offset, left_offset, ratio_words, aggregate)\u001b[0m\n\u001b[1;32m     56\u001b[0m \u001b[0;34m\u001b[0m\u001b[0m\n\u001b[1;32m     57\u001b[0m             trace = go.Scatter(\n\u001b[0;32m---> 58\u001b[0;31m                 \u001b[0mx\u001b[0m\u001b[0;34m=\u001b[0m\u001b[0membs\u001b[0m\u001b[0;34m[\u001b[0m\u001b[0;34m:\u001b[0m\u001b[0;34m,\u001b[0m \u001b[0msmall_emb_size\u001b[0m \u001b[0;34m*\u001b[0m \u001b[0mi\u001b[0m\u001b[0;34m]\u001b[0m\u001b[0;34m,\u001b[0m\u001b[0;34m\u001b[0m\u001b[0;34m\u001b[0m\u001b[0m\n\u001b[0m\u001b[1;32m     59\u001b[0m                 \u001b[0my\u001b[0m\u001b[0;34m=\u001b[0m\u001b[0membs\u001b[0m\u001b[0;34m[\u001b[0m\u001b[0;34m:\u001b[0m\u001b[0;34m,\u001b[0m \u001b[0msmall_emb_size\u001b[0m \u001b[0;34m*\u001b[0m \u001b[0mi\u001b[0m \u001b[0;34m+\u001b[0m \u001b[0;36m1\u001b[0m\u001b[0;34m]\u001b[0m\u001b[0;34m,\u001b[0m\u001b[0;34m\u001b[0m\u001b[0;34m\u001b[0m\u001b[0m\n\u001b[1;32m     60\u001b[0m                 \u001b[0mtext\u001b[0m\u001b[0;34m=\u001b[0m\u001b[0;34m[\u001b[0m\u001b[0mwv\u001b[0m\u001b[0;34m.\u001b[0m\u001b[0mindex2word\u001b[0m\u001b[0;34m[\u001b[0m\u001b[0midx\u001b[0m\u001b[0;34m]\u001b[0m \u001b[0;32mfor\u001b[0m \u001b[0midx\u001b[0m \u001b[0;32min\u001b[0m \u001b[0midxs\u001b[0m\u001b[0;34m]\u001b[0m\u001b[0;34m,\u001b[0m\u001b[0;34m\u001b[0m\u001b[0;34m\u001b[0m\u001b[0m\n",
      "\u001b[0;31mIndexError\u001b[0m: index 20 is out of bounds for axis 1 with size 20"
     ]
    }
   ],
   "source": [
    "halfplane = np.copy(gaussians)\n",
    "halfplane[:, :, 0] *= np.sqrt(2)\n",
    "plot_halfplane_wordnet_per_level(hyp_model, halfplane.reshape(-1, 20), labeled_word_dict, ratio_words=1,\n",
    "                       left_offset=None, right_offset=None, aggregate=\"w\")"
   ]
  },
  {
   "cell_type": "code",
   "execution_count": 48,
   "metadata": {},
   "outputs": [
    {
     "data": {
      "text/plain": [
       "4"
      ]
     },
     "execution_count": 48,
     "metadata": {},
     "output_type": "execute_result"
    }
   ],
   "source": [
    "# Get vocabulary of the Google word analogy benchmark + labels for each section\n",
    "\n",
    "def compute_poincare_aggregate(model):\n",
    "    \"\"\"\n",
    "    Precompute the average between the target and the context vector, for Poincare embeddings.\n",
    "    We take as average the mid point between w and c on the geodesic that connects the 2 points\n",
    "    (see page 89 in Ungar book).\n",
    "    \"\"\"\n",
    "    if model.poincare and getattr(model.wv, 'agg_vectors', None) is None:\n",
    "        print(\"precomputing aggregated vectors w+c for Poincare embeddings\")\n",
    "        gamma_w_sq = 1 / (1 - np.sum(model.wv.vectors * model.wv.vectors, axis=1))\n",
    "        gamma_c_sq = 1 / (1 - np.sum(model.trainables.syn1neg * model.trainables.syn1neg, axis=1))\n",
    "        denominator = gamma_w_sq + gamma_c_sq - 1\n",
    "        agg = (model.wv.vectors * (gamma_w_sq / denominator)[:, None] +\n",
    "               model.trainables.syn1neg * (gamma_c_sq / denominator)[:, None])\n",
    "\n",
    "        return model.wv.moebius_mul_mat(agg, 0.5)\n",
    "\n",
    "def HSVToRGB(h, s, v):\n",
    "    (r, g, b) = colorsys.hsv_to_rgb(h, s, v)\n",
    "    return (int(255*r), int(255*g), int(255*b))\n",
    "\n",
    "def get_colors(word_dict):\n",
    "    labels = word_dict.keys()\n",
    "    huePartition = 1.0 / (len(labels) + 1)\n",
    "    return dict(zip(labels, [HSVToRGB(huePartition * value, 1.0, 1.0) for value in range(0, len(labels))]))\n",
    "\n",
    "def plot_wordnet_embeddings(model, gaussians, word_dict, left_offset=None, right_offset=None, ratio_words=1, aggregate=\"w\"):\n",
    "    colors = get_colors(labeled_word_dict)\n",
    "    if aggregate == \"w+c\":\n",
    "        vectors = compute_poincare_aggregate(model)\n",
    "    elif aggregate == \"w\":\n",
    "        vectors = model.wv.vectors    \n",
    "    elif aggregate == \"c\":\n",
    "        vectors = model.trainables.syn1neg   \n",
    "    else:\n",
    "        return None   \n",
    "    wv = model.wv\n",
    "\n",
    "    embeddings = gaussians.reshape(-1, 20)  # np.array([vectors[i] for i in range(len(wv.index2entity))])\n",
    "    traces = []\n",
    "\n",
    "    fig = tools.make_subplots(rows=1, cols=4)\n",
    "    annotations = []\n",
    "    for label, values in word_dict.items():\n",
    "        dim, col, ax, ay, words = values\n",
    "        idxs = [wv.vocab[w].index for w in filter(lambda w: w in wv.vocab, words+[label])]\n",
    "        idxs = idxs[:int(len(idxs) * ratio_words)]\n",
    "        print(label, col, dim)\n",
    "        label_idx = wv.vocab[label].index\n",
    "        \n",
    "        embs = embeddings[idxs, :]\n",
    "        small_emb_size = int(model.vector_size / model.num_embs)\n",
    "        \n",
    "        trace = go.Scatter(\n",
    "            x=embs[:, small_emb_size * dim],\n",
    "            y=embs[:, small_emb_size * dim + 1],\n",
    "            text=[wv.index2word[idx] for idx in idxs],\n",
    "            textposition='top right',\n",
    "            name=label,\n",
    "            mode=\"markers+text\",\n",
    "            marker=dict(color=\"rgb\"+str(colors[label])))\n",
    "        fig.append_trace(trace, 1, col)\n",
    "\n",
    "    layout = {\n",
    "        'width': 4 * 400,\n",
    "        'height': 1 * 400\n",
    "    }\n",
    "\n",
    "    layout[\"annotations\"] = annotations\n",
    "\n",
    "    for i, trace in enumerate(fig['data']):\n",
    "#         if i > 0: \n",
    "#             trace['showlegend'] = False\n",
    "        layout['xaxis'+str(i+1)] = {\n",
    "                'range': [-1, 1],\n",
    "            }\n",
    "        layout['yaxis'+str(i+1)] = {\n",
    "                'range': [0, 3],\n",
    "            }\n",
    "        \n",
    "    fig[\"layout\"].update(layout)\n",
    "    \n",
    "    return iplot(fig)\n",
    "\n",
    "def read_word_dict():\n",
    "    result_dict = {\n",
    "        #\"mathematics\": (0, 1, 0, -20, [\"geometry\", \"inequality\", \"arithmetic\", \"calculus\", \"algebra\", \"equation\", \"theorem\"]),\n",
    "        \"geometry\": (2, 2, 0, -20, ['riemann', 'inner', 'geodesic', 'connection', 'hyperbolic', 'euclidean', 'fisher']),\n",
    "        #\"number\": (4, 3, 0, -20, [\"one\", \"two\", \"three\", \"four\", \"five\", \"six\", \"seven\", \"eight\", \"nine\", \"ten\"]),\n",
    "        'bundles': (6, 4, 0, -20,['vector_bundle', 'principal_bundle','topological_group' ,'fibre_bundle', 'polynomial']),\n",
    "        \"analysis\": (4, 3, 0, -20, [\"bochner\", \"integral\", \"sum\"]),\n",
    "        #\"chemistry\": [\"chemical\", \"oxygen\", \"carbon\", \"dioxide\", \"nitrogen\", \"chlorium\", \"zinc\", \"organic\"],\n",
    "        'group': (1, 1, 0, -20,['group', 'compact_lie_group','lie_group','topological_group' ,'minimal_polynomial', 'polynomial']),\n",
    "    }\n",
    "    return result_dict\n",
    "labeled_word_dict = read_word_dict()\n",
    "len(labeled_word_dict)"
   ]
  },
  {
   "cell_type": "code",
   "execution_count": 49,
   "metadata": {},
   "outputs": [
    {
     "name": "stdout",
     "output_type": "stream",
     "text": [
      "geometry 2 2\n",
      "analysis 3 4\n",
      "group 1 1\n",
      "bundles 4 6\n"
     ]
    },
    {
     "data": {
      "application/vnd.plotly.v1+json": {
       "config": {
        "linkText": "Export to plot.ly",
        "plotlyServerURL": "https://plot.ly",
        "showLink": false
       },
       "data": [
        {
         "marker": {
          "color": "rgb(255, 0, 0)"
         },
         "mode": "markers+text",
         "name": "geometry",
         "text": [
          "riemann",
          "inner",
          "geodesic",
          "connection",
          "hyperbolic",
          "euclidean",
          "fisher",
          "geometry"
         ],
         "textposition": "top right",
         "type": "scatter",
         "x": [
          0.024418896064162254,
          0.14748291671276093,
          -0.05168960243463516,
          -0.08257803320884705,
          -0.196201354265213,
          0.30414530634880066,
          -0.08956912159919739,
          0.07812750339508057
         ],
         "xaxis": "x2",
         "y": [
          1.4969093799591064,
          1.3359960317611694,
          0.6764667630195618,
          1.6992031335830688,
          2.1012918949127197,
          1.0051124095916748,
          0.9229426980018616,
          1.7489019632339478
         ],
         "yaxis": "y2"
        },
        {
         "marker": {
          "color": "rgb(203, 255, 0)"
         },
         "mode": "markers+text",
         "name": "analysis",
         "text": [
          "bochner",
          "integral",
          "sum",
          "analysis"
         ],
         "textposition": "top right",
         "type": "scatter",
         "x": [
          0.05915087088942528,
          0.12662643194198608,
          -0.29884687066078186,
          0.03481094166636467
         ],
         "xaxis": "x3",
         "y": [
          1.2671573162078857,
          1.266048789024353,
          1.1621204614639282,
          1.5439180135726929
         ],
         "yaxis": "y3"
        },
        {
         "marker": {
          "color": "rgb(0, 255, 102)"
         },
         "mode": "markers+text",
         "name": "group",
         "text": [
          "group",
          "lie_group",
          "topological_group",
          "minimal_polynomial",
          "polynomial",
          "group"
         ],
         "textposition": "top right",
         "type": "scatter",
         "x": [
          0.9220303297042847,
          -0.06384699791669846,
          -0.03227853402495384,
          0.06148731708526611,
          0.36673635244369507,
          0.9220303297042847
         ],
         "xaxis": "x",
         "y": [
          6.945818901062012,
          0.5770816206932068,
          0.8323658108711243,
          1.0134871006011963,
          1.1676857471466064,
          6.945818901062012
         ],
         "yaxis": "y"
        },
        {
         "marker": {
          "color": "rgb(0, 101, 255)"
         },
         "mode": "markers+text",
         "name": "bundles",
         "text": [
          "vector_bundle",
          "principal_bundle",
          "topological_group",
          "fibre_bundle",
          "polynomial",
          "bundles"
         ],
         "textposition": "top right",
         "type": "scatter",
         "x": [
          0.1638919860124588,
          0.026530014351010323,
          0.019315997138619423,
          0.10038860887289047,
          -0.19507239758968353,
          -0.16244691610336304
         ],
         "xaxis": "x4",
         "y": [
          1.2403780221939087,
          1.3999395370483398,
          1.2092280387878418,
          0.9113384485244751,
          0.5439921617507935,
          1.1174131631851196
         ],
         "yaxis": "y4"
        }
       ],
       "layout": {
        "height": 400,
        "template": {
         "data": {
          "bar": [
           {
            "error_x": {
             "color": "#2a3f5f"
            },
            "error_y": {
             "color": "#2a3f5f"
            },
            "marker": {
             "line": {
              "color": "#E5ECF6",
              "width": 0.5
             }
            },
            "type": "bar"
           }
          ],
          "barpolar": [
           {
            "marker": {
             "line": {
              "color": "#E5ECF6",
              "width": 0.5
             }
            },
            "type": "barpolar"
           }
          ],
          "carpet": [
           {
            "aaxis": {
             "endlinecolor": "#2a3f5f",
             "gridcolor": "white",
             "linecolor": "white",
             "minorgridcolor": "white",
             "startlinecolor": "#2a3f5f"
            },
            "baxis": {
             "endlinecolor": "#2a3f5f",
             "gridcolor": "white",
             "linecolor": "white",
             "minorgridcolor": "white",
             "startlinecolor": "#2a3f5f"
            },
            "type": "carpet"
           }
          ],
          "choropleth": [
           {
            "colorbar": {
             "outlinewidth": 0,
             "ticks": ""
            },
            "type": "choropleth"
           }
          ],
          "contour": [
           {
            "colorbar": {
             "outlinewidth": 0,
             "ticks": ""
            },
            "colorscale": [
             [
              0,
              "#0d0887"
             ],
             [
              0.1111111111111111,
              "#46039f"
             ],
             [
              0.2222222222222222,
              "#7201a8"
             ],
             [
              0.3333333333333333,
              "#9c179e"
             ],
             [
              0.4444444444444444,
              "#bd3786"
             ],
             [
              0.5555555555555556,
              "#d8576b"
             ],
             [
              0.6666666666666666,
              "#ed7953"
             ],
             [
              0.7777777777777778,
              "#fb9f3a"
             ],
             [
              0.8888888888888888,
              "#fdca26"
             ],
             [
              1,
              "#f0f921"
             ]
            ],
            "type": "contour"
           }
          ],
          "contourcarpet": [
           {
            "colorbar": {
             "outlinewidth": 0,
             "ticks": ""
            },
            "type": "contourcarpet"
           }
          ],
          "heatmap": [
           {
            "colorbar": {
             "outlinewidth": 0,
             "ticks": ""
            },
            "colorscale": [
             [
              0,
              "#0d0887"
             ],
             [
              0.1111111111111111,
              "#46039f"
             ],
             [
              0.2222222222222222,
              "#7201a8"
             ],
             [
              0.3333333333333333,
              "#9c179e"
             ],
             [
              0.4444444444444444,
              "#bd3786"
             ],
             [
              0.5555555555555556,
              "#d8576b"
             ],
             [
              0.6666666666666666,
              "#ed7953"
             ],
             [
              0.7777777777777778,
              "#fb9f3a"
             ],
             [
              0.8888888888888888,
              "#fdca26"
             ],
             [
              1,
              "#f0f921"
             ]
            ],
            "type": "heatmap"
           }
          ],
          "heatmapgl": [
           {
            "colorbar": {
             "outlinewidth": 0,
             "ticks": ""
            },
            "colorscale": [
             [
              0,
              "#0d0887"
             ],
             [
              0.1111111111111111,
              "#46039f"
             ],
             [
              0.2222222222222222,
              "#7201a8"
             ],
             [
              0.3333333333333333,
              "#9c179e"
             ],
             [
              0.4444444444444444,
              "#bd3786"
             ],
             [
              0.5555555555555556,
              "#d8576b"
             ],
             [
              0.6666666666666666,
              "#ed7953"
             ],
             [
              0.7777777777777778,
              "#fb9f3a"
             ],
             [
              0.8888888888888888,
              "#fdca26"
             ],
             [
              1,
              "#f0f921"
             ]
            ],
            "type": "heatmapgl"
           }
          ],
          "histogram": [
           {
            "marker": {
             "colorbar": {
              "outlinewidth": 0,
              "ticks": ""
             }
            },
            "type": "histogram"
           }
          ],
          "histogram2d": [
           {
            "colorbar": {
             "outlinewidth": 0,
             "ticks": ""
            },
            "colorscale": [
             [
              0,
              "#0d0887"
             ],
             [
              0.1111111111111111,
              "#46039f"
             ],
             [
              0.2222222222222222,
              "#7201a8"
             ],
             [
              0.3333333333333333,
              "#9c179e"
             ],
             [
              0.4444444444444444,
              "#bd3786"
             ],
             [
              0.5555555555555556,
              "#d8576b"
             ],
             [
              0.6666666666666666,
              "#ed7953"
             ],
             [
              0.7777777777777778,
              "#fb9f3a"
             ],
             [
              0.8888888888888888,
              "#fdca26"
             ],
             [
              1,
              "#f0f921"
             ]
            ],
            "type": "histogram2d"
           }
          ],
          "histogram2dcontour": [
           {
            "colorbar": {
             "outlinewidth": 0,
             "ticks": ""
            },
            "colorscale": [
             [
              0,
              "#0d0887"
             ],
             [
              0.1111111111111111,
              "#46039f"
             ],
             [
              0.2222222222222222,
              "#7201a8"
             ],
             [
              0.3333333333333333,
              "#9c179e"
             ],
             [
              0.4444444444444444,
              "#bd3786"
             ],
             [
              0.5555555555555556,
              "#d8576b"
             ],
             [
              0.6666666666666666,
              "#ed7953"
             ],
             [
              0.7777777777777778,
              "#fb9f3a"
             ],
             [
              0.8888888888888888,
              "#fdca26"
             ],
             [
              1,
              "#f0f921"
             ]
            ],
            "type": "histogram2dcontour"
           }
          ],
          "mesh3d": [
           {
            "colorbar": {
             "outlinewidth": 0,
             "ticks": ""
            },
            "type": "mesh3d"
           }
          ],
          "parcoords": [
           {
            "line": {
             "colorbar": {
              "outlinewidth": 0,
              "ticks": ""
             }
            },
            "type": "parcoords"
           }
          ],
          "pie": [
           {
            "automargin": true,
            "type": "pie"
           }
          ],
          "scatter": [
           {
            "marker": {
             "colorbar": {
              "outlinewidth": 0,
              "ticks": ""
             }
            },
            "type": "scatter"
           }
          ],
          "scatter3d": [
           {
            "line": {
             "colorbar": {
              "outlinewidth": 0,
              "ticks": ""
             }
            },
            "marker": {
             "colorbar": {
              "outlinewidth": 0,
              "ticks": ""
             }
            },
            "type": "scatter3d"
           }
          ],
          "scattercarpet": [
           {
            "marker": {
             "colorbar": {
              "outlinewidth": 0,
              "ticks": ""
             }
            },
            "type": "scattercarpet"
           }
          ],
          "scattergeo": [
           {
            "marker": {
             "colorbar": {
              "outlinewidth": 0,
              "ticks": ""
             }
            },
            "type": "scattergeo"
           }
          ],
          "scattergl": [
           {
            "marker": {
             "colorbar": {
              "outlinewidth": 0,
              "ticks": ""
             }
            },
            "type": "scattergl"
           }
          ],
          "scattermapbox": [
           {
            "marker": {
             "colorbar": {
              "outlinewidth": 0,
              "ticks": ""
             }
            },
            "type": "scattermapbox"
           }
          ],
          "scatterpolar": [
           {
            "marker": {
             "colorbar": {
              "outlinewidth": 0,
              "ticks": ""
             }
            },
            "type": "scatterpolar"
           }
          ],
          "scatterpolargl": [
           {
            "marker": {
             "colorbar": {
              "outlinewidth": 0,
              "ticks": ""
             }
            },
            "type": "scatterpolargl"
           }
          ],
          "scatterternary": [
           {
            "marker": {
             "colorbar": {
              "outlinewidth": 0,
              "ticks": ""
             }
            },
            "type": "scatterternary"
           }
          ],
          "surface": [
           {
            "colorbar": {
             "outlinewidth": 0,
             "ticks": ""
            },
            "colorscale": [
             [
              0,
              "#0d0887"
             ],
             [
              0.1111111111111111,
              "#46039f"
             ],
             [
              0.2222222222222222,
              "#7201a8"
             ],
             [
              0.3333333333333333,
              "#9c179e"
             ],
             [
              0.4444444444444444,
              "#bd3786"
             ],
             [
              0.5555555555555556,
              "#d8576b"
             ],
             [
              0.6666666666666666,
              "#ed7953"
             ],
             [
              0.7777777777777778,
              "#fb9f3a"
             ],
             [
              0.8888888888888888,
              "#fdca26"
             ],
             [
              1,
              "#f0f921"
             ]
            ],
            "type": "surface"
           }
          ],
          "table": [
           {
            "cells": {
             "fill": {
              "color": "#EBF0F8"
             },
             "line": {
              "color": "white"
             }
            },
            "header": {
             "fill": {
              "color": "#C8D4E3"
             },
             "line": {
              "color": "white"
             }
            },
            "type": "table"
           }
          ]
         },
         "layout": {
          "annotationdefaults": {
           "arrowcolor": "#2a3f5f",
           "arrowhead": 0,
           "arrowwidth": 1
          },
          "coloraxis": {
           "colorbar": {
            "outlinewidth": 0,
            "ticks": ""
           }
          },
          "colorscale": {
           "diverging": [
            [
             0,
             "#8e0152"
            ],
            [
             0.1,
             "#c51b7d"
            ],
            [
             0.2,
             "#de77ae"
            ],
            [
             0.3,
             "#f1b6da"
            ],
            [
             0.4,
             "#fde0ef"
            ],
            [
             0.5,
             "#f7f7f7"
            ],
            [
             0.6,
             "#e6f5d0"
            ],
            [
             0.7,
             "#b8e186"
            ],
            [
             0.8,
             "#7fbc41"
            ],
            [
             0.9,
             "#4d9221"
            ],
            [
             1,
             "#276419"
            ]
           ],
           "sequential": [
            [
             0,
             "#0d0887"
            ],
            [
             0.1111111111111111,
             "#46039f"
            ],
            [
             0.2222222222222222,
             "#7201a8"
            ],
            [
             0.3333333333333333,
             "#9c179e"
            ],
            [
             0.4444444444444444,
             "#bd3786"
            ],
            [
             0.5555555555555556,
             "#d8576b"
            ],
            [
             0.6666666666666666,
             "#ed7953"
            ],
            [
             0.7777777777777778,
             "#fb9f3a"
            ],
            [
             0.8888888888888888,
             "#fdca26"
            ],
            [
             1,
             "#f0f921"
            ]
           ],
           "sequentialminus": [
            [
             0,
             "#0d0887"
            ],
            [
             0.1111111111111111,
             "#46039f"
            ],
            [
             0.2222222222222222,
             "#7201a8"
            ],
            [
             0.3333333333333333,
             "#9c179e"
            ],
            [
             0.4444444444444444,
             "#bd3786"
            ],
            [
             0.5555555555555556,
             "#d8576b"
            ],
            [
             0.6666666666666666,
             "#ed7953"
            ],
            [
             0.7777777777777778,
             "#fb9f3a"
            ],
            [
             0.8888888888888888,
             "#fdca26"
            ],
            [
             1,
             "#f0f921"
            ]
           ]
          },
          "colorway": [
           "#636efa",
           "#EF553B",
           "#00cc96",
           "#ab63fa",
           "#FFA15A",
           "#19d3f3",
           "#FF6692",
           "#B6E880",
           "#FF97FF",
           "#FECB52"
          ],
          "font": {
           "color": "#2a3f5f"
          },
          "geo": {
           "bgcolor": "white",
           "lakecolor": "white",
           "landcolor": "#E5ECF6",
           "showlakes": true,
           "showland": true,
           "subunitcolor": "white"
          },
          "hoverlabel": {
           "align": "left"
          },
          "hovermode": "closest",
          "mapbox": {
           "style": "light"
          },
          "paper_bgcolor": "white",
          "plot_bgcolor": "#E5ECF6",
          "polar": {
           "angularaxis": {
            "gridcolor": "white",
            "linecolor": "white",
            "ticks": ""
           },
           "bgcolor": "#E5ECF6",
           "radialaxis": {
            "gridcolor": "white",
            "linecolor": "white",
            "ticks": ""
           }
          },
          "scene": {
           "xaxis": {
            "backgroundcolor": "#E5ECF6",
            "gridcolor": "white",
            "gridwidth": 2,
            "linecolor": "white",
            "showbackground": true,
            "ticks": "",
            "zerolinecolor": "white"
           },
           "yaxis": {
            "backgroundcolor": "#E5ECF6",
            "gridcolor": "white",
            "gridwidth": 2,
            "linecolor": "white",
            "showbackground": true,
            "ticks": "",
            "zerolinecolor": "white"
           },
           "zaxis": {
            "backgroundcolor": "#E5ECF6",
            "gridcolor": "white",
            "gridwidth": 2,
            "linecolor": "white",
            "showbackground": true,
            "ticks": "",
            "zerolinecolor": "white"
           }
          },
          "shapedefaults": {
           "line": {
            "color": "#2a3f5f"
           }
          },
          "ternary": {
           "aaxis": {
            "gridcolor": "white",
            "linecolor": "white",
            "ticks": ""
           },
           "baxis": {
            "gridcolor": "white",
            "linecolor": "white",
            "ticks": ""
           },
           "bgcolor": "#E5ECF6",
           "caxis": {
            "gridcolor": "white",
            "linecolor": "white",
            "ticks": ""
           }
          },
          "title": {
           "x": 0.05
          },
          "xaxis": {
           "automargin": true,
           "gridcolor": "white",
           "linecolor": "white",
           "ticks": "",
           "title": {
            "standoff": 15
           },
           "zerolinecolor": "white",
           "zerolinewidth": 2
          },
          "yaxis": {
           "automargin": true,
           "gridcolor": "white",
           "linecolor": "white",
           "ticks": "",
           "title": {
            "standoff": 15
           },
           "zerolinecolor": "white",
           "zerolinewidth": 2
          }
         }
        },
        "width": 1600,
        "xaxis": {
         "anchor": "y",
         "domain": [
          0,
          0.2125
         ],
         "range": [
          -1,
          1
         ],
         "type": "linear"
        },
        "xaxis2": {
         "anchor": "y2",
         "domain": [
          0.2625,
          0.475
         ],
         "range": [
          -1,
          1
         ],
         "type": "linear"
        },
        "xaxis3": {
         "anchor": "y3",
         "domain": [
          0.525,
          0.7375
         ],
         "range": [
          -1,
          1
         ],
         "type": "linear"
        },
        "xaxis4": {
         "anchor": "y4",
         "domain": [
          0.7875,
          1
         ],
         "range": [
          -1,
          1
         ],
         "type": "linear"
        },
        "yaxis": {
         "anchor": "x",
         "domain": [
          0,
          1
         ],
         "range": [
          0,
          3
         ],
         "type": "linear"
        },
        "yaxis2": {
         "anchor": "x2",
         "domain": [
          0,
          1
         ],
         "range": [
          0,
          3
         ],
         "type": "linear"
        },
        "yaxis3": {
         "anchor": "x3",
         "domain": [
          0,
          1
         ],
         "range": [
          0,
          3
         ],
         "type": "linear"
        },
        "yaxis4": {
         "anchor": "x4",
         "domain": [
          0,
          1
         ],
         "range": [
          0,
          3
         ],
         "type": "linear"
        }
       }
      },
      "image/png": "[encoded data removed]",
      "text/html": [
       "<div>                            <div id=\"2f03792d-98cb-4667-bc39-c5c0f19771da\" class=\"plotly-graph-div\" style=\"height:400px; width:1600px;\"></div>            <script type=\"text/javascript\">                require([\"plotly\"], function(Plotly) {                    window.PLOTLYENV=window.PLOTLYENV || {};                                    if (document.getElementById(\"2f03792d-98cb-4667-bc39-c5c0f19771da\")) {                    Plotly.newPlot(                        \"2f03792d-98cb-4667-bc39-c5c0f19771da\",                        [{\"marker\": {\"color\": \"rgb(255, 0, 0)\"}, \"mode\": \"markers+text\", \"name\": \"geometry\", \"text\": [\"riemann\", \"inner\", \"geodesic\", \"connection\", \"hyperbolic\", \"euclidean\", \"fisher\", \"geometry\"], \"textposition\": \"top right\", \"type\": \"scatter\", \"x\": [0.024418896064162254, 0.14748291671276093, -0.05168960243463516, -0.08257803320884705, -0.196201354265213, 0.30414530634880066, -0.08956912159919739, 0.07812750339508057], \"xaxis\": \"x2\", \"y\": [1.4969093799591064, 1.3359960317611694, 0.6764667630195618, 1.6992031335830688, 2.1012918949127197, 1.0051124095916748, 0.9229426980018616, 1.7489019632339478], \"yaxis\": \"y2\"}, {\"marker\": {\"color\": \"rgb(203, 255, 0)\"}, \"mode\": \"markers+text\", \"name\": \"analysis\", \"text\": [\"bochner\", \"integral\", \"sum\", \"analysis\"], \"textposition\": \"top right\", \"type\": \"scatter\", \"x\": [0.05915087088942528, 0.12662643194198608, -0.29884687066078186, 0.03481094166636467], \"xaxis\": \"x3\", \"y\": [1.2671573162078857, 1.266048789024353, 1.1621204614639282, 1.5439180135726929], \"yaxis\": \"y3\"}, {\"marker\": {\"color\": \"rgb(0, 255, 102)\"}, \"mode\": \"markers+text\", \"name\": \"group\", \"text\": [\"group\", \"lie_group\", \"topological_group\", \"minimal_polynomial\", \"polynomial\", \"group\"], \"textposition\": \"top right\", \"type\": \"scatter\", \"x\": [0.9220303297042847, -0.06384699791669846, -0.03227853402495384, 0.06148731708526611, 0.36673635244369507, 0.9220303297042847], \"xaxis\": \"x\", \"y\": [6.945818901062012, 0.5770816206932068, 0.8323658108711243, 1.0134871006011963, 1.1676857471466064, 6.945818901062012], \"yaxis\": \"y\"}, {\"marker\": {\"color\": \"rgb(0, 101, 255)\"}, \"mode\": \"markers+text\", \"name\": \"bundles\", \"text\": [\"vector_bundle\", \"principal_bundle\", \"topological_group\", \"fibre_bundle\", \"polynomial\", \"bundles\"], \"textposition\": \"top right\", \"type\": \"scatter\", \"x\": [0.1638919860124588, 0.026530014351010323, 0.019315997138619423, 0.10038860887289047, -0.19507239758968353, -0.16244691610336304], \"xaxis\": \"x4\", \"y\": [1.2403780221939087, 1.3999395370483398, 1.2092280387878418, 0.9113384485244751, 0.5439921617507935, 1.1174131631851196], \"yaxis\": \"y4\"}],                        {\"height\": 400, \"template\": {\"data\": {\"bar\": [{\"error_x\": {\"color\": \"#2a3f5f\"}, \"error_y\": {\"color\": \"#2a3f5f\"}, \"marker\": {\"line\": {\"color\": \"#E5ECF6\", \"width\": 0.5}}, \"type\": \"bar\"}], \"barpolar\": [{\"marker\": {\"line\": {\"color\": \"#E5ECF6\", \"width\": 0.5}}, \"type\": \"barpolar\"}], \"carpet\": [{\"aaxis\": {\"endlinecolor\": \"#2a3f5f\", \"gridcolor\": \"white\", \"linecolor\": \"white\", \"minorgridcolor\": \"white\", \"startlinecolor\": \"#2a3f5f\"}, \"baxis\": {\"endlinecolor\": \"#2a3f5f\", \"gridcolor\": \"white\", \"linecolor\": \"white\", \"minorgridcolor\": \"white\", \"startlinecolor\": \"#2a3f5f\"}, \"type\": \"carpet\"}], \"choropleth\": [{\"colorbar\": {\"outlinewidth\": 0, \"ticks\": \"\"}, \"type\": \"choropleth\"}], \"contour\": [{\"colorbar\": {\"outlinewidth\": 0, \"ticks\": \"\"}, \"colorscale\": [[0.0, \"#0d0887\"], [0.1111111111111111, \"#46039f\"], [0.2222222222222222, \"#7201a8\"], [0.3333333333333333, \"#9c179e\"], [0.4444444444444444, \"#bd3786\"], [0.5555555555555556, \"#d8576b\"], [0.6666666666666666, \"#ed7953\"], [0.7777777777777778, \"#fb9f3a\"], [0.8888888888888888, \"#fdca26\"], [1.0, \"#f0f921\"]], \"type\": \"contour\"}], \"contourcarpet\": [{\"colorbar\": {\"outlinewidth\": 0, \"ticks\": \"\"}, \"type\": \"contourcarpet\"}], \"heatmap\": [{\"colorbar\": {\"outlinewidth\": 0, \"ticks\": \"\"}, \"colorscale\": [[0.0, \"#0d0887\"], [0.1111111111111111, \"#46039f\"], [0.2222222222222222, \"#7201a8\"], [0.3333333333333333, \"#9c179e\"], [0.4444444444444444, \"#bd3786\"], [0.5555555555555556, \"#d8576b\"], [0.6666666666666666, \"#ed7953\"], [0.7777777777777778, \"#fb9f3a\"], [0.8888888888888888, \"#fdca26\"], [1.0, \"#f0f921\"]], \"type\": \"heatmap\"}], \"heatmapgl\": [{\"colorbar\": {\"outlinewidth\": 0, \"ticks\": \"\"}, \"colorscale\": [[0.0, \"#0d0887\"], [0.1111111111111111, \"#46039f\"], [0.2222222222222222, \"#7201a8\"], [0.3333333333333333, \"#9c179e\"], [0.4444444444444444, \"#bd3786\"], [0.5555555555555556, \"#d8576b\"], [0.6666666666666666, \"#ed7953\"], [0.7777777777777778, \"#fb9f3a\"], [0.8888888888888888, \"#fdca26\"], [1.0, \"#f0f921\"]], \"type\": \"heatmapgl\"}], \"histogram\": [{\"marker\": {\"colorbar\": {\"outlinewidth\": 0, \"ticks\": \"\"}}, \"type\": \"histogram\"}], \"histogram2d\": [{\"colorbar\": {\"outlinewidth\": 0, \"ticks\": \"\"}, \"colorscale\": [[0.0, \"#0d0887\"], [0.1111111111111111, \"#46039f\"], [0.2222222222222222, \"#7201a8\"], [0.3333333333333333, \"#9c179e\"], [0.4444444444444444, \"#bd3786\"], [0.5555555555555556, \"#d8576b\"], [0.6666666666666666, \"#ed7953\"], [0.7777777777777778, \"#fb9f3a\"], [0.8888888888888888, \"#fdca26\"], [1.0, \"#f0f921\"]], \"type\": \"histogram2d\"}], \"histogram2dcontour\": [{\"colorbar\": {\"outlinewidth\": 0, \"ticks\": \"\"}, \"colorscale\": [[0.0, \"#0d0887\"], [0.1111111111111111, \"#46039f\"], [0.2222222222222222, \"#7201a8\"], [0.3333333333333333, \"#9c179e\"], [0.4444444444444444, \"#bd3786\"], [0.5555555555555556, \"#d8576b\"], [0.6666666666666666, \"#ed7953\"], [0.7777777777777778, \"#fb9f3a\"], [0.8888888888888888, \"#fdca26\"], [1.0, \"#f0f921\"]], \"type\": \"histogram2dcontour\"}], \"mesh3d\": [{\"colorbar\": {\"outlinewidth\": 0, \"ticks\": \"\"}, \"type\": \"mesh3d\"}], \"parcoords\": [{\"line\": {\"colorbar\": {\"outlinewidth\": 0, \"ticks\": \"\"}}, \"type\": \"parcoords\"}], \"pie\": [{\"automargin\": true, \"type\": \"pie\"}], \"scatter\": [{\"marker\": {\"colorbar\": {\"outlinewidth\": 0, \"ticks\": \"\"}}, \"type\": \"scatter\"}], \"scatter3d\": [{\"line\": {\"colorbar\": {\"outlinewidth\": 0, \"ticks\": \"\"}}, \"marker\": {\"colorbar\": {\"outlinewidth\": 0, \"ticks\": \"\"}}, \"type\": \"scatter3d\"}], \"scattercarpet\": [{\"marker\": {\"colorbar\": {\"outlinewidth\": 0, \"ticks\": \"\"}}, \"type\": \"scattercarpet\"}], \"scattergeo\": [{\"marker\": {\"colorbar\": {\"outlinewidth\": 0, \"ticks\": \"\"}}, \"type\": \"scattergeo\"}], \"scattergl\": [{\"marker\": {\"colorbar\": {\"outlinewidth\": 0, \"ticks\": \"\"}}, \"type\": \"scattergl\"}], \"scattermapbox\": [{\"marker\": {\"colorbar\": {\"outlinewidth\": 0, \"ticks\": \"\"}}, \"type\": \"scattermapbox\"}], \"scatterpolar\": [{\"marker\": {\"colorbar\": {\"outlinewidth\": 0, \"ticks\": \"\"}}, \"type\": \"scatterpolar\"}], \"scatterpolargl\": [{\"marker\": {\"colorbar\": {\"outlinewidth\": 0, \"ticks\": \"\"}}, \"type\": \"scatterpolargl\"}], \"scatterternary\": [{\"marker\": {\"colorbar\": {\"outlinewidth\": 0, \"ticks\": \"\"}}, \"type\": \"scatterternary\"}], \"surface\": [{\"colorbar\": {\"outlinewidth\": 0, \"ticks\": \"\"}, \"colorscale\": [[0.0, \"#0d0887\"], [0.1111111111111111, \"#46039f\"], [0.2222222222222222, \"#7201a8\"], [0.3333333333333333, \"#9c179e\"], [0.4444444444444444, \"#bd3786\"], [0.5555555555555556, \"#d8576b\"], [0.6666666666666666, \"#ed7953\"], [0.7777777777777778, \"#fb9f3a\"], [0.8888888888888888, \"#fdca26\"], [1.0, \"#f0f921\"]], \"type\": \"surface\"}], \"table\": [{\"cells\": {\"fill\": {\"color\": \"#EBF0F8\"}, \"line\": {\"color\": \"white\"}}, \"header\": {\"fill\": {\"color\": \"#C8D4E3\"}, \"line\": {\"color\": \"white\"}}, \"type\": \"table\"}]}, \"layout\": {\"annotationdefaults\": {\"arrowcolor\": \"#2a3f5f\", \"arrowhead\": 0, \"arrowwidth\": 1}, \"coloraxis\": {\"colorbar\": {\"outlinewidth\": 0, \"ticks\": \"\"}}, \"colorscale\": {\"diverging\": [[0, \"#8e0152\"], [0.1, \"#c51b7d\"], [0.2, \"#de77ae\"], [0.3, \"#f1b6da\"], [0.4, \"#fde0ef\"], [0.5, \"#f7f7f7\"], [0.6, \"#e6f5d0\"], [0.7, \"#b8e186\"], [0.8, \"#7fbc41\"], [0.9, \"#4d9221\"], [1, \"#276419\"]], \"sequential\": [[0.0, \"#0d0887\"], [0.1111111111111111, \"#46039f\"], [0.2222222222222222, \"#7201a8\"], [0.3333333333333333, \"#9c179e\"], [0.4444444444444444, \"#bd3786\"], [0.5555555555555556, \"#d8576b\"], [0.6666666666666666, \"#ed7953\"], [0.7777777777777778, \"#fb9f3a\"], [0.8888888888888888, \"#fdca26\"], [1.0, \"#f0f921\"]], \"sequentialminus\": [[0.0, \"#0d0887\"], [0.1111111111111111, \"#46039f\"], [0.2222222222222222, \"#7201a8\"], [0.3333333333333333, \"#9c179e\"], [0.4444444444444444, \"#bd3786\"], [0.5555555555555556, \"#d8576b\"], [0.6666666666666666, \"#ed7953\"], [0.7777777777777778, \"#fb9f3a\"], [0.8888888888888888, \"#fdca26\"], [1.0, \"#f0f921\"]]}, \"colorway\": [\"#636efa\", \"#EF553B\", \"#00cc96\", \"#ab63fa\", \"#FFA15A\", \"#19d3f3\", \"#FF6692\", \"#B6E880\", \"#FF97FF\", \"#FECB52\"], \"font\": {\"color\": \"#2a3f5f\"}, \"geo\": {\"bgcolor\": \"white\", \"lakecolor\": \"white\", \"landcolor\": \"#E5ECF6\", \"showlakes\": true, \"showland\": true, \"subunitcolor\": \"white\"}, \"hoverlabel\": {\"align\": \"left\"}, \"hovermode\": \"closest\", \"mapbox\": {\"style\": \"light\"}, \"paper_bgcolor\": \"white\", \"plot_bgcolor\": \"#E5ECF6\", \"polar\": {\"angularaxis\": {\"gridcolor\": \"white\", \"linecolor\": \"white\", \"ticks\": \"\"}, \"bgcolor\": \"#E5ECF6\", \"radialaxis\": {\"gridcolor\": \"white\", \"linecolor\": \"white\", \"ticks\": \"\"}}, \"scene\": {\"xaxis\": {\"backgroundcolor\": \"#E5ECF6\", \"gridcolor\": \"white\", \"gridwidth\": 2, \"linecolor\": \"white\", \"showbackground\": true, \"ticks\": \"\", \"zerolinecolor\": \"white\"}, \"yaxis\": {\"backgroundcolor\": \"#E5ECF6\", \"gridcolor\": \"white\", \"gridwidth\": 2, \"linecolor\": \"white\", \"showbackground\": true, \"ticks\": \"\", \"zerolinecolor\": \"white\"}, \"zaxis\": {\"backgroundcolor\": \"#E5ECF6\", \"gridcolor\": \"white\", \"gridwidth\": 2, \"linecolor\": \"white\", \"showbackground\": true, \"ticks\": \"\", \"zerolinecolor\": \"white\"}}, \"shapedefaults\": {\"line\": {\"color\": \"#2a3f5f\"}}, \"ternary\": {\"aaxis\": {\"gridcolor\": \"white\", \"linecolor\": \"white\", \"ticks\": \"\"}, \"baxis\": {\"gridcolor\": \"white\", \"linecolor\": \"white\", \"ticks\": \"\"}, \"bgcolor\": \"#E5ECF6\", \"caxis\": {\"gridcolor\": \"white\", \"linecolor\": \"white\", \"ticks\": \"\"}}, \"title\": {\"x\": 0.05}, \"xaxis\": {\"automargin\": true, \"gridcolor\": \"white\", \"linecolor\": \"white\", \"ticks\": \"\", \"title\": {\"standoff\": 15}, \"zerolinecolor\": \"white\", \"zerolinewidth\": 2}, \"yaxis\": {\"automargin\": true, \"gridcolor\": \"white\", \"linecolor\": \"white\", \"ticks\": \"\", \"title\": {\"standoff\": 15}, \"zerolinecolor\": \"white\", \"zerolinewidth\": 2}}}, \"width\": 1600, \"xaxis\": {\"anchor\": \"y\", \"domain\": [0.0, 0.2125], \"range\": [-1, 1]}, \"xaxis2\": {\"anchor\": \"y2\", \"domain\": [0.2625, 0.475], \"range\": [-1, 1]}, \"xaxis3\": {\"anchor\": \"y3\", \"domain\": [0.525, 0.7375], \"range\": [-1, 1]}, \"xaxis4\": {\"anchor\": \"y4\", \"domain\": [0.7875, 1.0], \"range\": [-1, 1]}, \"yaxis\": {\"anchor\": \"x\", \"domain\": [0.0, 1.0], \"range\": [0, 3]}, \"yaxis2\": {\"anchor\": \"x2\", \"domain\": [0.0, 1.0], \"range\": [0, 3]}, \"yaxis3\": {\"anchor\": \"x3\", \"domain\": [0.0, 1.0], \"range\": [0, 3]}, \"yaxis4\": {\"anchor\": \"x4\", \"domain\": [0.0, 1.0], \"range\": [0, 3]}},                        {\"responsive\": true}                    ).then(function(){\n",
       "                            \n",
       "var gd = document.getElementById('2f03792d-98cb-4667-bc39-c5c0f19771da');\n",
       "var x = new MutationObserver(function (mutations, observer) {{\n",
       "        var display = window.getComputedStyle(gd).display;\n",
       "        if (!display || display === 'none') {{\n",
       "            console.log([gd, 'removed!']);\n",
       "            Plotly.purge(gd);\n",
       "            observer.disconnect();\n",
       "        }}\n",
       "}});\n",
       "\n",
       "// Listen for the removal of the full notebook cells\n",
       "var notebookContainer = gd.closest('#notebook-container');\n",
       "if (notebookContainer) {{\n",
       "    x.observe(notebookContainer, {childList: true});\n",
       "}}\n",
       "\n",
       "// Listen for the clearing of the current output cell\n",
       "var outputEl = gd.closest('.output');\n",
       "if (outputEl) {{\n",
       "    x.observe(outputEl, {childList: true});\n",
       "}}\n",
       "\n",
       "                        })                };                });            </script>        </div>"
      ]
     },
     "metadata": {},
     "output_type": "display_data"
    }
   ],
   "source": [
    "plot_wordnet_embeddings(hyp_model, gaussians, labeled_word_dict, ratio_words=1)"
   ]
  },
  {
   "cell_type": "code",
   "execution_count": null,
   "metadata": {},
   "outputs": [],
   "source": []
  }
 ],
 "metadata": {
  "kernelspec": {
   "display_name": "Python 3 (ipykernel)",
   "language": "python",
   "name": "python3"
  },
  "language_info": {
   "codemirror_mode": {
    "name": "ipython",
    "version": 3
   },
   "file_extension": ".py",
   "mimetype": "text/x-python",
   "name": "python",
   "nbconvert_exporter": "python",
   "pygments_lexer": "ipython3",
   "version": "3.10.0rc1"
  }
 },
 "nbformat": 4,
 "nbformat_minor": 4
}
