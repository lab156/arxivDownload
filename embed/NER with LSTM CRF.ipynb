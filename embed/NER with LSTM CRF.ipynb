{
 "cells": [
  {
   "cell_type": "code",
   "execution_count": 37,
   "metadata": {
    "tags": [
     "NER",
     "Tensorflow2.0"
    ]
   },
   "outputs": [
    {
     "name": "stdout",
     "output_type": "stream",
     "text": [
      "The autoreload extension is already loaded. To reload it, use:\n",
      "  %reload_ext autoreload\n"
     ]
    }
   ],
   "source": [
    "from tensorflow.keras.preprocessing.text import Tokenizer\n",
    "from tensorflow.keras.preprocessing.sequence import pad_sequences\n",
    "from tensorflow.keras.layers import Embedding, LSTM, Dense, Bidirectional,\\\n",
    "                      GRU, Dropout, GlobalAveragePooling1D, Conv1D, TimeDistributed\n",
    "from tensorflow.keras import Sequential, Model, Input\n",
    "from tensorflow.keras.utils import plot_model, to_categorical\n",
    "from tensorflow.keras.optimizers import Adam\n",
    "from tqdm.keras import TqdmCallback\n",
    "import tensorflow as tf\n",
    "import tensorflow_addons as tfa\n",
    "import numpy as np\n",
    "import re\n",
    "from nltk import sent_tokenize, word_tokenize, pos_tag, ne_chunk\n",
    "import nltk.data\n",
    "from nltk.tokenize.punkt import PunktSentenceTokenizer, PunktTrainer\n",
    "from nltk.chunk.util import ChunkScore\n",
    "import pickle\n",
    "import math\n",
    "#import collections.Iterable as Iterable\n",
    "\n",
    "import sklearn.metrics as metrics\n",
    "import matplotlib.pyplot as plt\n",
    "\n",
    "from nltk.chunk import conlltags2tree, tree2conlltags\n",
    "\n",
    "import gzip\n",
    "from lxml import etree\n",
    "from tqdm import tqdm\n",
    "import random\n",
    "\n",
    "%load_ext autoreload\n",
    "%autoreload 2\n",
    "import os, inspect, sys\n",
    "currentdir = os.path.dirname(os.path.abspath(inspect.getfile(inspect.currentframe())))\n",
    "parentdir = os.path.dirname(currentdir)\n",
    "sys.path.insert(0,parentdir) \n",
    "from unwiki import unwiki\n",
    "import ner\n",
    "from embed_utils import open_w2v\n",
    "import clean_and_token_text as clean"
   ]
  },
  {
   "cell_type": "code",
   "execution_count": 2,
   "metadata": {},
   "outputs": [
    {
     "name": "stdout",
     "output_type": "stream",
     "text": [
      "{'w.b', 'ye', 'a.i', 'cf', 'j.m', 'a.d', 'crinem', 'happiness', 'eng', 'a.s', 'p.m', 'rum', 'sas', 'aff', 'ie', 'rv', 'gta', 'f.h', 'i.e', 'pl', 's1', 'c6an', 'viz', 'p.o.a', 'm4', 'fins', 'u.s', '1949.03631mm', 'i.i.d', '2a', 'u.s.c', 'p.h.d', 'j.c', 'jr', 'qom', 'etc', \"'up\", \"'if\", 'i.d', 'gov', 'j.d', 'd1', 'pdi', 'technician', 'subpopulation', 'ts2', '15b', 'r/m', 'ifc', 'nfa', 'np5', 'e.g', 'ltd', 's.c', 'hrc', 'n.b', 'g.i', 'nsb', '|c|', 'dha', 'z-1', 'o.s.m', 'j.w', 'q.v', 'pt', 'b.k.s', 'exhibition', 'resp', 'm.n', 'x+2', 'anomalies', 'vs', 'p.12', 'fn', 'a.k.a', 'orb', 'tov', 'spacewalks', 'ph.d', 's.r', 'juniper', 'c.w', 's.p.r.l', 'u.n', 'm-m', 'ed', 'jie', 'i.w.w', 'fig', 'al', 'acb', 'oct', 's.t', 'sow', 'r.a', 'rim', 'exe', 'c.s', 'az', 's^2', 'k.c', 'soc', 'ginebra', 'b-1'}\n"
     ]
    }
   ],
   "source": [
    "#with open('/media/hd1/wikipedia/wiki_definitions_improved.txt', 'r') as wiki_f:\n",
    "#    wiki = wiki_f.readlines()\n",
    "\n",
    "cfg = {}\n",
    "\n",
    "wiki = []\n",
    "with gzip.open('/media/hd1/wikipedia/wiki_definitions_improved.xml.gz', 'r') as xml_fobj:\n",
    "    def_xml = etree.parse(xml_fobj)\n",
    "    for art in def_xml.findall('definition'):\n",
    "        data = (art.find('.//dfndum').text, '', art.find('.//stmnt').text)\n",
    "        wiki.append(data)\n",
    "\n",
    "# Get data and train the Sentence tokenizer\n",
    "# Uses a standard algorithm (Kiss-Strunk) for unsupervised sentence boundary detection\n",
    "text = ''\n",
    "for i in range(3550):\n",
    "    text += wiki[i][2]\n",
    "\n",
    "trainer = PunktTrainer()\n",
    "trainer.INCLUDE_ALL_COLLOCS = True\n",
    "trainer.train(text)\n",
    "sent_tok = PunktSentenceTokenizer(trainer.get_params())\n",
    "print(sent_tok._params.abbrev_types)\n",
    "\n",
    "def_lst = ner.bio_tag.put_pos_ner_tags(wiki, sent_tok)"
   ]
  },
  {
   "cell_type": "code",
   "execution_count": 3,
   "metadata": {},
   "outputs": [
    {
     "name": "stdout",
     "output_type": "stream",
     "text": [
      "Vocabulary size: 208442 and dimension of embed: 200\n"
     ]
    }
   ],
   "source": [
    "#cf = {'input_dim': len(word_tok.word_index)+1,\n",
    "#      'output_dim': 25,\n",
    "#     'input_length': max([len(l) for l in fields['tokens']])//12,\n",
    "#     'n_tags': 4,\n",
    "#     'batch_size': 1000}    \n",
    "\n",
    "\n",
    "# Define the categorical labels\n",
    "#train_lab2_cat = np.array([to_categorical(c, num_classes=cf['n_tags']) for c in train_lab2])\n",
    "#embed_matrix = np.zeros((cf['input_dim'], 200))\n",
    "#coverage_cnt = 0\n",
    "#coverage_lst = []\n",
    "with open_w2v('/media/hd1/embeddings/model4ner_19-33_02-01/vectors.bin') as embed_dict:\n",
    "    wind = ['<UNK>',] + list(embed_dict.keys())\n",
    "    cfg['emb_nvocab'] = len(wind) \n",
    "    embed_matrix = np.zeros((cfg['emb_nvocab'], 200))\n",
    "    for word, vec in embed_dict.items():\n",
    "        #vect = embed_dict.get(word)\n",
    "        ind = wind.index(word)\n",
    "            #vect = vect/np.linalg.norm(vect)\n",
    "        embed_matrix[ind] = vec\n",
    "#print(\"Coverage of embed is: {}\".format(coverage_cnt/len(embed_dict)))"
   ]
  },
  {
   "cell_type": "code",
   "execution_count": 4,
   "metadata": {},
   "outputs": [
    {
     "data": {
      "image/png": "[encoded data removed]",
      "text/plain": [
       "<Figure size 432x288 with 1 Axes>"
      ]
     },
     "metadata": {
      "needs_background": "light"
     },
     "output_type": "display_data"
    }
   ],
   "source": [
    "sent_lengths = []\n",
    "for d in def_lst:\n",
    "    slen = min(len(d['ner']), 150)\n",
    "    sent_lengths.append(slen)\n",
    "plt.hist(sent_lengths, bins=15)\n",
    "plt.title('length of selected sentences with definiendum')\n",
    "plt.show()"
   ]
  },
  {
   "cell_type": "code",
   "execution_count": 5,
   "metadata": {},
   "outputs": [],
   "source": [
    "cfg['padseq'] = {'maxlen': 50 , 'padding': 'post', 'truncating': 'post'}\n",
    "cfg['n_tags'] = 2\n",
    "\n",
    "# shuffle def_lst\n",
    "random.shuffle(def_lst)\n",
    "\n",
    "cfg['train_test_split'] = 0.8\n",
    "\n",
    "train_def_lst = def_lst[:int(cfg['train_test_split']*len(def_lst))]\n",
    "test_def_lst = def_lst[int(cfg['train_test_split']*len(def_lst)):]\n",
    "\n",
    "def prep_data(dat, wind, cfg, *args):\n",
    "    '''\n",
    "   dat should be in the \"ner\" format\n",
    "    '''\n",
    "    if isinstance(dat, str):\n",
    "        dat_tok = word_tokenize(dat)\n",
    "        norm_words = [clean.normalize_text(d).strip() for d in dat_tok]\n",
    "        labels = [False for d in dat]\n",
    "    else:\n",
    "        norm_words = [clean.normalize_text(d[0][0]).strip() for d in dat]\n",
    "        labels = [d[1] != 'O' for d in dat]\n",
    "    ind_words = []\n",
    "    for w in norm_words:\n",
    "        try:\n",
    "            ind_words.append(wind.index(w))\n",
    "        except ValueError:\n",
    "            ind_words.append(0)\n",
    "    #ind_words = pad_sequences([ind_words], **cfg['padseq'])\n",
    "    #labels  = pad_sequences([labels], **cfg['padseq'])\n",
    "    #labels  = to_categorical(labels, num_classes=cfg['n_tags'])\n",
    "    return ind_words, labels\n",
    "\n",
    "train_data = [prep_data(d['ner'], wind, cfg) for d in train_def_lst]\n",
    "train_seq, train_lab = zip(*train_data)\n",
    "train_seq = pad_sequences(train_seq, **cfg['padseq'])\n",
    "train_lab = pad_sequences(train_lab, **cfg['padseq'])\n",
    "#train_lab = np.array([to_categorical(s, num_classes=cfg['n_tags']) for s in train_lab])\n",
    "\n",
    "test_data = [prep_data(d['ner'], wind, cfg) for d in test_def_lst]\n",
    "test_seq, test_lab = zip(*test_data)\n",
    "test_seq = pad_sequences(test_seq, **cfg['padseq'])\n",
    "test_lab = pad_sequences(test_lab, **cfg['padseq'])\n",
    "#test_lab = np.array([to_categorical(s, num_classes=cfg['n_tags']) for s in test_lab])"
   ]
  },
  {
   "cell_type": "markdown",
   "metadata": {},
   "source": [
    "### TODO\n",
    "* protect _inline_math_ from keras tokenizer, right now it is breaking it up\n",
    "* Search for a minimal stemmer that strips plural or adverbial suffices for example zero-sum games in zero-sum game or absolute continuity and absolute continuous"
   ]
  },
  {
   "cell_type": "code",
   "execution_count": 37,
   "metadata": {
    "jupyter": {
     "source_hidden": true
    }
   },
   "outputs": [],
   "source": [
    "class NerModel(tf.keras.Model):\n",
    "    def __init__(self, hidden_num, vocab_size, label_size, embedding_size):\n",
    "        super(NerModel, self).__init__()\n",
    "        self.hidden_num = hidden_num\n",
    "        self.vocab_size = vocab_size\n",
    "        self.label_size = label_size\n",
    "        \n",
    "        self.embedding = Embedding(vocab_size, embedding_size)\n",
    "        self.biLSTM = Bidirectional(LSTM(hidden_num, return_sequences=True))\n",
    "        self.dropout = tf.keras.layers.Dropout(0.2)\n",
    "        self.dense = Dense(label_size)\n",
    "        \n",
    "        self.transition_params = tf.Variable(tf.random.uniform(shape=(label_size, label_size)))\n",
    "        \n",
    "    def call(self, text, labels=None, training=None):\n",
    "        text_lens = tf.math.reduce_sum(tf.cast(tf.math.not_equal(text, 0), dtype=tf.int32), axis=-1)\n",
    "        inputs = self.embedding(text)\n",
    "        inputs = self.biLSTM(inputs)\n",
    "        inputs = self.dropout(inputs, training)\n",
    "        logits = self.dense(inputs)\n",
    "        \n",
    "        if labels is not None:\n",
    "            label_sequences = tf.convert_to_tensor(labels, dtype=tf.int32)\n",
    "            log_likelihood, self.transition_params = \\\n",
    "            tfa.text.crf_log_likelihood(logits, label_sequences, text_lens,\n",
    "                                        transition_params=self.transition_params)\n",
    "            return logits, text_lens, log_likelihood\n",
    "        else:\n",
    "            return logits, text_lens\n",
    "        \n",
    "#model.summary()"
   ]
  },
  {
   "cell_type": "code",
   "execution_count": 38,
   "metadata": {
    "collapsed": true,
    "jupyter": {
     "outputs_hidden": true,
     "source_hidden": true
    }
   },
   "outputs": [
    {
     "name": "stdout",
     "output_type": "stream",
     "text": [
      "WARNING:tensorflow:From /home/luis/.local/lib/python3.8/site-packages/tensorflow/python/ops/array_grad.py:644: _EagerTensorBase.cpu (from tensorflow.python.framework.ops) is deprecated and will be removed in a future version.\n",
      "Instructions for updating:\n",
      "Use tf.identity instead.\n",
      "epoch 1, step 20, loss 14.9342 , accuracy 0.8911\n",
      "model saved\n",
      "epoch 3, step 40, loss 7.0272 , accuracy 0.9495\n",
      "model saved\n",
      "epoch 5, step 60, loss 5.6116 , accuracy 0.9628\n",
      "model saved\n",
      "epoch 7, step 80, loss 4.2118 , accuracy 0.9717\n",
      "model saved\n",
      "epoch 9, step 100, loss 4.0879 , accuracy 0.9750\n",
      "model saved\n",
      "epoch 10, step 120, loss 4.2285 , accuracy 0.9665\n",
      "epoch 12, step 140, loss 3.8653 , accuracy 0.9675\n",
      "epoch 14, step 160, loss 3.1836 , accuracy 0.9706\n",
      "epoch 16, step 180, loss 3.0588 , accuracy 0.9720\n",
      "epoch 18, step 200, loss 2.4088 , accuracy 0.9749\n",
      "epoch 19, step 220, loss 2.1086 , accuracy 0.9771\n",
      "model saved\n"
     ]
    }
   ],
   "source": [
    "# Train NER model\n",
    "cfg['learning_rate'] = 0.1\n",
    "model = NerModel(64, len(word_tok.word_index)+1, 4, 100)\n",
    "optimizer = tf.keras.optimizers.Adam()\n",
    "def train_one_step(text_batch, labels_batch):\n",
    "    with tf.GradientTape() as tape:\n",
    "        logits, text_lens, log_likelihood = model(text_batch, labels_batch, training=True)\n",
    "        loss = - tf.reduce_mean(log_likelihood)\n",
    "    gradients = tape.gradient(loss, model.trainable_variables)\n",
    "    optimizer.apply_gradients(zip(gradients, model.trainable_variables))\n",
    "    return loss, logits, text_lens\n",
    "\n",
    "def get_acc_one_step(logits, text_lens, labels_batch):\n",
    "    paths = []\n",
    "    accuracy = 0\n",
    "    for logit, text_len, labels in zip(logits, text_lens, labels_batch):\n",
    "        viterbi_path, _ = tfa.text.viterbi_decode(logit[:text_len], model.transition_params)\n",
    "        paths.append(viterbi_path)\n",
    "        correct_prediction = tf.equal(\n",
    "            tf.convert_to_tensor(tf.keras.preprocessing.sequence.pad_sequences([viterbi_path],\n",
    "                                                            padding='post'), dtype=tf.int32),\n",
    "            tf.convert_to_tensor(tf.keras.preprocessing.sequence.pad_sequences([labels[:text_len]],\n",
    "                                                            padding='post'), dtype=tf.int32)\n",
    "        )\n",
    "        accuracy = accuracy + tf.reduce_mean(tf.cast(correct_prediction, tf.float32))\n",
    "        # print(tf.reduce_mean(tf.cast(correct_prediction, tf.float32)))\n",
    "    accuracy = accuracy / len(paths)\n",
    "    return accuracy\n",
    "\n",
    "best_acc = 0\n",
    "step = 0\n",
    "epochs = 20\n",
    "bs = 1000\n",
    "for epoch in range(epochs):\n",
    "    for (text_batch, labels_batch) in \\\n",
    "    [[train_seq2[bs*i:bs*(i+1)], train_lab2[bs*i:bs*(i+1)]]\\\n",
    "     for i in range(math.ceil(len(train_seq2)/bs))]:\n",
    "        step = step + 1\n",
    "        loss, logits, text_lens = train_one_step(text_batch, labels_batch)\n",
    "        if step % 20 == 0:\n",
    "            accuracy = get_acc_one_step(logits, text_lens, labels_batch)\n",
    "            print('epoch %d, step %d, loss %.4f , accuracy %.4f' % (epoch, step, loss, accuracy))\n",
    "            if accuracy > best_acc:\n",
    "                best_acc = accuracy\n",
    "                #ckpt_manager.save()\n",
    "                print(\"model saved\")"
   ]
  },
  {
   "cell_type": "code",
   "execution_count": 39,
   "metadata": {
    "collapsed": true,
    "jupyter": {
     "outputs_hidden": true,
     "source_hidden": true
    }
   },
   "outputs": [
    {
     "name": "stdout",
     "output_type": "stream",
     "text": [
      "Model: \"ner_model\"\n",
      "_________________________________________________________________\n",
      "Layer (type)                 Output Shape              Param #   \n",
      "=================================================================\n",
      "embedding (Embedding)        multiple                  4208400   \n",
      "_________________________________________________________________\n",
      "bidirectional (Bidirectional multiple                  84480     \n",
      "_________________________________________________________________\n",
      "dropout (Dropout)            multiple                  0         \n",
      "_________________________________________________________________\n",
      "dense (Dense)                multiple                  516       \n",
      "=================================================================\n",
      "Total params: 4,293,412\n",
      "Trainable params: 4,293,412\n",
      "Non-trainable params: 0\n",
      "_________________________________________________________________\n"
     ]
    }
   ],
   "source": [
    "model.summary()"
   ]
  },
  {
   "cell_type": "code",
   "execution_count": 8,
   "metadata": {
    "collapsed": true,
    "jupyter": {
     "outputs_hidden": true,
     "source_hidden": true
    }
   },
   "outputs": [
    {
     "ename": "NameError",
     "evalue": "name 'word_tok' is not defined",
     "output_type": "error",
     "traceback": [
      "\u001b[0;31m---------------------------------------------------------------------------\u001b[0m",
      "\u001b[0;31mNameError\u001b[0m                                 Traceback (most recent call last)",
      "\u001b[0;32m<ipython-input-8-3790271a7993>\u001b[0m in \u001b[0;36m<module>\u001b[0;34m\u001b[0m\n\u001b[1;32m      1\u001b[0m \u001b[0msample_str\u001b[0m \u001b[0;34m=\u001b[0m \u001b[0;34m'A banach space is defined as named entity recognition'\u001b[0m\u001b[0;34m\u001b[0m\u001b[0;34m\u001b[0m\u001b[0m\n\u001b[0;32m----> 2\u001b[0;31m \u001b[0msample_tok\u001b[0m \u001b[0;34m=\u001b[0m \u001b[0mword_tok\u001b[0m\u001b[0;34m.\u001b[0m\u001b[0mtexts_to_sequences\u001b[0m\u001b[0;34m(\u001b[0m\u001b[0;34m[\u001b[0m\u001b[0msample_str\u001b[0m\u001b[0;34m]\u001b[0m\u001b[0;34m)\u001b[0m\u001b[0;34m\u001b[0m\u001b[0;34m\u001b[0m\u001b[0m\n\u001b[0m\u001b[1;32m      3\u001b[0m \u001b[0msample_pad\u001b[0m \u001b[0;34m=\u001b[0m \u001b[0mpad_sequences\u001b[0m\u001b[0;34m(\u001b[0m\u001b[0msample_tok\u001b[0m\u001b[0;34m,\u001b[0m \u001b[0mmaxlen\u001b[0m\u001b[0;34m=\u001b[0m\u001b[0mcfg\u001b[0m\u001b[0;34m[\u001b[0m\u001b[0;34m'maxlen'\u001b[0m\u001b[0;34m]\u001b[0m\u001b[0;34m,\u001b[0m \u001b[0mpadding\u001b[0m\u001b[0;34m=\u001b[0m\u001b[0mcfg\u001b[0m\u001b[0;34m[\u001b[0m\u001b[0;34m'padding'\u001b[0m\u001b[0;34m]\u001b[0m\u001b[0;34m)\u001b[0m\u001b[0;34m\u001b[0m\u001b[0;34m\u001b[0m\u001b[0m\n\u001b[1;32m      4\u001b[0m \u001b[0mpred\u001b[0m \u001b[0;34m=\u001b[0m \u001b[0;34m[\u001b[0m\u001b[0mmodel\u001b[0m\u001b[0;34m.\u001b[0m\u001b[0mpredict\u001b[0m\u001b[0;34m(\u001b[0m\u001b[0mtext_batch\u001b[0m\u001b[0;34m[\u001b[0m\u001b[0mi\u001b[0m\u001b[0;34m]\u001b[0m\u001b[0;34m)\u001b[0m\u001b[0;34m[\u001b[0m\u001b[0;36m1\u001b[0m\u001b[0;34m]\u001b[0m \u001b[0;32mfor\u001b[0m \u001b[0mi\u001b[0m \u001b[0;32min\u001b[0m \u001b[0mrange\u001b[0m\u001b[0;34m(\u001b[0m\u001b[0mlen\u001b[0m\u001b[0;34m(\u001b[0m\u001b[0mtext_batch\u001b[0m\u001b[0;34m)\u001b[0m\u001b[0;34m)\u001b[0m\u001b[0;34m]\u001b[0m\u001b[0;34m\u001b[0m\u001b[0;34m\u001b[0m\u001b[0m\n",
      "\u001b[0;31mNameError\u001b[0m: name 'word_tok' is not defined"
     ]
    }
   ],
   "source": [
    "sample_str = 'A banach space is defined as named entity recognition'\n",
    "sample_tok = word_tok.texts_to_sequences([sample_str])\n",
    "sample_pad = pad_sequences(sample_tok, maxlen=cfg['maxlen'], padding=cfg['padding'])\n",
    "pred = [model.predict(text_batch[i])[1] for i in range(len(text_batch))]"
   ]
  },
  {
   "cell_type": "code",
   "execution_count": 6,
   "metadata": {},
   "outputs": [],
   "source": [
    "cfg.update({'input_dim': len(wind),\n",
    "      'output_dim': 200,\n",
    "     'input_length': cfg['padseq']['maxlen'],\n",
    "     'n_tags': 2,\n",
    "     'batch_size': 1000,\n",
    "      'adam': {'lr': 0.05, 'beta_1': 0.9, 'beta_2': 0.999}})"
   ]
  },
  {
   "cell_type": "code",
   "execution_count": 7,
   "metadata": {},
   "outputs": [
    {
     "name": "stdout",
     "output_type": "stream",
     "text": [
      "WARNING:tensorflow:Layer lstm will not use cuDNN kernel since it doesn't meet the cuDNN kernel criteria. It will use generic GPU kernel as fallback when running on GPU\n",
      "WARNING:tensorflow:Layer lstm will not use cuDNN kernel since it doesn't meet the cuDNN kernel criteria. It will use generic GPU kernel as fallback when running on GPU\n",
      "WARNING:tensorflow:Layer lstm will not use cuDNN kernel since it doesn't meet the cuDNN kernel criteria. It will use generic GPU kernel as fallback when running on GPU\n",
      "WARNING:tensorflow:Layer lstm_1 will not use cuDNN kernel since it doesn't meet the cuDNN kernel criteria. It will use generic GPU kernel as fallback when running on GPU\n",
      "Model: \"sequential\"\n",
      "_________________________________________________________________\n",
      "Layer (type)                 Output Shape              Param #   \n",
      "=================================================================\n",
      "embedding (Embedding)        (None, 50, 200)           41688600  \n",
      "_________________________________________________________________\n",
      "bidirectional (Bidirectional (None, 50, 400)           641600    \n",
      "_________________________________________________________________\n",
      "lstm_1 (LSTM)                (None, 50, 200)           480800    \n",
      "_________________________________________________________________\n",
      "time_distributed (TimeDistri (None, 50, 1)             201       \n",
      "=================================================================\n",
      "Total params: 42,811,201\n",
      "Trainable params: 1,122,601\n",
      "Non-trainable params: 41,688,600\n",
      "_________________________________________________________________\n"
     ]
    }
   ],
   "source": [
    "# DEFINE MODEL WITH biLSTM AND TRAIN FUNCTION    \n",
    "def get_bilstm_lstm_model(cfg_dict):\n",
    "    model = Sequential()\n",
    "    # Add Embedding layer\n",
    "    model.add(Embedding(cfg_dict['input_dim'], \n",
    "                        output_dim=cfg_dict['output_dim'],\n",
    "                        input_length=cfg_dict['input_length'],\n",
    "                       weights = [embed_matrix],\n",
    "                       trainable = False))\n",
    "    #model.add(Embedding(cfg_dict['input_dim'], \n",
    "    #                    output_dim=cfg_dict['output_dim'],\n",
    "    #                    input_length=cfg_dict['input_length']))\n",
    "    # Add bidirectional LSTM\n",
    "    model.add(Bidirectional(LSTM(units=cfg_dict['output_dim'],\n",
    "                                 return_sequences=True,\n",
    "                                 dropout=0.2, \n",
    "                                 recurrent_dropout=0.2), merge_mode = 'concat'))\n",
    "    # Add LSTM\n",
    "    model.add(LSTM(units=cfg_dict['output_dim'],\n",
    "                   return_sequences=True, dropout=0.2, recurrent_dropout=0.2,\n",
    "                   recurrent_initializer='glorot_uniform'))\n",
    "    # Add timeDistributed Layer\n",
    "    model.add(TimeDistributed(Dense(1, activation=\"sigmoid\")))\n",
    "    #Optimiser \n",
    "    adam = Adam(**cfg['adam'])\n",
    "    # Compile model\n",
    "    #bce = tf.keras.losses.BinaryCrossentropy(sample_weight=[0.3, 0.7])\n",
    "    model.compile(loss = 'binary_crossentropy',\n",
    "                  optimizer=adam, metrics=['accuracy'])\n",
    "    model.summary()\n",
    "    \n",
    "    return model\n",
    "\n",
    "def train_model(X, y, model, epochs=10):\n",
    "    # fit model for one epoch on this sequence\n",
    "    res = model.fit(X, y, verbose=0, epochs=epochs,\n",
    "                    batch_size=cfg['batch_size'],\n",
    "                    validation_data=(test_seq, test_lab),\n",
    "                   callbacks=[TqdmCallback(verbose=1)])\n",
    "                   \n",
    "    return res\n",
    "model_bilstm_lstm = get_bilstm_lstm_model(cfg)\n",
    "#plot_model(model_bilstm_lstm)"
   ]
  },
  {
   "cell_type": "code",
   "execution_count": 71,
   "metadata": {},
   "outputs": [
    {
     "data": {
      "application/vnd.jupyter.widget-view+json": {
       "model_id": "ebb94af9b5ea42c7a7b62a9cbba21a28",
       "version_major": 2,
       "version_minor": 0
      },
      "text/plain": [
       "HBox(children=(FloatProgress(value=1.0, bar_style='info', layout=Layout(width='20px'), max=1.0), HTML(value=''…"
      ]
     },
     "metadata": {},
     "output_type": "display_data"
    },
    {
     "data": {
      "application/vnd.jupyter.widget-view+json": {
       "model_id": "5ffc213672d64416a988dbd8ae6540b1",
       "version_major": 2,
       "version_minor": 0
      },
      "text/plain": [
       "HBox(children=(FloatProgress(value=1.0, bar_style='info', layout=Layout(width='20px'), max=1.0), HTML(value=''…"
      ]
     },
     "metadata": {},
     "output_type": "display_data"
    },
    {
     "name": "stdout",
     "output_type": "stream",
     "text": [
      "\n"
     ]
    }
   ],
   "source": [
    "history = train_model(train_seq, train_lab, model_bilstm_lstm, epochs=20)"
   ]
  },
  {
   "cell_type": "code",
   "execution_count": 72,
   "metadata": {},
   "outputs": [
    {
     "data": {
      "text/plain": [
       "<matplotlib.legend.Legend at 0x7f66301786d0>"
      ]
     },
     "execution_count": 72,
     "metadata": {},
     "output_type": "execute_result"
    },
    {
     "data": {
      "image/png": "[encoded data removed]",
      "text/plain": [
       "<Figure size 864x432 with 2 Axes>"
      ]
     },
     "metadata": {
      "needs_background": "light"
     },
     "output_type": "display_data"
    }
   ],
   "source": [
    "r = history\n",
    "fig = plt.figure(figsize=(12, 6))\n",
    "ax1 = plt.subplot(121)\n",
    "ax1.plot(r.history['loss'], label='loss')\n",
    "ax1.plot(r.history['val_loss'], label='val_loss')\n",
    "ax1.legend()\n",
    "ax2 = plt.subplot(122)\n",
    "ax2.plot(r.history['accuracy'], label='acc')\n",
    "ax2.plot(r.history['val_accuracy'], label='val_acc')\n",
    "ax2.legend()"
   ]
  },
  {
   "cell_type": "code",
   "execution_count": 73,
   "metadata": {
    "lines_to_next_cell": 2
   },
   "outputs": [
    {
     "name": "stdout",
     "output_type": "stream",
     "text": [
      "_display_math_ [0.]\n",
      "the [0.]\n",
      "ursell [1.]\n",
      "functions [1.]\n",
      "of [0.]\n",
      "a [0.]\n",
      "single [0.]\n",
      "random [0.]\n",
      "variable [0.]\n",
      "x [0.]\n",
      "are [0.]\n",
      "obtained [0.]\n",
      "from [0.]\n",
      "these [0.]\n",
      "by [0.]\n",
      "setting [0.]\n",
      "_inline_math_ [0.]\n",
      "<UNK> [0.]\n",
      "_inline_math_ [0.]\n"
     ]
    }
   ],
   "source": [
    "#sample_str = 'a banach space is defined as complete vector space of some kind .'\n",
    "#sample_str = 'We define a shushu space as a complete vector space of some kind .'\n",
    "sample_str = '_display_math_ The Ursell functions of a single random variable X are obtained from these by setting _inline_math_..._inline_math_ .'\n",
    "sample_pad, _ = prep_data(sample_str, wind, cfg, 'no_tags')\n",
    "sample_pad = pad_sequences([sample_pad], **cfg['padseq'])\n",
    "pred = model_bilstm_lstm.predict(sample_pad)\n",
    "#np.argmax(pred.squeeze(), axis=1)\n",
    "for i, w in enumerate(sample_pad[0]):\n",
    "    if wind[w] == '.':\n",
    "        break\n",
    "    print(wind[w], np.round(pred)[0][i])\n",
    "    if wind[w] == '.':\n",
    "        break"
   ]
  },
  {
   "cell_type": "code",
   "execution_count": 74,
   "metadata": {},
   "outputs": [],
   "source": [
    "preds = model_bilstm_lstm.predict(test_seq)"
   ]
  },
  {
   "cell_type": "code",
   "execution_count": 75,
   "metadata": {},
   "outputs": [
    {
     "name": "stdout",
     "output_type": "stream",
     "text": [
      "ChunkParse score:\n",
      "    IOB Accuracy:  86.3%%\n",
      "    Precision:     56.4%%\n",
      "    Recall:        53.8%%\n",
      "    F-Measure:     55.1%%\n"
     ]
    }
   ],
   "source": [
    "def tf_bio_tagger(tf_pred, tag_def='DFNDUM', tag_o = 'O'):\n",
    "    '''\n",
    "    Convert a T/F (binary) Sequence into a BIO tag sequence\n",
    "    [True, False, False] -> [B-DFNDUM, O, O]\n",
    "    '''\n",
    "    begin_tag = 'B-' + tag_def\n",
    "    inside_tag = 'I-' + tag_def\n",
    "    out_tag = tag_o\n",
    "    return_tags = []\n",
    "    for ind, x in enumerate(tf_pred):\n",
    "        if x:\n",
    "            if ind > 0:\n",
    "                ret = inside_tag if tf_pred[ind - 1] else begin_tag\n",
    "                return_tags.append(ret)\n",
    "            else:\n",
    "                return_tags.append(begin_tag)\n",
    "        else:\n",
    "            return_tags.append(out_tag)\n",
    "    return return_tags\n",
    "        \n",
    "def switch_to_pred(test_def_lst, preds, cutoff = 0.5):\n",
    "    #if len(preds.shape) == 2:\n",
    "        #case just one prediction (50, 1) \n",
    "    #    preds = [preds]\n",
    "    out_lst = []\n",
    "    for k, pred in enumerate(preds):\n",
    "        tf_pred = (pred > cutoff)\n",
    "        test_def = test_def_lst[k]['ner']\n",
    "        bio_pred = tf_bio_tagger(tf_pred)\n",
    "        switched_def_lst = []\n",
    "        for i in range(len(bio_pred)):    #rate(bio_pred):\n",
    "            try:\n",
    "                # test_def[i] example: (('Fock', 'NNP'), 'B-DFNDUM')\n",
    "                tok_pos = test_def[i][0]\n",
    "                switched_def_lst.append((tok_pos, bio_pred[i]))\n",
    "            except IndexError:\n",
    "                break\n",
    "        out_lst.append(switched_def_lst)\n",
    "    return out_lst\n",
    " \n",
    "test_pred_lst = switch_to_pred(test_def_lst, preds)\n",
    "unpack = lambda l: [(tok, pos, ner) for ((tok, pos), ner) in l]\n",
    "Tree_lst_gold = [conlltags2tree(unpack(t['ner'])) for t in test_def_lst]\n",
    "Tree_lst_pred = [conlltags2tree(unpack(t)) for t in test_pred_lst]\n",
    "\n",
    "chunkscore = ChunkScore()\n",
    "for i in range(len(Tree_lst_gold)):\n",
    "    chunkscore.score(Tree_lst_gold[i], Tree_lst_pred[i])\n",
    "print(chunkscore)"
   ]
  },
  {
   "cell_type": "code",
   "execution_count": null,
   "metadata": {},
   "outputs": [],
   "source": [
    "# Compute the Loss independently\n",
    "bce = tf.keras.losses.BinaryCrossentropy()\n",
    "bce(test_lab, np.squeeze(preds)).numpy()"
   ]
  },
  {
   "cell_type": "code",
   "execution_count": 19,
   "metadata": {},
   "outputs": [
    {
     "data": {
      "text/plain": [
       "{'title': 'Klingen Eisenstein series',\n",
       " 'section': '',\n",
       " 'defin': 'The Klingen Eisenstein series is  _display_math_  It is a Siegel modular form of weight k and degree g.',\n",
       " 'ner': [(('The', 'DT'), 'O'),\n",
       "  (('Klingen', 'NNP'), 'B-DFNDUM'),\n",
       "  (('Eisenstein', 'NNP'), 'I-DFNDUM'),\n",
       "  (('series', 'NN'), 'I-DFNDUM'),\n",
       "  (('is', 'VBZ'), 'O'),\n",
       "  (('_display_math_', 'JJ'), 'O'),\n",
       "  (('It', 'PRP'), 'O'),\n",
       "  (('is', 'VBZ'), 'O'),\n",
       "  (('a', 'DT'), 'O'),\n",
       "  (('Siegel', 'NNP'), 'O'),\n",
       "  (('modular', 'JJ'), 'O'),\n",
       "  (('form', 'NN'), 'O'),\n",
       "  (('of', 'IN'), 'O'),\n",
       "  (('weight', 'NN'), 'O'),\n",
       "  (('k', 'NN'), 'O'),\n",
       "  (('and', 'CC'), 'O'),\n",
       "  (('degree', 'JJ'), 'O'),\n",
       "  (('g', 'NN'), 'O'),\n",
       "  (('.', '.'), 'O')]}"
      ]
     },
     "execution_count": 19,
     "metadata": {},
     "output_type": "execute_result"
    }
   ],
   "source": [
    "test_def_lst[0]"
   ]
  },
  {
   "cell_type": "code",
   "execution_count": 70,
   "metadata": {},
   "outputs": [
    {
     "data": {
      "text/plain": [
       "-1.607125580773316"
      ]
     },
     "execution_count": 70,
     "metadata": {},
     "output_type": "execute_result"
    }
   ],
   "source": [
    "#1/5404.0*(np.sum(test_lab*np.log(np.squeeze(preds))) + np.sum((1-test_lab)*np.log(np.squeeze(1-preds))))"
   ]
  },
  {
   "cell_type": "markdown",
   "metadata": {},
   "source": [
    "# get_bilstm_lstm_model Training history\n",
    "## First working attempt:\n",
    "Epochs: 70 [01:00<00:00, 3.00s/epoch, loss=0.0513, accuracy=0.98, val_loss=0.0636, val_accuracy=0.975]\n",
    "\n",
    "commit e4c41f0\n"
   ]
  },
  {
   "cell_type": "code",
   "execution_count": 47,
   "metadata": {},
   "outputs": [
    {
     "data": {
      "image/png": "[encoded data removed]",
      "text/plain": [
       "<Figure size 432x288 with 1 Axes>"
      ]
     },
     "metadata": {
      "needs_background": "light"
     },
     "output_type": "display_data"
    },
    {
     "data": {
      "image/png": "[encoded data removed]",
      "text/plain": [
       "<Figure size 432x288 with 1 Axes>"
      ]
     },
     "metadata": {
      "needs_background": "light"
     },
     "output_type": "display_data"
    }
   ],
   "source": [
    "def plot_graphs(history, string, start_at=0):\n",
    "    plt.plot(history[string][start_at:])\n",
    "    plt.plot(history['val_'+string][start_at:])\n",
    "    plt.xlabel('Epochs')\n",
    "    plt.ylabel(string[start_at:])\n",
    "    plt.legend([string, 'val_'+string])\n",
    "    plt.show()\n",
    "    \n",
    "plot_graphs(history, \"accuracy\", start_at=400)\n",
    "plot_graphs(history, \"loss\", start_at=400)"
   ]
  }
 ],
 "metadata": {
  "jupytext": {
   "formats": "ipynb,py:light"
  },
  "kernelspec": {
   "display_name": "Python 3",
   "language": "python",
   "name": "python3"
  },
  "language_info": {
   "codemirror_mode": {
    "name": "ipython",
    "version": 3
   },
   "file_extension": ".py",
   "mimetype": "text/x-python",
   "name": "python",
   "nbconvert_exporter": "python",
   "pygments_lexer": "ipython3",
   "version": "3.8.5"
  }
 },
 "nbformat": 4,
 "nbformat_minor": 4
}
