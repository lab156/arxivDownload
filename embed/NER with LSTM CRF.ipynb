{
 "cells": [
  {
   "cell_type": "code",
   "execution_count": 1,
   "metadata": {
    "tags": [
     "NER",
     "Tensorflow2.0"
    ]
   },
   "outputs": [],
   "source": [
    "from tensorflow.keras.preprocessing.text import Tokenizer\n",
    "from tensorflow.keras.preprocessing.sequence import pad_sequences\n",
    "from tensorflow.keras.layers import Embedding, LSTM, Dense, Bidirectional,\\\n",
    "                      GRU, Dropout,GlobalAveragePooling1D, Conv1D, TimeDistributed,\\\n",
    "                      Input, Concatenate, GlobalMaxPooling1D\n",
    "from tensorflow.keras import Sequential, Model, Input\n",
    "from tensorflow.keras.utils import plot_model, to_categorical\n",
    "from tensorflow.keras.optimizers import Adam\n",
    "from tqdm.keras import TqdmCallback\n",
    "import tensorflow as tf\n",
    "import tensorflow_addons as tfa\n",
    "import numpy as np\n",
    "import re\n",
    "from nltk import sent_tokenize, word_tokenize, pos_tag, ne_chunk\n",
    "import nltk.data\n",
    "from nltk.tokenize.punkt import PunktSentenceTokenizer, PunktTrainer\n",
    "from nltk.chunk.util import ChunkScore\n",
    "import pickle\n",
    "import math\n",
    "import string\n",
    "#import collections.Iterable as Iterable\n",
    "\n",
    "import sklearn.metrics as metrics\n",
    "import matplotlib.pyplot as plt\n",
    "\n",
    "from nltk.chunk import conlltags2tree, tree2conlltags\n",
    "\n",
    "import gzip\n",
    "from lxml import etree\n",
    "from tqdm import tqdm\n",
    "import random\n",
    "from collections import Counter\n",
    "\n",
    "%load_ext autoreload\n",
    "%autoreload 2\n",
    "import os, inspect, sys\n",
    "currentdir = os.path.dirname(os.path.abspath(inspect.getfile(inspect.currentframe())))\n",
    "parentdir = os.path.dirname(currentdir)\n",
    "sys.path.insert(0,parentdir) \n",
    "from unwiki import unwiki\n",
    "import ner\n",
    "from embed_utils import open_w2v\n",
    "import clean_and_token_text as clean"
   ]
  },
  {
   "cell_type": "code",
   "execution_count": 2,
   "metadata": {},
   "outputs": [
    {
     "name": "stdout",
     "output_type": "stream",
     "text": [
      "{'|c|', 'g.i', 'pt', 'ie', 'p.m', 'nsb', 'x+2', 'viz', 'd1', 'pdi', 'crinem', 'k.c', 'ed', 'b.k.s', 'p.h.d', 'qom', 'cf', 'm4', 's^2', 'c6an', 'u.n', 'i.i.d', 'gta', 'b-1', 'ph.d', 'n.b', 'j.d', 'az', 'jie', 'rim', 'p.12', 'al', 'j.c', 'q.v', 'jr', 'ltd', 'dha', 'm.n', 'tov', 'hrc', 'u.s', 'i.w.w', 'etc', 'resp', 'a.s', '15b', 'z-1', 'acb', 'rum', 'c.s', 'exhibition', 'fins', 'happiness', 'o.s.m', 'fn', 'rv', 'aff', 'spacewalks', 'ginebra', 'a.i', \"'if\", 'nfa', 'oct', 's.p.r.l', 'c.w', 'eng', 'j.m', 'gov', 'r/m', 'u.s.c', 'vs', 'sow', 'a.k.a', 'e.g', 'ts2', 'm-m', 'ifc', 's.t', 'soc', \"'up\", 's1', 'pl', 'subpopulation', 'juniper', '1949.03631mm', 'p.o.a', 'i.d', 'anomalies', 'fig', 'orb', 'f.h', 's.r', 'r.a', 'sas', 'j.w', 'w.b', 'technician', 'exe', 's.c', 'ye', 'np5', '2a', 'i.e', 'a.d'}\n",
      "Found 45 alphanum POS tags in the data, the most common are: [('NN', 83732), ('IN', 53527), ('DT', 49629), ('JJ', 41431), ('NNP', 30113), ('NNS', 25080), (',', 21585), ('VBZ', 17595), ('CC', 13971), ('.', 13783)]\n"
     ]
    }
   ],
   "source": [
    "#with open('/media/hd1/wikipedia/wiki_definitions_improved.txt', 'r') as wiki_f:\n",
    "#    wiki = wiki_f.readlines()\n",
    "\n",
    "cfg = {}\n",
    "\n",
    "wiki = []\n",
    "with gzip.open('/media/hd1/wikipedia/wiki_definitions_improved.xml.gz', 'r') as xml_fobj:\n",
    "    def_xml = etree.parse(xml_fobj)\n",
    "    for art in def_xml.findall('definition'):\n",
    "        data = (art.find('.//dfndum').text, '', art.find('.//stmnt').text)\n",
    "        wiki.append(data)\n",
    "\n",
    "# Get data and train the Sentence tokenizer\n",
    "# Uses a standard algorithm (Kiss-Strunk) for unsupervised sentence boundary detection\n",
    "text = ''\n",
    "for i in range(3550):\n",
    "    text += wiki[i][2]\n",
    "\n",
    "trainer = PunktTrainer()\n",
    "trainer.INCLUDE_ALL_COLLOCS = True\n",
    "trainer.train(text)\n",
    "sent_tok = PunktSentenceTokenizer(trainer.get_params())\n",
    "print(sent_tok._params.abbrev_types)\n",
    "\n",
    "def_lst = ner.bio_tag.put_pos_ner_tags(wiki, sent_tok)\n",
    "\n",
    "# Finding the POS set \n",
    "pos_cnt = Counter()\n",
    "for Def in def_lst:\n",
    "    pos_cnt.update([el[0][1] for el in Def['ner']])\n",
    "print(\"Found {} alphanum POS tags in the data, the most common are: {}\"\\\n",
    "      .format(len(pos_cnt), pos_cnt.most_common()[:10]))\n",
    "pos_lst = list(pos_cnt)\n",
    "pos_ind_dict = {pos: k for k, pos in enumerate(pos_lst)}"
   ]
  },
  {
   "cell_type": "code",
   "execution_count": 3,
   "metadata": {},
   "outputs": [
    {
     "name": "stdout",
     "output_type": "stream",
     "text": [
      "Vocabulary size: 208442 and dimension of embed: 200\n"
     ]
    }
   ],
   "source": [
    "with open_w2v('/media/hd1/embeddings/model4ner_19-33_02-01/vectors.bin') as embed_dict:\n",
    "    wind = ['<UNK>',] + list(embed_dict.keys())\n",
    "    cfg['emb_nvocab'] = len(wind) \n",
    "    embed_matrix = np.zeros((cfg['emb_nvocab'], 200))\n",
    "    for word, vec in embed_dict.items():\n",
    "        #vect = embed_dict.get(word)\n",
    "        ind = wind.index(word)\n",
    "            #vect = vect/np.linalg.norm(vect)\n",
    "        embed_matrix[ind] = vec\n",
    "#print(\"Coverage of embed is: {}\".format(coverage_cnt/len(embed_dict)))"
   ]
  },
  {
   "cell_type": "code",
   "execution_count": 4,
   "metadata": {},
   "outputs": [
    {
     "data": {
      "image/png": "[encoded data removed]",
      "text/plain": [
       "<Figure size 432x288 with 1 Axes>"
      ]
     },
     "metadata": {
      "needs_background": "light"
     },
     "output_type": "display_data"
    }
   ],
   "source": [
    "sent_lengths = []\n",
    "for d in def_lst:\n",
    "    slen = min(len(d['ner']), 150)\n",
    "    sent_lengths.append(slen)\n",
    "plt.hist(sent_lengths, bins=15)\n",
    "plt.title('length of selected sentences with definiendum')\n",
    "plt.show()"
   ]
  },
  {
   "cell_type": "code",
   "execution_count": 5,
   "metadata": {},
   "outputs": [],
   "source": [
    "cfg['padseq'] = {'maxlen': 50 , 'padding': 'post', 'truncating': 'post'}\n",
    "cfg['n_tags'] = 2\n",
    "\n",
    "# shuffle def_lst\n",
    "random.shuffle(def_lst)\n",
    "\n",
    "cfg['train_test_split'] = 0.8\n",
    "\n",
    "train_def_lst = def_lst[:int(cfg['train_test_split']*len(def_lst))]\n",
    "test_def_lst = def_lst[int(cfg['train_test_split']*len(def_lst)):]\n",
    "\n",
    "def prep_data(dat, wind, cfg, *args):\n",
    "    '''\n",
    "   dat should be in the \"ner\" format\n",
    "    '''\n",
    "    if isinstance(dat, str):\n",
    "        dat_tok = word_tokenize(dat)\n",
    "        norm_words = [clean.normalize_text(d).strip() for d in dat_tok]\n",
    "        labels = [False for d in dat]\n",
    "    else:\n",
    "        norm_words = [clean.normalize_text(d[0][0]).strip() for d in dat]\n",
    "        labels = [d[1] != 'O' for d in dat]\n",
    "    ind_words = []\n",
    "    for w in norm_words:\n",
    "        try:\n",
    "            ind_words.append(wind.index(w))\n",
    "        except ValueError:\n",
    "            ind_words.append(0)\n",
    "    return ind_words, labels\n",
    "\n",
    "def prep_pos(dat, pos_ind_dict):\n",
    "    '''\n",
    "    dat is in the format:\n",
    "    [(('In', 'IN'), 'O'),\n",
    "     (('Southern', 'NNP'), 'O'),\n",
    "     (('Africa', 'NNP'), 'O'),\n",
    "     ((',', ','), 'O'),\n",
    "     (('the', 'DT'), 'O'),\n",
    "     (('word', 'NN'), 'O')]\n",
    "    '''\n",
    "    out_lst = []\n",
    "    for d in dat:\n",
    "        out_lst.append(pos_ind_dict[d[0][1]])\n",
    "    return out_lst\n",
    "\n",
    "#binary_fun_lst = [\n",
    "#    lambda w: word[0] in string.ascii_uppercase,  # Capitalized\n",
    "#]\n",
    "def binary_features(dat):\n",
    "    out_lst = []\n",
    "    for d in dat:\n",
    "        word =d[0][0]\n",
    "        capitalized = float(word[0] in string.ascii_uppercase)\n",
    "        contains_dash = float('-' in word)\n",
    "        \n",
    "        out_lst.append((capitalized, contains_dash))\n",
    "    return out_lst\n",
    "    \n",
    "\n",
    "# Create Train data\n",
    "train_data = [prep_data(d['ner'], wind, cfg) for d in train_def_lst]\n",
    "train_seq, train_lab = zip(*train_data)\n",
    "train_pos_seq = [prep_pos(d['ner'], pos_ind_dict) for d in train_def_lst]\n",
    "train_bin_seq = [binary_features(d['ner']) for d in train_def_lst]\n",
    "cfg['nbin_feats'] = len(train_bin_seq[0][0])\n",
    "# Pad it\n",
    "train_seq = pad_sequences(train_seq, **cfg['padseq'])\n",
    "train_pos_seq = pad_sequences(train_pos_seq, **cfg['padseq'])\n",
    "train_bin_seq = pad_sequences(train_bin_seq, **cfg['padseq'],\n",
    "                              value = cfg['nbin_feats']*[0.0],\n",
    "                             dtype='float32')\n",
    "train_lab = pad_sequences(train_lab, **cfg['padseq'])\n",
    "#train_lab = np.array([to_categorical(s, num_classes=cfg['n_tags']) for s in train_lab])\n",
    "\n",
    "# Create Test data\n",
    "test_data = [prep_data(d['ner'], wind, cfg) for d in test_def_lst]\n",
    "test_seq, test_lab = zip(*test_data)\n",
    "test_pos_seq = [prep_pos(d['ner'], pos_ind_dict) for d in test_def_lst]\n",
    "test_bin_seq = [binary_features(d['ner']) for d in test_def_lst]\n",
    "# Pad it\n",
    "test_seq = pad_sequences(test_seq, **cfg['padseq'])\n",
    "test_pos_seq = pad_sequences(test_pos_seq, **cfg['padseq'])\n",
    "test_bin_seq = pad_sequences(test_bin_seq, **cfg['padseq'],\n",
    "                             value = cfg['nbin_feats']*[0.0],\n",
    "                            dtype='float32')\n",
    "test_lab = pad_sequences(test_lab, **cfg['padseq'])\n",
    "#test_lab = np.array([to_categorical(s, num_classes=cfg['n_tags']) for s in test_lab])"
   ]
  },
  {
   "cell_type": "markdown",
   "metadata": {},
   "source": [
    "### TODO\n",
    "* Right the different concatenated pieces are in different orders of magnitude. Normalization might help\n",
    "* Search for a minimal stemmer that strips plural or adverbial suffices for example zero-sum games in zero-sum game or absolute continuity and absolute continuous"
   ]
  },
  {
   "cell_type": "code",
   "execution_count": 6,
   "metadata": {},
   "outputs": [
    {
     "name": "stdout",
     "output_type": "stream",
     "text": [
      "Skip this\n"
     ]
    }
   ],
   "source": [
    "%%script echo Skip this\n",
    "# Train NER model\n",
    "cfg['learning_rate'] = 0.1\n",
    "model = NerModel(64, len(word_tok.word_index)+1, 4, 100)\n",
    "optimizer = tf.keras.optimizers.Adam()\n",
    "def train_one_step(text_batch, labels_batch):\n",
    "    with tf.GradientTape() as tape:\n",
    "        logits, text_lens, log_likelihood = model(text_batch, labels_batch, training=True)\n",
    "        loss = - tf.reduce_mean(log_likelihood)\n",
    "    gradients = tape.gradient(loss, model.trainable_variables)\n",
    "    optimizer.apply_gradients(zip(gradients, model.trainable_variables))\n",
    "    return loss, logits, text_lens\n",
    "\n",
    "def get_acc_one_step(logits, text_lens, labels_batch):\n",
    "    paths = []\n",
    "    accuracy = 0\n",
    "    for logit, text_len, labels in zip(logits, text_lens, labels_batch):\n",
    "        viterbi_path, _ = tfa.text.viterbi_decode(logit[:text_len], model.transition_params)\n",
    "        paths.append(viterbi_path)\n",
    "        correct_prediction = tf.equal(\n",
    "            tf.convert_to_tensor(tf.keras.preprocessing.sequence.pad_sequences([viterbi_path],\n",
    "                                                            padding='post'), dtype=tf.int32),\n",
    "            tf.convert_to_tensor(tf.keras.preprocessing.sequence.pad_sequences([labels[:text_len]],\n",
    "                                                            padding='post'), dtype=tf.int32)\n",
    "        )\n",
    "        accuracy = accuracy + tf.reduce_mean(tf.cast(correct_prediction, tf.float32))\n",
    "        # print(tf.reduce_mean(tf.cast(correct_prediction, tf.float32)))\n",
    "    accuracy = accuracy / len(paths)\n",
    "    return accuracy\n",
    "\n",
    "best_acc = 0\n",
    "step = 0\n",
    "epochs = 20\n",
    "bs = 1000\n",
    "for epoch in range(epochs):\n",
    "    for (text_batch, labels_batch) in \\\n",
    "    [[train_seq2[bs*i:bs*(i+1)], train_lab2[bs*i:bs*(i+1)]]\\\n",
    "     for i in range(math.ceil(len(train_seq2)/bs))]:\n",
    "        step = step + 1\n",
    "        loss, logits, text_lens = train_one_step(text_batch, labels_batch)\n",
    "        if step % 20 == 0:\n",
    "            accuracy = get_acc_one_step(logits, text_lens, labels_batch)\n",
    "            print('epoch %d, step %d, loss %.4f , accuracy %.4f' % (epoch, step, loss, accuracy))\n",
    "            if accuracy > best_acc:\n",
    "                best_acc = accuracy\n",
    "                #ckpt_manager.save()\n",
    "                print(\"model saved\")"
   ]
  },
  {
   "cell_type": "code",
   "execution_count": 7,
   "metadata": {},
   "outputs": [],
   "source": [
    "cfg.update({'input_dim': len(wind),\n",
    "      'output_dim': 200,\n",
    "     'input_length': cfg['padseq']['maxlen'],\n",
    "     'pos_dim': 5,\n",
    "     'n_tags': 2,\n",
    "     'batch_size': 2000,\n",
    "     'lstm_units': 150,\n",
    "      'adam': {'lr': 0.05, 'beta_1': 0.9, 'beta_2': 0.999}})"
   ]
  },
  {
   "cell_type": "code",
   "execution_count": 8,
   "metadata": {},
   "outputs": [
    {
     "name": "stdout",
     "output_type": "stream",
     "text": [
      "WARNING:tensorflow:Layer lstm will not use cuDNN kernel since it doesn't meet the cuDNN kernel criteria. It will use generic GPU kernel as fallback when running on GPU\n",
      "WARNING:tensorflow:Layer lstm will not use cuDNN kernel since it doesn't meet the cuDNN kernel criteria. It will use generic GPU kernel as fallback when running on GPU\n",
      "WARNING:tensorflow:Layer lstm will not use cuDNN kernel since it doesn't meet the cuDNN kernel criteria. It will use generic GPU kernel as fallback when running on GPU\n",
      "WARNING:tensorflow:Layer lstm_1 will not use cuDNN kernel since it doesn't meet the cuDNN kernel criteria. It will use generic GPU kernel as fallback when running on GPU\n",
      "WARNING:tensorflow:Layer lstm_1 will not use cuDNN kernel since it doesn't meet the cuDNN kernel criteria. It will use generic GPU kernel as fallback when running on GPU\n",
      "WARNING:tensorflow:Layer lstm_1 will not use cuDNN kernel since it doesn't meet the cuDNN kernel criteria. It will use generic GPU kernel as fallback when running on GPU\n",
      "Model: \"model\"\n",
      "__________________________________________________________________________________________________\n",
      "Layer (type)                    Output Shape         Param #     Connected to                     \n",
      "==================================================================================================\n",
      "words-in (InputLayer)           [(None, 50)]         0                                            \n",
      "__________________________________________________________________________________________________\n",
      "pos-in (InputLayer)             [(None, 50)]         0                                            \n",
      "__________________________________________________________________________________________________\n",
      "word-embed (Embedding)          (None, 50, 200)      41688600    words-in[0][0]                   \n",
      "__________________________________________________________________________________________________\n",
      "pos-embed (Embedding)           (None, 50, 5)        225         pos-in[0][0]                     \n",
      "__________________________________________________________________________________________________\n",
      "bin-features-in (InputLayer)    [(None, 50, 2)]      0                                            \n",
      "__________________________________________________________________________________________________\n",
      "concatenate (Concatenate)       (None, 50, 207)      0           word-embed[0][0]                 \n",
      "                                                                 pos-embed[0][0]                  \n",
      "                                                                 bin-features-in[0][0]            \n",
      "__________________________________________________________________________________________________\n",
      "bidirectional (Bidirectional)   (None, 50, 300)      429600      concatenate[0][0]                \n",
      "__________________________________________________________________________________________________\n",
      "bidirectional_1 (Bidirectional) (None, 50, 300)      541200      bidirectional[0][0]              \n",
      "__________________________________________________________________________________________________\n",
      "time_distributed (TimeDistribut (None, 50, 10)       3010        bidirectional_1[0][0]            \n",
      "__________________________________________________________________________________________________\n",
      "time_distributed_1 (TimeDistrib (None, 50, 1)        11          time_distributed[0][0]           \n",
      "==================================================================================================\n",
      "Total params: 42,662,646\n",
      "Trainable params: 974,046\n",
      "Non-trainable params: 41,688,600\n",
      "__________________________________________________________________________________________________\n"
     ]
    }
   ],
   "source": [
    "def bilstm_lstm_model_w_pos(cfg_dict):\n",
    "    \n",
    "    words_in = Input(shape=(cfg_dict['input_length'], ), name='words-in')\n",
    "    pos_in = Input(shape=(cfg_dict['input_length'], ), name='pos-in')\n",
    "    bin_feats = Input(shape=(cfg_dict['input_length'], cfg_dict['nbin_feats']), name='bin-features-in')\n",
    "    \n",
    "    word_embed = Embedding(cfg_dict['input_dim'], \n",
    "                        output_dim=cfg_dict['output_dim'],\n",
    "                        input_length=cfg_dict['input_length'],\n",
    "                       weights = [embed_matrix],\n",
    "                       trainable = False,\n",
    "                          name='word-embed')(words_in)\n",
    "    pos_embed = Embedding(len(pos_cnt), \n",
    "                        output_dim=cfg_dict['pos_dim'],\n",
    "                        input_length=cfg_dict['input_length'],\n",
    "                       trainable = True,\n",
    "                         name='pos-embed')(pos_in)\n",
    "    full_embed = Concatenate(axis=2)([word_embed, pos_embed, bin_feats])\n",
    "    \n",
    "    \n",
    "    out = Bidirectional(LSTM(units=cfg['lstm_units'],\n",
    "                                 return_sequences=True,\n",
    "                                 dropout=0.2, \n",
    "                                 recurrent_dropout=0.2),\n",
    "                        merge_mode = 'concat')(full_embed)\n",
    "    #out = GlobalMaxPooling1D(out) \n",
    "    # Add LSTM\n",
    "    out = Bidirectional(LSTM(units=cfg['lstm_units'],\n",
    "                   return_sequences=True, dropout=0.2, recurrent_dropout=0.2,\n",
    "                   recurrent_initializer='glorot_uniform'),\n",
    "                        merge_mode = 'concat')(out)\n",
    "    # Add timeDistributed Layer\n",
    "    out = TimeDistributed(Dense(10, activation=\"relu\"))(out)\n",
    "    out = TimeDistributed(Dense(1, activation=\"sigmoid\"))(out)\n",
    "    #Optimiser \n",
    "    adam = Adam(**cfg['adam'])\n",
    "    # Compile model\n",
    "    bce = tf.keras.losses.BinaryCrossentropy()  #(sample_weight=[0.3, 0.7])\n",
    "    model = Model([words_in, pos_in, bin_feats], out)\n",
    "    model.compile(loss = bce,   #'binary_crossentropy',\n",
    "                  optimizer=adam, metrics=['accuracy'])\n",
    "    model.summary()\n",
    "    return model\n",
    "with_pos = bilstm_lstm_model_w_pos(cfg)"
   ]
  },
  {
   "cell_type": "code",
   "execution_count": 9,
   "metadata": {},
   "outputs": [
    {
     "name": "stdout",
     "output_type": "stream",
     "text": [
      "Epoch 1/60\n",
      "6/6 [==============================] - 3s 469ms/step - loss: 0.5782 - accuracy: 0.8641 - val_loss: 0.3894 - val_accuracy: 0.9609\n",
      "Epoch 2/60\n",
      "6/6 [==============================] - 2s 403ms/step - loss: 0.2731 - accuracy: 0.9608 - val_loss: 0.1440 - val_accuracy: 0.9609\n",
      "Epoch 3/60\n",
      "6/6 [==============================] - 2s 403ms/step - loss: 0.1445 - accuracy: 0.9608 - val_loss: 0.1323 - val_accuracy: 0.9609\n",
      "Epoch 4/60\n",
      "6/6 [==============================] - 2s 402ms/step - loss: 0.1259 - accuracy: 0.9608 - val_loss: 0.1181 - val_accuracy: 0.9609\n",
      "Epoch 5/60\n",
      "6/6 [==============================] - 2s 404ms/step - loss: 0.1147 - accuracy: 0.9608 - val_loss: 0.1105 - val_accuracy: 0.9609\n",
      "Epoch 6/60\n",
      "6/6 [==============================] - 2s 404ms/step - loss: 0.1085 - accuracy: 0.9608 - val_loss: 0.1056 - val_accuracy: 0.9609\n",
      "Epoch 7/60\n",
      "6/6 [==============================] - 2s 406ms/step - loss: 0.1040 - accuracy: 0.9608 - val_loss: 0.1011 - val_accuracy: 0.9609\n",
      "Epoch 8/60\n",
      "6/6 [==============================] - 2s 405ms/step - loss: 0.0994 - accuracy: 0.9608 - val_loss: 0.0960 - val_accuracy: 0.9609\n",
      "Epoch 9/60\n",
      "6/6 [==============================] - 2s 403ms/step - loss: 0.0946 - accuracy: 0.9609 - val_loss: 0.0911 - val_accuracy: 0.9613\n",
      "Epoch 10/60\n",
      "6/6 [==============================] - 2s 404ms/step - loss: 0.0902 - accuracy: 0.9616 - val_loss: 0.0868 - val_accuracy: 0.9621\n",
      "Epoch 11/60\n",
      "6/6 [==============================] - 2s 406ms/step - loss: 0.0859 - accuracy: 0.9625 - val_loss: 0.0833 - val_accuracy: 0.9634\n",
      "Epoch 12/60\n",
      "6/6 [==============================] - 2s 405ms/step - loss: 0.0818 - accuracy: 0.9656 - val_loss: 0.0786 - val_accuracy: 0.9687\n",
      "Epoch 13/60\n",
      "6/6 [==============================] - 2s 401ms/step - loss: 0.0777 - accuracy: 0.9691 - val_loss: 0.0764 - val_accuracy: 0.9696\n",
      "Epoch 14/60\n",
      "6/6 [==============================] - 2s 404ms/step - loss: 0.0742 - accuracy: 0.9705 - val_loss: 0.0730 - val_accuracy: 0.9716\n",
      "Epoch 15/60\n",
      "6/6 [==============================] - 2s 403ms/step - loss: 0.0716 - accuracy: 0.9719 - val_loss: 0.0704 - val_accuracy: 0.9729\n",
      "Epoch 16/60\n",
      "6/6 [==============================] - 2s 403ms/step - loss: 0.0695 - accuracy: 0.9727 - val_loss: 0.0708 - val_accuracy: 0.9717\n",
      "Epoch 17/60\n",
      "6/6 [==============================] - 2s 400ms/step - loss: 0.0679 - accuracy: 0.9733 - val_loss: 0.0687 - val_accuracy: 0.9732\n",
      "Epoch 18/60\n",
      "6/6 [==============================] - 2s 404ms/step - loss: 0.0666 - accuracy: 0.9739 - val_loss: 0.0672 - val_accuracy: 0.9737\n",
      "Epoch 19/60\n",
      "6/6 [==============================] - 2s 402ms/step - loss: 0.0647 - accuracy: 0.9745 - val_loss: 0.0688 - val_accuracy: 0.9724\n",
      "Epoch 20/60\n",
      "6/6 [==============================] - 2s 405ms/step - loss: 0.0636 - accuracy: 0.9752 - val_loss: 0.0659 - val_accuracy: 0.9747\n",
      "Epoch 21/60\n",
      "6/6 [==============================] - 2s 404ms/step - loss: 0.0619 - accuracy: 0.9755 - val_loss: 0.0670 - val_accuracy: 0.9735\n",
      "Epoch 22/60\n",
      "6/6 [==============================] - 2s 403ms/step - loss: 0.0609 - accuracy: 0.9760 - val_loss: 0.0640 - val_accuracy: 0.9752\n",
      "Epoch 23/60\n",
      "6/6 [==============================] - 2s 406ms/step - loss: 0.0600 - accuracy: 0.9766 - val_loss: 0.0643 - val_accuracy: 0.9744\n",
      "Epoch 24/60\n",
      "6/6 [==============================] - 2s 405ms/step - loss: 0.0589 - accuracy: 0.9769 - val_loss: 0.0628 - val_accuracy: 0.9752\n",
      "Epoch 25/60\n",
      "6/6 [==============================] - 2s 405ms/step - loss: 0.0580 - accuracy: 0.9774 - val_loss: 0.0629 - val_accuracy: 0.9752\n",
      "Epoch 26/60\n",
      "6/6 [==============================] - 2s 405ms/step - loss: 0.0564 - accuracy: 0.9779 - val_loss: 0.0622 - val_accuracy: 0.9756\n",
      "Epoch 27/60\n",
      "6/6 [==============================] - 2s 406ms/step - loss: 0.0559 - accuracy: 0.9782 - val_loss: 0.0611 - val_accuracy: 0.9763\n",
      "Epoch 28/60\n",
      "6/6 [==============================] - 2s 406ms/step - loss: 0.0555 - accuracy: 0.9783 - val_loss: 0.0610 - val_accuracy: 0.9756\n",
      "Epoch 29/60\n",
      "6/6 [==============================] - 2s 403ms/step - loss: 0.0548 - accuracy: 0.9784 - val_loss: 0.0592 - val_accuracy: 0.9769\n",
      "Epoch 30/60\n",
      "6/6 [==============================] - 2s 404ms/step - loss: 0.0534 - accuracy: 0.9791 - val_loss: 0.0596 - val_accuracy: 0.9769\n",
      "Epoch 31/60\n",
      "6/6 [==============================] - 2s 405ms/step - loss: 0.0532 - accuracy: 0.9792 - val_loss: 0.0600 - val_accuracy: 0.9763\n",
      "Epoch 32/60\n",
      "6/6 [==============================] - 2s 405ms/step - loss: 0.0516 - accuracy: 0.9797 - val_loss: 0.0586 - val_accuracy: 0.9777\n",
      "Epoch 33/60\n",
      "6/6 [==============================] - 2s 404ms/step - loss: 0.0510 - accuracy: 0.9800 - val_loss: 0.0593 - val_accuracy: 0.9765\n",
      "Epoch 34/60\n",
      "6/6 [==============================] - 2s 405ms/step - loss: 0.0506 - accuracy: 0.9803 - val_loss: 0.0586 - val_accuracy: 0.9772\n",
      "Epoch 35/60\n",
      "6/6 [==============================] - 2s 404ms/step - loss: 0.0494 - accuracy: 0.9809 - val_loss: 0.0581 - val_accuracy: 0.9775\n",
      "Epoch 36/60\n",
      "6/6 [==============================] - 2s 404ms/step - loss: 0.0490 - accuracy: 0.9810 - val_loss: 0.0573 - val_accuracy: 0.9779\n",
      "Epoch 37/60\n",
      "6/6 [==============================] - 2s 408ms/step - loss: 0.0490 - accuracy: 0.9809 - val_loss: 0.0570 - val_accuracy: 0.9781\n",
      "Epoch 38/60\n",
      "6/6 [==============================] - 2s 406ms/step - loss: 0.0480 - accuracy: 0.9812 - val_loss: 0.0565 - val_accuracy: 0.9783\n",
      "Epoch 39/60\n",
      "6/6 [==============================] - 2s 402ms/step - loss: 0.0484 - accuracy: 0.9810 - val_loss: 0.0576 - val_accuracy: 0.9777\n",
      "Epoch 40/60\n",
      "6/6 [==============================] - 2s 405ms/step - loss: 0.0476 - accuracy: 0.9815 - val_loss: 0.0560 - val_accuracy: 0.9785\n",
      "Epoch 41/60\n",
      "6/6 [==============================] - 2s 404ms/step - loss: 0.0472 - accuracy: 0.9817 - val_loss: 0.0561 - val_accuracy: 0.9788\n",
      "Epoch 42/60\n",
      "6/6 [==============================] - 2s 401ms/step - loss: 0.0467 - accuracy: 0.9817 - val_loss: 0.0566 - val_accuracy: 0.9778\n",
      "Epoch 43/60\n",
      "6/6 [==============================] - 2s 403ms/step - loss: 0.0468 - accuracy: 0.9817 - val_loss: 0.0566 - val_accuracy: 0.9784\n",
      "Epoch 44/60\n",
      "6/6 [==============================] - 2s 405ms/step - loss: 0.0467 - accuracy: 0.9818 - val_loss: 0.0562 - val_accuracy: 0.9792\n",
      "Epoch 45/60\n",
      "6/6 [==============================] - 2s 405ms/step - loss: 0.0463 - accuracy: 0.9819 - val_loss: 0.0562 - val_accuracy: 0.9782\n",
      "Epoch 46/60\n",
      "6/6 [==============================] - 2s 407ms/step - loss: 0.0461 - accuracy: 0.9818 - val_loss: 0.0548 - val_accuracy: 0.9791\n",
      "Epoch 47/60\n",
      "6/6 [==============================] - 2s 407ms/step - loss: 0.0459 - accuracy: 0.9820 - val_loss: 0.0552 - val_accuracy: 0.9789\n",
      "Epoch 48/60\n",
      "6/6 [==============================] - 2s 405ms/step - loss: 0.0443 - accuracy: 0.9827 - val_loss: 0.0554 - val_accuracy: 0.9783\n",
      "Epoch 49/60\n",
      "6/6 [==============================] - 2s 404ms/step - loss: 0.0435 - accuracy: 0.9830 - val_loss: 0.0544 - val_accuracy: 0.9792\n",
      "Epoch 50/60\n",
      "6/6 [==============================] - 2s 405ms/step - loss: 0.0437 - accuracy: 0.9831 - val_loss: 0.0551 - val_accuracy: 0.9790\n",
      "Epoch 51/60\n",
      "6/6 [==============================] - 2s 405ms/step - loss: 0.0430 - accuracy: 0.9833 - val_loss: 0.0555 - val_accuracy: 0.9795\n",
      "Epoch 52/60\n",
      "6/6 [==============================] - 2s 407ms/step - loss: 0.0427 - accuracy: 0.9835 - val_loss: 0.0549 - val_accuracy: 0.9789\n",
      "Epoch 53/60\n",
      "6/6 [==============================] - 2s 404ms/step - loss: 0.0422 - accuracy: 0.9837 - val_loss: 0.0544 - val_accuracy: 0.9795\n",
      "Epoch 54/60\n",
      "6/6 [==============================] - 2s 402ms/step - loss: 0.0417 - accuracy: 0.9837 - val_loss: 0.0545 - val_accuracy: 0.9794\n",
      "Epoch 55/60\n",
      "6/6 [==============================] - 2s 405ms/step - loss: 0.0415 - accuracy: 0.9838 - val_loss: 0.0554 - val_accuracy: 0.9793\n",
      "Epoch 56/60\n",
      "6/6 [==============================] - 2s 402ms/step - loss: 0.0413 - accuracy: 0.9838 - val_loss: 0.0544 - val_accuracy: 0.9795\n",
      "Epoch 57/60\n",
      "6/6 [==============================] - 2s 405ms/step - loss: 0.0411 - accuracy: 0.9839 - val_loss: 0.0540 - val_accuracy: 0.9796\n",
      "Epoch 58/60\n",
      "6/6 [==============================] - 2s 404ms/step - loss: 0.0410 - accuracy: 0.9840 - val_loss: 0.0546 - val_accuracy: 0.9791\n",
      "Epoch 59/60\n",
      "6/6 [==============================] - 2s 405ms/step - loss: 0.0406 - accuracy: 0.9841 - val_loss: 0.0549 - val_accuracy: 0.9792\n",
      "Epoch 60/60\n",
      "6/6 [==============================] - 2s 408ms/step - loss: 0.0408 - accuracy: 0.9840 - val_loss: 0.0547 - val_accuracy: 0.9789\n"
     ]
    }
   ],
   "source": [
    "res = with_pos.fit([train_seq, train_pos_seq, train_bin_seq], train_lab, verbose=1, epochs=60,\n",
    "                batch_size=cfg['batch_size'],\n",
    "                validation_data=([test_seq, test_pos_seq, test_bin_seq], test_lab))"
   ]
  },
  {
   "cell_type": "code",
   "execution_count": 10,
   "metadata": {},
   "outputs": [
    {
     "name": "stdout",
     "output_type": "stream",
     "text": [
      "skip this\n"
     ]
    }
   ],
   "source": [
    "%%script echo skip this\n",
    "# DEFINE MODEL WITH biLSTM AND TRAIN FUNCTION    \n",
    "def get_bilstm_lstm_model(cfg_dict):\n",
    "    model = Sequential()\n",
    "    # Add Embedding layer\n",
    "    model.add(Embedding(cfg_dict['input_dim'], \n",
    "                        output_dim=cfg_dict['output_dim'],\n",
    "                        input_length=cfg_dict['input_length'],\n",
    "                       weights = [embed_matrix],\n",
    "                       trainable = False))\n",
    "    #model.add(Embedding(cfg_dict['input_dim'], \n",
    "    #                    output_dim=cfg_dict['output_dim'],\n",
    "    #                    input_length=cfg_dict['input_length']))\n",
    "    # Add bidirectional LSTM\n",
    "    model.add(Bidirectional(LSTM(units=cfg_dict['output_dim'],\n",
    "                                 return_sequences=True,\n",
    "                                 dropout=0.2, \n",
    "                                 recurrent_dropout=0.2), merge_mode = 'concat'))\n",
    "    # Add LSTM\n",
    "    model.add(LSTM(units=cfg_dict['output_dim'],\n",
    "                   return_sequences=True, dropout=0.2, recurrent_dropout=0.2,\n",
    "                   recurrent_initializer='glorot_uniform'))\n",
    "    # Add timeDistributed Layer\n",
    "    model.add(TimeDistributed(Dense(1, activation=\"sigmoid\")))\n",
    "    #Optimiser \n",
    "    adam = Adam(**cfg['adam'])\n",
    "    # Compile model\n",
    "    #bce = tf.keras.losses.BinaryCrossentropy(sample_weight=[0.3, 0.7])\n",
    "    model.compile(loss = 'binary_crossentropy',\n",
    "                  optimizer=adam, metrics=['accuracy'])\n",
    "    model.summary()\n",
    "    return model\n",
    "\n",
    "\n",
    "def train_model(X, y, model, epochs=10):\n",
    "    # fit model for one epoch on this sequence\n",
    "    res = model.fit(X, y, verbose=0, epochs=epochs,\n",
    "                    batch_size=cfg['batch_size'],\n",
    "                    validation_data=(test_seq, test_lab),\n",
    "                   callbacks=[TqdmCallback(verbose=1)])\n",
    "                   \n",
    "    return res\n",
    "model_bilstm_lstm = get_bilstm_lstm_model(cfg)\n",
    "#plot_model(model_bilstm_lstm)"
   ]
  },
  {
   "cell_type": "code",
   "execution_count": 11,
   "metadata": {},
   "outputs": [
    {
     "name": "stdout",
     "output_type": "stream",
     "text": [
      "skip this\n"
     ]
    }
   ],
   "source": [
    "%%script echo skip this\n",
    "history = train_model(train_seq, train_lab, model_bilstm_lstm, epochs=20)"
   ]
  },
  {
   "cell_type": "code",
   "execution_count": 12,
   "metadata": {},
   "outputs": [
    {
     "data": {
      "text/plain": [
       "<matplotlib.legend.Legend at 0x7f9b6c24b910>"
      ]
     },
     "execution_count": 12,
     "metadata": {},
     "output_type": "execute_result"
    },
    {
     "data": {
      "image/png": "[encoded data removed]",
      "text/plain": [
       "<Figure size 864x432 with 2 Axes>"
      ]
     },
     "metadata": {
      "needs_background": "light"
     },
     "output_type": "display_data"
    }
   ],
   "source": [
    "#r = history\n",
    "r = res\n",
    "fig = plt.figure(figsize=(12, 6))\n",
    "ax1 = plt.subplot(121)\n",
    "ax1.plot(r.history['loss'], label='loss')\n",
    "ax1.plot(r.history['val_loss'], label='val_loss')\n",
    "ax1.legend()\n",
    "ax2 = plt.subplot(122)\n",
    "ax2.plot(r.history['accuracy'], label='acc')\n",
    "ax2.plot(r.history['val_accuracy'], label='val_acc')\n",
    "ax2.legend()"
   ]
  },
  {
   "cell_type": "code",
   "execution_count": 13,
   "metadata": {
    "lines_to_next_cell": 2
   },
   "outputs": [
    {
     "name": "stdout",
     "output_type": "stream",
     "text": [
      "skip this\n"
     ]
    }
   ],
   "source": [
    "%%script echo skip this\n",
    "#sample_str = 'a banach space is defined as complete vector space of some kind .'\n",
    "#sample_str = 'We define a shushu space as a complete vector space of some kind .'\n",
    "sample_str = '_display_math_ The Ursell functions of a single random variable X are obtained from these by setting _inline_math_..._inline_math_ .'\n",
    "sample_pad, _ = prep_data(sample_str, wind, cfg, 'no_tags')\n",
    "sample_pad = pad_sequences([sample_pad], **cfg['padseq'])\n",
    "pred = model_bilstm_lstm.predict(sample_pad)\n",
    "#np.argmax(pred.squeeze(), axis=1)\n",
    "for i, w in enumerate(sample_pad[0]):\n",
    "    if wind[w] == '.':\n",
    "        break\n",
    "    print(wind[w], np.round(pred)[0][i])\n",
    "    if wind[w] == '.':\n",
    "        break"
   ]
  },
  {
   "cell_type": "code",
   "execution_count": 14,
   "metadata": {},
   "outputs": [],
   "source": [
    "#preds = model_bilstm_lstm.predict(test_seq)\n",
    "preds = with_pos.predict([test_seq, test_pos_seq, test_bin_seq])"
   ]
  },
  {
   "cell_type": "code",
   "execution_count": 15,
   "metadata": {},
   "outputs": [
    {
     "name": "stdout",
     "output_type": "stream",
     "text": [
      "Thus                 O 0.00\n",
      ",                    O 0.00\n",
      "insert               O 0.01\n",
      "cards                O 0.13\n",
      "of                   O 0.03\n",
      "any                  O 0.00\n",
      "type                 O 0.16\n",
      "are                  O 0.00\n",
      "generally            O 0.00\n",
      "not                  O 0.00\n",
      "considered           O 0.00\n",
      "to                   O 0.00\n",
      "be                   O 0.00\n",
      "rookie               B-DFNDUM 0.95\n",
      "cards                I-DFNDUM 0.77\n",
      ".                    O 0.00\n"
     ]
    }
   ],
   "source": [
    "k = 23\n",
    "for i in range(len(preds[k])):\n",
    "    try:\n",
    "        print('{:<20} {} {:1.2f}'.format(test_def_lst[k]['ner'][i][0][0], \n",
    "                                         test_def_lst[k]['ner'][i][1],\n",
    "                                         round(preds[k][i][0],2)))\n",
    "    except IndexError:\n",
    "        break"
   ]
  },
  {
   "cell_type": "code",
   "execution_count": 16,
   "metadata": {},
   "outputs": [
    {
     "data": {
      "image/png": "[encoded data removed]",
      "text/plain": [
       "<Figure size 432x288 with 1 Axes>"
      ]
     },
     "metadata": {
      "needs_background": "light"
     },
     "output_type": "display_data"
    },
    {
     "name": "stdout",
     "output_type": "stream",
     "text": [
      "ChunkParse score:\n",
      "    IOB Accuracy:  87.1%%\n",
      "    Precision:     59.2%%\n",
      "    Recall:        57.9%%\n",
      "    F-Measure:     58.5%%\n",
      "Cutoff:  0.5\n"
     ]
    }
   ],
   "source": [
    "def tf_bio_tagger(tf_pred, tag_def='DFNDUM', tag_o = 'O'):\n",
    "    '''\n",
    "    Convert a T/F (binary) Sequence into a BIO tag sequence\n",
    "    [True, False, False] -> [B-DFNDUM, O, O]\n",
    "    '''\n",
    "    begin_tag = 'B-' + tag_def\n",
    "    inside_tag = 'I-' + tag_def\n",
    "    out_tag = tag_o\n",
    "    return_tags = []\n",
    "    for ind, x in enumerate(tf_pred):\n",
    "        if x:\n",
    "            if ind > 0:\n",
    "                ret = inside_tag if tf_pred[ind - 1] else begin_tag\n",
    "                return_tags.append(ret)\n",
    "            else:\n",
    "                return_tags.append(begin_tag)\n",
    "        else:\n",
    "            return_tags.append(out_tag)\n",
    "    return return_tags\n",
    "        \n",
    "def switch_to_pred(test_def_lst, preds, cutoff = 0.5):\n",
    "    #if len(preds.shape) == 2:\n",
    "        #case just one prediction (50, 1) \n",
    "    #    preds = [preds]\n",
    "    out_lst = []\n",
    "    for k, pred in enumerate(preds):\n",
    "        tf_pred = (pred > cutoff)\n",
    "        test_def = test_def_lst[k]['ner']\n",
    "        bio_pred = tf_bio_tagger(tf_pred)\n",
    "        switched_def_lst = []\n",
    "        for i in range(len(bio_pred)):    #rate(bio_pred):\n",
    "            try:\n",
    "                # test_def[i] example: (('Fock', 'NNP'), 'B-DFNDUM')\n",
    "                tok_pos = test_def[i][0]\n",
    "                switched_def_lst.append((tok_pos, bio_pred[i]))\n",
    "            except IndexError:\n",
    "                break\n",
    "        out_lst.append(switched_def_lst)\n",
    "    return out_lst\n",
    "\n",
    "def get_chunkscore(CutOFF):\n",
    "    test_pred_lst = switch_to_pred(test_def_lst, preds, cutoff=CutOFF)\n",
    "    unpack = lambda l: [(tok, pos, ner) for ((tok, pos), ner) in l]\n",
    "    Tree_lst_gold = [conlltags2tree(unpack(t['ner'])) for t in test_def_lst]\n",
    "    Tree_lst_pred = [conlltags2tree(unpack(t)) for t in test_pred_lst]\n",
    "\n",
    "    chunkscore = ChunkScore()\n",
    "    for i in range(len(Tree_lst_gold)):\n",
    "        chunkscore.score(Tree_lst_gold[i], Tree_lst_pred[i])\n",
    "    return chunkscore\n",
    " \n",
    "#CutOFF = 0.4\n",
    "#print(get_chunkscore(CutOFF))\n",
    "#print(f\"Cutoff:  {CutOFF}\")\n",
    "\n",
    "data_points = []\n",
    "BOY_f_score = (0, 0) # (CutOff, score)\n",
    "for co in np.arange(0.1, 1, 0.1):\n",
    "    cs = get_chunkscore(co)\n",
    "    data_points.append((cs.accuracy(), cs.f_measure()))\n",
    "    if cs.f_measure() > BOY_f_score[1]:\n",
    "        BOY_f_score = (co, cs.f_measure())\n",
    "\n",
    "plt.plot(list(zip(*data_points))[0], label='acc')\n",
    "plt.plot(list(zip(*data_points))[1], label='F1')\n",
    "plt.legend()\n",
    "plt.show()\n",
    "\n",
    "print(get_chunkscore(BOY_f_score[0]))\n",
    "print(f\"Cutoff:  {BOY_f_score[0]}\")"
   ]
  },
  {
   "cell_type": "code",
   "execution_count": 64,
   "metadata": {},
   "outputs": [
    {
     "data": {
      "text/plain": [
       "-0.0"
      ]
     },
     "execution_count": 64,
     "metadata": {},
     "output_type": "execute_result"
    }
   ],
   "source": [
    "# Compute the Loss independently\n",
    "bce = tf.keras.losses.BinaryCrossentropy(label_smoothing=0)\n",
    "bce([1.0,0.0,1.0], [1.0,0.0,1.0]).numpy()"
   ]
  },
  {
   "cell_type": "code",
   "execution_count": 70,
   "metadata": {},
   "outputs": [
    {
     "data": {
      "text/plain": [
       "-1.607125580773316"
      ]
     },
     "execution_count": 70,
     "metadata": {},
     "output_type": "execute_result"
    }
   ],
   "source": [
    "#1/5404.0*(np.sum(test_lab*np.log(np.squeeze(preds))) + np.sum((1-test_lab)*np.log(np.squeeze(1-preds))))"
   ]
  },
  {
   "cell_type": "markdown",
   "metadata": {},
   "source": [
    "# get_bilstm_lstm_model Training history\n",
    "## First working attempt:  commit e4c41f0\n",
    "\n",
    "Epochs: 70 [01:00<00:00, 3.00s/epoch, loss=0.0513, accuracy=0.98, val_loss=0.0636, val_accuracy=0.975]\n",
    "\n",
    "* Same attempt but first ChunkScore Epochs: approx 80,  commit: 8a3678c\n",
    "        ChunkParse score:\n",
    "            IOB Accuracy:  86.3%%\n",
    "            Precision:     56.4%%\n",
    "            Recall:        53.8%%\n",
    "            F-Measure:     55.1%%\n",
    "            \n",
    "## Working attempt with POS: Epochs: 70\n",
    "    ChunkParse score:\n",
    "        IOB Accuracy:  85.4%%\n",
    "        Precision:     53.2%%\n",
    "        Recall:        47.6%%\n",
    "        F-Measure:     50.3%%\n",
    "### Added both LSTMs Bidirectional:\n",
    "In the previous models the second LSTM layer was not Bidirectional. This makes no sense\n",
    "loss: 0.0446 - accuracy: 0.9824 - val_loss: 0.0601 - val_accuracy: 0.9770 commit: c53ab68\n",
    "\n",
    "    ChunkParse score:\n",
    "        IOB Accuracy:  85.1%%\n",
    "        Precision:     48.7%%\n",
    "        Recall:        62.8%%\n",
    "        F-Measure:     54.9%%\n",
    "        \n",
    "With just 150 lstm units. Commit: 53dd596\n",
    "\n",
    "    ChunkParse score:\n",
    "        IOB Accuracy:  87.7%%\n",
    "        Precision:     61.4%%\n",
    "        Recall:        62.3%%\n",
    "        F-Measure:     61.8%%\n",
    "    Cutoff:  0.4\n",
    "    \n",
    "Two time dependent dense layers at the end: Commit: 2759216\n",
    "\n",
    "    ChunkParse score:\n",
    "        IOB Accuracy:  87.5%%\n",
    "        Precision:     59.5%%\n",
    "        Recall:        60.4%%\n",
    "        F-Measure:     60.0%%\n",
    "    Cutoff:  0.4\n",
    "    \n",
    "## With Binary features "
   ]
  },
  {
   "cell_type": "code",
   "execution_count": 58,
   "metadata": {},
   "outputs": [
    {
     "data": {
      "text/plain": [
       "{'padseq': {'maxlen': 50, 'padding': 'post', 'truncating': 'post'},\n",
       " 'n_tags': 2,\n",
       " 'train_test_split': 0.8,\n",
       " 'input_dim': 208443,\n",
       " 'output_dim': 200,\n",
       " 'input_length': 50,\n",
       " 'pos_dim': 5,\n",
       " 'batch_size': 1000,\n",
       " 'adam': {'lr': 0.05, 'beta_1': 0.9, 'beta_2': 0.999}}"
      ]
     },
     "execution_count": 58,
     "metadata": {},
     "output_type": "execute_result"
    }
   ],
   "source": [
    "cfg"
   ]
  },
  {
   "cell_type": "code",
   "execution_count": 47,
   "metadata": {},
   "outputs": [
    {
     "data": {
      "image/png": "[encoded data removed]",
      "text/plain": [
       "<Figure size 432x288 with 1 Axes>"
      ]
     },
     "metadata": {
      "needs_background": "light"
     },
     "output_type": "display_data"
    },
    {
     "data": {
      "image/png": "[encoded data removed]",
      "text/plain": [
       "<Figure size 432x288 with 1 Axes>"
      ]
     },
     "metadata": {
      "needs_background": "light"
     },
     "output_type": "display_data"
    }
   ],
   "source": [
    "def plot_graphs(history, string, start_at=0):\n",
    "    plt.plot(history[string][start_at:])\n",
    "    plt.plot(history['val_'+string][start_at:])\n",
    "    plt.xlabel('Epochs')\n",
    "    plt.ylabel(string[start_at:])\n",
    "    plt.legend([string, 'val_'+string])\n",
    "    plt.show()\n",
    "    \n",
    "plot_graphs(history, \"accuracy\", start_at=400)\n",
    "plot_graphs(history, \"loss\", start_at=400)"
   ]
  }
 ],
 "metadata": {
  "jupytext": {
   "formats": "ipynb,py:light"
  },
  "kernelspec": {
   "display_name": "Python 3",
   "language": "python",
   "name": "python3"
  },
  "language_info": {
   "codemirror_mode": {
    "name": "ipython",
    "version": 3
   },
   "file_extension": ".py",
   "mimetype": "text/x-python",
   "name": "python",
   "nbconvert_exporter": "python",
   "pygments_lexer": "ipython3",
   "version": "3.8.5"
  }
 },
 "nbformat": 4,
 "nbformat_minor": 4
}
