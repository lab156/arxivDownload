{
 "cells": [
  {
   "cell_type": "code",
   "execution_count": 1,
   "metadata": {},
   "outputs": [],
   "source": [
    "import requests \n",
    "from bs4 import BeautifulSoup as bs\n",
    "import re\n",
    "import urllib.parse as up \n",
    "import random"
   ]
  },
  {
   "cell_type": "code",
   "execution_count": 2,
   "metadata": {},
   "outputs": [],
   "source": [
    "%load_ext autoreload\n",
    "%autoreload 2"
   ]
  },
  {
   "cell_type": "code",
   "execution_count": 3,
   "metadata": {},
   "outputs": [],
   "source": [
    "from definiendum import DefiniendumExtract as DE"
   ]
  },
  {
   "cell_type": "code",
   "execution_count": 21,
   "metadata": {},
   "outputs": [
    {
     "data": {
      "text/plain": [
       "[<ul id=\"quicklinks\">\n",
       " <li><a href=\"/bibliography\">bibliography</a>\n",
       " </li><li><a href=\"https://www.math.columbia.edu/~dejong/wordpress/\">blog</a>\n",
       " </li></ul>,\n",
       " <ul class=\"col-11 col-sm-11 col-md-11 col-lg-12 col-xl-12\" id=\"crumbs\">\n",
       " <li><a href=\"/browse\">Table of contents</a></li>\n",
       " <li>Part <a data-tag=\"0ELV\" href=\"/tag/0ELV\">3</a>: Topics in Scheme Theory\n",
       "     \n",
       "   \n",
       "     </li><li>Chapter <a data-tag=\"03N1\" href=\"/tag/03N1\">54</a>: Étale Cohomology\n",
       "     \n",
       "   \n",
       "     </li><li class=\"active\">Section <a data-tag=\"03NB\" href=\"/tag/03NB\">54.9</a>: Presheaves\n",
       "     <span id=\"citation\">(<a href=\"/tag/03NB/cite\">cite</a>)</span>\n",
       " </li></ul>,\n",
       " <ul class=\"neighbours\">\n",
       " <li class=\"left\"><a href=\"/tag/03NA\">previous section</a>\n",
       " </li><li class=\"right\"><a href=\"/tag/03NF\">next section</a>\n",
       " </li></ul>,\n",
       " <p>\n",
       " A reference for this section is Sites, Section <a data-tag=\"00V1\" href=\"/tag/00V1\">7.2</a>. \n",
       " </p>,\n",
       " <p>\n",
       " <article class=\"env-definition\" id=\"03NC\">\n",
       " <p><a class=\"environment-identifier\" href=\"/tag/03NC\">Definition <span data-tag=\"03NC\">54.9.1</span>.</a> Let $\\mathcal{C}$ be a category. A <em>presheaf of sets</em> (respectively, an <em>abelian presheaf</em>) on $\\mathcal{C}$ is a functor $\\mathcal{C}^{opp} \\to \\textit{Sets}$ (resp. $\\textit{Ab}$). </p>\n",
       " </article>\n",
       " </p>,\n",
       " <p><a class=\"environment-identifier\" href=\"/tag/03NC\">Definition <span data-tag=\"03NC\">54.9.1</span>.</a> Let $\\mathcal{C}$ be a category. A <em>presheaf of sets</em> (respectively, an <em>abelian presheaf</em>) on $\\mathcal{C}$ is a functor $\\mathcal{C}^{opp} \\to \\textit{Sets}$ (resp. $\\textit{Ab}$). </p>,\n",
       " <p>\n",
       " <strong>Terminology.</strong> If $U \\in \\mathop{\\mathrm{Ob}}\\nolimits (\\mathcal{C})$, then elements of $\\mathcal{F}(U)$ are called <em>sections</em> of $\\mathcal{F}$ over $U$. For $\\varphi : V \\to U$ in $\\mathcal{C}$, the map $\\mathcal{F}(\\varphi ) : \\mathcal{F}(U) \\to \\mathcal{F}(V)$ is called the <em>restriction map</em> and is often denoted $s \\mapsto s|_ V$ or sometimes $s \\mapsto \\varphi ^*s$. The notation $s|_ V$ is ambiguous since the restriction map depends on $\\varphi $, but it is a standard abuse of notation. We also use the notation $\\Gamma (U, \\mathcal{F}) = \\mathcal{F}(U)$. \n",
       " </p>,\n",
       " <p>\n",
       " Saying that $\\mathcal{F}$ is a functor means that if $W \\to V \\to U$ are morphisms in $\\mathcal{C}$ and $s \\in \\Gamma (U, \\mathcal{F})$ then $(s|_ V)|_ W = s |_ W$, with the abuse of notation just seen. Moreover, the restriction mappings corresponding to the identity morphisms $\\text{id}_ U : U \\to U$ are the identity. \n",
       " </p>,\n",
       " <p>\n",
       " The category of presheaves of sets (respectively of abelian presheaves) on $\\mathcal{C}$ is denoted $\\textit{PSh} (\\mathcal{C})$ (resp. $\\textit{PAb} (\\mathcal{C})$). It is the category of functors from $\\mathcal{C}^{opp}$ to $\\textit{Sets}$ (resp. $\\textit{Ab}$), which is to say that the morphisms of presheaves are natural transformations of functors. We only consider the categories $\\textit{PSh}(\\mathcal{C})$ and $\\textit{PAb}(\\mathcal{C})$ when the category $\\mathcal{C}$ is small. (Our convention is that a category is small unless otherwise mentioned, and if it isn't small it should be listed in Categories, Remark <a data-tag=\"0015\" href=\"/tag/0015\">4.2.2</a>.) \n",
       " </p>,\n",
       " <p>\n",
       " <article class=\"env-example\" id=\"03ND\">\n",
       " <p><a class=\"environment-identifier\" href=\"/tag/03ND\">Example <span data-tag=\"03ND\">54.9.2</span>.</a> Given an object $X \\in \\mathop{\\mathrm{Ob}}\\nolimits (\\mathcal{C})$, we consider the functor </p>\n",
       " <div class=\"equation\">\n",
       "   \\[  \\begin{matrix}  h_ X : \n",
       " \n",
       " &amp;  \\mathcal{C}^{opp} \n",
       " \n",
       " &amp;  \\longrightarrow \n",
       " \n",
       " &amp;  \\textit{Sets} \n",
       " \n",
       " \\\\ &amp;  U \n",
       " \n",
       " &amp;  \\longmapsto \n",
       " \n",
       " &amp;  h_ X(U) = \\mathop{Mor}\\nolimits _\\mathcal {C}(U, X) \n",
       " \n",
       " \\\\ &amp;  V \\xrightarrow {\\varphi } U \n",
       " \n",
       " &amp;  \\longmapsto \n",
       " \n",
       " &amp;  \\varphi \\circ - : h_ X(U) \\to h_ X(V). \n",
       " \n",
       " \\end{matrix}  \\]\n",
       " </div>\n",
       " <p> It is a presheaf, called the <em>representable presheaf associated to $X$.</em> It is not true that representable presheaves are sheaves in every topology on every site. </p>\n",
       " </article>\n",
       " </p>,\n",
       " <p><a class=\"environment-identifier\" href=\"/tag/03ND\">Example <span data-tag=\"03ND\">54.9.2</span>.</a> Given an object $X \\in \\mathop{\\mathrm{Ob}}\\nolimits (\\mathcal{C})$, we consider the functor </p>,\n",
       " <p> It is a presheaf, called the <em>representable presheaf associated to $X$.</em> It is not true that representable presheaves are sheaves in every topology on every site. </p>,\n",
       " <p>\n",
       " <article class=\"env-lemma\" id=\"03NE\"><a class=\"btn badge badge-primary\" data-content=\" Morphisms between objects are in bijection with natural transformations between the functors they represent. \" data-html=\"true\" data-placement=\"bottom\" data-toggle=\"popover\" data-trigger=\"focus\" role=\"button\" tabindex=\"0\" title=\"Slogan\">slogan</a>\n",
       " <p><a class=\"environment-identifier\" href=\"/tag/03NE\">Lemma <span data-tag=\"03NE\">54.9.3</span> <span class=\"named\">(Yoneda)</span>.</a> Let $\\mathcal{C}$ be a category, and $X, Y \\in \\mathop{\\mathrm{Ob}}\\nolimits (\\mathcal{C})$. There is a natural bijection </p>\n",
       " <div class=\"equation\">\n",
       "   \\[  \\begin{matrix}  \\mathop{Mor}\\nolimits _\\mathcal {C}(X, Y) \n",
       " \n",
       " &amp;  \\longrightarrow \n",
       " \n",
       " &amp;  \\mathop{Mor}\\nolimits _{\\textit{PSh}(\\mathcal{C})} (h_ X, h_ Y) \n",
       " \n",
       " \\\\  \\psi \n",
       " \n",
       " &amp;  \\longmapsto \n",
       " \n",
       " &amp;  h_\\psi = \\psi \\circ - : h_ X \\to h_ Y. \n",
       " \n",
       " \\end{matrix}  \\]\n",
       " </div>\n",
       " </article>\n",
       " </p>,\n",
       " <p><a class=\"environment-identifier\" href=\"/tag/03NE\">Lemma <span data-tag=\"03NE\">54.9.3</span> <span class=\"named\">(Yoneda)</span>.</a> Let $\\mathcal{C}$ be a category, and $X, Y \\in \\mathop{\\mathrm{Ob}}\\nolimits (\\mathcal{C})$. There is a natural bijection </p>,\n",
       " <p>\n",
       " <strong>Proof.</strong>\n",
       "       See Categories, Lemma <a data-tag=\"001P\" href=\"/tag/001P\">4.3.5</a>. \n",
       "       <span class=\"qed\">$\\square$</span>\n",
       " </p>,\n",
       " <p><a href=\"/tag/03NB#comment-1389\">Comment #1389</a>\n",
       "         by\n",
       "         <cite>sdf</cite>\n",
       "         on <time datetime=\"2015-04-03 14:02:09\">April 03, 2015 at 14:02 </time>\n",
       " </p>,\n",
       " <p>In the terminology subsubsection, the <script type=\"math/tex\">\\mathcal{F}(\\varphi)</script> is going the wrong way since contravariant out of <script type=\"math/tex\">\\mathcal{F}</script>/covariant out of <script type=\"math/tex\">\\mathcal{F}^{\\mathrm{opp}}</script>?</p>,\n",
       " <p><a href=\"/tag/03NB#comment-1391\">Comment #1391</a>\n",
       "         by\n",
       "         <cite>sdf</cite>\n",
       "         on <time datetime=\"2015-04-04 13:28:01\">April 04, 2015 at 13:28 </time>\n",
       " </p>,\n",
       " <p>Above comment should say \"...contravariant out of <script type=\"math/tex\">\\mathcal{C}</script>/covariant out of <script type=\"math/tex\">\\mathcal{C}^{\\mathrm{opp}}</script>?\"</p>,\n",
       " <p>Your email address will not be published. Required fields are marked.\n",
       "   </p>,\n",
       " <p>In your comment you can use <a href=\"/markdown\">Markdown</a> and LaTeX style mathematics (enclose it like <code>$\\pi$</code>). A preview option is available if you wish to see how it works out (just click on the eye in the toolbar).\n",
       "   </p>,\n",
       " <p>Unfortunately JavaScript is disabled in your browser, so the comment preview function will not work.</p>,\n",
       " <p>All contributions are licensed under the <a href=\"https://github.com/stacks/stacks-project/blob/master/COPYING\">GNU Free Documentation License</a>.\n",
       " \n",
       "   </p>,\n",
       " <p>In order to prevent bots from posting comments, we would like you to prove that you are human. You can do this by <em>filling in the name of the current tag</em> in the following input field. As a reminder, this is tag <span class=\"tag\">03NB</span>. Beware of the difference between the letter '<span class=\"tag\">O</span>' and the digit '<span class=\"tag\">0</span>'.</p>,\n",
       " <p class=\"alert alert-warning\" id=\"captcha-message\" role=\"alert\" style=\"display: none\">The tag you filled in for the captcha is wrong. You need to write <span class=\"tag\">03NB</span>, in case you are confused.</p>,\n",
       " <ul class=\"neighbours\">\n",
       " <li class=\"left\"><a href=\"/tag/03NA\">previous section</a>\n",
       " </li><li class=\"right\"><a href=\"/tag/03NF\">next section</a>\n",
       " </li></ul>]"
      ]
     },
     "execution_count": 21,
     "metadata": {},
     "output_type": "execute_result"
    }
   ],
   "source": [
    "de = DE('https://stacks.math.columbia.edu/tag/03NB')\n",
    "#for i in range(10):\n",
    "#    print(de.def_pair_or_none())\n",
    "#    de = DE(de.next()[0])\n",
    "de.soup.findAll(['p','ul'])"
   ]
  },
  {
   "cell_type": "code",
   "execution_count": 22,
   "metadata": {},
   "outputs": [
    {
     "name": "stdout",
     "output_type": "stream",
     "text": [
      "\n",
      "Definition 54.9.1. Let $\\mathcal{C}$ be a category. A presheaf of sets (respectively, an abelian presheaf) on $\\mathcal{C}$ is a functor $\\mathcal{C}^{opp} \\to \\textit{Sets}$ (resp. $\\textit{Ab}$). \n",
      " https://stacks.math.columbia.edu/tag/03NB\n",
      "\n",
      "Definition 54.10.1. Let $\\mathcal{C}$ be a category. A family of morphisms with fixed target $\\mathcal{U} = \\{ \\varphi _ i : U_ i \\to U\\} _{i\\in I}$ is the data of \n",
      "\n",
      "\n",
      "an object $U \\in \\mathcal{C}$, \n",
      "\n",
      "\n",
      "a set $I$ (possibly empty), and \n",
      "\n",
      "\n",
      "for all $i\\in I$, a morphism $\\varphi _ i : U_ i \\to U$ of $\\mathcal{C}$ with target $U$. \n",
      "\n",
      "\n",
      " https://stacks.math.columbia.edu/tag/03NF\n",
      "\n",
      "Definition 54.11.1. A presheaf $\\mathcal{F}$ of sets (resp. abelian presheaf) on a site $\\mathcal{C}$ is said to be a separated presheaf if for all coverings $\\{ \\varphi _ i : U_ i \\to U\\} _{i\\in I} \\in \\text{Cov} (\\mathcal{C})$ the map \n",
      "\n",
      "  \\[  \\mathcal{F}(U) \\longrightarrow \\prod \\nolimits _{i\\in I} \\mathcal{F}(U_ i)  \\]\n",
      "\n",
      " is injective. Here the map is $s \\mapsto (s|_{U_ i})_{i\\in I}$. The presheaf $\\mathcal{F}$ is a sheaf if for all coverings $\\{ \\varphi _ i : U_ i \\to U\\} _{i\\in I} \\in \\text{Cov} (\\mathcal{C})$, the diagram \n",
      "\n",
      "54.11.1.1\n",
      "\\begin{equation}  \\label{etale-cohomology-equation-sheaf-axiom} \\xymatrix{ \\mathcal{F}(U) \\ar[r] &  \\prod _{i\\in I} \\mathcal{F}(U_ i) \\ar@<1ex>[r] \\ar@[r] &  \\prod _{i, j \\in I} \\mathcal{F}(U_ i \\times _ U U_ j), } \\end{equation}\n",
      " https://stacks.math.columbia.edu/tag/03NJ\n"
     ]
    },
    {
     "ename": "IndexError",
     "evalue": "list index out of range",
     "output_type": "error",
     "traceback": [
      "\u001b[0;31m---------------------------------------------------------------------------\u001b[0m",
      "\u001b[0;31mIndexError\u001b[0m                                Traceback (most recent call last)",
      "\u001b[0;32m<ipython-input-22-6bd7e1a47f6d>\u001b[0m in \u001b[0;36m<module>\u001b[0;34m\u001b[0m\n\u001b[1;32m      2\u001b[0m \u001b[0mvisited_lst\u001b[0m \u001b[0;34m=\u001b[0m \u001b[0;34m[\u001b[0m\u001b[0;34m]\u001b[0m\u001b[0;34m\u001b[0m\u001b[0;34m\u001b[0m\u001b[0m\n\u001b[1;32m      3\u001b[0m \u001b[0;32mfor\u001b[0m \u001b[0mi\u001b[0m \u001b[0;32min\u001b[0m \u001b[0mrange\u001b[0m\u001b[0;34m(\u001b[0m\u001b[0;36m50\u001b[0m\u001b[0;34m)\u001b[0m\u001b[0;34m:\u001b[0m\u001b[0;34m\u001b[0m\u001b[0;34m\u001b[0m\u001b[0m\n\u001b[0;32m----> 4\u001b[0;31m     \u001b[0mprint\u001b[0m\u001b[0;34m(\u001b[0m\u001b[0mde\u001b[0m\u001b[0;34m.\u001b[0m\u001b[0mdefin_section\u001b[0m\u001b[0;34m(\u001b[0m\u001b[0;34m)\u001b[0m\u001b[0;34m.\u001b[0m\u001b[0mtext\u001b[0m\u001b[0;34m,\u001b[0m \u001b[0mde\u001b[0m\u001b[0;34m.\u001b[0m\u001b[0murl\u001b[0m\u001b[0;34m.\u001b[0m\u001b[0mgeturl\u001b[0m\u001b[0;34m(\u001b[0m\u001b[0;34m)\u001b[0m\u001b[0;34m)\u001b[0m\u001b[0;34m\u001b[0m\u001b[0;34m\u001b[0m\u001b[0m\n\u001b[0m\u001b[1;32m      5\u001b[0m     \u001b[0mlink_lst\u001b[0m \u001b[0;34m+=\u001b[0m \u001b[0mde\u001b[0m\u001b[0;34m.\u001b[0m\u001b[0mnext\u001b[0m\u001b[0;34m(\u001b[0m\u001b[0;34m)\u001b[0m\u001b[0;34m\u001b[0m\u001b[0;34m\u001b[0m\u001b[0m\n\u001b[1;32m      6\u001b[0m \u001b[0;34m\u001b[0m\u001b[0m\n",
      "\u001b[0;32m~/MisDocumentos/arxivBulkDownload/arxivDownload/definiendum.py\u001b[0m in \u001b[0;36mdefin_section\u001b[0;34m(self)\u001b[0m\n\u001b[1;32m     86\u001b[0m          \u001b[0;34m'subwiki'\u001b[0m\u001b[0;34m:\u001b[0m \u001b[0mself\u001b[0m\u001b[0;34m.\u001b[0m\u001b[0m_defin_section_wikipedia\u001b[0m\u001b[0;34m,\u001b[0m\u001b[0;34m\u001b[0m\u001b[0;34m\u001b[0m\u001b[0m\n\u001b[1;32m     87\u001b[0m          'stacks_proj': self._defin_section_stacks_proj,}\n\u001b[0;32m---> 88\u001b[0;31m         \u001b[0;32mreturn\u001b[0m \u001b[0moption_dict\u001b[0m\u001b[0;34m[\u001b[0m\u001b[0mself\u001b[0m\u001b[0;34m.\u001b[0m\u001b[0mstyle\u001b[0m\u001b[0;34m]\u001b[0m\u001b[0;34m(\u001b[0m\u001b[0;34m)\u001b[0m\u001b[0;34m\u001b[0m\u001b[0;34m\u001b[0m\u001b[0m\n\u001b[0m\u001b[1;32m     89\u001b[0m \u001b[0;34m\u001b[0m\u001b[0m\n\u001b[1;32m     90\u001b[0m     \u001b[0;32mdef\u001b[0m \u001b[0m_next_wikipedia\u001b[0m\u001b[0;34m(\u001b[0m\u001b[0mself\u001b[0m\u001b[0;34m,\u001b[0m \u001b[0mnum_links\u001b[0m\u001b[0;34m=\u001b[0m\u001b[0;36m1\u001b[0m\u001b[0;34m)\u001b[0m\u001b[0;34m:\u001b[0m\u001b[0;34m\u001b[0m\u001b[0;34m\u001b[0m\u001b[0m\n",
      "\u001b[0;32m~/MisDocumentos/arxivBulkDownload/arxivDownload/definiendum.py\u001b[0m in \u001b[0;36m_defin_section_stacks_proj\u001b[0;34m(self)\u001b[0m\n\u001b[1;32m     75\u001b[0m \u001b[0;34m\u001b[0m\u001b[0m\n\u001b[1;32m     76\u001b[0m     \u001b[0;32mdef\u001b[0m \u001b[0m_defin_section_stacks_proj\u001b[0m\u001b[0;34m(\u001b[0m\u001b[0mself\u001b[0m\u001b[0;34m)\u001b[0m\u001b[0;34m:\u001b[0m\u001b[0;34m\u001b[0m\u001b[0;34m\u001b[0m\u001b[0m\n\u001b[0;32m---> 77\u001b[0;31m         \u001b[0;32mreturn\u001b[0m \u001b[0mself\u001b[0m\u001b[0;34m.\u001b[0m\u001b[0msoup\u001b[0m\u001b[0;34m.\u001b[0m\u001b[0mselect\u001b[0m\u001b[0;34m(\u001b[0m\u001b[0;34m'.env-definition'\u001b[0m\u001b[0;34m)\u001b[0m\u001b[0;34m[\u001b[0m\u001b[0;36m0\u001b[0m\u001b[0;34m]\u001b[0m\u001b[0;34m\u001b[0m\u001b[0;34m\u001b[0m\u001b[0m\n\u001b[0m\u001b[1;32m     78\u001b[0m \u001b[0;34m\u001b[0m\u001b[0m\n\u001b[1;32m     79\u001b[0m     \u001b[0;32mdef\u001b[0m \u001b[0mdefin_section\u001b[0m\u001b[0;34m(\u001b[0m\u001b[0mself\u001b[0m\u001b[0;34m)\u001b[0m\u001b[0;34m:\u001b[0m\u001b[0;34m\u001b[0m\u001b[0;34m\u001b[0m\u001b[0m\n",
      "\u001b[0;31mIndexError\u001b[0m: list index out of range"
     ]
    }
   ],
   "source": [
    "link_lst = []\n",
    "visited_lst = []\n",
    "for i in range(50):\n",
    "    print(de.defin_section().text, de.url.geturl())\n",
    "    link_lst += de.next()\n",
    "    \n",
    "   \n",
    "    next_site = link_lst.pop()\n",
    "    if next_site in visited_lst:\n",
    "        print(next_site, 'YALA')\n",
    "    else:\n",
    "        de = DE(next_site)\n",
    "        visited_lst.insert(0,next_site)\n",
    "        "
   ]
  },
  {
   "cell_type": "code",
   "execution_count": 364,
   "metadata": {},
   "outputs": [
    {
     "data": {
      "text/plain": [
       "['https://en.wikipedia.org/wiki/Mathematics',\n",
       " 'https://en.wikipedia.org/wiki/Manifold',\n",
       " 'https://en.wikipedia.org/wiki/Subset',\n",
       " 'https://en.wikipedia.org/wiki/Inclusion_map',\n",
       " 'https://en.wikipedia.org/wiki/Differentiable_manifold',\n",
       " 'https://en.wikipedia.org/wiki/Differentiability_class',\n",
       " 'https://en.wikipedia.org/wiki/Immersion_(mathematics)',\n",
       " 'https://en.wikipedia.org/wiki/Injective',\n",
       " 'https://en.wikipedia.org/wiki/Injective_module',\n",
       " 'https://en.wikipedia.org/wiki/Function_(mathematics)']"
      ]
     },
     "execution_count": 364,
     "metadata": {},
     "output_type": "execute_result"
    }
   ],
   "source": [
    "link_lst[:10]"
   ]
  },
  {
   "cell_type": "code",
   "execution_count": 277,
   "metadata": {},
   "outputs": [
    {
     "data": {
      "text/plain": [
       "'range '"
      ]
     },
     "execution_count": 277,
     "metadata": {},
     "output_type": "execute_result"
    }
   ],
   "source": [
    "ran = DE('https://en.wikipedia.org/wiki/Range_(mathematics)')\n",
    "ran.title().replace('(mathematics)','')"
   ]
  },
  {
   "cell_type": "code",
   "execution_count": 2,
   "metadata": {
    "scrolled": true
   },
   "outputs": [],
   "source": [
    "pedia = bs(requests.get('https://en.wikipedia.org/wiki/Submanifold').text,'lxml')\n",
    "prop = bs(requests.get('https://groupprops.subwiki.org/wiki/Trivial_group').text,'lxml')\n",
    "stacks = bs(requests.get('https://stacks.math.columbia.edu/tag/03NB').text,'lxml')"
   ]
  },
  {
   "cell_type": "code",
   "execution_count": 5,
   "metadata": {},
   "outputs": [
    {
     "data": {
      "text/plain": [
       "[<span class=\"mw-headline\" id=\"Formal_definition\">Formal definition</span>]"
      ]
     },
     "execution_count": 5,
     "metadata": {},
     "output_type": "execute_result"
    }
   ],
   "source": [
    "pedia.find_all('span',{'id':'Formal_definition'})"
   ]
  },
  {
   "cell_type": "code",
   "execution_count": 7,
   "metadata": {},
   "outputs": [
    {
     "data": {
      "text/plain": [
       "[<span class=\"mw-headline\" id=\"Definition\">Definition</span>]"
      ]
     },
     "execution_count": 7,
     "metadata": {},
     "output_type": "execute_result"
    }
   ],
   "source": [
    "prop.find_all(id='Definition')"
   ]
  },
  {
   "cell_type": "code",
   "execution_count": 237,
   "metadata": {},
   "outputs": [
    {
     "data": {
      "text/plain": [
       "1"
      ]
     },
     "execution_count": 237,
     "metadata": {},
     "output_type": "execute_result"
    }
   ],
   "source": [
    "True*True"
   ]
  },
  {
   "cell_type": "code",
   "execution_count": 8,
   "metadata": {},
   "outputs": [
    {
     "data": {
      "text/plain": [
       "[<span class=\"mw-headline\" id=\"Definition\">Definition</span>]"
      ]
     },
     "execution_count": 8,
     "metadata": {},
     "output_type": "execute_result"
    }
   ],
   "source": [
    "# CSS Selectors\n",
    "prop.select('span#Definition')"
   ]
  },
  {
   "cell_type": "code",
   "execution_count": 26,
   "metadata": {},
   "outputs": [
    {
     "data": {
      "text/plain": [
       "[<span class=\"mw-headline\" id=\"Definition\">Definition</span>]"
      ]
     },
     "execution_count": 26,
     "metadata": {},
     "output_type": "execute_result"
    }
   ],
   "source": [
    "# search with a function\n",
    "def insensitive_search(x, search_for='definition'):\n",
    "    if x:\n",
    "        return x.lower() == 'definition'\n",
    "    else:\n",
    "        return False\n",
    "    \n",
    "prop.findAll('span', id=insensitive_search)"
   ]
  },
  {
   "cell_type": "code",
   "execution_count": 117,
   "metadata": {
    "scrolled": true
   },
   "outputs": [
    {
     "name": "stdout",
     "output_type": "stream",
     "text": [
      "An immersed submanifold of a manifold M is the image S of an immersion map f: N → M; in general this image will not be a submanifold as a subset, and an immersion map need not even be injective (one-to-one) – it can have self-intersections.[1]\n",
      "\n",
      "More narrowly, one can require that the map f: N → M be an injection (one-to-one), in which we call it an injective immersion, and define an immersed submanifold to be the image subset S together with a topology and differential structure such that S is a manifold and the inclusion f is a diffeomorphism: this is just the topology on N, which in general will not agree with the subset topology: in general the subset S is not a submanifold of M, in the subset topology.\n",
      "\n",
      "Given any injective immersion f : N → M the image of N in M can be uniquely given the structure of an immersed submanifold so that f : N → f(N) is a diffeomorphism. It follows that immersed submanifolds are precisely the images of injective immersions.\n",
      "\n",
      "The submanifold topology on an immersed submanifold need not be the relative topology inherited from M. In general, it will be finer than the subspace topology (i.e. have more open sets).\n",
      "\n",
      "Immersed submanifolds occur in the theory of Lie groups where Lie subgroups are naturally immersed submanifolds.\n",
      "\n",
      "An embedded submanifold (also called a regular submanifold), is an immersed submanifold for which the inclusion map is a topological embedding. That is, the submanifold topology on S is the same as the subspace topology.\n",
      "\n",
      "Given any embedding f : N → M of a manifold N in M the image f(N) naturally has the structure of an embedded submanifold. That is, embedded submanifolds are precisely the images of embeddings.\n",
      "\n",
      "There is an intrinsic definition of an embedded submanifold which is often useful. Let M be an n-dimensional manifold, and let k be an integer such that 0 ≤ k ≤ n. A k-dimensional embedded submanifold of M is a subset S ⊂ M such that for every point p ∈ S there exists a chart (U ⊂ M, φ : U → Rn) containing p such that φ(S ∩ U) is the intersection of a k-dimensional plane with φ(U). The pairs (S ∩ U, φ|S ∩ U) form an atlas for the differential structure on S.\n",
      "\n",
      "There are some other variations of submanifolds used in the literature. A neat submanifold is a manifold whose boundary agrees with the boundary of the entire manifold.[2] Sharpe (1997) defines a type of submanifold which lies somewhere between an embedded submanifold and an immersed submanifold.\n",
      "\n",
      "Many authors define topological submanifolds also. These are the same as Cr submanifolds with r = 0.[3] An embedded topological submanifold is not necessarily regular in the sense of the existence of a local chart at each point extending the embedding. Counterexamples include wild arcs and wild knots.\n",
      "\n",
      "Given any immersed submanifold S of M, the tangent space to a point p in S can naturally be thought of as a linear subspace of the tangent space to p in M. This follows from the fact that the inclusion map is an immersion and provides an injection\n",
      "\n",
      "Suppose S is an immersed submanifold of M. If the inclusion map i : S → M is closed then S is actually an embedded submanifold of M. Conversely, if S is an embedded submanifold which is also a closed subset then the inclusion map is closed. The inclusion map i : S → M is closed if and only if it is a proper map (i.e. inverse images of compact sets are compact). If i is closed then S is called a closed embedded submanifold of M. Closed embedded submanifolds form the nicest class of submanifolds.\n",
      "\n",
      "Smooth manifolds are sometimes defined as embedded submanifolds of real coordinate space Rn, for some n. This point of view is equivalent to the usual, abstract approach, because, by the Whitney embedding theorem, any second-countable smooth (abstract) m-manifold can be smoothly embedded in R2m.\n",
      "\n"
     ]
    }
   ],
   "source": [
    "title = ped.findAll(id = 'firstHeading')[0].text.lower()\n",
    "reg_expr = re.compile('.*definition', re.I)\n",
    "Defin = pedia.findAll('span', id= reg_expr)[0]\n",
    "for p in P.parent.findAllNext('p'):\n",
    "    if title in p.text.lower():\n",
    "        print(p.text)"
   ]
  },
  {
   "cell_type": "code",
   "execution_count": 108,
   "metadata": {},
   "outputs": [
    {
     "name": "stdout",
     "output_type": "stream",
     "text": [
      "The trivial group is the group with only one element, which is its identity element. The trivial group is usually denoted as , , or .\n",
      "\n",
      "The trivial group is important in the following ways:\n",
      "\n"
     ]
    }
   ],
   "source": [
    "title = prop.findAll(id = 'firstHeading')[0].text.lower()\n",
    "reg_expr = re.compile('.*definition', re.I)\n",
    "Defin = prop.findAll('span', id= reg_expr)[0]\n",
    "for p in Defin.parent.findAllNext('p'):\n",
    "    if title in p.text.lower():\n",
    "        print(p.text)"
   ]
  },
  {
   "cell_type": "code",
   "execution_count": 111,
   "metadata": {},
   "outputs": [],
   "source": [
    "title = list(stacks.select('.tex-section')[0].strings)[-1]\n",
    "#reg_expr = re.compile('.*definition', re.I)\n",
    "#Defin = prop.findAll('span', id= reg_expr)[0]\n",
    "#for p in Defin.parent.findAllNext('p'):\n",
    "#    if title in p.text.lower():\n",
    "#        print(p.text)"
   ]
  },
  {
   "cell_type": "code",
   "execution_count": 55,
   "metadata": {},
   "outputs": [
    {
     "data": {
      "text/plain": [
       "[<article class=\"env-definition\" id=\"03NC\">\n",
       " <p><a class=\"environment-identifier\" href=\"/tag/03NC\">Definition <span data-tag=\"03NC\">54.9.1</span>.</a> Let $\\mathcal{C}$ be a category. A <em>presheaf of sets</em> (respectively, an <em>abelian presheaf</em>) on $\\mathcal{C}$ is a functor $\\mathcal{C}^{opp} \\to \\textit{Sets}$ (resp. $\\textit{Ab}$). </p>\n",
       " </article>]"
      ]
     },
     "execution_count": 55,
     "metadata": {},
     "output_type": "execute_result"
    }
   ],
   "source": [
    "stacks.findAll('article',{'class':'env-definition'})"
   ]
  },
  {
   "cell_type": "code",
   "execution_count": 68,
   "metadata": {},
   "outputs": [
    {
     "data": {
      "text/plain": [
       "[<article class=\"env-definition\" id=\"03NC\">\n",
       " <p><a class=\"environment-identifier\" href=\"/tag/03NC\">Definition <span data-tag=\"03NC\">54.9.1</span>.</a> Let $\\mathcal{C}$ be a category. A <em>presheaf of sets</em> (respectively, an <em>abelian presheaf</em>) on $\\mathcal{C}$ is a functor $\\mathcal{C}^{opp} \\to \\textit{Sets}$ (resp. $\\textit{Ab}$). </p>\n",
       " </article>]"
      ]
     },
     "execution_count": 68,
     "metadata": {},
     "output_type": "execute_result"
    }
   ],
   "source": [
    "stacks.find_all(attrs={'class': 'env-definition'})"
   ]
  },
  {
   "cell_type": "code",
   "execution_count": 121,
   "metadata": {},
   "outputs": [],
   "source": [
    "obj = stacks.select('.env-definition')[0]"
   ]
  },
  {
   "cell_type": "code",
   "execution_count": 123,
   "metadata": {},
   "outputs": [
    {
     "data": {
      "text/plain": [
       "'\\nDefinition 54.9.1. Let $\\\\mathcal{C}$ be a category. A presheaf of sets (respectively, an abelian presheaf) on $\\\\mathcal{C}$ is a functor $\\\\mathcal{C}^{opp} \\\\to \\\\textit{Sets}$ (resp. $\\\\textit{Ab}$). \\n'"
      ]
     },
     "execution_count": 123,
     "metadata": {},
     "output_type": "execute_result"
    }
   ],
   "source": [
    "obj.text"
   ]
  },
  {
   "cell_type": "code",
   "execution_count": 105,
   "metadata": {},
   "outputs": [
    {
     "data": {
      "text/plain": [
       "['54.9', ' Presheaves']"
      ]
     },
     "execution_count": 105,
     "metadata": {},
     "output_type": "execute_result"
    }
   ],
   "source": [
    "[o for o in obj.strings]"
   ]
  },
  {
   "cell_type": "code",
   "execution_count": null,
   "metadata": {},
   "outputs": [],
   "source": []
  }
 ],
 "metadata": {
  "kernelspec": {
   "display_name": "Python 3 (ipykernel)",
   "language": "python",
   "name": "python3"
  },
  "language_info": {
   "codemirror_mode": {
    "name": "ipython",
    "version": 3
   },
   "file_extension": ".py",
   "mimetype": "text/x-python",
   "name": "python",
   "nbconvert_exporter": "python",
   "pygments_lexer": "ipython3",
   "version": "3.10.0rc1"
  }
 },
 "nbformat": 4,
 "nbformat_minor": 4
}
