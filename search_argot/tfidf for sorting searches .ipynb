{
 "cells": [
  {
   "cell_type": "markdown",
   "metadata": {},
   "source": [
    "# Contents\n",
    "1) To compute the `tf-idf` consider a corpus $D$, with documents $d$ and terms $t$:\n",
    "\n",
    "$$tf(t,d) = \\frac{f_{t,d}}{\\sum_{\\tau\\in V} f_{\\tau, d}}$$\n",
    "\n",
    "The vocabulary is $V$ and $f_{t,d}$ the count of the term $t$ in $d$. Then compute\n",
    "$$idf(t,D) = \\ln\\left( \\frac{N}{|\\{ d\\in D:\\ t\\in d \\}|}\\right)$$\n",
    "here $N=|D|$ (number of documents in the corpus). Finally the $tfidf(t,d,D) = tf(t,d)\\cdot idf(t,D)$.\n",
    "\n",
    "In the sklearn module, (with `norm = None`)\n",
    "$$tfidf(t, d,D) = f_{t, d}\\cdot(1+\\ln((N+1)/(df(t)+1))$$\n",
    "With `norm = \"l1\"` each row is normalized, that is, each term is divided by the sum of the row.\n",
    "\n",
    "## Workflow\n",
    "1) Get the promath data that has the format:\n",
    "\n",
    "     - promath\n",
    "     \n",
    "       - math10\n",
    "       \n",
    "         - 1003_001.tar.gz\n",
    "         - 1003_002.tag.gz\n",
    "         - ...\n",
    "         \n",
    "  The function should take in the file 1003_001.tar.gz, a _list of phrases_ and output a file with the format:\n",
    "```xml\n",
    "<root>\n",
    "  <article name=\"culito.tx\">\n",
    "      <para num=1> text </para>\n",
    "      <para num=2> text </para>\n",
    "  </article>\n",
    "</root>\n",
    "```\n",
    "The text in the para tags is clean, tokenized and joined."
   ]
  },
  {
   "cell_type": "code",
   "execution_count": 6,
   "metadata": {},
   "outputs": [],
   "source": [
    "import numpy as np\n",
    "from sklearn.feature_extraction.text import TfidfVectorizer"
   ]
  },
  {
   "cell_type": "code",
   "execution_count": 7,
   "metadata": {},
   "outputs": [],
   "source": [
    "corpus = [\n",
    "    'This is the first document.',\n",
    "    'This document is the second document.',\n",
    "    'And this is the third one.',\n",
    "    'Is this the first document?',\n",
    "]"
   ]
  },
  {
   "cell_type": "code",
   "execution_count": 44,
   "metadata": {},
   "outputs": [
    {
     "data": {
      "text/plain": [
       "['and', 'document', 'first', 'is', 'one', 'second', 'the', 'third', 'this']"
      ]
     },
     "execution_count": 44,
     "metadata": {},
     "output_type": "execute_result"
    }
   ],
   "source": [
    "vect = TfidfVectorizer(norm='l1')\n",
    "X = vect.fit_transform(corpus) \n",
    "vect.get_feature_names()"
   ]
  },
  {
   "cell_type": "code",
   "execution_count": 47,
   "metadata": {},
   "outputs": [
    {
     "data": {
      "text/plain": [
       "(0.3322595913573379, 0.40771451710473655)"
      ]
     },
     "execution_count": 47,
     "metadata": {},
     "output_type": "execute_result"
    }
   ],
   "source": [
    "X[1,1], 2/6*(1+np.log(5/4))"
   ]
  },
  {
   "cell_type": "code",
   "execution_count": 56,
   "metadata": {},
   "outputs": [
    {
     "data": {
      "text/plain": [
       "0.9999999999999999"
      ]
     },
     "execution_count": 56,
     "metadata": {},
     "output_type": "execute_result"
    }
   ],
   "source": [
    "sum([X[1,l] for l in range(9)])"
   ]
  },
  {
   "cell_type": "code",
   "execution_count": null,
   "metadata": {},
   "outputs": [],
   "source": []
  },
  {
   "cell_type": "code",
   "execution_count": 53,
   "metadata": {},
   "outputs": [
    {
     "data": {
      "text/plain": [
       "(4, 9)"
      ]
     },
     "execution_count": 53,
     "metadata": {},
     "output_type": "execute_result"
    }
   ],
   "source": [
    "X.shape"
   ]
  },
  {
   "cell_type": "code",
   "execution_count": null,
   "metadata": {},
   "outputs": [],
   "source": []
  }
 ],
 "metadata": {
  "kernelspec": {
   "display_name": "Python 3",
   "language": "python",
   "name": "python3"
  },
  "language_info": {
   "codemirror_mode": {
    "name": "ipython",
    "version": 3
   },
   "file_extension": ".py",
   "mimetype": "text/x-python",
   "name": "python",
   "nbconvert_exporter": "python",
   "pygments_lexer": "ipython3",
   "version": "3.8.10"
  }
 },
 "nbformat": 4,
 "nbformat_minor": 4
}
