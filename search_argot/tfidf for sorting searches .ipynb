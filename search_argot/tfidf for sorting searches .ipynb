{
 "cells": [
  {
   "cell_type": "markdown",
   "metadata": {},
   "source": [
    "# Contents\n",
    "1) Join more phrases (target 300K)\n",
    "\n",
    "2) Create new word embeddings.\n",
    "\n",
    "3) Create new index for ANN\n",
    "\n",
    "1) To compute the `tf-idf` consider a corpus $D$, with documents $d$ and terms $t$:\n",
    "  $$tf(t,d) = \\frac{f_{t,d}}{\\sum_{\\tau\\in V} f_{\\tau, d}}$$\n",
    "\n",
    "The vocabulary is $V$ and $f_{t,d}$ the count of the term $t$ in $d$. Then compute\n",
    "$$idf(t,D) = \\ln\\left( \\frac{N}{|\\{ d\\in D:\\ t\\in d \\}|}\\right)$$\n",
    "here $N=|D|$ (number of documents in the corpus). Finally the $tfidf(t,d,D) = tf(t,d)\\cdot idf(t,D)$.\n",
    "\n",
    "In the sklearn module, (with `norm = None`)\n",
    "$$tfidf(t, d,D) = f_{t, d}\\cdot(1+\\ln((N+1)/(df(t)+1))$$\n",
    "With `norm = \"l1\"` each row is normalized, that is, each term is divided by the sum of the row.\n",
    "\n",
    "## Workflow\n",
    "1) Get the promath data that has the format:\n",
    "\n",
    "     - promath\n",
    "     \n",
    "       - math10\n",
    "       \n",
    "         - 1003_001.tar.gz\n",
    "         - 1003_002.tag.gz\n",
    "         - ...\n",
    "         \n",
    "  The function should take in the file 1003_001.tar.gz, a _list of phrases_ and output a file with the format:\n",
    "```xml\n",
    "<root>\n",
    "  <article name=\"macizo.tx\">\n",
    "      <parag num=1> text </para>\n",
    "      <parag num=2> text </para>\n",
    "  </article>\n",
    "</root>\n",
    "```\n",
    "The text in the para tags is clean, tokenized and joined."
   ]
  },
  {
   "cell_type": "code",
   "execution_count": 1,
   "metadata": {},
   "outputs": [],
   "source": [
    "import numpy as np\n",
    "from sklearn.feature_extraction.text import TfidfVectorizer\n",
    "from lxml import etree\n",
    "import gzip\n",
    "from glob import glob\n",
    "from collections import Counter\n",
    "from tqdm import tqdm\n",
    "import re\n",
    "import random\n",
    "\n",
    "import os, sys, inspect\n",
    "currentdir = os.path.dirname(os.path.abspath(inspect.getfile(inspect.currentframe())))\n",
    "parentdir = os.path.dirname(currentdir)\n",
    "sys.path.insert(0, os.path.join(parentdir, 'embed'))\n",
    "sys.path.insert(0, parentdir)\n",
    "\n",
    "from clean_and_token_text import normalize_text, normalize_phrase, \\\n",
    "                                 token_phrases3, ReadGlossary, join_phrases\n",
    "%load_ext autoreload\n",
    "%autoreload 2\n",
    "import parsing_xml as px\n",
    "import peep_tar as peep"
   ]
  },
  {
   "cell_type": "code",
   "execution_count": 2,
   "metadata": {},
   "outputs": [],
   "source": [
    "txmlst = []\n",
    "for t in peep.tar_iter('../tests/few_actual_articles.tar.gz', '.xml'):\n",
    "    txmlst.append(px.DefinitionsXML(t[1]).run_recutext_onall_para(cleaner_fun=normalize_text))"
   ]
  },
  {
   "cell_type": "code",
   "execution_count": 2,
   "metadata": {},
   "outputs": [
    {
     "name": "stderr",
     "output_type": "stream",
     "text": [
      "100%|██████████| 2816/2816 [00:51<00:00, 54.30it/s] \n"
     ]
    },
    {
     "name": "stdout",
     "output_type": "stream",
     "text": [
      "759240\n"
     ]
    }
   ],
   "source": [
    "phrases_file = glob('/media/hd1/glossary/NN.v1/math*/*')\n",
    "\n",
    "phrases_cnt = Counter()\n",
    "for xml_path in tqdm(phrases_file):\n",
    "    root = etree.parse(xml_path)\n",
    "    phrases_list_temp = [normalize_text(r.text)\\\n",
    "            for r in root.findall('//dfndum') ]\n",
    "    phrases_cnt.update([r for r in phrases_list_temp if len(r.split()) > 1])\n",
    "\n",
    "phrases_lst = [pair[0] for pair in phrases_cnt.most_common()]\n",
    "print(len(phrases_lst))\n",
    "join_fun = lambda s: token_phrases3(s, phrase_lst=phrases_lst)"
   ]
  },
  {
   "cell_type": "code",
   "execution_count": 222,
   "metadata": {
    "collapsed": true,
    "jupyter": {
     "outputs_hidden": true
    }
   },
   "outputs": [
    {
     "ename": "ValueError",
     "evalue": "A phrase with only too few words was given. Phrase: lie",
     "output_type": "error",
     "traceback": [
      "\u001b[0;31m---------------------------------------------------------------------------\u001b[0m",
      "\u001b[0;31mValueError\u001b[0m                                Traceback (most recent call last)",
      "\u001b[0;32m<ipython-input-222-7ad916020101>\u001b[0m in \u001b[0;36m<module>\u001b[0;34m\u001b[0m\n\u001b[0;32m----> 1\u001b[0;31m \u001b[0mget_ipython\u001b[0m\u001b[0;34m(\u001b[0m\u001b[0;34m)\u001b[0m\u001b[0;34m.\u001b[0m\u001b[0mrun_cell_magic\u001b[0m\u001b[0;34m(\u001b[0m\u001b[0;34m'timeit'\u001b[0m\u001b[0;34m,\u001b[0m \u001b[0;34m''\u001b[0m\u001b[0;34m,\u001b[0m \u001b[0;34m\"#text = 'let us begin with a rough description of kozlov the general setting and the background of the problem .'\\ntext = 'with a rough .'\\n#text = 'so weird what what what is going on of the let us begin this with background of the problem .'\\n#token_phrases3(text, phrase_lst=(of_lst + ['of the']))\\ntoken_phrases3(text, phrase_lst=ph_dict)\\n\"\u001b[0m\u001b[0;34m)\u001b[0m\u001b[0;34m\u001b[0m\u001b[0;34m\u001b[0m\u001b[0m\n\u001b[0m",
      "\u001b[0;32m/usr/local/lib/python3.8/dist-packages/IPython/core/interactiveshell.py\u001b[0m in \u001b[0;36mrun_cell_magic\u001b[0;34m(self, magic_name, line, cell)\u001b[0m\n\u001b[1;32m   2379\u001b[0m             \u001b[0;32mwith\u001b[0m \u001b[0mself\u001b[0m\u001b[0;34m.\u001b[0m\u001b[0mbuiltin_trap\u001b[0m\u001b[0;34m:\u001b[0m\u001b[0;34m\u001b[0m\u001b[0;34m\u001b[0m\u001b[0m\n\u001b[1;32m   2380\u001b[0m                 \u001b[0margs\u001b[0m \u001b[0;34m=\u001b[0m \u001b[0;34m(\u001b[0m\u001b[0mmagic_arg_s\u001b[0m\u001b[0;34m,\u001b[0m \u001b[0mcell\u001b[0m\u001b[0;34m)\u001b[0m\u001b[0;34m\u001b[0m\u001b[0;34m\u001b[0m\u001b[0m\n\u001b[0;32m-> 2381\u001b[0;31m                 \u001b[0mresult\u001b[0m \u001b[0;34m=\u001b[0m \u001b[0mfn\u001b[0m\u001b[0;34m(\u001b[0m\u001b[0;34m*\u001b[0m\u001b[0margs\u001b[0m\u001b[0;34m,\u001b[0m \u001b[0;34m**\u001b[0m\u001b[0mkwargs\u001b[0m\u001b[0;34m)\u001b[0m\u001b[0;34m\u001b[0m\u001b[0;34m\u001b[0m\u001b[0m\n\u001b[0m\u001b[1;32m   2382\u001b[0m             \u001b[0;32mreturn\u001b[0m \u001b[0mresult\u001b[0m\u001b[0;34m\u001b[0m\u001b[0;34m\u001b[0m\u001b[0m\n\u001b[1;32m   2383\u001b[0m \u001b[0;34m\u001b[0m\u001b[0m\n",
      "\u001b[0;32m<decorator-gen-60>\u001b[0m in \u001b[0;36mtimeit\u001b[0;34m(self, line, cell, local_ns)\u001b[0m\n",
      "\u001b[0;32m/usr/local/lib/python3.8/dist-packages/IPython/core/magic.py\u001b[0m in \u001b[0;36m<lambda>\u001b[0;34m(f, *a, **k)\u001b[0m\n\u001b[1;32m    185\u001b[0m     \u001b[0;31m# but it's overkill for just that one bit of state.\u001b[0m\u001b[0;34m\u001b[0m\u001b[0;34m\u001b[0m\u001b[0;34m\u001b[0m\u001b[0m\n\u001b[1;32m    186\u001b[0m     \u001b[0;32mdef\u001b[0m \u001b[0mmagic_deco\u001b[0m\u001b[0;34m(\u001b[0m\u001b[0marg\u001b[0m\u001b[0;34m)\u001b[0m\u001b[0;34m:\u001b[0m\u001b[0;34m\u001b[0m\u001b[0;34m\u001b[0m\u001b[0m\n\u001b[0;32m--> 187\u001b[0;31m         \u001b[0mcall\u001b[0m \u001b[0;34m=\u001b[0m \u001b[0;32mlambda\u001b[0m \u001b[0mf\u001b[0m\u001b[0;34m,\u001b[0m \u001b[0;34m*\u001b[0m\u001b[0ma\u001b[0m\u001b[0;34m,\u001b[0m \u001b[0;34m**\u001b[0m\u001b[0mk\u001b[0m\u001b[0;34m:\u001b[0m \u001b[0mf\u001b[0m\u001b[0;34m(\u001b[0m\u001b[0;34m*\u001b[0m\u001b[0ma\u001b[0m\u001b[0;34m,\u001b[0m \u001b[0;34m**\u001b[0m\u001b[0mk\u001b[0m\u001b[0;34m)\u001b[0m\u001b[0;34m\u001b[0m\u001b[0;34m\u001b[0m\u001b[0m\n\u001b[0m\u001b[1;32m    188\u001b[0m \u001b[0;34m\u001b[0m\u001b[0m\n\u001b[1;32m    189\u001b[0m         \u001b[0;32mif\u001b[0m \u001b[0mcallable\u001b[0m\u001b[0;34m(\u001b[0m\u001b[0marg\u001b[0m\u001b[0;34m)\u001b[0m\u001b[0;34m:\u001b[0m\u001b[0;34m\u001b[0m\u001b[0;34m\u001b[0m\u001b[0m\n",
      "\u001b[0;32m/usr/local/lib/python3.8/dist-packages/IPython/core/magics/execution.py\u001b[0m in \u001b[0;36mtimeit\u001b[0;34m(self, line, cell, local_ns)\u001b[0m\n\u001b[1;32m   1167\u001b[0m             \u001b[0;32mfor\u001b[0m \u001b[0mindex\u001b[0m \u001b[0;32min\u001b[0m \u001b[0mrange\u001b[0m\u001b[0;34m(\u001b[0m\u001b[0;36m0\u001b[0m\u001b[0;34m,\u001b[0m \u001b[0;36m10\u001b[0m\u001b[0;34m)\u001b[0m\u001b[0;34m:\u001b[0m\u001b[0;34m\u001b[0m\u001b[0;34m\u001b[0m\u001b[0m\n\u001b[1;32m   1168\u001b[0m                 \u001b[0mnumber\u001b[0m \u001b[0;34m=\u001b[0m \u001b[0;36m10\u001b[0m \u001b[0;34m**\u001b[0m \u001b[0mindex\u001b[0m\u001b[0;34m\u001b[0m\u001b[0;34m\u001b[0m\u001b[0m\n\u001b[0;32m-> 1169\u001b[0;31m                 \u001b[0mtime_number\u001b[0m \u001b[0;34m=\u001b[0m \u001b[0mtimer\u001b[0m\u001b[0;34m.\u001b[0m\u001b[0mtimeit\u001b[0m\u001b[0;34m(\u001b[0m\u001b[0mnumber\u001b[0m\u001b[0;34m)\u001b[0m\u001b[0;34m\u001b[0m\u001b[0;34m\u001b[0m\u001b[0m\n\u001b[0m\u001b[1;32m   1170\u001b[0m                 \u001b[0;32mif\u001b[0m \u001b[0mtime_number\u001b[0m \u001b[0;34m>=\u001b[0m \u001b[0;36m0.2\u001b[0m\u001b[0;34m:\u001b[0m\u001b[0;34m\u001b[0m\u001b[0;34m\u001b[0m\u001b[0m\n\u001b[1;32m   1171\u001b[0m                     \u001b[0;32mbreak\u001b[0m\u001b[0;34m\u001b[0m\u001b[0;34m\u001b[0m\u001b[0m\n",
      "\u001b[0;32m/usr/local/lib/python3.8/dist-packages/IPython/core/magics/execution.py\u001b[0m in \u001b[0;36mtimeit\u001b[0;34m(self, number)\u001b[0m\n\u001b[1;32m    167\u001b[0m         \u001b[0mgc\u001b[0m\u001b[0;34m.\u001b[0m\u001b[0mdisable\u001b[0m\u001b[0;34m(\u001b[0m\u001b[0;34m)\u001b[0m\u001b[0;34m\u001b[0m\u001b[0;34m\u001b[0m\u001b[0m\n\u001b[1;32m    168\u001b[0m         \u001b[0;32mtry\u001b[0m\u001b[0;34m:\u001b[0m\u001b[0;34m\u001b[0m\u001b[0;34m\u001b[0m\u001b[0m\n\u001b[0;32m--> 169\u001b[0;31m             \u001b[0mtiming\u001b[0m \u001b[0;34m=\u001b[0m \u001b[0mself\u001b[0m\u001b[0;34m.\u001b[0m\u001b[0minner\u001b[0m\u001b[0;34m(\u001b[0m\u001b[0mit\u001b[0m\u001b[0;34m,\u001b[0m \u001b[0mself\u001b[0m\u001b[0;34m.\u001b[0m\u001b[0mtimer\u001b[0m\u001b[0;34m)\u001b[0m\u001b[0;34m\u001b[0m\u001b[0;34m\u001b[0m\u001b[0m\n\u001b[0m\u001b[1;32m    170\u001b[0m         \u001b[0;32mfinally\u001b[0m\u001b[0;34m:\u001b[0m\u001b[0;34m\u001b[0m\u001b[0;34m\u001b[0m\u001b[0m\n\u001b[1;32m    171\u001b[0m             \u001b[0;32mif\u001b[0m \u001b[0mgcold\u001b[0m\u001b[0;34m:\u001b[0m\u001b[0;34m\u001b[0m\u001b[0;34m\u001b[0m\u001b[0m\n",
      "\u001b[0;32m<magic-timeit>\u001b[0m in \u001b[0;36minner\u001b[0;34m(_it, _timer)\u001b[0m\n",
      "\u001b[0;32m~/Documents/arxivDownload/embed/clean_and_token_text.py\u001b[0m in \u001b[0;36mtoken_phrases3\u001b[0;34m(text, phrase_lst, join_str)\u001b[0m\n\u001b[1;32m    301\u001b[0m             \u001b[0mphrase_default\u001b[0m\u001b[0;34m[\u001b[0m\u001b[0mph_lst\u001b[0m\u001b[0;34m[\u001b[0m\u001b[0;36m0\u001b[0m\u001b[0;34m]\u001b[0m\u001b[0;34m]\u001b[0m\u001b[0;34m.\u001b[0m\u001b[0madd\u001b[0m\u001b[0;34m(\u001b[0m\u001b[0mtuple\u001b[0m\u001b[0;34m(\u001b[0m\u001b[0mph_lst\u001b[0m\u001b[0;34m[\u001b[0m\u001b[0;36m1\u001b[0m\u001b[0;34m:\u001b[0m\u001b[0;34m]\u001b[0m\u001b[0;34m)\u001b[0m\u001b[0;34m)\u001b[0m\u001b[0;34m\u001b[0m\u001b[0;34m\u001b[0m\u001b[0m\n\u001b[1;32m    302\u001b[0m         \u001b[0;32melse\u001b[0m\u001b[0;34m:\u001b[0m\u001b[0;34m\u001b[0m\u001b[0;34m\u001b[0m\u001b[0m\n\u001b[0;32m--> 303\u001b[0;31m             \u001b[0;32mraise\u001b[0m \u001b[0mValueError\u001b[0m\u001b[0;34m(\u001b[0m\u001b[0;34m'A phrase with only too few words was given. Phrase: {}'\u001b[0m\u001b[0;34m.\u001b[0m\u001b[0mformat\u001b[0m\u001b[0;34m(\u001b[0m\u001b[0mph\u001b[0m\u001b[0;34m)\u001b[0m\u001b[0;34m)\u001b[0m\u001b[0;34m\u001b[0m\u001b[0;34m\u001b[0m\u001b[0m\n\u001b[0m\u001b[1;32m    304\u001b[0m \u001b[0;34m\u001b[0m\u001b[0m\n\u001b[1;32m    305\u001b[0m     \u001b[0mtext_lst\u001b[0m \u001b[0;34m=\u001b[0m \u001b[0mtext\u001b[0m\u001b[0;34m.\u001b[0m\u001b[0msplit\u001b[0m\u001b[0;34m(\u001b[0m\u001b[0;34m' '\u001b[0m\u001b[0;34m)\u001b[0m\u001b[0;34m\u001b[0m\u001b[0;34m\u001b[0m\u001b[0m\n",
      "\u001b[0;31mValueError\u001b[0m: A phrase with only too few words was given. Phrase: lie"
     ]
    }
   ],
   "source": [
    "%%timeit\n",
    "#text = 'let us begin with a rough description of kozlov the general setting and the background of the problem .'\n",
    "text = 'with a rough .'\n",
    "#text = 'so weird what what what is going on of the let us begin this with background of the problem .'\n",
    "#token_phrases3(text, phrase_lst=(of_lst + ['of the']))\n",
    "token_phrases3(text, phrase_lst=phrases_lst)"
   ]
  },
  {
   "cell_type": "code",
   "execution_count": 31,
   "metadata": {},
   "outputs": [
    {
     "name": "stderr",
     "output_type": "stream",
     "text": [
      "  1%|          | 21/2816 [00:00<00:16, 170.80it/s]"
     ]
    },
    {
     "name": "stdout",
     "output_type": "stream",
     "text": [
      "found [2816, 2816] files\n"
     ]
    },
    {
     "name": "stderr",
     "output_type": "stream",
     "text": [
      "100%|██████████| 2816/2816 [00:53<00:00, 52.89it/s] \n",
      "100%|██████████| 2816/2816 [00:54<00:00, 51.36it/s] \n"
     ]
    }
   ],
   "source": [
    "RG = ReadGlossary('/media/hd1/glossary/v3/math*/*.xml.gz', '/media/hd1/glossary/NN.v1/math*/*')\n",
    "ph_dict = RG.first_word_dict(intersect = 'relative')"
   ]
  },
  {
   "cell_type": "code",
   "execution_count": 231,
   "metadata": {},
   "outputs": [
    {
     "data": {
      "text/plain": [
       "347496"
      ]
     },
     "execution_count": 231,
     "metadata": {},
     "output_type": "execute_result"
    }
   ],
   "source": [
    "si = sorted(ntci.items(), key = (lambda kv: kv[1]), reverse=False)\n",
    "len(si)"
   ]
  },
  {
   "cell_type": "code",
   "execution_count": 215,
   "metadata": {},
   "outputs": [
    {
     "data": {
      "text/plain": [
       "[('hales jewett number', 5.71612063521971e-07)]"
      ]
     },
     "execution_count": 215,
     "metadata": {},
     "output_type": "execute_result"
    }
   ],
   "source": [
    "[p for p in si if (p[0].split())[0] == 'hales']"
   ]
  },
  {
   "cell_type": "code",
   "execution_count": 30,
   "metadata": {},
   "outputs": [
    {
     "data": {
      "text/plain": [
       "'there exist positive_integers smooth_tangent_field _inline_math_ _inline_math_ such that , for all _inline_math_ and all _inline_math_ , _inline_math_ is the multiplicity of _inline_math__as a root_of _inline_math_ . '"
      ]
     },
     "execution_count": 30,
     "metadata": {},
     "output_type": "execute_result"
    }
   ],
   "source": [
    "#%%timeit\n",
    "text = 'there exist positive integers smooth tangent field _inline_math_ _inline_math_ such that , for all _inline_math_ and all _inline_math_ , _inline_math_ is the multiplicity of _inline_math_ as a root of _inline_math_ . '\n",
    "join_phrases(text, ph_dict)"
   ]
  },
  {
   "cell_type": "code",
   "execution_count": 175,
   "metadata": {},
   "outputs": [
    {
     "data": {
      "text/plain": [
       "'<parag index=\"3\"> there exist positive integers _inline_math_ such that , for all _inline_math_ and all _inline_math_ , _inline_math_ is the multiplicity of _inline_math_ as a root of _inline_math_ . </parag>'"
      ]
     },
     "execution_count": 175,
     "metadata": {},
     "output_type": "execute_result"
    }
   ],
   "source": [
    "dex = px.DefinitionsXML('../tests/latexmled_files/enumerate_forms.xml')\n",
    "dex.recutext(dex.para_list()[1])\n",
    "outxml = dex.run_recutext_onall_para(cleaner_fun=normalize_text)\n",
    "etree.tostring(outxml[3]).decode('utf8')"
   ]
  },
  {
   "cell_type": "code",
   "execution_count": 148,
   "metadata": {},
   "outputs": [
    {
     "name": "stderr",
     "output_type": "stream",
     "text": [
      "100%|██████████| 2915/2915 [00:57<00:00, 50.50it/s] \n"
     ]
    }
   ],
   "source": [
    "ph_lst = RG.common_phrases_lst()"
   ]
  },
  {
   "cell_type": "code",
   "execution_count": 70,
   "metadata": {
    "collapsed": true,
    "jupyter": {
     "outputs_hidden": true
    }
   },
   "outputs": [
    {
     "name": "stdout",
     "output_type": "stream",
     "text": [
      "('1401_003/1401.1545/1401.1545.xml', <ExFileObject name='/media/hd1/promath/math14/1401_003.tar.gz'>)\n",
      "('1401_003/1401.1442/EJU.xml', <ExFileObject name='/media/hd1/promath/math14/1401_003.tar.gz'>)\n",
      "('1401_003/1401.1459/1401.1459.xml', <ExFileObject name='/media/hd1/promath/math14/1401_003.tar.gz'>)\n",
      "('1401_003/1401.2005/1401.2005.xml', <ExFileObject name='/media/hd1/promath/math14/1401_003.tar.gz'>)\n",
      "('1401_003/1401.1879/Rank4Revised.xml', <ExFileObject name='/media/hd1/promath/math14/1401_003.tar.gz'>)\n",
      "('1401_003/1401.1471/1401.1471.xml', <ExFileObject name='/media/hd1/promath/math14/1401_003.tar.gz'>)\n",
      "('1401_003/1401.1969/1401.1969.xml', <ExFileObject name='/media/hd1/promath/math14/1401_003.tar.gz'>)\n",
      "('1401_003/1401.2031/1401.2031.xml', <ExFileObject name='/media/hd1/promath/math14/1401_003.tar.gz'>)\n",
      "('1401_003/1401.1687/paper_IOP_final.xml', <ExFileObject name='/media/hd1/promath/math14/1401_003.tar.gz'>)\n",
      "('1401_003/1401.1765/ADF-arxiv.xml', <ExFileObject name='/media/hd1/promath/math14/1401_003.tar.gz'>)\n",
      "XML Syntax error -- On the 1401_003/1401.1765/ADF-arxiv.xml\n",
      "('1401_003/1401.1421/1401.1421.xml', <ExFileObject name='/media/hd1/promath/math14/1401_003.tar.gz'>)\n",
      "('1401_003/1401.1561/1401.1561.xml', <ExFileObject name='/media/hd1/promath/math14/1401_003.tar.gz'>)\n",
      "('1401_003/1401.1618/ModRegv3.xml', <ExFileObject name='/media/hd1/promath/math14/1401_003.tar.gz'>)\n",
      "XML Syntax error -- On the 1401_003/1401.1618/ModRegv3.xml\n",
      "('1401_003/1401.1588/1401.1588.xml', <ExFileObject name='/media/hd1/promath/math14/1401_003.tar.gz'>)\n",
      "('1401_003/1401.1893/1401.1893.xml', <ExFileObject name='/media/hd1/promath/math14/1401_003.tar.gz'>)\n",
      "('1401_003/1401.1628/1401.1628.xml', <ExFileObject name='/media/hd1/promath/math14/1401_003.tar.gz'>)\n",
      "('1401_003/1401.1474/1401.1474.xml', <ExFileObject name='/media/hd1/promath/math14/1401_003.tar.gz'>)\n",
      "('1401_003/1401.1537/1401.1537.xml', <ExFileObject name='/media/hd1/promath/math14/1401_003.tar.gz'>)\n",
      "('1401_003/1401.1649/1401.1649.xml', <ExFileObject name='/media/hd1/promath/math14/1401_003.tar.gz'>)\n",
      "('1401_003/1401.1979/1401.1979.xml', <ExFileObject name='/media/hd1/promath/math14/1401_003.tar.gz'>)\n",
      "('1401_003/1401.1853/1401.1853.xml', <ExFileObject name='/media/hd1/promath/math14/1401_003.tar.gz'>)\n",
      "('1401_003/1401.2042/1401.2042.xml', <ExFileObject name='/media/hd1/promath/math14/1401_003.tar.gz'>)\n",
      "('1401_003/1401.1980/sumasIIIc.xml', <ExFileObject name='/media/hd1/promath/math14/1401_003.tar.gz'>)\n",
      "('1401_003/1401.1928/1401.1928.xml', <ExFileObject name='/media/hd1/promath/math14/1401_003.tar.gz'>)\n",
      "('1401_003/1401.1430/1401.1430.xml', <ExFileObject name='/media/hd1/promath/math14/1401_003.tar.gz'>)\n",
      "('1401_003/1401.1445/5.xml', <ExFileObject name='/media/hd1/promath/math14/1401_003.tar.gz'>)\n",
      "('1401_003/1401.1902/1401.1902.xml', <ExFileObject name='/media/hd1/promath/math14/1401_003.tar.gz'>)\n",
      "('1401_003/1401.1966/schwetlicksuttonzimmer13a_rev.xml', <ExFileObject name='/media/hd1/promath/math14/1401_003.tar.gz'>)\n",
      "('1401_003/1401.1997/1401.1997.xml', <ExFileObject name='/media/hd1/promath/math14/1401_003.tar.gz'>)\n",
      "('1401_003/1401.1431/Derivative_pullback_v2.xml', <ExFileObject name='/media/hd1/promath/math14/1401_003.tar.gz'>)\n",
      "('1401_003/1401.1792/1401.1792.xml', <ExFileObject name='/media/hd1/promath/math14/1401_003.tar.gz'>)\n",
      "('1401_003/1401.1727/BEC_GolRoyo_final_phys_2.xml', <ExFileObject name='/media/hd1/promath/math14/1401_003.tar.gz'>)\n",
      "XML Syntax error -- On the 1401_003/1401.1727/BEC_GolRoyo_final_phys_2.xml\n",
      "('1401_003/1401.1866/GK2014v2_1.xml', <ExFileObject name='/media/hd1/promath/math14/1401_003.tar.gz'>)\n",
      "('1401_003/1401.1708/main.xml', <ExFileObject name='/media/hd1/promath/math14/1401_003.tar.gz'>)\n",
      "XML Syntax error -- On the 1401_003/1401.1708/main.xml\n",
      "('1401_003/1401.1509/Article2.xml', <ExFileObject name='/media/hd1/promath/math14/1401_003.tar.gz'>)\n",
      "('1401_003/1401.1927/Recursion.xml', <ExFileObject name='/media/hd1/promath/math14/1401_003.tar.gz'>)\n",
      "('1401_003/1401.1776/1401.1776.xml', <ExFileObject name='/media/hd1/promath/math14/1401_003.tar.gz'>)\n",
      "('1401_003/1401.1609/1401.1609.xml', <ExFileObject name='/media/hd1/promath/math14/1401_003.tar.gz'>)\n",
      "('1401_003/1401.1886/MeinardusDec1st2013.xml', <ExFileObject name='/media/hd1/promath/math14/1401_003.tar.gz'>)\n",
      "('1401_003/1401.2050/ADVANCES-REV-REV-REV-Sept2013.xml', <ExFileObject name='/media/hd1/promath/math14/1401_003.tar.gz'>)\n",
      "('1401_003/1401.1443/wasserstein.xml', <ExFileObject name='/media/hd1/promath/math14/1401_003.tar.gz'>)\n",
      "('1401_003/1401.1784/1401.1784.xml', <ExFileObject name='/media/hd1/promath/math14/1401_003.tar.gz'>)\n",
      "('1401_003/1401.1884/1401.1884.xml', <ExFileObject name='/media/hd1/promath/math14/1401_003.tar.gz'>)\n",
      "('1401_003/1401.1520/KTV16.xml', <ExFileObject name='/media/hd1/promath/math14/1401_003.tar.gz'>)\n",
      "('1401_003/1401.1454/1401.1454.xml', <ExFileObject name='/media/hd1/promath/math14/1401_003.tar.gz'>)\n",
      "('1401_003/1401.1912/1401.1912.xml', <ExFileObject name='/media/hd1/promath/math14/1401_003.tar.gz'>)\n",
      "('1401_003/1401.1773/eigensmith.xml', <ExFileObject name='/media/hd1/promath/math14/1401_003.tar.gz'>)\n",
      "('1401_003/1401.1789/mean_field_games-20140108.xml', <ExFileObject name='/media/hd1/promath/math14/1401_003.tar.gz'>)\n",
      "('1401_003/1401.1627/1401.1627.xml', <ExFileObject name='/media/hd1/promath/math14/1401_003.tar.gz'>)\n",
      "('1401_003/1401.1625/1401.1625.xml', <ExFileObject name='/media/hd1/promath/math14/1401_003.tar.gz'>)\n",
      "('1401_003/1401.1799/aartb_arxiv.xml', <ExFileObject name='/media/hd1/promath/math14/1401_003.tar.gz'>)\n",
      "('1401_003/1401.1606/1401.1606.xml', <ExFileObject name='/media/hd1/promath/math14/1401_003.tar.gz'>)\n",
      "('1401_003/1401.1956/secants7.xml', <ExFileObject name='/media/hd1/promath/math14/1401_003.tar.gz'>)\n",
      "('1401_003/1401.1574/1401.1574.xml', <ExFileObject name='/media/hd1/promath/math14/1401_003.tar.gz'>)\n",
      "('1401_003/1401.1949/1401.1949.xml', <ExFileObject name='/media/hd1/promath/math14/1401_003.tar.gz'>)\n",
      "('1401_003/1401.1423/1401.1423.xml', <ExFileObject name='/media/hd1/promath/math14/1401_003.tar.gz'>)\n",
      "('1401_003/1401.1725/puzzle.xml', <ExFileObject name='/media/hd1/promath/math14/1401_003.tar.gz'>)\n",
      "('1401_003/1401.1589/1401.1589.xml', <ExFileObject name='/media/hd1/promath/math14/1401_003.tar.gz'>)\n",
      "('1401_003/1401.1774/bb.xml', <ExFileObject name='/media/hd1/promath/math14/1401_003.tar.gz'>)\n",
      "('1401_003/1401.1710/1401.1710.xml', <ExFileObject name='/media/hd1/promath/math14/1401_003.tar.gz'>)\n",
      "('1401_003/1401.1780/des-poincare-series.xml', <ExFileObject name='/media/hd1/promath/math14/1401_003.tar.gz'>)\n",
      "('1401_003/1401.1688/BoydStankov1.xml', <ExFileObject name='/media/hd1/promath/math14/1401_003.tar.gz'>)\n",
      "('1401_003/1401.1836/degree2g.xml', <ExFileObject name='/media/hd1/promath/math14/1401_003.tar.gz'>)\n",
      "('1401_003/1401.1692/ringmixinglongedge_clean.xml', <ExFileObject name='/media/hd1/promath/math14/1401_003.tar.gz'>)\n",
      "('1401_003/1401.1843/1401.1843.xml', <ExFileObject name='/media/hd1/promath/math14/1401_003.tar.gz'>)\n",
      "('1401_003/1401.1633/RadiusStatus.xml', <ExFileObject name='/media/hd1/promath/math14/1401_003.tar.gz'>)\n",
      "XML Syntax error -- On the 1401_003/1401.1633/RadiusStatus.xml\n",
      "('1401_003/1401.1750/1401.1750.xml', <ExFileObject name='/media/hd1/promath/math14/1401_003.tar.gz'>)\n",
      "('1401_003/1401.1781/1401.1781.xml', <ExFileObject name='/media/hd1/promath/math14/1401_003.tar.gz'>)\n",
      "('1401_003/1401.1745/1401.1745.xml', <ExFileObject name='/media/hd1/promath/math14/1401_003.tar.gz'>)\n",
      "('1401_003/1401.2019/1401.2019.xml', <ExFileObject name='/media/hd1/promath/math14/1401_003.tar.gz'>)\n",
      "('1401_003/1401.1857/1401.1857.xml', <ExFileObject name='/media/hd1/promath/math14/1401_003.tar.gz'>)\n",
      "('1401_003/1401.1614/1401.1614.xml', <ExFileObject name='/media/hd1/promath/math14/1401_003.tar.gz'>)\n",
      "('1401_003/1401.1941/1401.1941.xml', <ExFileObject name='/media/hd1/promath/math14/1401_003.tar.gz'>)\n",
      "('1401_003/1401.2017/OddTypeMSFMR.xml', <ExFileObject name='/media/hd1/promath/math14/1401_003.tar.gz'>)\n",
      "('1401_003/1401.1860/1401.1860.xml', <ExFileObject name='/media/hd1/promath/math14/1401_003.tar.gz'>)\n",
      "('1401_003/1401.1571/1401.1571.xml', <ExFileObject name='/media/hd1/promath/math14/1401_003.tar.gz'>)\n",
      "('1401_003/1401.1877/Paper3.xml', <ExFileObject name='/media/hd1/promath/math14/1401_003.tar.gz'>)\n",
      "('1401_003/1401.1483/PVersion1D.xml', <ExFileObject name='/media/hd1/promath/math14/1401_003.tar.gz'>)\n",
      "('1401_003/1401.1583/1401.1583.xml', <ExFileObject name='/media/hd1/promath/math14/1401_003.tar.gz'>)\n",
      "('1401_003/1401.1519/Dirichlet_Perturbations.xml', <ExFileObject name='/media/hd1/promath/math14/1401_003.tar.gz'>)\n",
      "('1401_003/1401.1934/1401.1934.xml', <ExFileObject name='/media/hd1/promath/math14/1401_003.tar.gz'>)\n",
      "('1401_003/1401.1657/1401.1657.xml', <ExFileObject name='/media/hd1/promath/math14/1401_003.tar.gz'>)\n",
      "('1401_003/1401.1530/BFGM_final.xml', <ExFileObject name='/media/hd1/promath/math14/1401_003.tar.gz'>)\n",
      "('1401_003/1401.1854/1401.1854.xml', <ExFileObject name='/media/hd1/promath/math14/1401_003.tar.gz'>)\n",
      "('1401_003/1401.1598/CorrPraegerPC1.xml', <ExFileObject name='/media/hd1/promath/math14/1401_003.tar.gz'>)\n",
      "('1401_003/1401.1697/1401.1697.xml', <ExFileObject name='/media/hd1/promath/math14/1401_003.tar.gz'>)\n",
      "('1401_003/1401.1553/sd.xml', <ExFileObject name='/media/hd1/promath/math14/1401_003.tar.gz'>)\n",
      "('1401_003/1401.1576/LeSt2014.xml', <ExFileObject name='/media/hd1/promath/math14/1401_003.tar.gz'>)\n",
      "('1401_003/1401.1855/1401.1855.xml', <ExFileObject name='/media/hd1/promath/math14/1401_003.tar.gz'>)\n",
      "('1401_003/1401.1569/naoko15arxiv5.xml', <ExFileObject name='/media/hd1/promath/math14/1401_003.tar.gz'>)\n",
      "('1401_003/1401.2014/Singular_rationally_connected_threefolds_with_non-zero_pluri-forms.xml', <ExFileObject name='/media/hd1/promath/math14/1401_003.tar.gz'>)\n",
      "('1401_003/1401.1834/1401.1834.xml', <ExFileObject name='/media/hd1/promath/math14/1401_003.tar.gz'>)\n",
      "('1401_003/1401.1433/paper.xml', <ExFileObject name='/media/hd1/promath/math14/1401_003.tar.gz'>)\n",
      "('1401_003/1401.1930/1401.1930.xml', <ExFileObject name='/media/hd1/promath/math14/1401_003.tar.gz'>)\n",
      "('1401_003/1401.1565/nuplus.xml', <ExFileObject name='/media/hd1/promath/math14/1401_003.tar.gz'>)\n",
      "('1401_003/1401.1662/1401.1662.xml', <ExFileObject name='/media/hd1/promath/math14/1401_003.tar.gz'>)\n",
      "('1401_003/1401.1754/1401.1754.xml', <ExFileObject name='/media/hd1/promath/math14/1401_003.tar.gz'>)\n",
      "('1401_003/1401.1873/1401.1873.xml', <ExFileObject name='/media/hd1/promath/math14/1401_003.tar.gz'>)\n",
      "('1401_003/1401.1516/1401.1516.xml', <ExFileObject name='/media/hd1/promath/math14/1401_003.tar.gz'>)\n",
      "('1401_003/1401.1613/conesOfBundles.xml', <ExFileObject name='/media/hd1/promath/math14/1401_003.tar.gz'>)\n",
      "('1401_003/1401.1883/CorrPraegerCayley.xml', <ExFileObject name='/media/hd1/promath/math14/1401_003.tar.gz'>)\n",
      "('1401_003/1401.1870/K6FW.xml', <ExFileObject name='/media/hd1/promath/math14/1401_003.tar.gz'>)\n",
      "('1401_003/1401.1896/1401.1896.xml', <ExFileObject name='/media/hd1/promath/math14/1401_003.tar.gz'>)\n",
      "('1401_003/1401.1558/ContinuityTransmissionImagingRevisited.xml', <ExFileObject name='/media/hd1/promath/math14/1401_003.tar.gz'>)\n",
      "('1401_003/1401.2055/1401.2055.xml', <ExFileObject name='/media/hd1/promath/math14/1401_003.tar.gz'>)\n",
      "('1401_003/1401.1557/untitled7.xml', <ExFileObject name='/media/hd1/promath/math14/1401_003.tar.gz'>)\n",
      "('1401_003/1401.1651/multipathNHM_R1_sbmtd.xml', <ExFileObject name='/media/hd1/promath/math14/1401_003.tar.gz'>)\n",
      "('1401_003/1401.1532/1401.1532.xml', <ExFileObject name='/media/hd1/promath/math14/1401_003.tar.gz'>)\n",
      "('1401_003/1401.1717/1401.1717.xml', <ExFileObject name='/media/hd1/promath/math14/1401_003.tar.gz'>)\n",
      "('1401_003/1401.2052/1401.2052.xml', <ExFileObject name='/media/hd1/promath/math14/1401_003.tar.gz'>)\n",
      "('1401_003/1401.1466/1401.1466.xml', <ExFileObject name='/media/hd1/promath/math14/1401_003.tar.gz'>)\n",
      "('1401_003/1401.1607/1401.1607.xml', <ExFileObject name='/media/hd1/promath/math14/1401_003.tar.gz'>)\n",
      "('1401_003/1401.1555/bt.xml', <ExFileObject name='/media/hd1/promath/math14/1401_003.tar.gz'>)\n",
      "('1401_003/1401.1656/paper.xml', <ExFileObject name='/media/hd1/promath/math14/1401_003.tar.gz'>)\n",
      "XML Syntax error -- On the 1401_003/1401.1656/paper.xml\n",
      "('1401_003/1401.1438/1401.1438.xml', <ExFileObject name='/media/hd1/promath/math14/1401_003.tar.gz'>)\n",
      "('1401_003/1401.1726/1401.1726.xml', <ExFileObject name='/media/hd1/promath/math14/1401_003.tar.gz'>)\n",
      "('1401_003/1401.1777/1401.1777.xml', <ExFileObject name='/media/hd1/promath/math14/1401_003.tar.gz'>)\n",
      "XML Syntax error -- On the 1401_003/1401.1777/1401.1777.xml\n",
      "('1401_003/1401.1951/1401.1951.xml', <ExFileObject name='/media/hd1/promath/math14/1401_003.tar.gz'>)\n",
      "('1401_003/1401.1715/1401.1715.xml', <ExFileObject name='/media/hd1/promath/math14/1401_003.tar.gz'>)\n",
      "XML Syntax error -- On the 1401_003/1401.1715/1401.1715.xml\n",
      "('1401_003/1401.1634/1401.1634.xml', <ExFileObject name='/media/hd1/promath/math14/1401_003.tar.gz'>)\n",
      "('1401_003/1401.1885/1401.1885.xml', <ExFileObject name='/media/hd1/promath/math14/1401_003.tar.gz'>)\n",
      "('1401_003/1401.1534/1401.1534.xml', <ExFileObject name='/media/hd1/promath/math14/1401_003.tar.gz'>)\n",
      "('1401_003/1401.1567/1401.1567.xml', <ExFileObject name='/media/hd1/promath/math14/1401_003.tar.gz'>)\n",
      "('1401_003/1401.1865/HLindex.xml', <ExFileObject name='/media/hd1/promath/math14/1401_003.tar.gz'>)\n",
      "('1401_003/1401.1611/1401.1611.xml', <ExFileObject name='/media/hd1/promath/math14/1401_003.tar.gz'>)\n",
      "('1401_003/1401.1805/1401.1805.xml', <ExFileObject name='/media/hd1/promath/math14/1401_003.tar.gz'>)\n",
      "('1401_003/1401.1734/1401.1734.xml', <ExFileObject name='/media/hd1/promath/math14/1401_003.tar.gz'>)\n",
      "('1401_003/1401.1703/1401.1703.xml', <ExFileObject name='/media/hd1/promath/math14/1401_003.tar.gz'>)\n",
      "('1401_003/1401.1863/nm_ent_s0.xml', <ExFileObject name='/media/hd1/promath/math14/1401_003.tar.gz'>)\n",
      "('1401_003/1401.1673/switched_delays_arxiv.xml', <ExFileObject name='/media/hd1/promath/math14/1401_003.tar.gz'>)\n",
      "('1401_003/1401.1700/Corollary_of_Hamada_and_Ohmori.xml', <ExFileObject name='/media/hd1/promath/math14/1401_003.tar.gz'>)\n",
      "('1401_003/1401.1976/horofinal.xml', <ExFileObject name='/media/hd1/promath/math14/1401_003.tar.gz'>)\n",
      "XML Syntax error -- On the 1401_003/1401.1976/horofinal.xml\n",
      "('1401_003/1401.2022/1401.2022.xml', <ExFileObject name='/media/hd1/promath/math14/1401_003.tar.gz'>)\n",
      "('1401_003/1401.2037/1401.2037.xml', <ExFileObject name='/media/hd1/promath/math14/1401_003.tar.gz'>)\n",
      "XML Syntax error -- On the 1401_003/1401.2037/1401.2037.xml\n",
      "('1401_003/1401.1722/approach.xml', <ExFileObject name='/media/hd1/promath/math14/1401_003.tar.gz'>)\n",
      "('1401_003/1401.1670/sm-expansion-AHP.xml', <ExFileObject name='/media/hd1/promath/math14/1401_003.tar.gz'>)\n",
      "('1401_003/1401.1978/1401.1978.xml', <ExFileObject name='/media/hd1/promath/math14/1401_003.tar.gz'>)\n",
      "('1401_003/1401.2013/HoembergPetzoldRoccaHardeningarxiv.xml', <ExFileObject name='/media/hd1/promath/math14/1401_003.tar.gz'>)\n",
      "('1401_003/1401.1594/1401.1594.xml', <ExFileObject name='/media/hd1/promath/math14/1401_003.tar.gz'>)\n",
      "('1401_003/1401.1602/Bounds_Hofer_Iaco_revised_3.xml', <ExFileObject name='/media/hd1/promath/math14/1401_003.tar.gz'>)\n",
      "('1401_003/1401.1940/1401.1940.xml', <ExFileObject name='/media/hd1/promath/math14/1401_003.tar.gz'>)\n",
      "('1401_003/1401.1793/regular_matchstick_graphs_arxiv.xml', <ExFileObject name='/media/hd1/promath/math14/1401_003.tar.gz'>)\n",
      "('1401_003/1401.1590/monotoneadp_arxiv_V4.xml', <ExFileObject name='/media/hd1/promath/math14/1401_003.tar.gz'>)\n",
      "('1401_003/1401.1802/preprint20140107.xml', <ExFileObject name='/media/hd1/promath/math14/1401_003.tar.gz'>)\n",
      "('1401_003/1401.1730/1401.1730.xml', <ExFileObject name='/media/hd1/promath/math14/1401_003.tar.gz'>)\n",
      "('1401_003/1401.1439/1401.1439.xml', <ExFileObject name='/media/hd1/promath/math14/1401_003.tar.gz'>)\n",
      "('1401_003/1401.1920/CLZ1version5app.xml', <ExFileObject name='/media/hd1/promath/math14/1401_003.tar.gz'>)\n",
      "('1401_003/1401.1922/1401.1922.xml', <ExFileObject name='/media/hd1/promath/math14/1401_003.tar.gz'>)\n",
      "('1401_003/1401.1596/main.xml', <ExFileObject name='/media/hd1/promath/math14/1401_003.tar.gz'>)\n",
      "('1401_003/1401.1862/1401.1862.xml', <ExFileObject name='/media/hd1/promath/math14/1401_003.tar.gz'>)\n",
      "('1401_003/1401.1767/main.xml', <ExFileObject name='/media/hd1/promath/math14/1401_003.tar.gz'>)\n",
      "('1401_003/1401.1556/pd.xml', <ExFileObject name='/media/hd1/promath/math14/1401_003.tar.gz'>)\n",
      "('1401_003/1401.1804/1401.1804.xml', <ExFileObject name='/media/hd1/promath/math14/1401_003.tar.gz'>)\n",
      "('1401_003/1401.1444/1401.1444.xml', <ExFileObject name='/media/hd1/promath/math14/1401_003.tar.gz'>)\n",
      "('1401_003/1401.1917/ncmpcvxclsr.xml', <ExFileObject name='/media/hd1/promath/math14/1401_003.tar.gz'>)\n",
      "('1401_003/1401.1936/1401.1936.xml', <ExFileObject name='/media/hd1/promath/math14/1401_003.tar.gz'>)\n",
      "('1401_003/1401.1894/del.xml', <ExFileObject name='/media/hd1/promath/math14/1401_003.tar.gz'>)\n",
      "('1401_003/1401.1709/1401.1709.xml', <ExFileObject name='/media/hd1/promath/math14/1401_003.tar.gz'>)\n",
      "('1401_003/1401.1738/StabilityLogKdVrev.xml', <ExFileObject name='/media/hd1/promath/math14/1401_003.tar.gz'>)\n",
      "('1401_003/1401.1953/lagsurf.xml', <ExFileObject name='/media/hd1/promath/math14/1401_003.tar.gz'>)\n",
      "('1401_003/1401.1620/1401.1620.xml', <ExFileObject name='/media/hd1/promath/math14/1401_003.tar.gz'>)\n",
      "('1401_003/1401.1674/TestProcBefana.xml', <ExFileObject name='/media/hd1/promath/math14/1401_003.tar.gz'>)\n",
      "('1401_003/1401.1616/stolovitch-gevrey5.xml', <ExFileObject name='/media/hd1/promath/math14/1401_003.tar.gz'>)\n",
      "('1401_003/1401.1992/groupesclassiques_10-10-2014.xml', <ExFileObject name='/media/hd1/promath/math14/1401_003.tar.gz'>)\n",
      "XML Syntax error -- On the 1401_003/1401.1992/groupesclassiques_10-10-2014.xml\n",
      "('1401_003/1401.1525/1401.1525.xml', <ExFileObject name='/media/hd1/promath/math14/1401_003.tar.gz'>)\n",
      "('1401_003/1401.1642/1401.1642.xml', <ExFileObject name='/media/hd1/promath/math14/1401_003.tar.gz'>)\n",
      "('1401_003/1401.1652/1401.1652.xml', <ExFileObject name='/media/hd1/promath/math14/1401_003.tar.gz'>)\n",
      "('1401_003/1401.1484/1401.1484.xml', <ExFileObject name='/media/hd1/promath/math14/1401_003.tar.gz'>)\n",
      "('1401_003/1401.1514/DudekAsymptotic.xml', <ExFileObject name='/media/hd1/promath/math14/1401_003.tar.gz'>)\n",
      "('1401_003/1401.1570/Henson.xml', <ExFileObject name='/media/hd1/promath/math14/1401_003.tar.gz'>)\n",
      "('1401_003/1401.1874/1401.1874.xml', <ExFileObject name='/media/hd1/promath/math14/1401_003.tar.gz'>)\n",
      "('1401_003/1401.2015/branching-afc-fund-solns.xml', <ExFileObject name='/media/hd1/promath/math14/1401_003.tar.gz'>)\n",
      "CPU times: user 6min 16s, sys: 108 ms, total: 6min 16s\n",
      "Wall time: 6min 16s\n"
     ]
    }
   ],
   "source": [
    "%%time\n",
    "root = etree.Element('root')\n",
    "for t in peep.tar_iter('/media/hd1/promath/math14/1401_003.tar.gz', '.xml'):\n",
    "    print(t)\n",
    "    try:\n",
    "        txml = px.DefinitionsXML(t[1], fname = t[0]).run_recutext_onall_para(cleaner_fun=normalize_text, joiner_fun=join_fun)\n",
    "    except ValueError as ee:\n",
    "        print(ee, f\"-- On the {t[0]}\")\n",
    "    #print(txml.file_path)\n",
    "    root.append(txml)\n",
    "#print(etree.tostring(root, pretty_print=True).decode('utf8'))\n",
    "with gzip.open('/home/luis/rm_me_tfidf/cosito.xml.gz', 'wb') as gfobj:\n",
    "    gfobj.write(etree.tostring(root))"
   ]
  },
  {
   "cell_type": "code",
   "execution_count": 69,
   "metadata": {},
   "outputs": [
    {
     "name": "stdout",
     "output_type": "stream",
     "text": [
      "CPU times: user 2 µs, sys: 0 ns, total: 2 µs\n",
      "Wall time: 3.34 µs\n"
     ]
    }
   ],
   "source": [
    "%%time\n",
    "corpus = [\n",
    "    'This is the first document.',\n",
    "    'This document is the second document.',\n",
    "    'And this is the third one.',\n",
    "    'Is this the first document?',\n",
    "]"
   ]
  },
  {
   "cell_type": "code",
   "execution_count": 44,
   "metadata": {},
   "outputs": [
    {
     "data": {
      "text/plain": [
       "['and', 'document', 'first', 'is', 'one', 'second', 'the', 'third', 'this']"
      ]
     },
     "execution_count": 44,
     "metadata": {},
     "output_type": "execute_result"
    }
   ],
   "source": [
    "vect = TfidfVectorizer(norm='l1')\n",
    "X = vect.fit_transform(corpus) \n",
    "vect.get_feature_names()"
   ]
  },
  {
   "cell_type": "code",
   "execution_count": 33,
   "metadata": {},
   "outputs": [],
   "source": [
    "import datetime as dt"
   ]
  },
  {
   "cell_type": "code",
   "execution_count": 42,
   "metadata": {},
   "outputs": [
    {
     "data": {
      "text/plain": [
       "(14, 25, 9)"
      ]
     },
     "execution_count": 42,
     "metadata": {},
     "output_type": "execute_result"
    }
   ],
   "source": [
    "N = dt.datetime.now()\n",
    "N.hour, N.minute, N.second"
   ]
  },
  {
   "cell_type": "code",
   "execution_count": 43,
   "metadata": {},
   "outputs": [
    {
     "data": {
      "text/plain": [
       "0"
      ]
     },
     "execution_count": 43,
     "metadata": {},
     "output_type": "execute_result"
    }
   ],
   "source": [
    "4%1"
   ]
  },
  {
   "cell_type": "code",
   "execution_count": null,
   "metadata": {},
   "outputs": [],
   "source": []
  }
 ],
 "metadata": {
  "kernelspec": {
   "display_name": "Python 3",
   "language": "python",
   "name": "python3"
  },
  "language_info": {
   "codemirror_mode": {
    "name": "ipython",
    "version": 3
   },
   "file_extension": ".py",
   "mimetype": "text/x-python",
   "name": "python",
   "nbconvert_exporter": "python",
   "pygments_lexer": "ipython3",
   "version": "3.8.10"
  }
 },
 "nbformat": 4,
 "nbformat_minor": 4
}
