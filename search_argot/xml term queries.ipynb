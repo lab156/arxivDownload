{
 "cells": [
  {
   "cell_type": "markdown",
   "metadata": {},
   "source": [
    "# Contents\n",
    "1) create a search table with key=term and value paragragh in raw LaTeXML output\n",
    "\n",
    "2) a term-reference is {term, art_addr, parag_index, p_tag, tfidf}\n",
    "\n",
    "3) serialize the list of term-references\n",
    "\n",
    "TODO:\n",
    "- Some `<para>` tags don't have a `<p>` inside so I just used recutext. *ADD* the missing p tag"
   ]
  },
  {
   "cell_type": "code",
   "execution_count": 2,
   "metadata": {},
   "outputs": [],
   "source": [
    "from lxml import etree\n",
    "import pickle\n",
    "import matplotlib\n",
    "import numpy as np\n",
    "import matplotlib.pyplot as plt\n",
    "from collections import Counter, defaultdict\n",
    "import glob\n",
    "from tqdm import tqdm\n",
    "from sklearn import linear_model\n",
    "import tarfile\n",
    "from tqdm import tqdm\n",
    "from marshmallow import Schema, fields, pprint\n",
    "from random import random\n",
    "from dataclasses import dataclass, field\n",
    "\n",
    "import os, sys, inspect\n",
    "currentdir = os.path.dirname(os.path.abspath(inspect.getfile(inspect.currentframe())))\n",
    "parentdir = os.path.dirname(currentdir)\n",
    "sys.path.insert(0, os.path.join(parentdir, 'embed'))\n",
    "sys.path.insert(0, parentdir)\n",
    "\n",
    "%load_ext autoreload\n",
    "%autoreload 2\n",
    "\n",
    "from clean_and_token_text import normalize_text, normalize_phrase, join_xml_para_and_write\n",
    "import parsing_xml as px\n",
    "import peep_tar as peep\n",
    "from enum import Enum"
   ]
  },
  {
   "cell_type": "code",
   "execution_count": 13,
   "metadata": {},
   "outputs": [],
   "source": [
    "general_path = 'math20/2003_003'\n",
    "argot_path = '/media/hd1/glossary/NN.v1/' + general_path + '.xml.gz'\n",
    "prom_path = '/media/hd1/promath/' + general_path + '.tar.gz'\n",
    "join_path = '/media/hd1/cleaned_text/joined_math12-34_04-01/' + general_path + 'xml.gz'\n",
    "ns = {'latexml': 'http://dlmf.nist.gov/LaTeXML' }\n",
    "\n",
    "argot = etree.parse(argot_path)\n",
    "with tarfile.open(prom_path) as tar_fobj:\n",
    "    art_lst = [k.get_info()['name'] for k in tar_fobj.getmembers()]\n",
    "    members = tar_fobj.getmembers()"
   ]
  },
  {
   "cell_type": "code",
   "execution_count": 58,
   "metadata": {
    "collapsed": true,
    "jupyter": {
     "outputs_hidden": true
    }
   },
   "outputs": [
    {
     "name": "stdout",
     "output_type": "stream",
     "text": [
      "------------ ARGOT 0511_002/math.0511747/math.0511747.xml -------------- \n",
      "b'<definition index=\"74\">\\n      <stmnt> Suppose that _inline_math_ is a complete discrete valuation ring with maximal ideal _inline_math_. Assume, in addition, that _inline_math_ is a field of characteristic _inline_math_. We regard _inline_math_ as a Hausdorff topological ring as in Section by assuming that each _inline_math_ has the discrete topology and then giving _inline_math_ the inverse limit topology. Now define _inline_math_, where the inverse limit is taken over the open normal subgroups _inline_math_ of _inline_math_. (Here each _inline_math_ is given the product topology of a finitely generated free _inline_math_-module.) By construction, _inline_math_. It is also easy to see that nonzero members of _inline_math_ cannot become zero divisors in _inline_math_. </stmnt>\\n    <dfndum>complete discrete valuation</dfndum><dfndum>inverse limit topology</dfndum><dfndum>inverse limit</dfndum><dfndum>generated</dfndum><dfndum>divisors</dfndum></definition>\\n  '\n",
      "-------------- PROMath ------------\n",
      " Suppose that _inline_math_ is a complete discrete valuation ring with maximal ideal _inline_math_. Assume, in addition, that _inline_math_ is a field of characteristic _inline_math_. We regard _inline_math_ as a Hausdorff topological ring as in Section by assuming that each _inline_math_ has the discrete topology and then giving _inline_math_ the inverse limit topology. Now define _inline_math_, where the inverse limit is taken over the open normal subgroups _inline_math_ of _inline_math_. (Here each _inline_math_ is given the product topology of a finitely generated free _inline_math_-module.) By construction, _inline_math_. It is also easy to see that nonzero members of _inline_math_ cannot become zero divisors in _inline_math_. \n",
      "---------------- JOINED math.0511747.xml---------------\n",
      "b'<parag index=\"74\">suppose that _inline_math_ is a complete_discrete_valuation ring with maximal_ideal _inline_math_ assume in addition that _inline_math_ is a_field of characteristic _inline_math_ we regard _inline_math_ as a hausdorff_topological ring as in section by assuming that each _inline_math_ has the discrete_topology and then giving _inline_math_ the inverse_limit_topology now define _inline_math_ where the inverse_limit is taken over the open_normal subgroups _inline_math_ of _inline_math_ here each _inline_math_ is given the_product topology of a finitely_generated free__inline_math__module by construction _inline_math__it is also easy to see that nonzero members of _inline_math_ cannot become zero_divisors in _inline_math_ </parag>'\n"
     ]
    }
   ],
   "source": [
    "def check_sync(parag_index, art_ind_in_argot, general_path_):\n",
    "    argot_path = '/media/hd1/glossary/NN.v1/' + general_path_ + '.xml.gz'\n",
    "    prom_path = '/media/hd1/promath/' + general_path_ + '.tar.gz'\n",
    "    join_path = '/media/hd1/cleaned_text/joined_math12-34_04-01/' +\\\n",
    "                                general_path_ + '.xml.gz'\n",
    "    \n",
    "    # first get the paragraph index from argot\n",
    "    argot_xml = etree.parse(argot_path)\n",
    "    article_ind = argot_xml.getroot()[art_ind_in_argot]\n",
    "    argot_def = article_ind[parag_index]\n",
    "    article_name = article_ind.get('name')\n",
    "    print(f'------------ ARGOT {article_name} -------------- ')\n",
    "    print(etree.tostring(argot_def))\n",
    "    parag_ind = int(argot_def.get('index'))\n",
    "    \n",
    "    #for k,tarobj in enumerate(peep.tar_iter(prom_path, '.xml')):\n",
    "    #    if k == art_ind_in_argot:\n",
    "    \n",
    "    #promath_obj = etree.parse(tarobj[1])\n",
    "    promath_obj = peep.tar(prom_path, article_name)[1].exml\n",
    "    parag = promath_obj.findall('.//latexml:para', namespaces=ns)[parag_ind]\n",
    "    print('-------------- PROMath ------------')\n",
    "    print(px.recutext_xml(parag))\n",
    "    \n",
    "    joined_xml = etree.parse(join_path)\n",
    "    joined_ind = joined_xml.getroot()[art_ind_in_argot+2]\n",
    "    joined_para = joined_ind[parag_ind]\n",
    "    article_name_in_join = joined_ind.get('name')\n",
    "    print(f'---------------- JOINED {article_name_in_join}---------------')\n",
    "    print(etree.tostring(joined_para))\n",
    "    \n",
    "            \n",
    "check_sync(1, 100, 'math05/0511_002')"
   ]
  },
  {
   "cell_type": "code",
   "execution_count": 161,
   "metadata": {},
   "outputs": [
    {
     "name": "stdout",
     "output_type": "stream",
     "text": [
      "The file  <ExFileObject name='/home/luis/rm_me_work_on_px/three_problem_articles.tar.gz'>  is empty.\n",
      "<?xml version=\"1.0\" encoding=\"UTF-8\"?>\n",
      "<?latexml searchpaths=\"/tmp/math05/0511_002/math.0511061,/hom\n",
      "The file  <ExFileObject name='/home/luis/rm_me_work_on_px/three_problem_articles.tar.gz'>  recovered from an error:  invalid character in attribute value, line 3502, column 57 (three_problem_articles.tar.gz, line 3502)\n",
      "The file  <ExFileObject name='/home/luis/rm_me_work_on_px/three_problem_articles.tar.gz'>  is empty.\n",
      "{'good': 4, 'empty': 0, 'bad': 0}\n"
     ]
    }
   ],
   "source": [
    "join_xml_para_and_write('/home/luis/rm_me_work_on_px/three_problem_articles.tar.gz', '/home/luis/rm_me_tfidf/', lambda s: s)"
   ]
  },
  {
   "cell_type": "code",
   "execution_count": 16,
   "metadata": {
    "collapsed": true,
    "jupyter": {
     "outputs_hidden": true
    }
   },
   "outputs": [
    {
     "ename": "KeyError",
     "evalue": "\"filename '1501_005/1501.02441/Tiling.xml' not found\"",
     "output_type": "error",
     "traceback": [
      "\u001b[0;31m---------------------------------------------------------------------------\u001b[0m",
      "\u001b[0;31mKeyError\u001b[0m                                  Traceback (most recent call last)",
      "\u001b[0;32m<ipython-input-16-8a09251154b9>\u001b[0m in \u001b[0;36m<module>\u001b[0;34m\u001b[0m\n\u001b[1;32m     11\u001b[0m         \u001b[0;32melse\u001b[0m\u001b[0;34m:\u001b[0m\u001b[0;34m\u001b[0m\u001b[0;34m\u001b[0m\u001b[0m\n\u001b[1;32m     12\u001b[0m             \u001b[0;32mreturn\u001b[0m \u001b[0metree\u001b[0m\u001b[0;34m.\u001b[0m\u001b[0mtostring\u001b[0m\u001b[0;34m(\u001b[0m\u001b[0mp_tag\u001b[0m\u001b[0;34m)\u001b[0m\u001b[0;34m.\u001b[0m\u001b[0mdecode\u001b[0m\u001b[0;34m(\u001b[0m\u001b[0;34m'utf-8'\u001b[0m\u001b[0;34m)\u001b[0m\u001b[0;34m\u001b[0m\u001b[0;34m\u001b[0m\u001b[0m\n\u001b[0;32m---> 13\u001b[0;31m \u001b[0mget_para\u001b[0m\u001b[0;34m(\u001b[0m\u001b[0;34m\"1501_005/1501.02441/Tiling.xml\"\u001b[0m\u001b[0;34m,\u001b[0m \u001b[0;36m20\u001b[0m\u001b[0;34m)\u001b[0m\u001b[0;34m\u001b[0m\u001b[0;34m\u001b[0m\u001b[0m\n\u001b[0m",
      "\u001b[0;32m<ipython-input-16-8a09251154b9>\u001b[0m in \u001b[0;36mget_para\u001b[0;34m(art_addr, para, tar_path, run_recutext)\u001b[0m\n\u001b[1;32m      1\u001b[0m \u001b[0;32mdef\u001b[0m \u001b[0mget_para\u001b[0m\u001b[0;34m(\u001b[0m\u001b[0mart_addr\u001b[0m\u001b[0;34m,\u001b[0m \u001b[0mpara\u001b[0m\u001b[0;34m,\u001b[0m \u001b[0mtar_path\u001b[0m\u001b[0;34m=\u001b[0m\u001b[0mprom_path\u001b[0m\u001b[0;34m,\u001b[0m \u001b[0mrun_recutext\u001b[0m\u001b[0;34m=\u001b[0m\u001b[0;32mTrue\u001b[0m\u001b[0;34m)\u001b[0m\u001b[0;34m:\u001b[0m\u001b[0;34m\u001b[0m\u001b[0;34m\u001b[0m\u001b[0m\n\u001b[1;32m      2\u001b[0m     \u001b[0;32mwith\u001b[0m \u001b[0mtarfile\u001b[0m\u001b[0;34m.\u001b[0m\u001b[0mopen\u001b[0m\u001b[0;34m(\u001b[0m\u001b[0mtar_path\u001b[0m\u001b[0;34m)\u001b[0m \u001b[0;32mas\u001b[0m \u001b[0mtar_fobj\u001b[0m\u001b[0;34m:\u001b[0m\u001b[0;34m\u001b[0m\u001b[0;34m\u001b[0m\u001b[0m\n\u001b[0;32m----> 3\u001b[0;31m         \u001b[0mxml_fobj\u001b[0m \u001b[0;34m=\u001b[0m \u001b[0mtar_fobj\u001b[0m\u001b[0;34m.\u001b[0m\u001b[0mextractfile\u001b[0m\u001b[0;34m(\u001b[0m\u001b[0mart_addr\u001b[0m\u001b[0;34m)\u001b[0m\u001b[0;34m\u001b[0m\u001b[0;34m\u001b[0m\u001b[0m\n\u001b[0m\u001b[1;32m      4\u001b[0m         \u001b[0mart\u001b[0m \u001b[0;34m=\u001b[0m \u001b[0metree\u001b[0m\u001b[0;34m.\u001b[0m\u001b[0mparse\u001b[0m\u001b[0;34m(\u001b[0m\u001b[0mxml_fobj\u001b[0m\u001b[0;34m)\u001b[0m\u001b[0;34m\u001b[0m\u001b[0;34m\u001b[0m\u001b[0m\n\u001b[1;32m      5\u001b[0m         \u001b[0mpara_lst\u001b[0m \u001b[0;34m=\u001b[0m \u001b[0mart\u001b[0m\u001b[0;34m.\u001b[0m\u001b[0mfindall\u001b[0m\u001b[0;34m(\u001b[0m\u001b[0;34m'.//latexml:para'\u001b[0m\u001b[0;34m,\u001b[0m \u001b[0mnamespaces\u001b[0m\u001b[0;34m=\u001b[0m\u001b[0mns\u001b[0m\u001b[0;34m)\u001b[0m\u001b[0;34m\u001b[0m\u001b[0;34m\u001b[0m\u001b[0m\n",
      "\u001b[0;32m/usr/lib/python3.8/tarfile.py\u001b[0m in \u001b[0;36mextractfile\u001b[0;34m(self, member)\u001b[0m\n\u001b[1;32m   2093\u001b[0m \u001b[0;34m\u001b[0m\u001b[0m\n\u001b[1;32m   2094\u001b[0m         \u001b[0;32mif\u001b[0m \u001b[0misinstance\u001b[0m\u001b[0;34m(\u001b[0m\u001b[0mmember\u001b[0m\u001b[0;34m,\u001b[0m \u001b[0mstr\u001b[0m\u001b[0;34m)\u001b[0m\u001b[0;34m:\u001b[0m\u001b[0;34m\u001b[0m\u001b[0;34m\u001b[0m\u001b[0m\n\u001b[0;32m-> 2095\u001b[0;31m             \u001b[0mtarinfo\u001b[0m \u001b[0;34m=\u001b[0m \u001b[0mself\u001b[0m\u001b[0;34m.\u001b[0m\u001b[0mgetmember\u001b[0m\u001b[0;34m(\u001b[0m\u001b[0mmember\u001b[0m\u001b[0;34m)\u001b[0m\u001b[0;34m\u001b[0m\u001b[0;34m\u001b[0m\u001b[0m\n\u001b[0m\u001b[1;32m   2096\u001b[0m         \u001b[0;32melse\u001b[0m\u001b[0;34m:\u001b[0m\u001b[0;34m\u001b[0m\u001b[0;34m\u001b[0m\u001b[0m\n\u001b[1;32m   2097\u001b[0m             \u001b[0mtarinfo\u001b[0m \u001b[0;34m=\u001b[0m \u001b[0mmember\u001b[0m\u001b[0;34m\u001b[0m\u001b[0;34m\u001b[0m\u001b[0m\n",
      "\u001b[0;32m/usr/lib/python3.8/tarfile.py\u001b[0m in \u001b[0;36mgetmember\u001b[0;34m(self, name)\u001b[0m\n\u001b[1;32m   1780\u001b[0m         \u001b[0mtarinfo\u001b[0m \u001b[0;34m=\u001b[0m \u001b[0mself\u001b[0m\u001b[0;34m.\u001b[0m\u001b[0m_getmember\u001b[0m\u001b[0;34m(\u001b[0m\u001b[0mname\u001b[0m\u001b[0;34m)\u001b[0m\u001b[0;34m\u001b[0m\u001b[0;34m\u001b[0m\u001b[0m\n\u001b[1;32m   1781\u001b[0m         \u001b[0;32mif\u001b[0m \u001b[0mtarinfo\u001b[0m \u001b[0;32mis\u001b[0m \u001b[0;32mNone\u001b[0m\u001b[0;34m:\u001b[0m\u001b[0;34m\u001b[0m\u001b[0;34m\u001b[0m\u001b[0m\n\u001b[0;32m-> 1782\u001b[0;31m             \u001b[0;32mraise\u001b[0m \u001b[0mKeyError\u001b[0m\u001b[0;34m(\u001b[0m\u001b[0;34m\"filename %r not found\"\u001b[0m \u001b[0;34m%\u001b[0m \u001b[0mname\u001b[0m\u001b[0;34m)\u001b[0m\u001b[0;34m\u001b[0m\u001b[0;34m\u001b[0m\u001b[0m\n\u001b[0m\u001b[1;32m   1783\u001b[0m         \u001b[0;32mreturn\u001b[0m \u001b[0mtarinfo\u001b[0m\u001b[0;34m\u001b[0m\u001b[0;34m\u001b[0m\u001b[0m\n\u001b[1;32m   1784\u001b[0m \u001b[0;34m\u001b[0m\u001b[0m\n",
      "\u001b[0;31mKeyError\u001b[0m: \"filename '1501_005/1501.02441/Tiling.xml' not found\""
     ]
    }
   ],
   "source": [
    "def get_para(art_addr, para, tar_path=prom_path, run_recutext=True):\n",
    "    # Get a paragraph from an article compressed in a tar file\n",
    "    with tarfile.open(tar_path) as tar_fobj:\n",
    "        xml_fobj = tar_fobj.extractfile(art_addr)\n",
    "        art = etree.parse(xml_fobj)\n",
    "        para_lst = art.findall('.//latexml:para', namespaces=ns)\n",
    "        para_tag = para_lst[para]\n",
    "        #p_tag = etree.tostring(\n",
    "        #    para_tag.find('latexml:p', namespaces=ns)).decode('utf-8')\n",
    "        if run_recutext:\n",
    "            return px.recutext_xml(para_tag)\n",
    "        else:\n",
    "            return etree.tostring(p_tag).decode('utf-8')\n",
    "get_para(\"1501_005/1501.02441/Tiling.xml\", 20)"
   ]
  },
  {
   "cell_type": "code",
   "execution_count": 17,
   "metadata": {},
   "outputs": [
    {
     "name": "stderr",
     "output_type": "stream",
     "text": [
      "100%|██████████| 575/575 [01:08<00:00,  8.37it/s]\n"
     ]
    }
   ],
   "source": [
    "# Define a dictionary Key=term and Value=(article_address, parag_index)\n",
    "#results = argot.xpath(\".//dfndum[text()='isothermic']\")\n",
    "#results = argot.xpath(\".//dfndum[contains(text(),'quan')]\")\n",
    "results = argot.xpath(\".//dfndum\")\n",
    "term_pair_dict = defaultdict(list)\n",
    "for r in results:\n",
    "    parent = r.getparent()\n",
    "    para_index = int(parent.get('index'))\n",
    "    grand_parent = parent.getparent()\n",
    "    gparent_name = grand_parent.get('name')\n",
    "    term_pair_dict[normalize_phrase(r.text)].append((gparent_name, para_index))\n",
    "    \n",
    "term_para_dict = defaultdict(list)\n",
    "with tarfile.open(prom_path) as tar_fobj:\n",
    "    for term, pair_lst in tqdm(term_pair_dict.items()):\n",
    "        for pair in pair_lst:\n",
    "            xml_fobj = tar_fobj.extractfile(pair[0])\n",
    "            art = etree.parse(xml_fobj)\n",
    "            para_lst = art.findall('.//latexml:para', namespaces=ns)\n",
    "            para_tag = para_lst[pair[1]]\n",
    "            try:\n",
    "                #p_tag = etree.tostring(\n",
    "                #    para_tag.find('.//latexml:p', namespaces=ns)).decode('utf-8').strip()\n",
    "                p_tag = etree.tostring(\n",
    "                         para_tag).decode('utf-8').strip()\n",
    "            except TypeError as e:\n",
    "                p_tag = px.recutext_xml(para_tag)\n",
    "                print(e)\n",
    "            term_para_dict[term].append((*pair, p_tag))\n",
    "    "
   ]
  },
  {
   "cell_type": "code",
   "execution_count": 5,
   "metadata": {},
   "outputs": [
    {
     "name": "stdout",
     "output_type": "stream",
     "text": [
      "b'<dfndum>Locally covariant quantum field</dfndum>'\n",
      "article 1501_005/1501.02682/1501.02682.xml 131\n",
      " Locally covariant quantum field theory _citation_ describes QFT on a category of globally hyperbolic spacetimes _inline_math_. Fixing a spacetime dimension _inline_math_, objects of _inline_math_ are quadruples _inline_math_ where _inline_math_ is a smooth paracompact orientable nonempty _inline_math_-manifold with finitely many connected components, _inline_math_ is a smooth time-orientable metric of signature _inline_math_ on _inline_math_, _inline_math_ and _inline_math_ are choices of orientation and %****␣1501.02682.tex␣Line␣600␣**** time-orientation respectively, 1 The orientation (resp., time-orientation) is conveniently represented as a choice of one of the connected components of the nowhere-zero smooth _inline_math_-forms (resp., _inline_math_-timelike _inline_math_-forms) on _inline_math_. so that the spacetime _inline_math_ is globally hyperbolic. That is, _inline_math_ has no closed causal curves and the intersections _inline_math_ of the causal future of _inline_math_ with the causal past of _inline_math_ is compact (including the possibility of being empty) for any pair of points _inline_math_. A morphism between two objects _inline_math_ and _inline_math_ of _inline_math_ is any smooth embedding _inline_math_ that is isometric, preserves the (time)orientation (i.e., _inline_math_, _inline_math_, _inline_math_) and has a causally convex image. If the image contains a Cauchy surface of _inline_math_, _inline_math_ will be described as a Cauchy morphism. \n",
      "----------------------------\n",
      "b'<dfndum>quantifies the density</dfndum>'\n",
      "article 1501_005/1501.02861/ordinal-embedding-v10-post-BEJ.xml 167\n",
      " Define _inline_math_, which quantifies the density of _inline_math_ in _inline_math_. Because _inline_math_ and _inline_math_ is dense in _inline_math_, we have _inline_math_ as _inline_math_. \n",
      "----------------------------\n"
     ]
    }
   ],
   "source": [
    "# search for term containing some text and get the paragraphs (cleaned)\n",
    "results = argot.xpath(\".//dfndum[contains(text(),'quant')]\")\n",
    "with tarfile.open(prom_path) as tar_fobj:\n",
    "    for r in results:\n",
    "        print(etree.tostring(r))\n",
    "        parent = r.getparent()\n",
    "        para_index = int(parent.get('index'))\n",
    "        grand_parent = parent.getparent()\n",
    "        gparent_name = grand_parent.get('name')\n",
    "        print(grand_parent.tag, gparent_name, grand_parent.get('num') )\n",
    "        xml_fobj = tar_fobj.extractfile(gparent_name)\n",
    "        #art = etree.parse(xml_fobj.extractfile())\n",
    "        art = etree.parse(xml_fobj)\n",
    "        para_lst = art.findall('.//latexml:para', namespaces=ns)\n",
    "        print(px.recutext_xml(para_lst[para_index]))\n",
    "        print('----------------------------')"
   ]
  },
  {
   "cell_type": "code",
   "execution_count": 19,
   "metadata": {},
   "outputs": [],
   "source": [
    "@dataclass\n",
    "class TermReference(Schema):\n",
    "    term : str\n",
    "    addr : str\n",
    "    index : int\n",
    "    p_tag : str\n",
    "    tfidf : float = field(default_factory=random)\n",
    "    \n",
    "class TermRefSchema(Schema):\n",
    "    term = fields.String()\n",
    "    addr = fields.String()\n",
    "    index = fields.Int()\n",
    "    p_tag = fields.String()\n",
    "    tfidf = fields.Float()\n",
    "\n",
    "term_ref_lst=[]\n",
    "for term, tup_lst in term_para_dict.items():\n",
    "    for tup in tup_lst:\n",
    "        term_ref_lst.append(TermReference(\n",
    "            term= term,\n",
    "               addr = tup[0],\n",
    "               index = tup[1],\n",
    "              p_tag = tup[2],\n",
    "               tfidf = random()))\n",
    "\n",
    "# Serialize all the data and save to json file\n",
    "trs = TermRefSchema(many=True)\n",
    "with open('/home/luis/rm_me/math_json/'+ general_path + '.json', 'w') as fobj:\n",
    "    fobj.write(trs.dumps(term_ref_lst))"
   ]
  },
  {
   "cell_type": "code",
   "execution_count": 138,
   "metadata": {},
   "outputs": [
    {
     "name": "stdout",
     "output_type": "stream",
     "text": [
      "The file  /home/luis/rm_me_work_on_px/0511_002/math.0511699/math.0511699.xml  is empty.\n",
      "The file  /home/luis/rm_me_work_on_px/0511_002/math.0511220/math.0511220.xml  is empty.\n"
     ]
    }
   ],
   "source": [
    "par = px.DefinitionsXML('/home/luis/rm_me_work_on_px/0511_002/math.0511699/math.0511699.xml')\n",
    "par = px.DefinitionsXML('/home/luis/rm_me_work_on_px/0511_002/math.0511220/math.0511220.xml')\n",
    "#par = px.DefinitionsXML('/home/luis/rm_me_work_on_px/0511_002/math.0511061/math.0511061.xml')"
   ]
  },
  {
   "cell_type": "code",
   "execution_count": 58,
   "metadata": {
    "collapsed": true,
    "jupyter": {
     "outputs_hidden": true
    }
   },
   "outputs": [
    {
     "name": "stdout",
     "output_type": "stream",
     "text": [
      "<article name=\"math.0511061.xml\">\n",
      "  <parag index=\"0\"> A NEW LOOK AT THE CROSSED-PRODUCT OF A C*-ALGEBRA BY A SEMIGROUP OF ENDOMORPHISMS </parag>\n",
      "  <parag index=\"1\"> </parag>\n",
      "  <parag index=\"2\"> Ruy Exel_inline_math_ Partially supported by CNPq. </parag>\n",
      "  <parag index=\"3\"> Abstract. Let _inline_math_ be a group and let _inline_math_ be a subsemigroup. In order to describe the crossed product of a C*-algebra _inline_math_ by an action of _inline_math_ by unital endomorphisms we find that we must extend the action to the whole group _inline_math_. This extension fits into a broader notion of interaction groups which consists of an assignment of a positive operator _inline_math_ on _inline_math_ for each _inline_math_ in _inline_math_, obeying a partial group law, and such that _inline_math_ is an interaction for every _inline_math_, as defined in a previous paper by the author. We then develop a theory of crossed products by interaction groups and compare it to other endomorphism crossed product constructions. </parag>\n",
      "  <parag index=\"4\"> </parag>\n",
      "  <parag index=\"5\"> 1. Introduction.Roughly five years ago I wrote a similarly titled paper [7] in which a new notion of crossed product by an endomorphism was introduced. One of the reasons for doing so was a certain dissatisfaction with the existing crossed product theories because none of these could give the &#8220;correct&#8221; answer in the example of Markov subshifts. </parag>\n",
      "  <parag index=\"6\"> I explain. Let _inline_math_ be an _inline_math_ matrix with 0&#8211;1 entries and _inline_math_ be the corresponding Markov space. Denoting by _inline_math_ the shift on _inline_math_ given by _inline_math_, one may define an endomorphism _inline_math_ on the C*-algebra _inline_math_ by setting _inline_math_, for all _inline_math_ in _inline_math_. </parag>\n",
      "  <parag index=\"7\"> It has always been my impression that, whatever crossed product construction one could possibly conceive of, it should give the Cuntz&#8211;Krieger algebra _inline_math_ if applied to the endomorphism described above. This is of course a matter of personal opinion, but one must concede that the close relationship between Markov subshifts and Cuntz-Krieger algebras definitely suggests this. The construction described in [7] is therefore the result of my search for a theory of crossed products which fulfills these expectations. </parag>\n",
      "  <parag index=\"8\"> The basic starting point in the construction of any C*-algebra associated to a given endomorphism _display_math_ is to decide what is one&#8217;s idea of covariant representation. In other words one imagines that _inline_math_ is a subalgebra of some bigger C*-algebra where the given endomorphism can be implemented by means of some algebraic operation. </parag>\n",
      "  <parag index=\"9\"> A very popular proposal is to require the covariance condition _display_math_ where _inline_math_ is and isometry in this bigger universe, that is, an element satisfying _inline_math_. This expression is very appealing because, after all, the correspondence _inline_math_ is a *-homomorphism for any isometry _inline_math_! </parag>\n",
      "  <parag index=\"10\"> However, even though the algebra of continuous functions on Markov&#8217;s space is a subalgebra of _inline_math_ in a standard way, i.e. as the diagonal of the standard AF-subalgebra, there is no isometry _inline_math_ in _inline_math_ which implements the Markov subshift according to the above covariance condition. Please see the Appendix for a detailed proof of this statement. </parag>\n",
      "  <parag index=\"11\"> When one studies nonunital endomorphisms, especially those with hereditary range, condition (1.1) becomes a powerful tool leading to very interesting applications, but unfortunately it must be abandoned if one deals with unital endomorphisms. </parag>\n",
      "  <parag index=\"12\"> Carefully studying the case of the Cuntz-Krieger algebra I eventually settled for the following substitute of (1.1): _display_math_ While the first condition has already been discussed in the literature, the appearance of the transfer operator _inline_math_ was a new feature. It should be stressed that _inline_math_ needs to be given in advance; it is an important ingredient of the construction inasmuch as the endomorphism _inline_math_ itself. See [7] for more details. </parag>\n",
      "  <parag index=\"13\"> The resulting theory of crossed products based on transfer operators seems to be getting more and more acceptance and hence it is natural to try to apply the same ideas for semigroups of endomorphisms. Suppose, therefore, that _inline_math_ is a unital C*-algebra, _inline_math_ is a semigroup and _display_math_ is a semigroup homomorphism, a.k.a. an action by endomorphisms. </parag>\n",
      "  <parag index=\"14\"> In case the range of every _inline_math_ is a hereditary subalgebra of _inline_math_ the natural covariance condition is definitely to ask for a semigroup of isometries _inline_math_ such that _display_math_ as done e.g. in [14 : 2.2]. But, as seen above, this is not appropriate for unital endomorphisms. </parag>\n",
      "  <parag index=\"15\"> Given that we are now dealing with many endomorphisms at the same time, we should also need many transfer operators. However one must decide how to put these together in a harmonious way. </parag>\n",
      "  <parag index=\"16\"> If one resorts to the single endomorphism case for guidance, given _inline_math_ and _inline_math_, it is easy to see that _inline_math_ is a transfer operator for _inline_math_. It is also interesting to notice that one then gets a collection _inline_math_ of bounded linear maps on _inline_math_ given by _display_math_ Thus, not only the positive integers are assigned to an operator on _inline_math_ (namely _inline_math_), but the negative integers are similarly given a role. This is related to the discussion in the introduction of [8] regarding past time evolution for irreversible dynamical systems. </parag>\n",
      "  <parag index=\"17\"> Assuming that _inline_math_ is a subsemigroup of a group _inline_math_ it is then tempting to generalize by requiring that one is given an operator _inline_math_ for each _inline_math_, such that _inline_math_ is a transfer operator for _inline_math_, for every _inline_math_ in _inline_math_. This is essentially what is done in [15]. </parag>\n",
      "  <parag index=\"18\"> However it seems a bit awkward to me that elements of _inline_math_ are allowed to act on _inline_math_, i.e., are assigned an operator on _inline_math_ (either an endomorphism or a transfer operator) but the other elements in the group are not given any role. On totally ordered groups, that is, when _inline_math_, there are really no other such elements but one may be interested in more general group-subsemigroup pairs such as _inline_math_. </parag>\n",
      "  <parag index=\"19\"> We therefore face a crucial question. Given _inline_math_ not in _inline_math_, should we assign to it an endomorphism or a transfer operator? It was precisely my interest in solving this puzzle that led me to introduce the notion of interactions [8]. These are operators on C*-algebras which simultaneously generalize endomorphisms and transfer operators. </parag>\n",
      "  <parag index=\"20\"> To cut a long story short I was led to reformulating the very notion of semigroups of endomorphisms: it should be replaced by an assignment of an operator _inline_math_ for every _inline_math_ in _inline_math_, such that the pair _inline_math_ is an interaction. </parag>\n",
      "  <parag index=\"21\"> It could perhaps be the case that _inline_math_ contains a subsemigroup _inline_math_ such that _inline_math_ is an endomorphism for every _inline_math_ in _inline_math_, in which case _inline_math_ will necessarily be a transfer operator for _inline_math_. But then again this may not be so. From this point on I decided not to rely on the existence of subsemigroups any more and fortunately the price to be payed was not so high. </parag>\n",
      "  <parag index=\"22\"> Of course we have so far neglected to consider which kind of dependence the maps _inline_math_ should have on the variable _inline_math_. Obviously it would be too much to require that _inline_math_ coincide with _inline_math_, as this is not even true for (1.2). On the other hand it would be crazy not to require any compatibility between the group law and the composition of the _inline_math_. </parag>\n",
      "  <parag index=\"23\"> Resorting again to the single endomorphism case I was able to prove that the _inline_math_ of (1.2) is a partial representation of _inline_math_ on _inline_math_, meaning that _display_math_ This says that the group law &#8220;_inline_math_&#8221; does hold, as long as it is right-multiplied by _inline_math_, or left-multiplied by _inline_math_. </parag>\n",
      "  <parag index=\"24\"> Following this I was led to the definition of what we shall call an interaction group: it is a triple _inline_math_, where _inline_math_ is a C*-algebra, _inline_math_ is a group, and _inline_math_ is a partial representation of _inline_math_ on _inline_math_ such that _inline_math_ is an interaction for every _inline_math_ in _inline_math_. </parag>\n",
      "  <parag index=\"25\"> I am well aware that the search for a new definition is always a risky business unless one has valuable examples under one&#8217;s belt. In fact it was precisely this fear that led me to keep the findings of this paper to myself for quite some time now. However the problem of finding an appropriate definition for the notion of crossed product by semigroups of unital endomorphisms has been around for almost thirty years now [3 : &#167;2]. In addition, recent discussions with Jean Renault suggested the existence of some quite interesting examples which we hope to describe in a forthcoming paper. </parag>\n",
      "  <parag index=\"26\"> A few words must now be said about the crossed product. As already mentioned the starting point should be the covariance condition. Using the ideas of [8] it is not so hard to arrive at the following: a covariant representation of an interaction group _inline_math_ in a C*-algebra _inline_math_ consists of a *-homomorphism _display_math_ and a *-partial representation _display_math_ such that _display_math_ for every _inline_math_ in _inline_math_, and every _inline_math_ in _inline_math_. Once this is accepted the experienced reader will immediately think of the universal C*-algebra for covariant representations, which we shall denote _inline_math_. </parag>\n",
      "  <parag index=\"27\"> However this is definitely too big an object since among its representations one finds bizarre things such as _inline_math_. This algebra must therefore be recognized as just a first step in the construction of the crossed product. A fine tunning is necessary to restrict its wild collection of representations. </parag>\n",
      "  <parag index=\"28\"> This fine tuning consists in eliminating the &#8220;redundancies&#8221;, as done in [7] and cleverly recognized by Brownlowe and Raeburn [2] as the passage from the Toeplitz-Cuntz-Pimsner algebra to the Cuntz-Pimsner algebra in the case of a correspondence [16 : 3.4 and 3.12]. </parag>\n",
      "  <parag index=\"29\"> There are in fact several other instances in the literature where ideas with a similar flavor appeared. Among these we cite Larsen&#8217;s redundancies [15 : 1.2] and Fowler&#8217;s Cuntz-Pimsner covariance in the context of discrete product systems [11 : 2.5]. </parag>\n",
      "  <parag index=\"30\"> Having barely no examples in hand to help decide what the correct notion of redundancies should be, I had to search for a clue somewhere. Recall that, in the context of a single endomorphism/transfer operator pair _inline_math_, one has a very concrete model of the crossed product, provided one is given a faithfull invariant state. In this case _inline_math_ essentially_inline_math_ One in fact needs to tensor this with the regular representation of _inline_math_. coincides with the algebra of operators on the GNS space of the given state, generated by _inline_math_ and the isometry naturally associated to _inline_math_ [9 : 6.1]. </parag>\n",
      "  <parag index=\"31\"> One nice feature of interaction groups is that, given an invariant state, one can also easily construct a covariant representation _inline_math_ on the GNS space of the given state (11.4). I therefore thought it would be nice if the crossed product ended up isomorphic to the concrete algebra of operators generated by _inline_math_ and _inline_math_ when the state is faithfull, precisely as in the case described above. Of course the latter algebra could not be taken as the definition of the crossed product, unless of course one postulated the existence of a faithfull invariant state. </parag>\n",
      "  <parag index=\"32\"> I therefore set out to find the right notion of redundancies guided by the requirement that, once these are moded out, one should arrive at a quotient of _inline_math_ which in turn is isomorphic to the above concrete algebra of operators provided a faithfull invariant state exists. </parag>\n",
      "  <parag index=\"33\"> This was a rather interesting clue to follow because, on the one hand, it suddenly put our very abstract theory in close contact with a very concrete algebra of operators and, on the other, it lead to the highly complex notion of redundancies given in Definition (6.1) which I would not have imagined otherwise. I would even go as far as to suggest that this notion of redundancies could have some impact in a possible strengthening of the notion of Cuntz-Pimsner covariance in the context of discrete product systems. </parag>\n",
      "  <parag index=\"34\"> We feel that the questions we address here are complex enough to warrant avoiding extra difficulties. For that reason we chose to simplify things as much as possible by assuming two extra standing hypothesis, namely that interactions preserve the unit (3.1) and that the conditional expectations _inline_math_ one gets from an interaction are non-degenerated (3.3). In the same way that the Cuntz&#8211;Pimsner construction [16] was later refined by Katsura [12] we believe that our results may be similarly extended to avoid these special assumptions. </parag>\n",
      "  <parag index=\"35\"> The organization of the paper is as follows: in section (2) we give a few basic facts about partial representations and in section (3) we inroduce the central notion of interaction groups. In section (4) we study covariant representations and collect some crucial technical tools in preparation for the introduction of the notion of redundancies. </parag>\n",
      "  <parag index=\"36\"> The Toeplitz algebra of an interaction group is defined next and in section (6) the all important notion of redundancies is finally given, together with the definition of the crossed product. </parag>\n",
      "  <parag index=\"37\"> In section (7) we show that the crossed product possesses a natural grading over the group _inline_math_. </parag>\n",
      "  <parag index=\"38\"> Up to this point the development is admitedly abstract but in section (8) we study at lenght certain Hilbert modules and operators between them to be used in the following section with the purpose of finally giving a concrete representation of the crossed product. This may be thought of as a generalization of the notion of regular representation. As a byproduct we show that the natural map from _inline_math_ to _inline_math_ is injective. </parag>\n",
      "  <parag index=\"39\"> In section (10) we study the general problem of faithfulness of representations of the crossed product culminating with Theorem (10.10) in which we show that the regular representation of the crossed product is faithful provided _inline_math_ is amenable. </parag>\n",
      "  <parag index=\"40\"> In section (11) we assume the existence of a faithful invariant state and show in Theorem (11.7) the result already alluded to above, according to which _inline_math_ is isomorphic to a concrete algebra of operators on a certain amplification of the GNS space, again under the assumption that _inline_math_ is amenable. We hope that this Theorem will convince the skeptical reader that our theory is not as outlandish as it might seem. </parag>\n",
      "  <parag index=\"41\"> In section (12) we finally return to considering semigroups of endomorphisms as well as the question of whether such a semigroup can be extended to give an interaction group. Assuming the existence of certain states we show in Theorem (12.3) that, when such an extension exists, it is unique and that _inline_math_ is isomorphic to a natural concretely defined endomorphism crossed product. This could support the argument that interaction groups underlie certain semigroups of endomorphisms. </parag>\n",
      "  <parag index=\"42\"> In the following section we compare our theory with [15] giving a necessary and sufficient condition for Larsen&#8217;s dynamical systems to be extended to an interaction group. In section (14) we show, by means of an example, that Larsen&#8217;s systems do not always extend to an interaction group. </parag>\n",
      "  <parag index=\"43\"> Given a substantial difference in the respective notions of redundancies we do not believe that our crossed product coincides with Larsen&#8217;s. However it might be that these will coincide after Larsen&#8217;s redundancies are replaced by some more general notion involving several semigroup elements at the same time. </parag>\n",
      "  <parag index=\"44\"> I would like to acknowledge some very interesting conversations with Jean Renault, based on which I gathered enough courage to finish a rough draft of this work which was laying dormant for roughly three years now. I would also like to express my thanks to Vaughan Jones for having suggested the very interesting example described in section (14). Thanks go also to Joachim Cuntz, Jean Renault, Mikael R&#248;rdam, and Klaus Thomsen, for helping me to sort out relevant bibliography. </parag>\n",
      "  <parag index=\"45\"> </parag>\n",
      "  <parag index=\"46\"> 2. Partial representations.In this section we discuss some elementary facts about partial representations which will be used in the sequell. The reader is referred to [6] for more information. </parag>\n",
      "  <parag index=\"47\"> 2.1. Definition. A partial representation of a group _inline_math_ in a unital algebra _inline_math_ is a map _display_math_ such that for all _inline_math_ and _inline_math_ in _inline_math_ one has that (i)_inline_math_, (ii)_inline_math_, and (iii)_inline_math_. </parag>\n",
      "  <parag index=\"48\"> The following is a usefull basic result about partial representations: </parag>\n",
      "  <parag index=\"49\"> 2.2. Proposition. Given a partial representation _inline_math_ let _display_math_ Then for all _inline_math_ and _inline_math_ in _inline_math_, (i)_inline_math_ is an idempotent, (ii)_inline_math_, (iii)_inline_math_ commutes with _inline_math_. </parag>\n",
      "  <parag index=\"50\"> Proof. See [6 : 2.4]. _inline_math_ </parag>\n",
      "  <parag index=\"51\"> Let us now study one-sided invertible elements in partial representations: </parag>\n",
      "  <parag index=\"52\"> 2.3. Lemma. Fix a partial representation _inline_math_. (i)Given _inline_math_ in _inline_math_ suppose that _inline_math_ is a right-inverse of _inline_math_, in the sense that _inline_math_. Then _inline_math_ is also a right-inverse of _inline_math_. (ii)If _inline_math_ is left-invertible then _inline_math_ is a left-inverse of _inline_math_. (iii)If _inline_math_ is right-invertible then _inline_math_, for all _inline_math_ in _inline_math_. (iv)If _inline_math_ is left-invertible then _inline_math_, for all _inline_math_ in _inline_math_. </parag>\n",
      "  <parag index=\"53\"> Proof. We have _display_math_ This proves (i) while (ii) may be proved in a similar way. As for (iii) we have by (i) that _display_math_ The last point follows similarly. _inline_math_ </parag>\n",
      "  <parag index=\"54\"> The following is often usefull when one deals with ordered groups: </parag>\n",
      "  <parag index=\"55\"> 2.4. Lemma. Let _inline_math_ be a subsemigroup of _inline_math_ such that _inline_math_, and let _inline_math_ be a partial representation of _inline_math_ in _inline_math_ such that _inline_math_ is left-invertible for every _inline_math_ in _inline_math_, then _display_math_ Moreover, if _inline_math_ is another partial representation of _inline_math_ in _inline_math_ such that _inline_math_ for all _inline_math_, then _inline_math_. </parag>\n",
      "  <parag index=\"56\"> Proof. That _inline_math_ follows from (2.3.iv). That _inline_math_ is then obvious. _inline_math_ </parag>\n",
      "  <parag index=\"57\"> By a word in _inline_math_ we will mean a finite sequence _display_math_ of elements in _inline_math_. Given a word _inline_math_ as above we will let _display_math_ </parag>\n",
      "  <parag index=\"58\"> Fixing, for the time being, a partial representation _inline_math_ of _inline_math_ on the algebra _inline_math_, we will let for every word _inline_math_ as above, _display_math_ and _display_math_ </parag>\n",
      "  <parag index=\"59\"> 2.7. Proposition. Let _inline_math_ be a word in _inline_math_. Then (i)_inline_math_. (ii)_inline_math_, and hence _inline_math_ is idempotent, (iii)_inline_math_, where _inline_math_. </parag>\n",
      "  <parag index=\"60\"> Proof. In order to prove (iii) observe that _display_math_ Applying (2.2.ii) repeatedly we conclude that the above equals _display_math_ thus proving (iii). It is now easy to show that (ii) follows from (iii) and by induction. As for (i) we have by (iii) that _display_math_ By induction the above equals _display_math_ _inline_math_ </parag>\n",
      "  <parag index=\"61\"> If _inline_math_ is a word in _inline_math_ we will denote by _inline_math_}\\over{\\alpha}}\"&gt; &#945; &#8729; the product of all components of _inline_math_, namely</parag>\n",
      "</article>\n",
      "\n"
     ]
    }
   ],
   "source": [
    "print(etree.tostring(par.run_recutext_onall_para(), pretty_print=True, method='xml').decode('utf8'))"
   ]
  },
  {
   "cell_type": "code",
   "execution_count": 77,
   "metadata": {},
   "outputs": [],
   "source": [
    "from io import StringIO\n",
    "BAD = []\n",
    "for i in range(0, 10000):\n",
    "    try:\n",
    "        x = etree.parse(StringIO('<p>%s</p>' % chr(i)))\n",
    "    except etree.XMLSyntaxError:\n",
    "        BAD.append(i)\n",
    "BAD_BASESTRING_CHARS = [chr(b) for b in BAD if b not in [38, 60]]\n",
    "#BAD_UNICODE_CHARS = [unichr(b) for b in BAD]\n",
    "\n",
    "def remove_bad_chars(value):\n",
    "    # Remove bad control characters.\n",
    "#    if isinstance(value, unicode):\n",
    "#        for char in BAD_UNICODE_CHARS:\n",
    "#            value = value.replace(char, u'')\n",
    "    for char in BAD_BASESTRING_CHARS:\n",
    "        value = value.replace(char, '')\n",
    "    return value\n",
    "\n",
    "with open('/home/luis/rm_me_work_on_px/0511_002/math.0511061/math.0511061.xml', 'r') as fobj:\n",
    "    fixed = remove_bad_chars(fobj.read())\n",
    "\n",
    "with open('/home/luis/rm_me_work_on_px/0511_002/math.0511061/fixed.xml', 'w') as fobj:\n",
    "    fobj.write(fixed)"
   ]
  },
  {
   "cell_type": "code",
   "execution_count": 134,
   "metadata": {},
   "outputs": [
    {
     "name": "stdout",
     "output_type": "stream",
     "text": [
      "The file  /home/luis/rm_me_work_on_px/0511_002/math.0511061/math.0511061.xml  recovered from an error:  invalid character in attribute value, line 3502, column 57 (math.0511061.xml, line 3502)\n"
     ]
    }
   ],
   "source": [
    "par = px.DefinitionsXML('/home/luis/rm_me_work_on_px/0511_002/math.0511061/math.0511061.xml')"
   ]
  },
  {
   "cell_type": "code",
   "execution_count": 135,
   "metadata": {},
   "outputs": [
    {
     "name": "stdout",
     "output_type": "stream",
     "text": [
      "b'<parag index=\"398\"> exel@mtm.ufsc.br </parag>\\n'\n"
     ]
    }
   ],
   "source": [
    "paras = par.run_recutext_onall_para()\n",
    "last = paras.findall('.//parag')[-1]\n",
    "print(etree.tostring(last, pretty_print=True, encoding='ascii'))"
   ]
  },
  {
   "cell_type": "code",
   "execution_count": 121,
   "metadata": {},
   "outputs": [],
   "source": [
    "ss = xstr.split('\\n')[3501]"
   ]
  },
  {
   "cell_type": "code",
   "execution_count": 129,
   "metadata": {},
   "outputs": [
    {
     "data": {
      "text/plain": [
       "<Element {http://dlmf.nist.gov/LaTeXML}document at 0x7f9b662a4080>"
      ]
     },
     "execution_count": 129,
     "metadata": {},
     "output_type": "execute_result"
    }
   ],
   "source": [
    "etree.XML(xstr.encode('utf8'))"
   ]
  },
  {
   "cell_type": "code",
   "execution_count": 122,
   "metadata": {},
   "outputs": [
    {
     "data": {
      "text/plain": [
       "'<Math mode=\"inline\" tex=\"{\\\\buildrel\\\\hbox{\\\\forsmallbullet}\\\\over{\\\\alpha}}\">'"
      ]
     },
     "execution_count": 122,
     "metadata": {},
     "output_type": "execute_result"
    }
   ],
   "source": [
    "ss.replace('\\x0f', '')"
   ]
  },
  {
   "cell_type": "code",
   "execution_count": 123,
   "metadata": {},
   "outputs": [
    {
     "data": {
      "text/plain": [
       "'<Math mode=\"inline\" tex=\"{\\\\buildrel\\\\hbox{\\\\forsmallbullet\\x0f}\\\\over{\\\\alpha}}\">'"
      ]
     },
     "execution_count": 123,
     "metadata": {},
     "output_type": "execute_result"
    }
   ],
   "source": [
    "ss"
   ]
  },
  {
   "cell_type": "code",
   "execution_count": 140,
   "metadata": {},
   "outputs": [
    {
     "data": {
      "text/plain": [
       "<ParsingResult.EMPTY: 2>"
      ]
     },
     "execution_count": 140,
     "metadata": {},
     "output_type": "execute_result"
    }
   ],
   "source": [
    "par.parse"
   ]
  },
  {
   "cell_type": "code",
   "execution_count": null,
   "metadata": {},
   "outputs": [],
   "source": []
  }
 ],
 "metadata": {
  "kernelspec": {
   "display_name": "Python 3",
   "language": "python",
   "name": "python3"
  },
  "language_info": {
   "codemirror_mode": {
    "name": "ipython",
    "version": 3
   },
   "file_extension": ".py",
   "mimetype": "text/x-python",
   "name": "python",
   "nbconvert_exporter": "python",
   "pygments_lexer": "ipython3",
   "version": "3.8.10"
  }
 },
 "nbformat": 4,
 "nbformat_minor": 4
}
