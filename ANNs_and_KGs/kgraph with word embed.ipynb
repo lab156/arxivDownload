{
 "cells": [
  {
   "cell_type": "markdown",
   "metadata": {},
   "source": [
    "# Contents\n",
    "* Use kgraph to create, save and open kgraph for ANN"
   ]
  },
  {
   "cell_type": "code",
   "execution_count": 38,
   "metadata": {},
   "outputs": [],
   "source": [
    "import pykgraph as kg\n",
    "import numpy as np\n",
    "import json\n",
    "import pickle\n",
    "\n",
    "import os, sys, inspect\n",
    "currentdir = os.path.dirname(os.path.abspath(inspect.getfile(inspect.currentframe())))\n",
    "parentdir = os.path.dirname(currentdir)\n",
    "sys.path.insert(0, os.path.join(parentdir, 'embed'))\n",
    "\n",
    "from embed_utils import generate, nearest, open_w2v, open_glove\n",
    "from clean_and_token_text import normalize_text, token_phrases3"
   ]
  },
  {
   "cell_type": "code",
   "execution_count": 39,
   "metadata": {},
   "outputs": [
    {
     "name": "stdout",
     "output_type": "stream",
     "text": [
      "no word2vec\n"
     ]
    }
   ],
   "source": [
    "%%script echo no word2vec\n",
    "with open_w2v('/media/hd1/embeddings/model14-51_20-08/vectors.bin') as embed:\n",
    "#with open_w2v('/media/hd1/embeddings/model4ner_19-33_02-01/vectors.bin') as embed:\n",
    "    unit_embed = {w: v/np.linalg.norm(v) for w,v in embed.items()}"
   ]
  },
  {
   "cell_type": "code",
   "execution_count": 40,
   "metadata": {},
   "outputs": [
    {
     "name": "stderr",
     "output_type": "stream",
     "text": [
      "318468it [00:11, 28484.39it/s]"
     ]
    },
    {
     "name": "stdout",
     "output_type": "stream",
     "text": [
      "<unk> was referenced and defined\n"
     ]
    },
    {
     "name": "stderr",
     "output_type": "stream",
     "text": [
      "\n"
     ]
    }
   ],
   "source": [
    "embed = open_glove('/home/luis/rm_me/model13-34_08-11/')"
   ]
  },
  {
   "cell_type": "code",
   "execution_count": 41,
   "metadata": {},
   "outputs": [],
   "source": [
    "Vocab = len(embed)\n",
    "dim = embed['a'].shape[0]\n",
    "embed_matrix = np.zeros([Vocab, dim])\n",
    "wind = []\n",
    "\n",
    "for i,v in enumerate(embed.items()):\n",
    "    embed_matrix[i] = v[1]\n",
    "    wind.append(v[0])"
   ]
  },
  {
   "cell_type": "code",
   "execution_count": 13,
   "metadata": {},
   "outputs": [],
   "source": [
    "#embed_matrix = embed_matrix.astype('float32')"
   ]
  },
  {
   "cell_type": "code",
   "execution_count": 42,
   "metadata": {},
   "outputs": [
    {
     "name": "stdout",
     "output_type": "stream",
     "text": [
      "CPU times: user 7min 53s, sys: 118 ms, total: 7min 53s\n",
      "Wall time: 45 s\n"
     ]
    }
   ],
   "source": [
    "%%time\n",
    "index = kg.KGraph(embed_matrix, 'euclidean')  # another option is 'angular'\n",
    "index.build(reverse=-1)                       #"
   ]
  },
  {
   "cell_type": "code",
   "execution_count": 43,
   "metadata": {},
   "outputs": [
    {
     "data": {
      "text/plain": [
       "['darboux_transform',\n",
       " 'urd_',\n",
       " 'tableintersectioncoregk',\n",
       " 'pspspstj',\n",
       " '_ele',\n",
       " 'questquestion',\n",
       " 'pspspsdj',\n",
       " 'xlabels',\n",
       " 'harmonicwordintermofdegreestonalitymixolydianword',\n",
       " 'literatursammlung',\n",
       " 'pspspsvj',\n",
       " 'swnj',\n",
       " 'xvc',\n",
       " 'varietor',\n",
       " 'edgepink']"
      ]
     },
     "execution_count": 43,
     "metadata": {},
     "output_type": "execute_result"
    }
   ],
   "source": [
    "query_vec = embed['darboux_transform']\n",
    "knn = index.search(query_vec.reshape(1,-1), K=15)\n",
    "[wind[w] for w in knn[0]]"
   ]
  },
  {
   "cell_type": "code",
   "execution_count": 44,
   "metadata": {},
   "outputs": [
    {
     "name": "stdout",
     "output_type": "stream",
     "text": [
      "CPU times: user 467 ms, sys: 11.7 ms, total: 479 ms\n",
      "Wall time: 479 ms\n"
     ]
    },
    {
     "data": {
      "text/plain": [
       "[('darboux_transform', 6.39430482044616),\n",
       " ('isothermic', 3.8012385692379365),\n",
       " ('isothermic_surface', 3.7650425219281596),\n",
       " ('darboux_transformation', 3.0974876812702563),\n",
       " ('backlund_transform', 2.9440578193018467),\n",
       " ('willmore_surface', 2.868468342596969),\n",
       " ('christoffel_transform', 2.864199554997616),\n",
       " ('conformal_immersion', 2.824297958382583),\n",
       " ('calapso', 2.6746733165307037),\n",
       " ('ribaucour', 2.6652273780369886)]"
      ]
     },
     "execution_count": 44,
     "metadata": {},
     "output_type": "execute_result"
    }
   ],
   "source": [
    "%%time\n",
    "nearest(query_vec, embed)"
   ]
  },
  {
   "cell_type": "code",
   "execution_count": 26,
   "metadata": {},
   "outputs": [
    {
     "name": "stdout",
     "output_type": "stream",
     "text": [
      "215M\t/home/luis/rm_me/model13-34_08-11/kgraph_index.bin\n",
      "CPU times: user 24.1 ms, sys: 24.1 ms, total: 48.2 ms\n",
      "Wall time: 167 ms\n"
     ]
    }
   ],
   "source": [
    "%%time\n",
    "save_path = '/home/luis/rm_me/model13-34_08-11/' \n",
    "#index.save(save_path+'kgraph_index.bin')\n",
    "#np.save(save_path+'embed_matrix.bin', embed_matrix)\n",
    "with open(save_path+'wind.pickle', 'wb') as fobj:\n",
    "    pickle.dump(wind, fobj)\n",
    "!du -h /home/luis/rm_me/model13-34_08-11/kgraph_index.bin"
   ]
  },
  {
   "cell_type": "code",
   "execution_count": 3,
   "metadata": {},
   "outputs": [
    {
     "name": "stdout",
     "output_type": "stream",
     "text": [
      "CPU times: user 89.5 ms, sys: 168 ms, total: 258 ms\n",
      "Wall time: 257 ms\n"
     ]
    }
   ],
   "source": [
    "%%time\n",
    "save_path = '/home/luis/rm_me/model13-34_08-11/' \n",
    "embed_matrix = np.load(save_path + 'embed_matrix.bin.npy')\n",
    "ind2 = kg.KGraph(embed_matrix, 'euclidean')\n",
    "ind2.load(save_path+'kgraph_index.bin')\n",
    "\n",
    "with open(save_path+'wind.pickle', 'rb') as fobj:\n",
    "    wind = pickle.load(fobj)"
   ]
  },
  {
   "cell_type": "code",
   "execution_count": 33,
   "metadata": {},
   "outputs": [
    {
     "ename": "ValueError",
     "evalue": "'virtual_vector' is not in list",
     "output_type": "error",
     "traceback": [
      "\u001b[0;31m---------------------------------------------------------------------------\u001b[0m",
      "\u001b[0;31mValueError\u001b[0m                                Traceback (most recent call last)",
      "\u001b[0;32m<ipython-input-33-a9f70513a783>\u001b[0m in \u001b[0;36m<module>\u001b[0;34m\u001b[0m\n\u001b[0;32m----> 1\u001b[0;31m \u001b[0mquery_vec\u001b[0m \u001b[0;34m=\u001b[0m \u001b[0membed_matrix\u001b[0m\u001b[0;34m[\u001b[0m\u001b[0mwind\u001b[0m\u001b[0;34m.\u001b[0m\u001b[0mindex\u001b[0m\u001b[0;34m(\u001b[0m\u001b[0;34m'virtual_vector'\u001b[0m\u001b[0;34m)\u001b[0m\u001b[0;34m]\u001b[0m\u001b[0;34m\u001b[0m\u001b[0;34m\u001b[0m\u001b[0m\n\u001b[0m\u001b[1;32m      2\u001b[0m \u001b[0mknn\u001b[0m \u001b[0;34m=\u001b[0m \u001b[0mind2\u001b[0m\u001b[0;34m.\u001b[0m\u001b[0msearch\u001b[0m\u001b[0;34m(\u001b[0m\u001b[0mquery_vec\u001b[0m\u001b[0;34m.\u001b[0m\u001b[0mreshape\u001b[0m\u001b[0;34m(\u001b[0m\u001b[0;36m1\u001b[0m\u001b[0;34m,\u001b[0m\u001b[0;34m-\u001b[0m\u001b[0;36m1\u001b[0m\u001b[0;34m)\u001b[0m\u001b[0;34m,\u001b[0m \u001b[0mK\u001b[0m\u001b[0;34m=\u001b[0m\u001b[0;36m10\u001b[0m\u001b[0;34m)\u001b[0m\u001b[0;34m\u001b[0m\u001b[0;34m\u001b[0m\u001b[0m\n\u001b[1;32m      3\u001b[0m \u001b[0;34m[\u001b[0m\u001b[0mwind\u001b[0m\u001b[0;34m[\u001b[0m\u001b[0mw\u001b[0m\u001b[0;34m]\u001b[0m \u001b[0;32mfor\u001b[0m \u001b[0mw\u001b[0m \u001b[0;32min\u001b[0m \u001b[0mknn\u001b[0m\u001b[0;34m[\u001b[0m\u001b[0;36m0\u001b[0m\u001b[0;34m]\u001b[0m\u001b[0;34m]\u001b[0m\u001b[0;34m\u001b[0m\u001b[0;34m\u001b[0m\u001b[0m\n",
      "\u001b[0;31mValueError\u001b[0m: 'virtual_vector' is not in list"
     ]
    }
   ],
   "source": [
    "query_vec = embed_matrix[wind.index('virtual_vector')]\n",
    "knn = ind2.search(query_vec.reshape(1,-1), K=10)\n",
    "[wind[w] for w in knn[0]]"
   ]
  },
  {
   "cell_type": "code",
   "execution_count": 8,
   "metadata": {},
   "outputs": [],
   "source": [
    "!cp {save_path + \"wind.pickle\"} \"/home/luis/Documents/code/aws_lambda/ubuntu_gcc_python/data\""
   ]
  },
  {
   "cell_type": "code",
   "execution_count": 13,
   "metadata": {},
   "outputs": [
    {
     "ename": "NameError",
     "evalue": "name 'embed' is not defined",
     "output_type": "error",
     "traceback": [
      "\u001b[0;31m---------------------------------------------------------------------------\u001b[0m",
      "\u001b[0;31mNameError\u001b[0m                                 Traceback (most recent call last)",
      "\u001b[0;32m<ipython-input-13-f2c7184e9e21>\u001b[0m in \u001b[0;36m<module>\u001b[0;34m\u001b[0m\n\u001b[0;32m----> 1\u001b[0;31m \u001b[0mquery_vec\u001b[0m \u001b[0;34m=\u001b[0m \u001b[0membed\u001b[0m\u001b[0;34m[\u001b[0m\u001b[0;34m'holomorphism'\u001b[0m\u001b[0;34m]\u001b[0m\u001b[0;34m\u001b[0m\u001b[0;34m\u001b[0m\u001b[0m\n\u001b[0m\u001b[1;32m      2\u001b[0m \u001b[0mknn\u001b[0m \u001b[0;34m=\u001b[0m \u001b[0mind2\u001b[0m\u001b[0;34m.\u001b[0m\u001b[0msearch\u001b[0m\u001b[0;34m(\u001b[0m\u001b[0mquery_vec\u001b[0m\u001b[0;34m.\u001b[0m\u001b[0mreshape\u001b[0m\u001b[0;34m(\u001b[0m\u001b[0;36m1\u001b[0m\u001b[0;34m,\u001b[0m\u001b[0;34m-\u001b[0m\u001b[0;36m1\u001b[0m\u001b[0;34m)\u001b[0m\u001b[0;34m,\u001b[0m \u001b[0mK\u001b[0m\u001b[0;34m=\u001b[0m\u001b[0;36m15\u001b[0m\u001b[0;34m)\u001b[0m\u001b[0;34m\u001b[0m\u001b[0;34m\u001b[0m\u001b[0m\n\u001b[1;32m      3\u001b[0m \u001b[0;34m[\u001b[0m\u001b[0mwind\u001b[0m\u001b[0;34m[\u001b[0m\u001b[0mw\u001b[0m\u001b[0;34m]\u001b[0m \u001b[0;32mfor\u001b[0m \u001b[0mw\u001b[0m \u001b[0;32min\u001b[0m \u001b[0mknn\u001b[0m\u001b[0;34m[\u001b[0m\u001b[0;36m0\u001b[0m\u001b[0;34m]\u001b[0m\u001b[0;34m]\u001b[0m\u001b[0;34m\u001b[0m\u001b[0;34m\u001b[0m\u001b[0m\n",
      "\u001b[0;31mNameError\u001b[0m: name 'embed' is not defined"
     ]
    }
   ],
   "source": [
    "query_vec = embed['holomorphism']\n",
    "knn = ind2.search(query_vec.reshape(1,-1), K=15)\n",
    "[wind[w] for w in knn[0]]"
   ]
  },
  {
   "cell_type": "code",
   "execution_count": 25,
   "metadata": {},
   "outputs": [],
   "source": [
    "ddd = {'version': '2.0', 'routeKey': 'GET /query/{q}', 'rawPath': '/query/tensor', 'rawQueryString': '', 'headers': {'accept': '*/*', 'content-length': '0', 'host': '5ov7uivvng.execute-api.us-east-2.amazonaws.com', 'user-agent': 'curl/7.68.0', 'x-amzn-trace-id': 'Root=1-61a27218-3d5c19df1044d9ab2b2f3799', 'x-forwarded-for': '73.154.179.119', 'x-forwarded-port': '443', 'x-forwarded-proto': 'https'}, 'requestContext': {'accountId': '745782523334', 'apiId': '5ov7uivvng', 'domainName': '5ov7uivvng.execute-api.us-east-2.amazonaws.com', 'domainPrefix': '5ov7uivvng', 'http': {'method': 'GET', 'path': '/query/tensor', 'protocol': 'HTTP/1.1', 'sourceIp': '73.154.179.119', 'userAgent': 'curl/7.68.0'}, 'requestId': 'JebD2h3ZCYcEJRA=', 'routeKey': 'GET /query/{q}', 'stage': '$default', 'time': '27/Nov/2021:17:59:52 +0000', 'timeEpoch': 1638035992478}, 'pathParameters': {'q': 'tensor'}}"
   ]
  },
  {
   "cell_type": "code",
   "execution_count": 28,
   "metadata": {},
   "outputs": [
    {
     "ename": "TypeError",
     "evalue": "unsupported operand type(s) for |: 'NoneType' and 'dict'",
     "output_type": "error",
     "traceback": [
      "\u001b[0;31m---------------------------------------------------------------------------\u001b[0m",
      "\u001b[0;31mTypeError\u001b[0m                                 Traceback (most recent call last)",
      "\u001b[0;32m<ipython-input-28-27d036abe9de>\u001b[0m in \u001b[0;36m<module>\u001b[0;34m\u001b[0m\n\u001b[0;32m----> 1\u001b[0;31m \u001b[0mddd\u001b[0m\u001b[0;34m.\u001b[0m\u001b[0mget\u001b[0m\u001b[0;34m(\u001b[0m\u001b[0;34m'query'\u001b[0m\u001b[0;34m,\u001b[0m \u001b[0;32mNone\u001b[0m\u001b[0;34m)\u001b[0m \u001b[0;34m|\u001b[0m \u001b[0mddd\u001b[0m\u001b[0;34m.\u001b[0m\u001b[0mget\u001b[0m\u001b[0;34m(\u001b[0m\u001b[0;34m'pathParameters'\u001b[0m\u001b[0;34m,\u001b[0m \u001b[0;32mNone\u001b[0m\u001b[0;34m)\u001b[0m\u001b[0;34m\u001b[0m\u001b[0;34m\u001b[0m\u001b[0m\n\u001b[0m",
      "\u001b[0;31mTypeError\u001b[0m: unsupported operand type(s) for |: 'NoneType' and 'dict'"
     ]
    }
   ],
   "source": [
    "ddd.get('query', None) | ddd.get('pathParameters', None)"
   ]
  },
  {
   "cell_type": "code",
   "execution_count": 36,
   "metadata": {},
   "outputs": [
    {
     "data": {
      "text/plain": [
       "[(0, (0, 0)), (1, (1, 1)), (2, (2, 2)), (3, (3, 3))]"
      ]
     },
     "execution_count": 36,
     "metadata": {},
     "output_type": "execute_result"
    }
   ],
   "source": [
    "l1 = list(range(4))\n",
    "l2 = list(range(4))\n",
    "l3 = list(range(4))\n",
    "\n",
    "lL = list(zip(l2,l3))\n",
    "list(zip(l1,lL))"
   ]
  },
  {
   "cell_type": "code",
   "execution_count": null,
   "metadata": {},
   "outputs": [],
   "source": []
  }
 ],
 "metadata": {
  "kernelspec": {
   "display_name": "Python 3",
   "language": "python",
   "name": "python3"
  },
  "language_info": {
   "codemirror_mode": {
    "name": "ipython",
    "version": 3
   },
   "file_extension": ".py",
   "mimetype": "text/x-python",
   "name": "python",
   "nbconvert_exporter": "python",
   "pygments_lexer": "ipython3",
   "version": "3.8.10"
  }
 },
 "nbformat": 4,
 "nbformat_minor": 4
}
