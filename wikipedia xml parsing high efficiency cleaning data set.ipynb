{
 "cells": [
  {
   "cell_type": "code",
   "execution_count": 1,
   "metadata": {},
   "outputs": [],
   "source": [
    "from lxml import etree\n",
    "from bz2 import BZ2File\n",
    "import sys\n",
    "#sys.path.insert(0, './dewiki/')\n",
    "#import dewiki\n",
    "import re"
   ]
  },
  {
   "cell_type": "code",
   "execution_count": 2,
   "metadata": {},
   "outputs": [],
   "source": [
    "%load_ext autoreload\n",
    "%autoreload 2\n",
    "from unwiki import unwiki\n",
    "from wikiparse import search_defs"
   ]
  },
  {
   "cell_type": "code",
   "execution_count": 3,
   "metadata": {},
   "outputs": [],
   "source": [
    "with open('../wiki_definitions_improved.txt', 'r') as wiki_f:\n",
    "    wiki = wiki_f.readlines()"
   ]
  },
  {
   "cell_type": "code",
   "execution_count": 7,
   "metadata": {},
   "outputs": [
    {
     "name": "stdout",
     "output_type": "stream",
     "text": [
      "Regenerative process     Definition  \n",
      "A '''regenerative process''' is a [[stochastic process]] with time points at which, from a probabilistic point of view, the process restarts itself.<ref name=Ross>{{cite book|title=Introduction to probability models|author=Sheldon M. Ross|isbn=0-12-598062-0|page=442|year=2007|publisher=Academic Press}}</ref> These time point may themselves be determined by the evolution of the process. That is to say, the process {''X''(''t''),&nbsp;''t''&nbsp;≥&nbsp;0} is a regenerative process if there exist time points 0&nbsp;≤&nbsp;''T''<sub>0</sub>&nbsp;<&nbsp;''T''<sub>1</sub>&nbsp;<&nbsp;''T''<sub>2</sub>&nbsp;<&nbsp;... such that the post-''T<sub>k</sub>'' process {''X''(''T<sub>k</sub>''&nbsp;+&nbsp;''t'')&nbsp;:&nbsp;''t''&nbsp;≥&nbsp;0}\n",
      "\n",
      "* has the same distribution as the post-''T''<sub>0</sub> process {''X''(''T''<sub>0</sub>&nbsp;+&nbsp;''t'')&nbsp;:&nbsp;''t''&nbsp;≥&nbsp;0}\n",
      "* is independent of the pre-''T<sub>k</sub>'' process {''X''(''t'')&nbsp;:&nbsp;0&nbsp;≤&nbsp;''t''&nbsp;<&nbsp;''T<sub>k</sub>''}\n",
      "\n",
      "for ''k''&nbsp;≥&nbsp;1.<ref name=\"haas\">{{Cite book | first1 = Peter J. | last1 = Haas| doi = 10.1007/0-387-21552-2_6 | chapter = Regenerative Simulation | title = Stochastic Petri Nets | series = Springer Series in Operations Research and Financial Engineering | pages = 189–273 | year = 2002 | isbn = 0-387-95445-7 | pmid =  | pmc = }}</ref> Intuitively this means a regenerative process can be split into [[independent and identically distributed|i.i.d.]] cycles.<ref name=applied>{{Cite book | first1 = Søren | last1 = Asmussen| doi = 10.1007/0-387-21525-5_6 | chapter = Regenerative Processes | title = Applied Probability and Queues | series = Stochastic Modelling and Applied Probability | volume = 51 | pages = 168–185 | year = 2003 | isbn = 978-0-387-00211-8 | pmid =  | pmc = }}</ref>\n",
      "\n",
      "When ''T''<sub>0</sub>&nbsp;=&nbsp;0, ''X''(''t'') is called a '''nondelayed regenerative process'''. Else, the process is called a '''delayed regenerative process'''.<ref name=\"haas\" />\n",
      "----------------------\n",
      "A regenerative process is a stochastic process with time points at which, from a probabilistic point of view, the process restarts itself. These time point may themselves be determined by the evolution of the process. That is to say, the process {X(t), t ≥ 0} is a regenerative process if there exist time points 0 ≤ T<sub>0</sub> < T<sub>1</sub> < T<sub>2</sub> < ... such that the post-T<sub>k</sub> process {X(T<sub>k</sub> + t) : t ≥ 0}\n",
      "\n",
      "* has the same distribution as the post-T<sub>0</sub> process {X(T<sub>0</sub> + t) : t ≥ 0}\n",
      "* is independent of the pre-T<sub>k</sub> process {X(t) : 0 ≤ t < T<sub>k</sub>}\n",
      "\n",
      "for k ≥ 1. Intuitively this means a regenerative process can be split into i.i.d. cycles.\n",
      "\n",
      "When T<sub>0</sub>  0, X(t) is called a nondelayed regenerative process. Else, the process is called a delayed regenerative process.\n"
     ]
    }
   ],
   "source": [
    "title, section, w_raw = wiki[4305].split('-#-%-')\n",
    "w = eval(w_raw)\n",
    "print(title, section)\n",
    "print(w)\n",
    "print('----------------------')\n",
    "print(unwiki.loads(w))"
   ]
  },
  {
   "cell_type": "code",
   "execution_count": 69,
   "metadata": {},
   "outputs": [],
   "source": [
    "def paren_matcher (n):\n",
    "    # poor man's matched paren scanning, gives up\n",
    "    # after n+1 levels.  Matches any string with balanced\n",
    "    # parens inside; add the outer parens yourself if needed.\n",
    "    # Nongreedy.\n",
    "    return r\"[^()]*?(?:\\[\\[\"*n+r\"[^()]*?\"+r\"\\]\\][^()]*?)*?\"*n\n",
    "brac = re.compile(r'\\[\\['+paren_matcher(5)+r'\\]\\]')"
   ]
  },
  {
   "cell_type": "code",
   "execution_count": 71,
   "metadata": {},
   "outputs": [
    {
     "data": {
      "text/plain": [
       "'hola i'"
      ]
     },
     "execution_count": 71,
     "metadata": {},
     "output_type": "execute_result"
    }
   ],
   "source": [
    "brac.sub('i', 'hola [[que :: ;; $$$ peks[[esto 43432 se mamo]]]]')"
   ]
  },
  {
   "cell_type": "code",
   "execution_count": 64,
   "metadata": {},
   "outputs": [
    {
     "data": {
      "text/plain": [
       "'[^()]*?(?:\\\\[[^()]*?\\\\][^()]*?)*?'"
      ]
     },
     "execution_count": 64,
     "metadata": {},
     "output_type": "execute_result"
    }
   ],
   "source": [
    "paren_matcher(1)"
   ]
  },
  {
   "cell_type": "code",
   "execution_count": 36,
   "metadata": {},
   "outputs": [
    {
     "data": {
      "text/plain": [
       "'hola la bien lele'"
      ]
     },
     "execution_count": 36,
     "metadata": {},
     "output_type": "execute_result"
    }
   ],
   "source": [
    "R = re.compile(r't')\n",
    "R.sub('l' , 'hola ta bien tete')"
   ]
  },
  {
   "cell_type": "code",
   "execution_count": 10,
   "metadata": {},
   "outputs": [
    {
     "data": {
      "text/plain": [
       "'This is an cambiado'"
      ]
     },
     "execution_count": 10,
     "metadata": {},
     "output_type": "execute_result"
    }
   ],
   "source": [
    "ex = 'This is an examplZ<sub>''h''</sub>'\n",
    "math_tags = re.compile(r\"\\w*<sub>.+?</sub>\")\n",
    "math_tags.sub('cambiado', ex)"
   ]
  }
 ],
 "metadata": {
  "kernelspec": {
   "display_name": "Python 3",
   "language": "python",
   "name": "python3"
  },
  "language_info": {
   "codemirror_mode": {
    "name": "ipython",
    "version": 3
   },
   "file_extension": ".py",
   "mimetype": "text/x-python",
   "name": "python",
   "nbconvert_exporter": "python",
   "pygments_lexer": "ipython3",
   "version": "3.8.5"
  }
 },
 "nbformat": 4,
 "nbformat_minor": 4
}
