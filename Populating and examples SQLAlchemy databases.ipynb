{
 "cells": [
  {
   "cell_type": "code",
   "execution_count": 1,
   "metadata": {},
   "outputs": [
    {
     "ename": "FileNotFoundError",
     "evalue": "[Errno 2] No such file or directory: 'data/arXiv_src_manifest_Oct_2019.xml'",
     "output_type": "error",
     "traceback": [
      "\u001b[0;31m---------------------------------------------------------------------------\u001b[0m",
      "\u001b[0;31mFileNotFoundError\u001b[0m                         Traceback (most recent call last)",
      "\u001b[0;32m<ipython-input-1-0b174f00feb9>\u001b[0m in \u001b[0;36m<module>\u001b[0;34m\u001b[0m\n\u001b[1;32m      9\u001b[0m \u001b[0;32mimport\u001b[0m \u001b[0mdatabases\u001b[0m\u001b[0;34m.\u001b[0m\u001b[0mcreate_db_define_models\u001b[0m \u001b[0;32mas\u001b[0m \u001b[0mcre\u001b[0m\u001b[0;34m\u001b[0m\u001b[0;34m\u001b[0m\u001b[0m\n\u001b[1;32m     10\u001b[0m \u001b[0;34m\u001b[0m\u001b[0m\n\u001b[0;32m---> 11\u001b[0;31m \u001b[0;32mwith\u001b[0m \u001b[0mopen\u001b[0m\u001b[0;34m(\u001b[0m\u001b[0;34m'data/arXiv_src_manifest_Oct_2019.xml'\u001b[0m\u001b[0;34m,\u001b[0m \u001b[0;34m'r'\u001b[0m\u001b[0;34m)\u001b[0m \u001b[0;32mas\u001b[0m \u001b[0mf\u001b[0m\u001b[0;34m:\u001b[0m\u001b[0;34m\u001b[0m\u001b[0;34m\u001b[0m\u001b[0m\n\u001b[0m\u001b[1;32m     12\u001b[0m     \u001b[0mmani\u001b[0m \u001b[0;34m=\u001b[0m \u001b[0metree\u001b[0m\u001b[0;34m.\u001b[0m\u001b[0mparse\u001b[0m\u001b[0;34m(\u001b[0m\u001b[0mf\u001b[0m\u001b[0;34m)\u001b[0m\u001b[0;34m\u001b[0m\u001b[0;34m\u001b[0m\u001b[0m\n\u001b[1;32m     13\u001b[0m \u001b[0;34m\u001b[0m\u001b[0m\n",
      "\u001b[0;31mFileNotFoundError\u001b[0m: [Errno 2] No such file or directory: 'data/arXiv_src_manifest_Oct_2019.xml'"
     ]
    }
   ],
   "source": [
    "from lxml import etree\n",
    "import pandas as pd\n",
    "import sqlalchemy as sa\n",
    "from sqlalchemy.orm import sessionmaker\n",
    "import sys\n",
    "import os\n",
    "sys.path.insert(0,'arxiv.py/')\n",
    "import arxiv\n",
    "import databases.create_db_define_models as cre\n",
    "\n",
    "with open('data/arXiv_src_manifest_Oct_2019.xml', 'r') as f:\n",
    "    mani = etree.parse(f)\n",
    "    \n",
    "# Get list of filenames with xpath\n",
    "fname = mani.xpath('.//filename')\n",
    "len(fname)\n",
    "fname_set = set([f.text for f in fname])\n"
   ]
  },
  {
   "cell_type": "code",
   "execution_count": 1,
   "metadata": {},
   "outputs": [],
   "source": [
    "%load_ext autoreload\n",
    "%autoreload 2\n",
    "import process as pro"
   ]
  },
  {
   "cell_type": "code",
   "execution_count": 11,
   "metadata": {},
   "outputs": [
    {
     "data": {
      "text/plain": [
       "2498"
      ]
     },
     "execution_count": 11,
     "metadata": {},
     "output_type": "execute_result"
    }
   ],
   "source": [
    "# Connect to the database\n",
    "database = 'sqlite:///../db_test.db'\n",
    "downloaded_tars = '/mnt/arXiv_src/downloaded_log.csv'\n",
    "eng = sa.create_engine(database, echo=False)\n",
    "eng.connect()\n",
    "SMaker = sessionmaker(bind=eng)\n",
    "sess = SMaker()\n",
    "# don't need this unless creating database from scratch\n",
    "cre.ManifestTarFile.metadata.create_all(eng)\n",
    "cre.Article.metadata.create_all(eng)\n",
    "\n",
    "# Get tarfile set of names\n",
    "q = sess.query(cre.ManifestTarFile)\n",
    "filename_set = set([f.filename for f in q.all()])\n",
    "\n",
    "# Get set of files that have not been fetched for metadata\n",
    "downloaded_df = pd.read_csv(downloaded_tars)\n",
    "downloaded_set = set(downloaded_df.filename)\n",
    "# for some reason src/arXiv_src_manifest.xml is showing up\n",
    "diff_set = downloaded_set.difference(filename_set)\\\n",
    "                         .difference(set(['src/arXiv_src_manifest.xml']))\n",
    "\n",
    "len(diff_set)"
   ]
  },
  {
   "cell_type": "code",
   "execution_count": 10,
   "metadata": {},
   "outputs": [],
   "source": [
    "# Get the name of the file that appears in the manifest file\n",
    "# Ex. src/arXiv_src_sdf23424.tar\n",
    "manifest_name = '/'.join(x.tar_path.split('/')[-2:])\n",
    "MM = mani.xpath('.//*[filename[text()=\"%s\"]]'%manifest_name)[0]\n",
    "line = parse_element(MM)\n",
    "f = cre.ManifestTarFile(**line)\n",
    "sess.add(f)\n",
    "sess.commit()\n",
    "x.save_articles_to_db('sqlite:///../db_test.db')"
   ]
  },
  {
   "cell_type": "code",
   "execution_count": 9,
   "metadata": {},
   "outputs": [],
   "source": [
    "root = mani.getroot()\n",
    "def parse_element(elem):\n",
    "    \"\"\" return dictionary with manifest metadata \"\"\"\n",
    "    return_dict = {}\n",
    "    for e in elem:\n",
    "        return_dict[e.tag] = e.text\n",
    "    return return_dict\n",
    "def parse_root(root):\n",
    "        return [parse_element(child) for child in iter(root) if child.tag != 'timestamp']\n",
    "\n",
    "filedf = pd.DataFrame(parse_root(root))\n",
    "filedf[['num_items', 'size']] = filedf[['num_items', 'size']].astype(int)\n",
    "filedf['filename'] = filedf['filename'].astype(str)"
   ]
  },
  {
   "cell_type": "code",
   "execution_count": 12,
   "metadata": {},
   "outputs": [
    {
     "name": "stdout",
     "output_type": "stream",
     "text": [
      "untaring file: tests/minitest4.tar    \n",
      "\u001b[Kquerying the arxiv querying from 00 to 04 successful       "
     ]
    }
   ],
   "source": [
    "prob = pro.Xtraction('tests/minitest4.tar')"
   ]
  },
  {
   "cell_type": "code",
   "execution_count": 13,
   "metadata": {},
   "outputs": [
    {
     "name": "stdout",
     "output_type": "stream",
     "text": [
      "writing file 0504/math0504297.gz               \n",
      "writing file 0504/math0504292.gz               \n",
      "writing file 0504/math0504298.gz               \n",
      "writing file 0504/math0504299.gz               \n",
      "successful extraction of  minitest4.tar      \n"
     ]
    },
    {
     "data": {
      "text/plain": [
       "True"
      ]
     },
     "execution_count": 13,
     "metadata": {},
     "output_type": "execute_result"
    }
   ],
   "source": [
    "prob.extract_tar('data/rm_me_0504_002', 'math')"
   ]
  },
  {
   "cell_type": "code",
   "execution_count": 14,
   "metadata": {},
   "outputs": [
    {
     "data": {
      "text/plain": [
       "{'utf-8': ['utf-8'],\n",
       " 'ascii': ['utf-8'],\n",
       " 'ISO-8859-1': ['ISO-8859-1'],\n",
       " 'Windows-1252': ['latin1'],\n",
       " 'SHIFT_JIS': ['shift_jis'],\n",
       " 'GB2312': ['gbk', 'gb18030-2000'],\n",
       " 'Big5': ['big5', 'gbk'],\n",
       " 'windows-1251': ['windows-1251'],\n",
       " 'IBM866': ['ibm866'],\n",
       " 'IBM855': ['ibm855'],\n",
       " 'Windows-1254': ['cp932', 'latin1'],\n",
       " 'TIS-620': ['cp874'],\n",
       " 'HZ-GB-2312': ['gbk'],\n",
       " 'KOI8-R': ['koi8-r'],\n",
       " 'MacCyrillic': ['koi8-r'],\n",
       " 'EUC-JP': ['euc_jp'],\n",
       " 'EUC-KR': ['euc_kr'],\n",
       " 'ISO-2022-JP': ['iso2022_jp', 'cp932'],\n",
       " 'windows-1255': ['cp1255'],\n",
       " 'CP949': ['cp949'],\n",
       " None: None}"
      ]
     },
     "execution_count": 14,
     "metadata": {},
     "output_type": "execute_result"
    }
   ],
   "source": [
    "prob.encoding_dict"
   ]
  },
  {
   "cell_type": "code",
   "execution_count": 19,
   "metadata": {},
   "outputs": [
    {
     "ename": "NameError",
     "evalue": "name 'mini' is not defined",
     "output_type": "error",
     "traceback": [
      "\u001b[0;31m---------------------------------------------------------------------------\u001b[0m",
      "\u001b[0;31mNameError\u001b[0m                                 Traceback (most recent call last)",
      "\u001b[0;32m<ipython-input-19-89bbf8785f45>\u001b[0m in \u001b[0;36m<module>\u001b[0;34m\u001b[0m\n\u001b[0;32m----> 1\u001b[0;31m \u001b[0mmini\u001b[0m\u001b[0;34m.\u001b[0m\u001b[0msave_articles_to_db\u001b[0m\u001b[0;34m(\u001b[0m\u001b[0;34m'sqlite:///tests/test.db'\u001b[0m\u001b[0;34m)\u001b[0m\u001b[0;34m\u001b[0m\u001b[0;34m\u001b[0m\u001b[0m\n\u001b[0m",
      "\u001b[0;31mNameError\u001b[0m: name 'mini' is not defined"
     ]
    }
   ],
   "source": [
    "mini.save_articles_to_db('sqlite:///tests/test.db')"
   ]
  },
  {
   "cell_type": "code",
   "execution_count": 57,
   "metadata": {},
   "outputs": [
    {
     "name": "stdout",
     "output_type": "stream",
     "text": [
      "<class 'str'> --- {'term': 'math.AP', 'scheme': 'http://arxiv.org/schemas/atom'}\n",
      "\n",
      "<class 'str'> --- {'term': 'math.AG', 'scheme': 'http://arxiv.org/schemas/atom'}\n",
      "\n",
      "<class 'str'> --- {'term': 'math.AT', 'scheme': 'http://arxiv.org/schemas/atom'}\n",
      "\n",
      "<class 'str'> --- {'term': 'math.LO', 'scheme': 'http://arxiv.org/schemas/atom'}\n",
      "\n",
      "<class 'str'> --- {'term': 'math.AP', 'scheme': 'http://arxiv.org/schemas/atom'}\n",
      "\n",
      "<class 'str'> --- {'term': 'math.NT', 'scheme': 'http://arxiv.org/schemas/atom'}\n",
      "\n",
      "<class 'str'> --- {'term': 'math.GM', 'scheme': 'http://arxiv.org/schemas/atom'}\n",
      "\n",
      "<class 'str'> --- {'term': 'math.AP', 'scheme': 'http://arxiv.org/schemas/atom'}\n",
      "\n",
      "<class 'str'> --- {'term': 'math.DS', 'scheme': 'http://arxiv.org/schemas/atom'}\n",
      "\n"
     ]
    }
   ],
   "source": [
    "for q in mini.query_results:\n",
    "    print(type(q['tags']),\"---\", q['arxiv_primary_category'])\n",
    "    print('')"
   ]
  },
  {
   "cell_type": "code",
   "execution_count": 14,
   "metadata": {},
   "outputs": [
    {
     "data": {
      "text/plain": [
       "['1403/1403.0035.pdf',\n",
       " '1403/1403.0040.gz',\n",
       " '1403/1403.0038.gz',\n",
       " '1403/1403.0039.gz',\n",
       " '1403/1403.0037.gz',\n",
       " '1403/1403.0036.pdf']"
      ]
     },
     "execution_count": 14,
     "metadata": {},
     "output_type": "execute_result"
    }
   ],
   "source": [
    "mini.art_lst"
   ]
  },
  {
   "cell_type": "code",
   "execution_count": 18,
   "metadata": {},
   "outputs": [
    {
     "name": "stdout",
     "output_type": "stream",
     "text": [
      "2020-02-09 13:46:38,604 INFO sqlalchemy.engine.base.Engine SELECT CAST('test plain returns' AS VARCHAR(60)) AS anon_1\n",
      "2020-02-09 13:46:38,607 INFO sqlalchemy.engine.base.Engine ()\n",
      "2020-02-09 13:46:38,610 INFO sqlalchemy.engine.base.Engine SELECT CAST('test unicode returns' AS VARCHAR(60)) AS anon_1\n",
      "2020-02-09 13:46:38,612 INFO sqlalchemy.engine.base.Engine ()\n"
     ]
    }
   ],
   "source": [
    "eng = sa.create_engine('sqlite:///tests/test.db', echo=True)\n",
    "eng.connect()\n",
    "SMaker = sessionmaker(bind=eng)\n",
    "sess = SMaker()\n",
    "#cre.ManifestTarFile.metadata.create_all(eng)\n",
    "#cre.Article.metadata.create_all(eng)"
   ]
  },
  {
   "cell_type": "code",
   "execution_count": 40,
   "metadata": {},
   "outputs": [
    {
     "name": "stdout",
     "output_type": "stream",
     "text": [
      "2020-02-08 21:22:15,215 INFO sqlalchemy.engine.base.Engine BEGIN (implicit)\n",
      "2020-02-08 21:22:15,226 INFO sqlalchemy.engine.base.Engine SELECT articles.pk AS articles_pk, articles.tarfile_id AS articles_tarfile_id, articles.id AS articles_id, articles.guidislink AS articles_guidislink, articles.updated_parsed AS articles_updated_parsed, articles.published_parsed AS articles_published_parsed, articles.title AS articles_title, articles.summary AS articles_summary, articles.authors AS articles_authors, articles.author_detail AS articles_author_detail, articles.author AS articles_author, articles.arxiv_comment AS articles_arxiv_comment, articles.tags AS articles_tags, articles.arxiv_url AS articles_arxiv_url, articles.doi AS articles_doi \n",
      "FROM articles JOIN manifest ON manifest.id = articles.tarfile_id \n",
      "WHERE manifest.id = ?\n",
      "2020-02-08 21:22:15,228 INFO sqlalchemy.engine.base.Engine (3,)\n"
     ]
    },
    {
     "data": {
      "text/plain": [
       "[<databases.create_db_define_models.Article at 0x7f82e75199d0>,\n",
       " <databases.create_db_define_models.Article at 0x7f82e7519c70>,\n",
       " <databases.create_db_define_models.Article at 0x7f82e7519d30>,\n",
       " <databases.create_db_define_models.Article at 0x7f82e7519df0>,\n",
       " <databases.create_db_define_models.Article at 0x7f82e7519eb0>,\n",
       " <databases.create_db_define_models.Article at 0x7f82e7519f70>,\n",
       " <databases.create_db_define_models.Article at 0x7f82e85a9880>,\n",
       " <databases.create_db_define_models.Article at 0x7f82e785c820>,\n",
       " <databases.create_db_define_models.Article at 0x7f82e785c280>,\n",
       " <databases.create_db_define_models.Article at 0x7f82e75e1be0>,\n",
       " <databases.create_db_define_models.Article at 0x7f82e75e1a00>]"
      ]
     },
     "execution_count": 40,
     "metadata": {},
     "output_type": "execute_result"
    }
   ],
   "source": [
    "sess.query(cre.Article).join(cre.ManifestTarFile).filter(cre.ManifestTarFile.id == 3).all()"
   ]
  },
  {
   "cell_type": "code",
   "execution_count": 19,
   "metadata": {},
   "outputs": [
    {
     "name": "stdout",
     "output_type": "stream",
     "text": [
      "2020-02-09 13:46:50,650 INFO sqlalchemy.engine.base.Engine BEGIN (implicit)\n",
      "2020-02-09 13:46:50,660 INFO sqlalchemy.engine.base.Engine SELECT articles.pk AS articles_pk \n",
      "FROM articles \n",
      "WHERE articles.tarfile_id = ?\n",
      "2020-02-09 13:46:50,669 INFO sqlalchemy.engine.base.Engine (5,)\n",
      "2020-02-09 13:46:50,677 INFO sqlalchemy.engine.base.Engine DELETE FROM articles WHERE articles.tarfile_id = ?\n",
      "2020-02-09 13:46:50,687 INFO sqlalchemy.engine.base.Engine (5,)\n",
      "2020-02-09 13:46:50,712 INFO sqlalchemy.engine.base.Engine COMMIT\n",
      "2020-02-09 13:46:50,890 INFO sqlalchemy.engine.base.Engine BEGIN (implicit)\n",
      "2020-02-09 13:46:50,895 INFO sqlalchemy.engine.base.Engine SELECT articles.pk AS articles_pk, articles.tarfile_id AS articles_tarfile_id, articles.id AS articles_id, articles.guidislink AS articles_guidislink, articles.updated_parsed AS articles_updated_parsed, articles.published_parsed AS articles_published_parsed, articles.title AS articles_title, articles.summary AS articles_summary, articles.authors AS articles_authors, articles.author_detail AS articles_author_detail, articles.author AS articles_author, articles.arxiv_comment AS articles_arxiv_comment, articles.tags AS articles_tags, articles.arxiv_url AS articles_arxiv_url, articles.doi AS articles_doi \n",
      "FROM articles \n",
      "WHERE articles.tarfile_id = ?\n",
      "2020-02-09 13:46:50,902 INFO sqlalchemy.engine.base.Engine (5,)\n"
     ]
    },
    {
     "data": {
      "text/plain": [
       "[]"
      ]
     },
     "execution_count": 19,
     "metadata": {},
     "output_type": "execute_result"
    }
   ],
   "source": [
    "sess.query(cre.Article).filter(cre.Article.tarfile_id == 5).delete(synchronize_session='fetch')\n",
    "sess.commit()\n",
    "sess.query(cre.Article).filter(cre.Article.tarfile_id == 5).all()"
   ]
  },
  {
   "cell_type": "code",
   "execution_count": 19,
   "metadata": {},
   "outputs": [
    {
     "name": "stdout",
     "output_type": "stream",
     "text": [
      "2020-01-31 21:46:01,530 INFO sqlalchemy.engine.base.Engine BEGIN (implicit)\n",
      "2020-01-31 21:46:01,537 INFO sqlalchemy.engine.base.Engine SELECT articles.pk AS articles_pk \n",
      "FROM articles JOIN manifest ON manifest.id = articles.tarfile_id \n",
      "WHERE manifest.filename LIKE ?\n",
      "2020-01-31 21:46:01,543 INFO sqlalchemy.engine.base.Engine ('src/arXiv_src_133%',)\n"
     ]
    },
    {
     "data": {
      "text/plain": [
       "[]"
      ]
     },
     "execution_count": 19,
     "metadata": {},
     "output_type": "execute_result"
    }
   ],
   "source": [
    "pks = sess.query(cre.Article.pk).join(cre.ManifestTarFile).filter(cre.ManifestTarFile.filename.like(\"src/arXiv_src_133%\"))\n",
    "pks.all()"
   ]
  },
  {
   "cell_type": "code",
   "execution_count": 190,
   "metadata": {
    "collapsed": true,
    "jupyter": {
     "outputs_hidden": true
    }
   },
   "outputs": [
    {
     "name": "stdout",
     "output_type": "stream",
     "text": [
      "2019-02-03 19:54:26,751 INFO sqlalchemy.engine.base.Engine BEGIN (implicit)\n",
      "2019-02-03 19:54:26,757 INFO sqlalchemy.engine.base.Engine INSERT INTO manifest (filename, content_md5sum, md5sum, first_item, last_item, num_items, seq_num, size, timestamp, yymm) VALUES (?, ?, ?, ?, ?, ?, ?, ?, ?, ?)\n",
      "2019-02-03 19:54:26,762 INFO sqlalchemy.engine.base.Engine ('src/arXiv_src_0001_001.tar', 'cacbfede21d5dfef26f367ec99384546', '949ae880fbaf4649a485a8d9e07f370b', 'astro-ph0001001', 'quant-ph0001119', 2364, '1', 225605507, '2010-12-23 00:13:59', '0001')\n",
      "2019-02-03 19:54:26,765 INFO sqlalchemy.engine.base.Engine COMMIT\n",
      "2019-02-03 19:54:26,895 INFO sqlalchemy.engine.base.Engine BEGIN (implicit)\n",
      "2019-02-03 19:54:26,897 INFO sqlalchemy.engine.base.Engine INSERT INTO manifest (filename, content_md5sum, md5sum, first_item, last_item, num_items, seq_num, size, timestamp, yymm) VALUES (?, ?, ?, ?, ?, ?, ?, ?, ?, ?)\n",
      "2019-02-03 19:54:26,904 INFO sqlalchemy.engine.base.Engine ('src/arXiv_src_0002_001.tar', 'd90df481661ccdd7e8be883796539743', '4592ab506cf775afecf4ad560d982a00', 'astro-ph0002001', 'quant-ph0002094', 2365, '1', 227036528, '2010-12-23 00:18:09', '0002')\n",
      "2019-02-03 19:54:26,907 INFO sqlalchemy.engine.base.Engine COMMIT\n",
      "2019-02-03 19:54:27,027 INFO sqlalchemy.engine.base.Engine BEGIN (implicit)\n",
      "2019-02-03 19:54:27,031 INFO sqlalchemy.engine.base.Engine INSERT INTO manifest (filename, content_md5sum, md5sum, first_item, last_item, num_items, seq_num, size, timestamp, yymm) VALUES (?, ?, ?, ?, ?, ?, ?, ?, ?, ?)\n",
      "2019-02-03 19:54:27,034 INFO sqlalchemy.engine.base.Engine ('src/arXiv_src_0003_001.tar', '3388afd7bfb2dfd9d3f3e6b353357b33', 'b5bf5e52ae8532cdf82b606b42df16ea', 'astro-ph0003001', 'quant-ph0003151', 2600, '1', 230986882, '2010-12-23 00:22:15', '0003')\n",
      "2019-02-03 19:54:27,037 INFO sqlalchemy.engine.base.Engine COMMIT\n",
      "2019-02-03 19:54:27,205 INFO sqlalchemy.engine.base.Engine BEGIN (implicit)\n",
      "2019-02-03 19:54:27,209 INFO sqlalchemy.engine.base.Engine INSERT INTO manifest (filename, content_md5sum, md5sum, first_item, last_item, num_items, seq_num, size, timestamp, yymm) VALUES (?, ?, ?, ?, ?, ?, ?, ?, ?, ?)\n",
      "2019-02-03 19:54:27,214 INFO sqlalchemy.engine.base.Engine ('src/arXiv_src_0004_001.tar', '46abb309d77065fed44965cc26a4ae2e', '9bf1b55890dceec9535ef723a2aea16b', 'astro-ph0004001', 'quant-ph0004109', 2076, '1', 191559408, '2010-12-23 00:26:31', '0004')\n",
      "2019-02-03 19:54:27,219 INFO sqlalchemy.engine.base.Engine COMMIT\n",
      "2019-02-03 19:54:27,338 INFO sqlalchemy.engine.base.Engine BEGIN (implicit)\n",
      "2019-02-03 19:54:27,341 INFO sqlalchemy.engine.base.Engine INSERT INTO manifest (filename, content_md5sum, md5sum, first_item, last_item, num_items, seq_num, size, timestamp, yymm) VALUES (?, ?, ?, ?, ?, ?, ?, ?, ?, ?)\n",
      "2019-02-03 19:54:27,345 INFO sqlalchemy.engine.base.Engine ('src/arXiv_src_0005_001.tar', 'ea665c7b62eaac91110fa344f6ba3fc4', 'b49af416746146eca13c5a6a76bc7193', 'astro-ph0005001', 'quant-ph0005134', 2724, '1', 255509072, '2010-12-23 00:30:11', '0005')\n",
      "2019-02-03 19:54:27,351 INFO sqlalchemy.engine.base.Engine COMMIT\n",
      "2019-02-03 19:54:27,438 INFO sqlalchemy.engine.base.Engine BEGIN (implicit)\n",
      "2019-02-03 19:54:27,440 INFO sqlalchemy.engine.base.Engine INSERT INTO manifest (filename, content_md5sum, md5sum, first_item, last_item, num_items, seq_num, size, timestamp, yymm) VALUES (?, ?, ?, ?, ?, ?, ?, ?, ?, ?)\n",
      "2019-02-03 19:54:27,444 INFO sqlalchemy.engine.base.Engine ('src/arXiv_src_0006_001.tar', 'b5bea3821e15af75b831250e6ea0a031', 'ea268ff2bc89161c6998146fbb2d7515', 'astro-ph0006001', 'quant-ph0006136', 2438, '1', 242543048, '2010-12-23 00:34:56', '0006')\n",
      "2019-02-03 19:54:27,448 INFO sqlalchemy.engine.base.Engine COMMIT\n",
      "2019-02-03 19:54:27,549 INFO sqlalchemy.engine.base.Engine BEGIN (implicit)\n",
      "2019-02-03 19:54:27,551 INFO sqlalchemy.engine.base.Engine INSERT INTO manifest (filename, content_md5sum, md5sum, first_item, last_item, num_items, seq_num, size, timestamp, yymm) VALUES (?, ?, ?, ?, ?, ?, ?, ?, ?, ?)\n",
      "2019-02-03 19:54:27,555 INFO sqlalchemy.engine.base.Engine ('src/arXiv_src_0007_001.tar', 'ddfb7cb7cd9f413f08fe9b4db6ebd0a5', '79bf35aabec474f66dfa00004ae13660', 'astro-ph0007001', 'quant-ph0007124', 2461, '1', 245531787, '2010-12-23 00:39:28', '0007')\n",
      "2019-02-03 19:54:27,558 INFO sqlalchemy.engine.base.Engine COMMIT\n",
      "2019-02-03 19:54:27,649 INFO sqlalchemy.engine.base.Engine BEGIN (implicit)\n",
      "2019-02-03 19:54:27,652 INFO sqlalchemy.engine.base.Engine INSERT INTO manifest (filename, content_md5sum, md5sum, first_item, last_item, num_items, seq_num, size, timestamp, yymm) VALUES (?, ?, ?, ?, ?, ?, ?, ?, ?, ?)\n",
      "2019-02-03 19:54:27,656 INFO sqlalchemy.engine.base.Engine ('src/arXiv_src_0008_001.tar', '0587b74278ded853b6bc3e26e216e9f8', '76fbdc83a3e966b8b3d729115b28cfca', 'astro-ph0008001', 'quant-ph0008134', 2613, '1', 286991432, '2010-12-23 00:44:17', '0008')\n",
      "2019-02-03 19:54:27,659 INFO sqlalchemy.engine.base.Engine COMMIT\n",
      "2019-02-03 19:54:27,793 INFO sqlalchemy.engine.base.Engine BEGIN (implicit)\n",
      "2019-02-03 19:54:27,795 INFO sqlalchemy.engine.base.Engine INSERT INTO manifest (filename, content_md5sum, md5sum, first_item, last_item, num_items, seq_num, size, timestamp, yymm) VALUES (?, ?, ?, ?, ?, ?, ?, ?, ?, ?)\n",
      "2019-02-03 19:54:27,802 INFO sqlalchemy.engine.base.Engine ('src/arXiv_src_0009_001.tar', '31d1373aaf9fe1b6e12ccd5c47dae004', 'c7b01e4886802e34e327403078740d95', 'astro-ph0009001', 'quant-ph0009124', 2522, '1', 230749480, '2010-12-23 00:49:20', '0009')\n",
      "2019-02-03 19:54:27,805 INFO sqlalchemy.engine.base.Engine COMMIT\n",
      "2019-02-03 19:54:27,904 INFO sqlalchemy.engine.base.Engine BEGIN (implicit)\n",
      "2019-02-03 19:54:27,906 INFO sqlalchemy.engine.base.Engine INSERT INTO manifest (filename, content_md5sum, md5sum, first_item, last_item, num_items, seq_num, size, timestamp, yymm) VALUES (?, ?, ?, ?, ?, ?, ?, ?, ?, ?)\n",
      "2019-02-03 19:54:27,913 INFO sqlalchemy.engine.base.Engine ('src/arXiv_src_0010_001.tar', '2015fdfcea56c7c9b28e07883d7d8909', '2c92f09cf1a4f742b3ed0cd54f17112c', 'astro-ph0010001', 'quant-ph0010117', 2910, '1', 278679438, '2010-12-23 00:53:38', '0010')\n",
      "2019-02-03 19:54:27,919 INFO sqlalchemy.engine.base.Engine COMMIT\n",
      "2019-02-03 19:54:28,015 INFO sqlalchemy.engine.base.Engine BEGIN (implicit)\n",
      "2019-02-03 19:54:28,018 INFO sqlalchemy.engine.base.Engine INSERT INTO manifest (filename, content_md5sum, md5sum, first_item, last_item, num_items, seq_num, size, timestamp, yymm) VALUES (?, ?, ?, ?, ?, ?, ?, ?, ?, ?)\n",
      "2019-02-03 19:54:28,023 INFO sqlalchemy.engine.base.Engine ('src/arXiv_src_0011_001.tar', '92a517aa10bebcbc4bc4544a74e8071e', '829b94e1caef34d7121071c1eaae14a8', 'astro-ph0011001', 'quant-ph0011125', 2861, '1', 271883512, '2010-12-23 00:58:39', '0011')\n",
      "2019-02-03 19:54:28,025 INFO sqlalchemy.engine.base.Engine COMMIT\n",
      "2019-02-03 19:54:28,126 INFO sqlalchemy.engine.base.Engine BEGIN (implicit)\n",
      "2019-02-03 19:54:28,129 INFO sqlalchemy.engine.base.Engine INSERT INTO manifest (filename, content_md5sum, md5sum, first_item, last_item, num_items, seq_num, size, timestamp, yymm) VALUES (?, ?, ?, ?, ?, ?, ?, ?, ?, ?)\n",
      "2019-02-03 19:54:28,132 INFO sqlalchemy.engine.base.Engine ('src/arXiv_src_0012_001.tar', 'bac686bc3e6cf524000c10de9acbffe3', 'd3e31e94459e46997bed7c474bdd23e9', 'astro-ph0012001', 'quant-ph0012151', 2653, '1', 270038305, '2010-12-23 01:03:36', '0012')\n",
      "2019-02-03 19:54:28,136 INFO sqlalchemy.engine.base.Engine COMMIT\n",
      "2019-02-03 19:54:28,215 INFO sqlalchemy.engine.base.Engine BEGIN (implicit)\n",
      "2019-02-03 19:54:28,217 INFO sqlalchemy.engine.base.Engine INSERT INTO manifest (filename, content_md5sum, md5sum, first_item, last_item, num_items, seq_num, size, timestamp, yymm) VALUES (?, ?, ?, ?, ?, ?, ?, ?, ?, ?)\n",
      "2019-02-03 19:54:28,219 INFO sqlalchemy.engine.base.Engine ('src/arXiv_src_0101_001.tar', 'd77f7811a4a08a912ac233d31dfee89c', '56e369b1acba3a992463bb18819668fb', 'astro-ph0101001', 'quant-ph0101147', 2591, '1', 258168631, '2010-12-23 01:08:31', '0101')\n",
      "2019-02-03 19:54:28,228 INFO sqlalchemy.engine.base.Engine COMMIT\n",
      "2019-02-03 19:54:28,314 INFO sqlalchemy.engine.base.Engine BEGIN (implicit)\n",
      "2019-02-03 19:54:28,318 INFO sqlalchemy.engine.base.Engine INSERT INTO manifest (filename, content_md5sum, md5sum, first_item, last_item, num_items, seq_num, size, timestamp, yymm) VALUES (?, ?, ?, ?, ?, ?, ?, ?, ?, ?)\n",
      "2019-02-03 19:54:28,321 INFO sqlalchemy.engine.base.Engine ('src/arXiv_src_0102_001.tar', 'edc3b7b346e4963e2190c96a6547cf79', 'a299f3979fd1186662045689e6b8cbc8', 'astro-ph0102001', 'quant-ph0102142', 2429, '1', 248930304, '2010-12-23 01:13:12', '0102')\n",
      "2019-02-03 19:54:28,325 INFO sqlalchemy.engine.base.Engine COMMIT\n",
      "2019-02-03 19:54:28,414 INFO sqlalchemy.engine.base.Engine BEGIN (implicit)\n",
      "2019-02-03 19:54:28,418 INFO sqlalchemy.engine.base.Engine INSERT INTO manifest (filename, content_md5sum, md5sum, first_item, last_item, num_items, seq_num, size, timestamp, yymm) VALUES (?, ?, ?, ?, ?, ?, ?, ?, ?, ?)\n",
      "2019-02-03 19:54:28,420 INFO sqlalchemy.engine.base.Engine ('src/arXiv_src_0103_001.tar', '3eabd8c6d9497421c030f790c16ee0fd', '4be8954209b4591905a8331d530815d7', 'astro-ph0103001', 'quant-ph0103171', 2712, '1', 281710603, '2010-12-23 01:17:47', '0103')\n",
      "2019-02-03 19:54:28,423 INFO sqlalchemy.engine.base.Engine COMMIT\n",
      "2019-02-03 19:54:28,526 INFO sqlalchemy.engine.base.Engine BEGIN (implicit)\n",
      "2019-02-03 19:54:28,527 INFO sqlalchemy.engine.base.Engine INSERT INTO manifest (filename, content_md5sum, md5sum, first_item, last_item, num_items, seq_num, size, timestamp, yymm) VALUES (?, ?, ?, ?, ?, ?, ?, ?, ?, ?)\n",
      "2019-02-03 19:54:28,529 INFO sqlalchemy.engine.base.Engine ('src/arXiv_src_0104_001.tar', '7b730f9e73fdd57e2e04bcc4a86d879c', '5447dbd52aac3f60514d8a094c38203d', 'astro-ph0104001', 'quant-ph0104140', 2605, '1', 267616056, '2010-12-23 01:23:19', '0104')\n",
      "2019-02-03 19:54:28,532 INFO sqlalchemy.engine.base.Engine COMMIT\n",
      "2019-02-03 19:54:28,625 INFO sqlalchemy.engine.base.Engine BEGIN (implicit)\n",
      "2019-02-03 19:54:28,627 INFO sqlalchemy.engine.base.Engine INSERT INTO manifest (filename, content_md5sum, md5sum, first_item, last_item, num_items, seq_num, size, timestamp, yymm) VALUES (?, ?, ?, ?, ?, ?, ?, ?, ?, ?)\n",
      "2019-02-03 19:54:28,629 INFO sqlalchemy.engine.base.Engine ('src/arXiv_src_0105_001.tar', '616bb0162931d0482518489a01a4c860', '9b428cbc1f3250d7264849ad10e33dce', 'astro-ph0105001', 'quant-ph0105156', 2911, '1', 293365501, '2010-12-23 01:28:20', '0105')\n",
      "2019-02-03 19:54:28,632 INFO sqlalchemy.engine.base.Engine COMMIT\n",
      "2019-02-03 19:54:28,738 INFO sqlalchemy.engine.base.Engine BEGIN (implicit)\n",
      "2019-02-03 19:54:28,743 INFO sqlalchemy.engine.base.Engine INSERT INTO manifest (filename, content_md5sum, md5sum, first_item, last_item, num_items, seq_num, size, timestamp, yymm) VALUES (?, ?, ?, ?, ?, ?, ?, ?, ?, ?)\n",
      "2019-02-03 19:54:28,753 INFO sqlalchemy.engine.base.Engine ('src/arXiv_src_0106_001.tar', '105a7058af2c9e73af583bcecc49249c', 'a817f9fe5b147f5b615a3914aef11ccb', 'astro-ph0106001', 'quant-ph0106167', 2870, '1', 306245088, '2010-12-23 01:33:43', '0106')\n",
      "2019-02-03 19:54:28,765 INFO sqlalchemy.engine.base.Engine COMMIT\n",
      "2019-02-03 19:54:28,886 INFO sqlalchemy.engine.base.Engine BEGIN (implicit)\n",
      "2019-02-03 19:54:28,893 INFO sqlalchemy.engine.base.Engine INSERT INTO manifest (filename, content_md5sum, md5sum, first_item, last_item, num_items, seq_num, size, timestamp, yymm) VALUES (?, ?, ?, ?, ?, ?, ?, ?, ?, ?)\n",
      "2019-02-03 19:54:28,897 INFO sqlalchemy.engine.base.Engine ('src/arXiv_src_0107_001.tar', 'b68b7908bfb64110ce3549f63a4adfa2', '68556c1fe1147a7307204e680d45bed1', 'astro-ph0107001', 'quant-ph0107156', 2756, '1', 314916359, '2010-12-23 01:39:44', '0107')\n",
      "2019-02-03 19:54:28,900 INFO sqlalchemy.engine.base.Engine COMMIT\n",
      "2019-02-03 19:54:29,002 INFO sqlalchemy.engine.base.Engine BEGIN (implicit)\n",
      "2019-02-03 19:54:29,005 INFO sqlalchemy.engine.base.Engine INSERT INTO manifest (filename, content_md5sum, md5sum, first_item, last_item, num_items, seq_num, size, timestamp, yymm) VALUES (?, ?, ?, ?, ?, ?, ?, ?, ?, ?)\n",
      "2019-02-03 19:54:29,009 INFO sqlalchemy.engine.base.Engine ('src/arXiv_src_0108_001.tar', '7d06dd4afc62cb8397eb7833d77e42af', 'a583e1c05294a7b6ae302b8110aaaeae', 'astro-ph0108001', 'quant-ph0108146', 2422, '1', 270302171, '2010-12-23 01:45:24', '0108')\n",
      "2019-02-03 19:54:29,012 INFO sqlalchemy.engine.base.Engine COMMIT\n",
      "2019-02-03 19:54:29,113 INFO sqlalchemy.engine.base.Engine BEGIN (implicit)\n",
      "2019-02-03 19:54:29,116 INFO sqlalchemy.engine.base.Engine INSERT INTO manifest (filename, content_md5sum, md5sum, first_item, last_item, num_items, seq_num, size, timestamp, yymm) VALUES (?, ?, ?, ?, ?, ?, ?, ?, ?, ?)\n",
      "2019-02-03 19:54:29,127 INFO sqlalchemy.engine.base.Engine ('src/arXiv_src_0109_001.tar', '9b55f02a59a09605078956cbf9c69357', '6304d8f240d211ecfbc016095514656f', 'astro-ph0109001', 'quant-ph0109160', 2548, '1', 287214299, '2010-12-23 01:50:23', '0109')\n",
      "2019-02-03 19:54:29,130 INFO sqlalchemy.engine.base.Engine COMMIT\n",
      "2019-02-03 19:54:29,249 INFO sqlalchemy.engine.base.Engine BEGIN (implicit)\n",
      "2019-02-03 19:54:29,254 INFO sqlalchemy.engine.base.Engine INSERT INTO manifest (filename, content_md5sum, md5sum, first_item, last_item, num_items, seq_num, size, timestamp, yymm) VALUES (?, ?, ?, ?, ?, ?, ?, ?, ?, ?)\n",
      "2019-02-03 19:54:29,260 INFO sqlalchemy.engine.base.Engine ('src/arXiv_src_0110_001.tar', 'e0c086a2cdfcc081e464ca73e95507a1', '7ede3bf69c26fcf8ce54d8a729b6d7ef', 'astro-ph0110001', 'quant-ph0110179', 3398, '1', 354625333, '2010-12-23 01:55:58', '0110')\n",
      "2019-02-03 19:54:29,263 INFO sqlalchemy.engine.base.Engine COMMIT\n",
      "2019-02-03 19:54:29,380 INFO sqlalchemy.engine.base.Engine BEGIN (implicit)\n",
      "2019-02-03 19:54:29,383 INFO sqlalchemy.engine.base.Engine INSERT INTO manifest (filename, content_md5sum, md5sum, first_item, last_item, num_items, seq_num, size, timestamp, yymm) VALUES (?, ?, ?, ?, ?, ?, ?, ?, ?, ?)\n",
      "2019-02-03 19:54:29,390 INFO sqlalchemy.engine.base.Engine ('src/arXiv_src_0111_001.tar', '18ad503918df3d098efca10b8c93216e', '056b8759a40186167de7a7812e40c926', 'astro-ph0111001', 'quant-ph0111167', 3237, '1', 346513921, '2010-12-23 02:03:04', '0111')\n",
      "2019-02-03 19:54:29,393 INFO sqlalchemy.engine.base.Engine COMMIT\n",
      "2019-02-03 19:54:29,491 INFO sqlalchemy.engine.base.Engine BEGIN (implicit)\n",
      "2019-02-03 19:54:29,492 INFO sqlalchemy.engine.base.Engine INSERT INTO manifest (filename, content_md5sum, md5sum, first_item, last_item, num_items, seq_num, size, timestamp, yymm) VALUES (?, ?, ?, ?, ?, ?, ?, ?, ?, ?)\n",
      "2019-02-03 19:54:29,494 INFO sqlalchemy.engine.base.Engine ('src/arXiv_src_0112_001.tar', 'd3c47b502318fd7c38b25ca833f0e23a', '1b863bedcac934df2977393ab4f26a5d', 'astro-ph0112001', 'quant-ph0112180', 2718, '1', 285063389, '2010-12-23 02:10:03', '0112')\n",
      "2019-02-03 19:54:29,501 INFO sqlalchemy.engine.base.Engine COMMIT\n",
      "2019-02-03 19:54:29,602 INFO sqlalchemy.engine.base.Engine BEGIN (implicit)\n",
      "2019-02-03 19:54:29,604 INFO sqlalchemy.engine.base.Engine INSERT INTO manifest (filename, content_md5sum, md5sum, first_item, last_item, num_items, seq_num, size, timestamp, yymm) VALUES (?, ?, ?, ?, ?, ?, ?, ?, ?, ?)\n",
      "2019-02-03 19:54:29,606 INFO sqlalchemy.engine.base.Engine ('src/arXiv_src_0201_001.tar', '733e9f8c44d0d65da4be4d7f0dd7eecb', 'e8ea8b88c042e34999f8ae9331ab9a61', 'astro-ph0201001', 'quant-ph0201152', 2716, '1', 299898996, '2010-12-23 02:15:19', '0201')\n",
      "2019-02-03 19:54:29,609 INFO sqlalchemy.engine.base.Engine COMMIT\n",
      "2019-02-03 19:54:29,712 INFO sqlalchemy.engine.base.Engine BEGIN (implicit)\n",
      "2019-02-03 19:54:29,714 INFO sqlalchemy.engine.base.Engine INSERT INTO manifest (filename, content_md5sum, md5sum, first_item, last_item, num_items, seq_num, size, timestamp, yymm) VALUES (?, ?, ?, ?, ?, ?, ?, ?, ?, ?)\n",
      "2019-02-03 19:54:29,718 INFO sqlalchemy.engine.base.Engine ('src/arXiv_src_0202_001.tar', '1c950bc3171b4a38674fb43410ce6c1b', '199480e6d86834fcbbcd9718f32ddf1d', 'astro-ph0202001', 'quant-ph0202176', 2564, '1', 290080450, '2010-12-23 02:20:43', '0202')\n",
      "2019-02-03 19:54:29,721 INFO sqlalchemy.engine.base.Engine COMMIT\n",
      "2019-02-03 19:54:29,824 INFO sqlalchemy.engine.base.Engine BEGIN (implicit)\n",
      "2019-02-03 19:54:29,827 INFO sqlalchemy.engine.base.Engine INSERT INTO manifest (filename, content_md5sum, md5sum, first_item, last_item, num_items, seq_num, size, timestamp, yymm) VALUES (?, ?, ?, ?, ?, ?, ?, ?, ?, ?)\n",
      "2019-02-03 19:54:29,835 INFO sqlalchemy.engine.base.Engine ('src/arXiv_src_0203_001.tar', '1acbc5d2d5e8910b8d65dfc975467af9', '1ee54db4502d2ec440d12406a7c05e9e', 'astro-ph0203001', 'quant-ph0203153', 2664, '1', 315626609, '2010-12-23 02:26:00', '0203')\n",
      "2019-02-03 19:54:29,841 INFO sqlalchemy.engine.base.Engine COMMIT\n",
      "2019-02-03 19:54:29,991 INFO sqlalchemy.engine.base.Engine BEGIN (implicit)\n",
      "2019-02-03 19:54:29,999 INFO sqlalchemy.engine.base.Engine INSERT INTO manifest (filename, content_md5sum, md5sum, first_item, last_item, num_items, seq_num, size, timestamp, yymm) VALUES (?, ?, ?, ?, ?, ?, ?, ?, ?, ?)\n",
      "2019-02-03 19:54:30,005 INFO sqlalchemy.engine.base.Engine ('src/arXiv_src_0204_001.tar', '0c777599b37b98904705bddfdcbdf272', '444ef9dc320a5adf63d909c7842df540', 'astro-ph0204001', 'quant-ph0204173', 2851, '1', 341576063, '2010-12-23 02:32:09', '0204')\n",
      "2019-02-03 19:54:30,007 INFO sqlalchemy.engine.base.Engine COMMIT\n",
      "2019-02-03 19:54:30,106 INFO sqlalchemy.engine.base.Engine BEGIN (implicit)\n",
      "2019-02-03 19:54:30,111 INFO sqlalchemy.engine.base.Engine INSERT INTO manifest (filename, content_md5sum, md5sum, first_item, last_item, num_items, seq_num, size, timestamp, yymm) VALUES (?, ?, ?, ?, ?, ?, ?, ?, ?, ?)\n",
      "2019-02-03 19:54:30,114 INFO sqlalchemy.engine.base.Engine ('src/arXiv_src_0205_001.tar', 'f31a7f527d9e0b776e7fbfc110b78dcd', '5dca8285b1242a7b0cfac24fbf966fb6', 'astro-ph0205001', 'quant-ph0205196', 3087, '1', 345751845, '2010-12-23 02:38:54', '0205')\n",
      "2019-02-03 19:54:30,117 INFO sqlalchemy.engine.base.Engine COMMIT\n",
      "2019-02-03 19:54:30,212 INFO sqlalchemy.engine.base.Engine BEGIN (implicit)\n",
      "2019-02-03 19:54:30,219 INFO sqlalchemy.engine.base.Engine INSERT INTO manifest (filename, content_md5sum, md5sum, first_item, last_item, num_items, seq_num, size, timestamp, yymm) VALUES (?, ?, ?, ?, ?, ?, ?, ?, ?, ?)\n",
      "2019-02-03 19:54:30,223 INFO sqlalchemy.engine.base.Engine ('src/arXiv_src_0206_001.tar', '59fd9e5e193a237d1c3f84c6f544ef3e', '2aac89752fd57658fd2d6e7ee46bee4e', 'astro-ph0206001', 'quant-ph0206200', 2695, '1', 326955420, '2010-12-23 02:45:21', '0206')\n",
      "2019-02-03 19:54:30,230 INFO sqlalchemy.engine.base.Engine COMMIT\n",
      "2019-02-03 19:54:30,327 INFO sqlalchemy.engine.base.Engine BEGIN (implicit)\n",
      "2019-02-03 19:54:30,334 INFO sqlalchemy.engine.base.Engine INSERT INTO manifest (filename, content_md5sum, md5sum, first_item, last_item, num_items, seq_num, size, timestamp, yymm) VALUES (?, ?, ?, ?, ?, ?, ?, ?, ?, ?)\n",
      "2019-02-03 19:54:30,337 INFO sqlalchemy.engine.base.Engine ('src/arXiv_src_0207_001.tar', '09c4318803c4395fb22a35b7d6c018e1', '62abac6fd9df385dd4d7ef67dfd1d239', 'astro-ph0207001', 'quant-ph0207183', 3267, '1', 397263805, '2010-12-23 02:51:32', '0207')\n",
      "2019-02-03 19:54:30,340 INFO sqlalchemy.engine.base.Engine COMMIT\n",
      "2019-02-03 19:54:30,548 INFO sqlalchemy.engine.base.Engine BEGIN (implicit)\n",
      "2019-02-03 19:54:30,555 INFO sqlalchemy.engine.base.Engine INSERT INTO manifest (filename, content_md5sum, md5sum, first_item, last_item, num_items, seq_num, size, timestamp, yymm) VALUES (?, ?, ?, ?, ?, ?, ?, ?, ?, ?)\n",
      "2019-02-03 19:54:30,561 INFO sqlalchemy.engine.base.Engine ('src/arXiv_src_0208_001.tar', 'e85fa1ddfdbe1554a9b9297685c27480', '8b5ce473a42cb026e84b6bf50996e7b4', 'astro-ph0208001', 'quant-ph0208195', 2724, '1', 355071895, '2010-12-23 02:58:54', '0208')\n",
      "2019-02-03 19:54:30,565 INFO sqlalchemy.engine.base.Engine COMMIT\n",
      "2019-02-03 19:54:30,658 INFO sqlalchemy.engine.base.Engine BEGIN (implicit)\n",
      "2019-02-03 19:54:30,663 INFO sqlalchemy.engine.base.Engine INSERT INTO manifest (filename, content_md5sum, md5sum, first_item, last_item, num_items, seq_num, size, timestamp, yymm) VALUES (?, ?, ?, ?, ?, ?, ?, ?, ?, ?)\n",
      "2019-02-03 19:54:30,669 INFO sqlalchemy.engine.base.Engine ('src/arXiv_src_0209_001.tar', 'f3046f82cd88b1ac5390ec2ed05ff777', '7db6571f492ff8e66116f2a4422d3c4c', 'astro-ph0209001', 'quant-ph0209171', 3314, '1', 363392171, '2010-12-23 03:05:39', '0209')\n",
      "2019-02-03 19:54:30,674 INFO sqlalchemy.engine.base.Engine COMMIT\n",
      "2019-02-03 19:54:30,767 INFO sqlalchemy.engine.base.Engine BEGIN (implicit)\n",
      "2019-02-03 19:54:30,770 INFO sqlalchemy.engine.base.Engine INSERT INTO manifest (filename, content_md5sum, md5sum, first_item, last_item, num_items, seq_num, size, timestamp, yymm) VALUES (?, ?, ?, ?, ?, ?, ?, ?, ?, ?)\n",
      "2019-02-03 19:54:30,772 INFO sqlalchemy.engine.base.Engine ('src/arXiv_src_0210_001.tar', '8829e606b7055689f5eec7a85648ff34', 'f5c6b20dc60753dfe3c4b767760a71ff', 'astro-ph0210001', 'quant-ph0210211', 3530, '1', 404013041, '2010-12-23 03:12:34', '0210')\n",
      "2019-02-03 19:54:30,775 INFO sqlalchemy.engine.base.Engine COMMIT\n",
      "2019-02-03 19:54:30,878 INFO sqlalchemy.engine.base.Engine BEGIN (implicit)\n",
      "2019-02-03 19:54:30,879 INFO sqlalchemy.engine.base.Engine INSERT INTO manifest (filename, content_md5sum, md5sum, first_item, last_item, num_items, seq_num, size, timestamp, yymm) VALUES (?, ?, ?, ?, ?, ?, ?, ?, ?, ?)\n",
      "2019-02-03 19:54:30,884 INFO sqlalchemy.engine.base.Engine ('src/arXiv_src_0211_001.tar', '56626b2f3801f2405fd11a1be363d8fe', '5059c5a4310b6e810bdbb6998eff144c', 'astro-ph0211001', 'quant-ph0211200', 3437, '1', 415164894, '2010-12-23 03:20:08', '0211')\n",
      "2019-02-03 19:54:30,886 INFO sqlalchemy.engine.base.Engine COMMIT\n",
      "2019-02-03 19:54:30,993 INFO sqlalchemy.engine.base.Engine BEGIN (implicit)\n",
      "2019-02-03 19:54:30,999 INFO sqlalchemy.engine.base.Engine INSERT INTO manifest (filename, content_md5sum, md5sum, first_item, last_item, num_items, seq_num, size, timestamp, yymm) VALUES (?, ?, ?, ?, ?, ?, ?, ?, ?, ?)\n",
      "2019-02-03 19:54:31,001 INFO sqlalchemy.engine.base.Engine ('src/arXiv_src_0212_001.tar', 'ebdb6c38a3b62bc2e9827ae8a54943b5', '1652d7fe9778e3bc10be83b978ab76b3', 'astro-ph0212001', 'quant-ph0212166', 3253, '1', 379051336, '2010-12-23 03:27:45', '0212')\n",
      "2019-02-03 19:54:31,005 INFO sqlalchemy.engine.base.Engine COMMIT\n",
      "2019-02-03 19:54:31,089 INFO sqlalchemy.engine.base.Engine BEGIN (implicit)\n",
      "2019-02-03 19:54:31,094 INFO sqlalchemy.engine.base.Engine INSERT INTO manifest (filename, content_md5sum, md5sum, first_item, last_item, num_items, seq_num, size, timestamp, yymm) VALUES (?, ?, ?, ?, ?, ?, ?, ?, ?, ?)\n",
      "2019-02-03 19:54:31,098 INFO sqlalchemy.engine.base.Engine ('src/arXiv_src_0301_001.tar', '1f69bf07158185ac22cf02870e618709', 'a813263c4f527767df3fd9957917b2e4', 'astro-ph0301001', 'quant-ph0301182', 2925, '1', 363440350, '2010-12-23 09:01:29', '0301')\n",
      "2019-02-03 19:54:31,101 INFO sqlalchemy.engine.base.Engine COMMIT\n",
      "2019-02-03 19:54:31,189 INFO sqlalchemy.engine.base.Engine BEGIN (implicit)\n",
      "2019-02-03 19:54:31,192 INFO sqlalchemy.engine.base.Engine INSERT INTO manifest (filename, content_md5sum, md5sum, first_item, last_item, num_items, seq_num, size, timestamp, yymm) VALUES (?, ?, ?, ?, ?, ?, ?, ?, ?, ?)\n",
      "2019-02-03 19:54:31,205 INFO sqlalchemy.engine.base.Engine ('src/arXiv_src_0302_001.tar', '5bab5ace31b4c7c6c83370c52fed0c42', 'd61899dab8c7b72f9dfaeb64757f6cec', 'astro-ph0302001', 'quant-ph0302204', 2881, '1', 358984704, '2010-12-23 09:08:05', '0302')\n",
      "2019-02-03 19:54:31,214 INFO sqlalchemy.engine.base.Engine COMMIT\n",
      "2019-02-03 19:54:31,310 INFO sqlalchemy.engine.base.Engine BEGIN (implicit)\n",
      "2019-02-03 19:54:31,314 INFO sqlalchemy.engine.base.Engine INSERT INTO manifest (filename, content_md5sum, md5sum, first_item, last_item, num_items, seq_num, size, timestamp, yymm) VALUES (?, ?, ?, ?, ?, ?, ?, ?, ?, ?)\n",
      "2019-02-03 19:54:31,316 INFO sqlalchemy.engine.base.Engine ('src/arXiv_src_0303_001.tar', 'a963f9b13cf9ec6ee2be7e128bcba086', '7a7e4221381525b2387a024e715f9560', 'astro-ph0303001', 'quant-ph0303188', 3018, '1', 382240001, '2010-12-23 09:14:32', '0303')\n",
      "2019-02-03 19:54:31,320 INFO sqlalchemy.engine.base.Engine COMMIT\n",
      "2019-02-03 19:54:31,422 INFO sqlalchemy.engine.base.Engine BEGIN (implicit)\n",
      "2019-02-03 19:54:31,427 INFO sqlalchemy.engine.base.Engine INSERT INTO manifest (filename, content_md5sum, md5sum, first_item, last_item, num_items, seq_num, size, timestamp, yymm) VALUES (?, ?, ?, ?, ?, ?, ?, ?, ?, ?)\n",
      "2019-02-03 19:54:31,429 INFO sqlalchemy.engine.base.Engine ('src/arXiv_src_0304_001.tar', 'bebdad539e15f79fc43c26149aa10777', 'b8069ca435094a94a7058634f62b71c2', 'astro-ph0304001', 'quant-ph0304206', 3102, '1', 361490143, '2010-12-23 09:21:28', '0304')\n",
      "2019-02-03 19:54:31,432 INFO sqlalchemy.engine.base.Engine COMMIT\n",
      "2019-02-03 19:54:31,533 INFO sqlalchemy.engine.base.Engine BEGIN (implicit)\n",
      "2019-02-03 19:54:31,534 INFO sqlalchemy.engine.base.Engine INSERT INTO manifest (filename, content_md5sum, md5sum, first_item, last_item, num_items, seq_num, size, timestamp, yymm) VALUES (?, ?, ?, ?, ?, ?, ?, ?, ?, ?)\n",
      "2019-02-03 19:54:31,540 INFO sqlalchemy.engine.base.Engine ('src/arXiv_src_0305_001.tar', '2a2f1c306ca2d575b03ea4ad67fcd0f1', '48fa7091de01d81cda08804aa19d0565', 'astro-ph0305001', 'quant-ph0305194', 3267, '1', 407595807, '2010-12-23 09:28:00', '0305')\n",
      "2019-02-03 19:54:31,544 INFO sqlalchemy.engine.base.Engine COMMIT\n",
      "2019-02-03 19:54:31,632 INFO sqlalchemy.engine.base.Engine BEGIN (implicit)\n",
      "2019-02-03 19:54:31,635 INFO sqlalchemy.engine.base.Engine INSERT INTO manifest (filename, content_md5sum, md5sum, first_item, last_item, num_items, seq_num, size, timestamp, yymm) VALUES (?, ?, ?, ?, ?, ?, ?, ?, ?, ?)\n",
      "2019-02-03 19:54:31,651 INFO sqlalchemy.engine.base.Engine ('src/arXiv_src_0306_001.tar', 'aa7196348f9f9490ead257110b161240', '8eb407b616edf961755be6816b602a0c', 'astro-ph0306001', 'quant-ph0306205', 3462, '1', 462194110, '2010-12-23 09:35:27', '0306')\n",
      "2019-02-03 19:54:31,657 INFO sqlalchemy.engine.base.Engine COMMIT\n",
      "2019-02-03 19:54:31,788 INFO sqlalchemy.engine.base.Engine BEGIN (implicit)\n",
      "2019-02-03 19:54:31,793 INFO sqlalchemy.engine.base.Engine INSERT INTO manifest (filename, content_md5sum, md5sum, first_item, last_item, num_items, seq_num, size, timestamp, yymm) VALUES (?, ?, ?, ?, ?, ?, ?, ?, ?, ?)\n",
      "2019-02-03 19:54:31,796 INFO sqlalchemy.engine.base.Engine ('src/arXiv_src_0307_001.tar', '7eaefd1adc55d1a168f1b99141b26aff', '049975f06bf50b573e8f5de2413a66c3', 'astro-ph0307001', 'quant-ph0307240', 3417, '1', 428532150, '2010-12-23 09:43:49', '0307')\n",
      "2019-02-03 19:54:31,800 INFO sqlalchemy.engine.base.Engine COMMIT\n",
      "2019-02-03 19:54:31,900 INFO sqlalchemy.engine.base.Engine BEGIN (implicit)\n",
      "2019-02-03 19:54:31,904 INFO sqlalchemy.engine.base.Engine INSERT INTO manifest (filename, content_md5sum, md5sum, first_item, last_item, num_items, seq_num, size, timestamp, yymm) VALUES (?, ?, ?, ?, ?, ?, ?, ?, ?, ?)\n",
      "2019-02-03 19:54:31,909 INFO sqlalchemy.engine.base.Engine ('src/arXiv_src_0308_001.tar', '6389abeca34f7366a7fd469bc7989947', '86910471495ce3e8b78fbcc6e98f20ff', 'astro-ph0308001', 'quant-ph0308174', 2741, '1', 392122952, '2010-12-23 09:51:26', '0308')\n",
      "2019-02-03 19:54:31,913 INFO sqlalchemy.engine.base.Engine COMMIT\n",
      "2019-02-03 19:54:32,123 INFO sqlalchemy.engine.base.Engine BEGIN (implicit)\n",
      "2019-02-03 19:54:32,126 INFO sqlalchemy.engine.base.Engine INSERT INTO manifest (filename, content_md5sum, md5sum, first_item, last_item, num_items, seq_num, size, timestamp, yymm) VALUES (?, ?, ?, ?, ?, ?, ?, ?, ?, ?)\n",
      "2019-02-03 19:54:32,132 INFO sqlalchemy.engine.base.Engine ('src/arXiv_src_0309_001.tar', '6ef6fb45505e40b6774684a362ae6349', '01add052dfe16b9690f8efb36d808ada', 'astro-ph0309001', 'quant-ph0309222', 3747, '1', 469857548, '2010-12-23 09:58:38', '0309')\n",
      "2019-02-03 19:54:32,135 INFO sqlalchemy.engine.base.Engine COMMIT\n",
      "2019-02-03 19:54:32,231 INFO sqlalchemy.engine.base.Engine BEGIN (implicit)\n",
      "2019-02-03 19:54:32,236 INFO sqlalchemy.engine.base.Engine INSERT INTO manifest (filename, content_md5sum, md5sum, first_item, last_item, num_items, seq_num, size, timestamp, yymm) VALUES (?, ?, ?, ?, ?, ?, ?, ?, ?, ?)\n",
      "2019-02-03 19:54:32,238 INFO sqlalchemy.engine.base.Engine ('src/arXiv_src_0310_001.tar', '533374ec3e9d9f9a9263dbac39b82b9e', '61a38336487e3da71695d57a554b2373', 'astro-ph0310001', 'quant-ph0310195', 3840, '1', 502466960, '2010-12-23 10:07:58', '0310')\n",
      "2019-02-03 19:54:32,241 INFO sqlalchemy.engine.base.Engine COMMIT\n",
      "2019-02-03 19:54:32,352 INFO sqlalchemy.engine.base.Engine BEGIN (implicit)\n",
      "2019-02-03 19:54:32,356 INFO sqlalchemy.engine.base.Engine INSERT INTO manifest (filename, content_md5sum, md5sum, first_item, last_item, num_items, seq_num, size, timestamp, yymm) VALUES (?, ?, ?, ?, ?, ?, ?, ?, ?, ?)\n",
      "2019-02-03 19:54:32,358 INFO sqlalchemy.engine.base.Engine ('src/arXiv_src_0311_001.tar', 'fbbeafacdbe62c021025dcb71861ffcd', '98968ff83d78d507dc8223bdab7b13fc', 'astro-ph0311001', 'quant-ph0311198', 3349, '1', 440004643, '2010-12-23 10:17:40', '0311')\n",
      "2019-02-03 19:54:32,361 INFO sqlalchemy.engine.base.Engine COMMIT\n",
      "2019-02-03 19:54:32,442 INFO sqlalchemy.engine.base.Engine BEGIN (implicit)\n",
      "2019-02-03 19:54:32,444 INFO sqlalchemy.engine.base.Engine INSERT INTO manifest (filename, content_md5sum, md5sum, first_item, last_item, num_items, seq_num, size, timestamp, yymm) VALUES (?, ?, ?, ?, ?, ?, ?, ?, ?, ?)\n",
      "2019-02-03 19:54:32,446 INFO sqlalchemy.engine.base.Engine ('src/arXiv_src_0312_001.tar', 'e146700ddb3aaf2512d9a4ebc8bb303e', 'c356c7d4c040166ba3edb643ff220d90', 'astro-ph0312001', 'quant-ph0312231', 3660, '1', 479742081, '2010-12-23 10:25:36', '0312')\n",
      "2019-02-03 19:54:32,457 INFO sqlalchemy.engine.base.Engine COMMIT\n",
      "2019-02-03 19:54:32,553 INFO sqlalchemy.engine.base.Engine BEGIN (implicit)\n",
      "2019-02-03 19:54:32,555 INFO sqlalchemy.engine.base.Engine INSERT INTO manifest (filename, content_md5sum, md5sum, first_item, last_item, num_items, seq_num, size, timestamp, yymm) VALUES (?, ?, ?, ?, ?, ?, ?, ?, ?, ?)\n",
      "2019-02-03 19:54:32,557 INFO sqlalchemy.engine.base.Engine ('src/arXiv_src_0401_001.tar', '5705c25edaafa91ae946e74e5aef0960', '303b418d5ba75c9d34c101e127689500', 'astro-ph0401001', 'quant-ph0401188', 3069, '1', 428733093, '2010-12-23 10:34:11', '0401')\n",
      "2019-02-03 19:54:32,567 INFO sqlalchemy.engine.base.Engine COMMIT\n",
      "2019-02-03 19:54:32,676 INFO sqlalchemy.engine.base.Engine BEGIN (implicit)\n",
      "2019-02-03 19:54:32,679 INFO sqlalchemy.engine.base.Engine INSERT INTO manifest (filename, content_md5sum, md5sum, first_item, last_item, num_items, seq_num, size, timestamp, yymm) VALUES (?, ?, ?, ?, ?, ?, ?, ?, ?, ?)\n",
      "2019-02-03 19:54:32,692 INFO sqlalchemy.engine.base.Engine ('src/arXiv_src_0402_001.tar', '921bc2f93194e88728fe4893d680905a', 'ca21fce293efd766682e958b33737d64', 'astro-ph0402001', 'quant-ph0402213', 3276, '1', 462675928, '2010-12-23 10:41:48', '0402')\n",
      "2019-02-03 19:54:32,700 INFO sqlalchemy.engine.base.Engine COMMIT\n",
      "2019-02-03 19:54:32,797 INFO sqlalchemy.engine.base.Engine BEGIN (implicit)\n",
      "2019-02-03 19:54:32,800 INFO sqlalchemy.engine.base.Engine INSERT INTO manifest (filename, content_md5sum, md5sum, first_item, last_item, num_items, seq_num, size, timestamp, yymm) VALUES (?, ?, ?, ?, ?, ?, ?, ?, ?, ?)\n",
      "2019-02-03 19:54:32,804 INFO sqlalchemy.engine.base.Engine ('src/arXiv_src_0403_001.tar', 'b8319dbeb694ed742ae13b9e71a51b9f', '60c3dfa074f1c7c58f72ef7ea69e9165', 'astro-ph0403001', 'quant-ph0403234', 3601, '1', 513154058, '2010-12-23 10:50:02', '0403')\n",
      "2019-02-03 19:54:32,811 INFO sqlalchemy.engine.base.Engine COMMIT\n",
      "2019-02-03 19:54:32,898 INFO sqlalchemy.engine.base.Engine BEGIN (implicit)\n",
      "2019-02-03 19:54:32,901 INFO sqlalchemy.engine.base.Engine INSERT INTO manifest (filename, content_md5sum, md5sum, first_item, last_item, num_items, seq_num, size, timestamp, yymm) VALUES (?, ?, ?, ?, ?, ?, ?, ?, ?, ?)\n",
      "2019-02-03 19:54:32,910 INFO sqlalchemy.engine.base.Engine ('src/arXiv_src_0404_001.tar', '745f9bd64e3b21ec26a1093cd85de5e2', 'd7fa838a724befc90106743deccd1dc3', 'astro-ph0404001', 'quant-ph0404180', 3368, '1', 471628772, '2010-12-23 10:59:15', '0404')\n",
      "2019-02-03 19:54:32,913 INFO sqlalchemy.engine.base.Engine COMMIT\n",
      "2019-02-03 19:54:32,997 INFO sqlalchemy.engine.base.Engine BEGIN (implicit)\n",
      "2019-02-03 19:54:33,003 INFO sqlalchemy.engine.base.Engine INSERT INTO manifest (filename, content_md5sum, md5sum, first_item, last_item, num_items, seq_num, size, timestamp, yymm) VALUES (?, ?, ?, ?, ?, ?, ?, ?, ?, ?)\n",
      "2019-02-03 19:54:33,006 INFO sqlalchemy.engine.base.Engine ('src/arXiv_src_0405_001.tar', '7154b652ec0e57fe1eec4fd3c880fa06', 'c9cebae787eff1ee73ab61a8ca2ae15d', 'astro-ph0405001', 'quant-ph0405193', 3553, '1', 513877642, '2010-12-23 11:07:59', '0405')\n",
      "2019-02-03 19:54:33,012 INFO sqlalchemy.engine.base.Engine COMMIT\n",
      "2019-02-03 19:54:33,154 INFO sqlalchemy.engine.base.Engine BEGIN (implicit)\n",
      "2019-02-03 19:54:33,159 INFO sqlalchemy.engine.base.Engine INSERT INTO manifest (filename, content_md5sum, md5sum, first_item, last_item, num_items, seq_num, size, timestamp, yymm) VALUES (?, ?, ?, ?, ?, ?, ?, ?, ?, ?)\n",
      "2019-02-03 19:54:33,167 INFO sqlalchemy.engine.base.Engine ('src/arXiv_src_0406_001.tar', 'aada4a40f958fe2d803bd5d87610c964', 'b068fc282dfce3268251a509f55dce3d', 'astro-ph0406001', 'physics0406109', 3369, '1', 524450933, '2010-12-23 11:17:17', '0406')\n",
      "2019-02-03 19:54:33,169 INFO sqlalchemy.engine.base.Engine COMMIT\n",
      "2019-02-03 19:54:33,264 INFO sqlalchemy.engine.base.Engine BEGIN (implicit)\n",
      "2019-02-03 19:54:33,267 INFO sqlalchemy.engine.base.Engine INSERT INTO manifest (filename, content_md5sum, md5sum, first_item, last_item, num_items, seq_num, size, timestamp, yymm) VALUES (?, ?, ?, ?, ?, ?, ?, ?, ?, ?)\n",
      "2019-02-03 19:54:33,275 INFO sqlalchemy.engine.base.Engine ('src/arXiv_src_0406_002.tar', 'c879b708a6e9d6c50046f86e95c198dd', '0fe0dbb0ad9c6d1d88577aee6fed65f5', 'physics0406110', 'quant-ph0406239', 341, '2', 48684220, '2010-12-24 09:52:01', '0406')\n",
      "2019-02-03 19:54:33,279 INFO sqlalchemy.engine.base.Engine COMMIT\n",
      "2019-02-03 19:54:33,363 INFO sqlalchemy.engine.base.Engine BEGIN (implicit)\n",
      "2019-02-03 19:54:33,366 INFO sqlalchemy.engine.base.Engine INSERT INTO manifest (filename, content_md5sum, md5sum, first_item, last_item, num_items, seq_num, size, timestamp, yymm) VALUES (?, ?, ?, ?, ?, ?, ?, ?, ?, ?)\n",
      "2019-02-03 19:54:33,375 INFO sqlalchemy.engine.base.Engine ('src/arXiv_src_0407_001.tar', '4d7b59cb8091c8d6ecc5ce202c6acfe5', '9f9493dfbe5ed1d0d68c969cc8f266bd', 'astro-ph0407001', 'quant-ph0407231', 3646, '1', 524317156, '2010-12-23 11:27:47', '0407')\n",
      "2019-02-03 19:54:33,379 INFO sqlalchemy.engine.base.Engine COMMIT\n",
      "2019-02-03 19:54:33,476 INFO sqlalchemy.engine.base.Engine BEGIN (implicit)\n",
      "2019-02-03 19:54:33,479 INFO sqlalchemy.engine.base.Engine INSERT INTO manifest (filename, content_md5sum, md5sum, first_item, last_item, num_items, seq_num, size, timestamp, yymm) VALUES (?, ?, ?, ?, ?, ?, ?, ?, ?, ?)\n",
      "2019-02-03 19:54:33,487 INFO sqlalchemy.engine.base.Engine ('src/arXiv_src_0407_002.tar', 'eec683155abd84dc118bee0ef218d938', 'c3006b84bc9351ce774a57563eb61977', 'quant-ph0407232', 'quant-ph0407264', 33, '2', 2910416, '2010-12-24 09:53:05', '0407')\n",
      "2019-02-03 19:54:33,491 INFO sqlalchemy.engine.base.Engine COMMIT\n",
      "2019-02-03 19:54:33,596 INFO sqlalchemy.engine.base.Engine BEGIN (implicit)\n",
      "2019-02-03 19:54:33,601 INFO sqlalchemy.engine.base.Engine INSERT INTO manifest (filename, content_md5sum, md5sum, first_item, last_item, num_items, seq_num, size, timestamp, yymm) VALUES (?, ?, ?, ?, ?, ?, ?, ?, ?, ?)\n",
      "2019-02-03 19:54:33,603 INFO sqlalchemy.engine.base.Engine ('src/arXiv_src_0408_001.tar', 'fb74e3ea47fd7e29078b35c6d43fa50c', '8eb35a5305c70c777958f93a9e3cb8e5', 'astro-ph0408001', 'quant-ph0408194', 3293, '1', 488427739, '2010-12-23 11:37:31', '0408')\n",
      "2019-02-03 19:54:33,606 INFO sqlalchemy.engine.base.Engine COMMIT\n",
      "2019-02-03 19:54:33,711 INFO sqlalchemy.engine.base.Engine BEGIN (implicit)\n",
      "2019-02-03 19:54:33,716 INFO sqlalchemy.engine.base.Engine INSERT INTO manifest (filename, content_md5sum, md5sum, first_item, last_item, num_items, seq_num, size, timestamp, yymm) VALUES (?, ?, ?, ?, ?, ?, ?, ?, ?, ?)\n",
      "2019-02-03 19:54:33,719 INFO sqlalchemy.engine.base.Engine ('src/arXiv_src_0409_001.tar', '0655d8a97bfce78a077e19263f1d5633', 'c8957139039aa6cd816a7f3042f0987e', 'astro-ph0409001', 'quant-ph0409030', 3745, '1', 524302498, '2010-12-23 11:46:34', '0409')\n",
      "2019-02-03 19:54:33,722 INFO sqlalchemy.engine.base.Engine COMMIT\n",
      "2019-02-03 19:54:33,818 INFO sqlalchemy.engine.base.Engine BEGIN (implicit)\n",
      "2019-02-03 19:54:33,820 INFO sqlalchemy.engine.base.Engine INSERT INTO manifest (filename, content_md5sum, md5sum, first_item, last_item, num_items, seq_num, size, timestamp, yymm) VALUES (?, ?, ?, ?, ?, ?, ?, ?, ?, ?)\n",
      "2019-02-03 19:54:33,822 INFO sqlalchemy.engine.base.Engine ('src/arXiv_src_0409_002.tar', '6ed0f3dd24eca54f3ed7a4ef364523ae', 'c7218217ff981c22e7a26136ecbe92a7', 'quant-ph0409031', 'quant-ph0409221', 191, '2', 19454201, '2010-12-24 09:53:43', '0409')\n",
      "2019-02-03 19:54:33,828 INFO sqlalchemy.engine.base.Engine COMMIT\n",
      "2019-02-03 19:54:33,918 INFO sqlalchemy.engine.base.Engine BEGIN (implicit)\n",
      "2019-02-03 19:54:33,926 INFO sqlalchemy.engine.base.Engine INSERT INTO manifest (filename, content_md5sum, md5sum, first_item, last_item, num_items, seq_num, size, timestamp, yymm) VALUES (?, ?, ?, ?, ?, ?, ?, ?, ?, ?)\n",
      "2019-02-03 19:54:33,928 INFO sqlalchemy.engine.base.Engine ('src/arXiv_src_0410_001.tar', '35d04a4a1e42d0e6294c8e6f75138478', '4540abf7be4e2d2954852f9a9a8068dd', 'astro-ph0410001', 'physics0410126', 3643, '1', 524371315, '2010-12-23 11:56:35', '0410')\n",
      "2019-02-03 19:54:33,932 INFO sqlalchemy.engine.base.Engine COMMIT\n",
      "2019-02-03 19:54:34,029 INFO sqlalchemy.engine.base.Engine BEGIN (implicit)\n",
      "2019-02-03 19:54:34,032 INFO sqlalchemy.engine.base.Engine INSERT INTO manifest (filename, content_md5sum, md5sum, first_item, last_item, num_items, seq_num, size, timestamp, yymm) VALUES (?, ?, ?, ?, ?, ?, ?, ?, ?, ?)\n",
      "2019-02-03 19:54:34,034 INFO sqlalchemy.engine.base.Engine ('src/arXiv_src_0410_002.tar', '5b0a522957a9e93b4e1e9e424d5741c1', '4d387136cbb2e117fbbe9d9c5554c2aa', 'physics0410127', 'quant-ph0410246', 439, '2', 83714062, '2010-12-24 09:54:24', '0410')\n",
      "2019-02-03 19:54:34,037 INFO sqlalchemy.engine.base.Engine COMMIT\n",
      "2019-02-03 19:54:34,140 INFO sqlalchemy.engine.base.Engine BEGIN (implicit)\n",
      "2019-02-03 19:54:34,142 INFO sqlalchemy.engine.base.Engine INSERT INTO manifest (filename, content_md5sum, md5sum, first_item, last_item, num_items, seq_num, size, timestamp, yymm) VALUES (?, ?, ?, ?, ?, ?, ?, ?, ?, ?)\n",
      "2019-02-03 19:54:34,143 INFO sqlalchemy.engine.base.Engine ('src/arXiv_src_0411_001.tar', 'f384118ff739da12bd7db944f7db72be', '1e670404a7ef90cdde7e854f8e225e4f', 'astro-ph0411001', 'nucl-th0411091', 3597, '1', 524300260, '2010-12-23 12:07:40', '0411')\n",
      "2019-02-03 19:54:34,153 INFO sqlalchemy.engine.base.Engine COMMIT\n",
      "2019-02-03 19:54:34,251 INFO sqlalchemy.engine.base.Engine BEGIN (implicit)\n",
      "2019-02-03 19:54:34,254 INFO sqlalchemy.engine.base.Engine INSERT INTO manifest (filename, content_md5sum, md5sum, first_item, last_item, num_items, seq_num, size, timestamp, yymm) VALUES (?, ?, ?, ?, ?, ?, ?, ?, ?, ?)\n",
      "2019-02-03 19:54:34,256 INFO sqlalchemy.engine.base.Engine ('src/arXiv_src_0411_002.tar', '73e5f2c2c3a416bb48046ec81c7cdb55', '70b0934a9105cdcba06ed172bf19b475', 'nucl-th0411092', 'quant-ph0411213', 554, '2', 122434729, '2010-12-24 09:56:10', '0411')\n",
      "2019-02-03 19:54:34,261 INFO sqlalchemy.engine.base.Engine COMMIT\n",
      "2019-02-03 19:54:34,362 INFO sqlalchemy.engine.base.Engine BEGIN (implicit)\n",
      "2019-02-03 19:54:34,365 INFO sqlalchemy.engine.base.Engine INSERT INTO manifest (filename, content_md5sum, md5sum, first_item, last_item, num_items, seq_num, size, timestamp, yymm) VALUES (?, ?, ?, ?, ?, ?, ?, ?, ?, ?)\n",
      "2019-02-03 19:54:34,386 INFO sqlalchemy.engine.base.Engine ('src/arXiv_src_0412_001.tar', '703bf2f6aea1eb794c05c8c0008d2012', 'f4a0c1447f50150d6703f6446e1348e0', 'astro-ph0412001', 'math0412438', 3068, '1', 524334210, '2010-12-23 12:19:23', '0412')\n",
      "2019-02-03 19:54:34,391 INFO sqlalchemy.engine.base.Engine COMMIT\n",
      "2019-02-03 19:54:34,485 INFO sqlalchemy.engine.base.Engine BEGIN (implicit)\n",
      "2019-02-03 19:54:34,489 INFO sqlalchemy.engine.base.Engine INSERT INTO manifest (filename, content_md5sum, md5sum, first_item, last_item, num_items, seq_num, size, timestamp, yymm) VALUES (?, ?, ?, ?, ?, ?, ?, ?, ?, ?)\n",
      "2019-02-03 19:54:34,503 INFO sqlalchemy.engine.base.Engine ('src/arXiv_src_0412_002.tar', '2d1e1bf508db08d167c554febee00e85', 'd9017665c52d04e4a29ccaeb2d230064', 'math0412439', 'quant-ph0412221', 922, '2', 141702363, '2010-12-24 09:58:36', '0412')\n",
      "2019-02-03 19:54:34,511 INFO sqlalchemy.engine.base.Engine COMMIT\n",
      "2019-02-03 19:54:34,617 INFO sqlalchemy.engine.base.Engine BEGIN (implicit)\n",
      "2019-02-03 19:54:34,620 INFO sqlalchemy.engine.base.Engine INSERT INTO manifest (filename, content_md5sum, md5sum, first_item, last_item, num_items, seq_num, size, timestamp, yymm) VALUES (?, ?, ?, ?, ?, ?, ?, ?, ?, ?)\n",
      "2019-02-03 19:54:34,622 INFO sqlalchemy.engine.base.Engine ('src/arXiv_src_0501_001.tar', '65063622be8538f270ae2ade4ae7d58b', '5e1dac2ffe1c189c2170d8082d710439', 'astro-ph0501001', 'physics0501005', 3106, '1', 524368685, '2010-12-23 12:31:11', '0501')\n",
      "2019-02-03 19:54:34,626 INFO sqlalchemy.engine.base.Engine COMMIT\n",
      "2019-02-03 19:54:34,718 INFO sqlalchemy.engine.base.Engine BEGIN (implicit)\n",
      "2019-02-03 19:54:34,722 INFO sqlalchemy.engine.base.Engine INSERT INTO manifest (filename, content_md5sum, md5sum, first_item, last_item, num_items, seq_num, size, timestamp, yymm) VALUES (?, ?, ?, ?, ?, ?, ?, ?, ?, ?)\n",
      "2019-02-03 19:54:34,725 INFO sqlalchemy.engine.base.Engine ('src/arXiv_src_0501_002.tar', '7dd657f44579d788e36bff65cb7499cd', '0a6573dc531c73a96d9964caa0a1c61e', 'physics0501006', 'quant-ph0501185', 384, '2', 98903815, '2010-12-24 11:11:07', '0501')\n",
      "2019-02-03 19:54:34,728 INFO sqlalchemy.engine.base.Engine COMMIT\n",
      "2019-02-03 19:54:34,817 INFO sqlalchemy.engine.base.Engine BEGIN (implicit)\n",
      "2019-02-03 19:54:34,819 INFO sqlalchemy.engine.base.Engine INSERT INTO manifest (filename, content_md5sum, md5sum, first_item, last_item, num_items, seq_num, size, timestamp, yymm) VALUES (?, ?, ?, ?, ?, ?, ?, ?, ?, ?)\n",
      "2019-02-03 19:54:34,825 INFO sqlalchemy.engine.base.Engine ('src/arXiv_src_0502_001.tar', 'e0baa81b3a429e7fec492112ccb226f9', 'cd52c43528430644cba9a2e68d7d6062', 'astro-ph0502001', 'quant-ph0502121', 3184, '1', 524301084, '2010-12-23 12:42:15', '0502')\n",
      "2019-02-03 19:54:34,838 INFO sqlalchemy.engine.base.Engine COMMIT\n",
      "2019-02-03 19:54:34,929 INFO sqlalchemy.engine.base.Engine BEGIN (implicit)\n",
      "2019-02-03 19:54:34,932 INFO sqlalchemy.engine.base.Engine INSERT INTO manifest (filename, content_md5sum, md5sum, first_item, last_item, num_items, seq_num, size, timestamp, yymm) VALUES (?, ?, ?, ?, ?, ?, ?, ?, ?, ?)\n",
      "2019-02-03 19:54:34,938 INFO sqlalchemy.engine.base.Engine ('src/arXiv_src_0502_002.tar', '1b6a0d76613a28570ba04d71c5cb3c53', 'f256fee9fe467fa8e52bd5e6995f6bf3', 'quant-ph0502122', 'quant-ph0502187', 66, '2', 4945884, '2010-12-24 11:13:04', '0502')\n",
      "2019-02-03 19:54:34,941 INFO sqlalchemy.engine.base.Engine COMMIT\n",
      "2019-02-03 19:54:35,064 INFO sqlalchemy.engine.base.Engine BEGIN (implicit)\n",
      "2019-02-03 19:54:35,067 INFO sqlalchemy.engine.base.Engine INSERT INTO manifest (filename, content_md5sum, md5sum, first_item, last_item, num_items, seq_num, size, timestamp, yymm) VALUES (?, ?, ?, ?, ?, ?, ?, ?, ?, ?)\n",
      "2019-02-03 19:54:35,073 INFO sqlalchemy.engine.base.Engine ('src/arXiv_src_0503_001.tar', 'bddec35b1243751aca0b96de7e921c55', 'c25f96e934c1406be0a83b09438bfa7b', 'astro-ph0503001', 'math0503375', 2717, '1', 525088832, '2010-12-23 12:51:33', '0503')\n",
      "2019-02-03 19:54:35,083 INFO sqlalchemy.engine.base.Engine COMMIT\n",
      "2019-02-03 19:54:35,160 INFO sqlalchemy.engine.base.Engine BEGIN (implicit)\n",
      "2019-02-03 19:54:35,162 INFO sqlalchemy.engine.base.Engine INSERT INTO manifest (filename, content_md5sum, md5sum, first_item, last_item, num_items, seq_num, size, timestamp, yymm) VALUES (?, ?, ?, ?, ?, ?, ?, ?, ?, ?)\n",
      "2019-02-03 19:54:35,170 INFO sqlalchemy.engine.base.Engine ('src/arXiv_src_0503_002.tar', '9d39ef05bf90baedb2fbdb7e4827f511', '9917ba3842e7321a7430e91957345442', 'math0503376', 'quant-ph0503243', 1163, '2', 164237229, '2010-12-24 11:13:34', '0503')\n",
      "2019-02-03 19:54:35,173 INFO sqlalchemy.engine.base.Engine COMMIT\n",
      "2019-02-03 19:54:35,261 INFO sqlalchemy.engine.base.Engine BEGIN (implicit)\n",
      "2019-02-03 19:54:35,263 INFO sqlalchemy.engine.base.Engine INSERT INTO manifest (filename, content_md5sum, md5sum, first_item, last_item, num_items, seq_num, size, timestamp, yymm) VALUES (?, ?, ?, ?, ?, ?, ?, ?, ?, ?)\n",
      "2019-02-03 19:54:35,266 INFO sqlalchemy.engine.base.Engine ('src/arXiv_src_0504_001.tar', 'da486f5378a6c39200b8d3edb58c18fc', '0b7f5075dfe5efd4ae436c1feb67cf7d', 'astro-ph0504001', 'math0504121', 2450, '1', 524377097, '2010-12-23 13:03:36', '0504')\n",
      "2019-02-03 19:54:35,269 INFO sqlalchemy.engine.base.Engine COMMIT\n",
      "2019-02-03 19:54:35,471 INFO sqlalchemy.engine.base.Engine BEGIN (implicit)\n",
      "2019-02-03 19:54:35,477 INFO sqlalchemy.engine.base.Engine INSERT INTO manifest (filename, content_md5sum, md5sum, first_item, last_item, num_items, seq_num, size, timestamp, yymm) VALUES (?, ?, ?, ?, ?, ?, ?, ?, ?, ?)\n",
      "2019-02-03 19:54:35,479 INFO sqlalchemy.engine.base.Engine ('src/arXiv_src_0504_002.tar', 'd282bd778e14b63bea6ae0f83f5c02d8', '2fce7d305c959bf95d126d431af7aebd', 'math0504122', 'quant-ph0504230', 1241, '2', 163835927, '2010-12-24 11:16:45', '0504')\n",
      "2019-02-03 19:54:35,482 INFO sqlalchemy.engine.base.Engine COMMIT\n",
      "2019-02-03 19:54:35,572 INFO sqlalchemy.engine.base.Engine BEGIN (implicit)\n",
      "2019-02-03 19:54:35,576 INFO sqlalchemy.engine.base.Engine INSERT INTO manifest (filename, content_md5sum, md5sum, first_item, last_item, num_items, seq_num, size, timestamp, yymm) VALUES (?, ?, ?, ?, ?, ?, ?, ?, ?, ?)\n",
      "2019-02-03 19:54:35,580 INFO sqlalchemy.engine.base.Engine ('src/arXiv_src_0505_001.tar', '64aa8d68e36bc0a92b1463d1352eaad1', 'c4d829a03b4169bcb2fea92577e664de', 'astro-ph0505001', 'nucl-th0505075', 3268, '1', 524485921, '2010-12-23 13:16:21', '0505')\n",
      "2019-02-03 19:54:35,590 INFO sqlalchemy.engine.base.Engine COMMIT\n",
      "2019-02-03 19:54:35,687 INFO sqlalchemy.engine.base.Engine BEGIN (implicit)\n",
      "2019-02-03 19:54:35,690 INFO sqlalchemy.engine.base.Engine INSERT INTO manifest (filename, content_md5sum, md5sum, first_item, last_item, num_items, seq_num, size, timestamp, yymm) VALUES (?, ?, ?, ?, ?, ?, ?, ?, ?, ?)\n",
      "2019-02-03 19:54:35,698 INFO sqlalchemy.engine.base.Engine ('src/arXiv_src_0505_002.tar', 'df0643d4870063ff2cefd34150045910', '3dafd8f8fef23058a73478406d46128f', 'nucl-th0505076', 'quant-ph0505231', 509, '2', 111454070, '2010-12-24 11:19:50', '0505')\n",
      "2019-02-03 19:54:35,706 INFO sqlalchemy.engine.base.Engine COMMIT\n",
      "2019-02-03 19:54:35,800 INFO sqlalchemy.engine.base.Engine BEGIN (implicit)\n",
      "2019-02-03 19:54:35,802 INFO sqlalchemy.engine.base.Engine INSERT INTO manifest (filename, content_md5sum, md5sum, first_item, last_item, num_items, seq_num, size, timestamp, yymm) VALUES (?, ?, ?, ?, ?, ?, ?, ?, ?, ?)\n",
      "2019-02-03 19:54:35,805 INFO sqlalchemy.engine.base.Engine ('src/arXiv_src_0506_001.tar', 'c975bd1b1aed5f3ba248ee773d99cb77', '36f565fd6ebe86396dc16cba622fd454', 'astro-ph0506001', 'hep-th0506175', 2454, '1', 524308446, '2010-12-23 13:28:00', '0506')\n",
      "2019-02-03 19:54:35,808 INFO sqlalchemy.engine.base.Engine COMMIT\n",
      "2019-02-03 19:54:35,893 INFO sqlalchemy.engine.base.Engine BEGIN (implicit)\n",
      "2019-02-03 19:54:35,895 INFO sqlalchemy.engine.base.Engine INSERT INTO manifest (filename, content_md5sum, md5sum, first_item, last_item, num_items, seq_num, size, timestamp, yymm) VALUES (?, ?, ?, ?, ?, ?, ?, ?, ?, ?)\n",
      "2019-02-03 19:54:35,897 INFO sqlalchemy.engine.base.Engine ('src/arXiv_src_0506_002.tar', 'a3226e9aafbbf7566ae1a0c7adacaeaa', '0b564351fdcde2061cb15959eac136d2', 'hep-th0506176', 'quant-ph0506271', 1528, '2', 179206594, '2010-12-24 11:22:08', '0506')\n",
      "2019-02-03 19:54:35,900 INFO sqlalchemy.engine.base.Engine COMMIT\n",
      "2019-02-03 19:54:35,982 INFO sqlalchemy.engine.base.Engine BEGIN (implicit)\n",
      "2019-02-03 19:54:35,984 INFO sqlalchemy.engine.base.Engine INSERT INTO manifest (filename, content_md5sum, md5sum, first_item, last_item, num_items, seq_num, size, timestamp, yymm) VALUES (?, ?, ?, ?, ?, ?, ?, ?, ?, ?)\n",
      "2019-02-03 19:54:35,991 INFO sqlalchemy.engine.base.Engine ('src/arXiv_src_0507_001.tar', '9fde7a97dc5d63dbc05b697db06c9d99', '4901195111f200f0edb42cfc67e2608e', 'astro-ph0507001', 'math0507473', 2909, '1', 524291500, '2010-12-23 13:40:59', '0507')\n",
      "2019-02-03 19:54:35,994 INFO sqlalchemy.engine.base.Engine COMMIT\n",
      "2019-02-03 19:54:36,126 INFO sqlalchemy.engine.base.Engine BEGIN (implicit)\n",
      "2019-02-03 19:54:36,131 INFO sqlalchemy.engine.base.Engine INSERT INTO manifest (filename, content_md5sum, md5sum, first_item, last_item, num_items, seq_num, size, timestamp, yymm) VALUES (?, ?, ?, ?, ?, ?, ?, ?, ?, ?)\n",
      "2019-02-03 19:54:36,133 INFO sqlalchemy.engine.base.Engine ('src/arXiv_src_0507_002.tar', '7e1a482737f39c9465e91e93b0d75166', '14dbd580f616eb683364a5ce012c4bb6', 'math0507474', 'quant-ph0507282', 930, '2', 150409123, '2010-12-24 11:25:29', '0507')\n",
      "2019-02-03 19:54:36,136 INFO sqlalchemy.engine.base.Engine COMMIT\n",
      "2019-02-03 19:54:36,239 INFO sqlalchemy.engine.base.Engine BEGIN (implicit)\n",
      "2019-02-03 19:54:36,242 INFO sqlalchemy.engine.base.Engine INSERT INTO manifest (filename, content_md5sum, md5sum, first_item, last_item, num_items, seq_num, size, timestamp, yymm) VALUES (?, ?, ?, ?, ?, ?, ?, ?, ?, ?)\n",
      "2019-02-03 19:54:36,248 INFO sqlalchemy.engine.base.Engine ('src/arXiv_src_0508_001.tar', 'c667c5938e821ba3ef786df3c99e636a', 'c69a247c3ebb2c39ed2cd2c4629a4174', 'astro-ph0508001', 'math0508260', 2656, '1', 524931302, '2010-12-23 13:53:23', '0508')\n",
      "2019-02-03 19:54:36,250 INFO sqlalchemy.engine.base.Engine COMMIT\n",
      "2019-02-03 19:54:36,348 INFO sqlalchemy.engine.base.Engine BEGIN (implicit)\n",
      "2019-02-03 19:54:36,350 INFO sqlalchemy.engine.base.Engine INSERT INTO manifest (filename, content_md5sum, md5sum, first_item, last_item, num_items, seq_num, size, timestamp, yymm) VALUES (?, ?, ?, ?, ?, ?, ?, ?, ?, ?)\n",
      "2019-02-03 19:54:36,356 INFO sqlalchemy.engine.base.Engine ('src/arXiv_src_0508_002.tar', '8a41d10dc178566631a6fe83c9dc4227', '3e6494d1a67df80a60c899e6e3c1aaee', 'math0508261', 'quant-ph0508238', 1119, '2', 173838509, '2010-12-24 11:28:25', '0508')\n",
      "2019-02-03 19:54:36,359 INFO sqlalchemy.engine.base.Engine COMMIT\n",
      "2019-02-03 19:54:36,470 INFO sqlalchemy.engine.base.Engine BEGIN (implicit)\n",
      "2019-02-03 19:54:36,474 INFO sqlalchemy.engine.base.Engine INSERT INTO manifest (filename, content_md5sum, md5sum, first_item, last_item, num_items, seq_num, size, timestamp, yymm) VALUES (?, ?, ?, ?, ?, ?, ?, ?, ?, ?)\n",
      "2019-02-03 19:54:36,476 INFO sqlalchemy.engine.base.Engine ('src/arXiv_src_0509_001.tar', '991b711f93aff188cf5f9743ecebfbe7', '163eb4428cc5d183b128f311dc3912b2', 'astro-ph0509001', 'hep-lat0509054', 2052, '1', 524341484, '2010-12-23 14:06:03', '0509')\n",
      "2019-02-03 19:54:36,478 INFO sqlalchemy.engine.base.Engine COMMIT\n",
      "2019-02-03 19:54:36,570 INFO sqlalchemy.engine.base.Engine BEGIN (implicit)\n",
      "2019-02-03 19:54:36,577 INFO sqlalchemy.engine.base.Engine INSERT INTO manifest (filename, content_md5sum, md5sum, first_item, last_item, num_items, seq_num, size, timestamp, yymm) VALUES (?, ?, ?, ?, ?, ?, ?, ?, ?, ?)\n",
      "2019-02-03 19:54:36,579 INFO sqlalchemy.engine.base.Engine ('src/arXiv_src_0509_002.tar', '04945d5978859dbfbc0e0ac189865ffd', 'a022aa518f24cbaf4cc3ff3a0c9cc6ce', 'hep-lat0509056', 'quant-ph0509220', 2276, '2', 274360550, '2010-12-24 11:31:59', '0509')\n",
      "2019-02-03 19:54:36,585 INFO sqlalchemy.engine.base.Engine COMMIT\n",
      "2019-02-03 19:54:36,681 INFO sqlalchemy.engine.base.Engine BEGIN (implicit)\n",
      "2019-02-03 19:54:36,684 INFO sqlalchemy.engine.base.Engine INSERT INTO manifest (filename, content_md5sum, md5sum, first_item, last_item, num_items, seq_num, size, timestamp, yymm) VALUES (?, ?, ?, ?, ?, ?, ?, ?, ?, ?)\n",
      "2019-02-03 19:54:36,688 INFO sqlalchemy.engine.base.Engine ('src/arXiv_src_0510_001.tar', '5a9af173dd7f2e54995529ac83692457', '6e54d25c1ab3bb921e33388970516b80', 'astro-ph0510001', 'cs0510081', 1786, '1', 524543037, '2010-12-23 14:20:32', '0510')\n",
      "2019-02-03 19:54:36,691 INFO sqlalchemy.engine.base.Engine COMMIT\n",
      "2019-02-03 19:54:36,781 INFO sqlalchemy.engine.base.Engine BEGIN (implicit)\n",
      "2019-02-03 19:54:36,793 INFO sqlalchemy.engine.base.Engine INSERT INTO manifest (filename, content_md5sum, md5sum, first_item, last_item, num_items, seq_num, size, timestamp, yymm) VALUES (?, ?, ?, ?, ?, ?, ?, ?, ?, ?)\n",
      "2019-02-03 19:54:36,795 INFO sqlalchemy.engine.base.Engine ('src/arXiv_src_0510_002.tar', 'd2ff03d1f23d66b38614246a3ac1ad3b', 'f83f901c89886720d95b895f2e126369', 'cs0510082', 'quant-ph0510238', 2652, '2', 350855456, '2010-12-24 11:37:05', '0510')\n",
      "2019-02-03 19:54:36,798 INFO sqlalchemy.engine.base.Engine COMMIT\n",
      "2019-02-03 19:54:36,892 INFO sqlalchemy.engine.base.Engine BEGIN (implicit)\n",
      "2019-02-03 19:54:36,894 INFO sqlalchemy.engine.base.Engine INSERT INTO manifest (filename, content_md5sum, md5sum, first_item, last_item, num_items, seq_num, size, timestamp, yymm) VALUES (?, ?, ?, ?, ?, ?, ?, ?, ?, ?)\n",
      "2019-02-03 19:54:36,896 INFO sqlalchemy.engine.base.Engine ('src/arXiv_src_0511_001.tar', 'c6993836f9e022704e1c50dd23b78119', 'b2f63239931fb5dd7e272106424dbbfb', 'astro-ph0511001', 'hep-th0511170', 2513, '1', 524314931, '2010-12-23 14:36:01', '0511')\n",
      "2019-02-03 19:54:36,904 INFO sqlalchemy.engine.base.Engine COMMIT\n",
      "2019-02-03 19:54:37,086 INFO sqlalchemy.engine.base.Engine BEGIN (implicit)\n",
      "2019-02-03 19:54:37,089 INFO sqlalchemy.engine.base.Engine INSERT INTO manifest (filename, content_md5sum, md5sum, first_item, last_item, num_items, seq_num, size, timestamp, yymm) VALUES (?, ?, ?, ?, ?, ?, ?, ?, ?, ?)\n",
      "2019-02-03 19:54:37,098 INFO sqlalchemy.engine.base.Engine ('src/arXiv_src_0511_002.tar', '688b83be48c1fbd587accb621add7513', '9a81a1b54ccd5c8bb803002732f2b024', 'hep-th0511171', 'quant-ph0511276', 1781, '2', 225449008, '2010-12-24 11:43:25', '0511')\n",
      "2019-02-03 19:54:37,103 INFO sqlalchemy.engine.base.Engine COMMIT\n",
      "2019-02-03 19:54:37,205 INFO sqlalchemy.engine.base.Engine BEGIN (implicit)\n",
      "2019-02-03 19:54:37,210 INFO sqlalchemy.engine.base.Engine INSERT INTO manifest (filename, content_md5sum, md5sum, first_item, last_item, num_items, seq_num, size, timestamp, yymm) VALUES (?, ?, ?, ?, ?, ?, ?, ?, ?, ?)\n",
      "2019-02-03 19:54:37,227 INFO sqlalchemy.engine.base.Engine ('src/arXiv_src_0512_001.tar', 'a98e9ff5dc11a3e49e2deddf99845e4f', 'c100164a987c92ec02e3bdbaa0c9eb7e', 'astro-ph0512001', 'math0512537', 3053, '1', 524380548, '2010-12-23 14:50:04', '0512')\n",
      "2019-02-03 19:54:37,231 INFO sqlalchemy.engine.base.Engine COMMIT\n",
      "2019-02-03 19:54:37,313 INFO sqlalchemy.engine.base.Engine BEGIN (implicit)\n",
      "2019-02-03 19:54:37,316 INFO sqlalchemy.engine.base.Engine INSERT INTO manifest (filename, content_md5sum, md5sum, first_item, last_item, num_items, seq_num, size, timestamp, yymm) VALUES (?, ?, ?, ?, ?, ?, ?, ?, ?, ?)\n",
      "2019-02-03 19:54:37,321 INFO sqlalchemy.engine.base.Engine ('src/arXiv_src_0512_002.tar', '995e3fae81d00e10869cbfdaf32369c1', '634db293769823623266015649bf2f1f', 'math0512538', 'quant-ph0512260', 1030, '2', 176232334, '2010-12-24 11:47:39', '0512')\n",
      "2019-02-03 19:54:37,324 INFO sqlalchemy.engine.base.Engine COMMIT\n",
      "2019-02-03 19:54:37,415 INFO sqlalchemy.engine.base.Engine BEGIN (implicit)\n",
      "2019-02-03 19:54:37,419 INFO sqlalchemy.engine.base.Engine INSERT INTO manifest (filename, content_md5sum, md5sum, first_item, last_item, num_items, seq_num, size, timestamp, yymm) VALUES (?, ?, ?, ?, ?, ?, ?, ?, ?, ?)\n",
      "2019-02-03 19:54:37,423 INFO sqlalchemy.engine.base.Engine ('src/arXiv_src_0601_001.tar', 'feb7da0b75da8facf34a8a70b925153b', '2427172492f37adc24f31e34a99cff3c', 'astro-ph0601001', 'math0601138', 2444, '1', 524560941, '2010-12-23 15:03:12', '0601')\n",
      "2019-02-03 19:54:37,426 INFO sqlalchemy.engine.base.Engine COMMIT\n",
      "2019-02-03 19:54:37,502 INFO sqlalchemy.engine.base.Engine BEGIN (implicit)\n",
      "2019-02-03 19:54:37,504 INFO sqlalchemy.engine.base.Engine INSERT INTO manifest (filename, content_md5sum, md5sum, first_item, last_item, num_items, seq_num, size, timestamp, yymm) VALUES (?, ?, ?, ?, ?, ?, ?, ?, ?, ?)\n",
      "2019-02-03 19:54:37,506 INFO sqlalchemy.engine.base.Engine ('src/arXiv_src_0601_002.tar', 'd0b011017531eba4b3482398e0beed89', 'b911197448ca47d3134abc5aaf9f0668', 'math0601139', 'quant-ph0601213', 1414, '2', 177555961, '2010-12-24 11:51:02', '0601')\n",
      "2019-02-03 19:54:37,510 INFO sqlalchemy.engine.base.Engine COMMIT\n",
      "2019-02-03 19:54:37,680 INFO sqlalchemy.engine.base.Engine BEGIN (implicit)\n",
      "2019-02-03 19:54:37,683 INFO sqlalchemy.engine.base.Engine INSERT INTO manifest (filename, content_md5sum, md5sum, first_item, last_item, num_items, seq_num, size, timestamp, yymm) VALUES (?, ?, ?, ?, ?, ?, ?, ?, ?, ?)\n",
      "2019-02-03 19:54:37,688 INFO sqlalchemy.engine.base.Engine ('src/arXiv_src_0602_001.tar', 'ff06b78c997af5c426bf93644431e440', '93454ac0dcc854c6338ff48beb1de255', 'astro-ph0602001', 'math0602476', 2640, '1', 525715905, '2010-12-23 15:15:41', '0602')\n",
      "2019-02-03 19:54:37,692 INFO sqlalchemy.engine.base.Engine COMMIT\n",
      "2019-02-03 19:54:37,791 INFO sqlalchemy.engine.base.Engine BEGIN (implicit)\n",
      "2019-02-03 19:54:37,793 INFO sqlalchemy.engine.base.Engine INSERT INTO manifest (filename, content_md5sum, md5sum, first_item, last_item, num_items, seq_num, size, timestamp, yymm) VALUES (?, ?, ?, ?, ?, ?, ?, ?, ?, ?)\n",
      "2019-02-03 19:54:37,798 INFO sqlalchemy.engine.base.Engine ('src/arXiv_src_0602_002.tar', 'fc55deaec1c0bdca71c5c0be39a72aed', '8e4a22faaa7d64123e0d808220cd8498', 'math0602477', 'quant-ph0602236', 880, '2', 148085642, '2010-12-24 11:54:27', '0602')\n",
      "2019-02-03 19:54:37,802 INFO sqlalchemy.engine.base.Engine COMMIT\n",
      "2019-02-03 19:54:38,063 INFO sqlalchemy.engine.base.Engine BEGIN (implicit)\n",
      "2019-02-03 19:54:38,068 INFO sqlalchemy.engine.base.Engine INSERT INTO manifest (filename, content_md5sum, md5sum, first_item, last_item, num_items, seq_num, size, timestamp, yymm) VALUES (?, ?, ?, ?, ?, ?, ?, ?, ?, ?)\n",
      "2019-02-03 19:54:38,070 INFO sqlalchemy.engine.base.Engine ('src/arXiv_src_0603_001.tar', 'a1b38a7ef341770897c71efd1c0cacc9', '0d031b51d906c93bec2709d62745b2ab', 'astro-ph0603001', 'gr-qc0603026', 1880, '1', 524563899, '2010-12-23 15:27:28', '0603')\n",
      "2019-02-03 19:54:38,074 INFO sqlalchemy.engine.base.Engine COMMIT\n",
      "2019-02-03 19:54:38,278 INFO sqlalchemy.engine.base.Engine BEGIN (implicit)\n",
      "2019-02-03 19:54:38,286 INFO sqlalchemy.engine.base.Engine INSERT INTO manifest (filename, content_md5sum, md5sum, first_item, last_item, num_items, seq_num, size, timestamp, yymm) VALUES (?, ?, ?, ?, ?, ?, ?, ?, ?, ?)\n",
      "2019-02-03 19:54:38,293 INFO sqlalchemy.engine.base.Engine ('src/arXiv_src_0603_002.tar', '6c16178865f449a3e6be34fba871a41b', '5930371d2ee727db39d047d30c1c60f2', 'gr-qc0603027', 'quant-ph0603286', 2332, '2', 309789321, '2010-12-24 11:57:31', '0603')\n",
      "2019-02-03 19:54:38,296 INFO sqlalchemy.engine.base.Engine COMMIT\n",
      "2019-02-03 19:54:38,389 INFO sqlalchemy.engine.base.Engine BEGIN (implicit)\n",
      "2019-02-03 19:54:38,391 INFO sqlalchemy.engine.base.Engine INSERT INTO manifest (filename, content_md5sum, md5sum, first_item, last_item, num_items, seq_num, size, timestamp, yymm) VALUES (?, ?, ?, ?, ?, ?, ?, ?, ?, ?)\n",
      "2019-02-03 19:54:38,396 INFO sqlalchemy.engine.base.Engine ('src/arXiv_src_0604_001.tar', '43e2a9dc3e66c219af2c80bc12c32f7c', '5603d21ed58d851234b54a13eb961ea4', 'astro-ph0604001', 'nucl-ex0604006', 2904, '1', 523764861, '2018-11-14 13:44:16', '0604')\n",
      "2019-02-03 19:54:38,400 INFO sqlalchemy.engine.base.Engine COMMIT\n",
      "2019-02-03 19:54:38,545 INFO sqlalchemy.engine.base.Engine BEGIN (implicit)\n",
      "2019-02-03 19:54:38,549 INFO sqlalchemy.engine.base.Engine INSERT INTO manifest (filename, content_md5sum, md5sum, first_item, last_item, num_items, seq_num, size, timestamp, yymm) VALUES (?, ?, ?, ?, ?, ?, ?, ?, ?, ?)\n",
      "2019-02-03 19:54:38,551 INFO sqlalchemy.engine.base.Engine ('src/arXiv_src_0604_002.tar', 'e05a23cf7ff904f4a3d5c46a4f2296d0', 'cf92d25b7892475aab5e92a1f3881a46', 'nucl-ex0604007', 'quant-ph0604216', 570, '2', 116092696, '2018-11-14 13:45:37', '0604')\n",
      "2019-02-03 19:54:38,558 INFO sqlalchemy.engine.base.Engine COMMIT\n",
      "2019-02-03 19:54:38,647 INFO sqlalchemy.engine.base.Engine BEGIN (implicit)\n",
      "2019-02-03 19:54:38,649 INFO sqlalchemy.engine.base.Engine INSERT INTO manifest (filename, content_md5sum, md5sum, first_item, last_item, num_items, seq_num, size, timestamp, yymm) VALUES (?, ?, ?, ?, ?, ?, ?, ?, ?, ?)\n",
      "2019-02-03 19:54:38,653 INFO sqlalchemy.engine.base.Engine ('src/arXiv_src_0605_001.tar', '6bb62b3e121c61c353c0ef02dcab0384', '0f395732446fb28180f26a0d14515e4f', 'astro-ph0605001', 'hep-ph0605214', 2167, '1', 525098135, '2010-12-23 15:54:38', '0605')\n",
      "2019-02-03 19:54:38,657 INFO sqlalchemy.engine.base.Engine COMMIT\n",
      "2019-02-03 19:54:38,745 INFO sqlalchemy.engine.base.Engine BEGIN (implicit)\n",
      "2019-02-03 19:54:38,748 INFO sqlalchemy.engine.base.Engine INSERT INTO manifest (filename, content_md5sum, md5sum, first_item, last_item, num_items, seq_num, size, timestamp, yymm) VALUES (?, ?, ?, ?, ?, ?, ?, ?, ?, ?)\n",
      "2019-02-03 19:54:38,753 INFO sqlalchemy.engine.base.Engine ('src/arXiv_src_0605_002.tar', '2ba9fe04dcac696514e1e8618f0119ba', '6fb63c1259ced5e52a9c8cb1a3ea3db1', 'hep-ph0605215', 'quant-ph0605254', 2036, '2', 249578626, '2010-12-24 12:05:50', '0605')\n",
      "2019-02-03 19:54:38,756 INFO sqlalchemy.engine.base.Engine COMMIT\n",
      "2019-02-03 19:54:38,868 INFO sqlalchemy.engine.base.Engine BEGIN (implicit)\n",
      "2019-02-03 19:54:38,874 INFO sqlalchemy.engine.base.Engine INSERT INTO manifest (filename, content_md5sum, md5sum, first_item, last_item, num_items, seq_num, size, timestamp, yymm) VALUES (?, ?, ?, ?, ?, ?, ?, ?, ?, ?)\n",
      "2019-02-03 19:54:38,879 INFO sqlalchemy.engine.base.Engine ('src/arXiv_src_0606_001.tar', '207a0d1351269da5aad3ac69b7447dd5', '3f75da4195fe9f8304c4beecb5e9e6c9', 'astro-ph0606001', 'cs0606007', 1590, '1', 524462245, '2010-12-23 16:08:56', '0606')\n",
      "2019-02-03 19:54:38,884 INFO sqlalchemy.engine.base.Engine COMMIT\n",
      "2019-02-03 19:54:38,967 INFO sqlalchemy.engine.base.Engine BEGIN (implicit)\n",
      "2019-02-03 19:54:38,970 INFO sqlalchemy.engine.base.Engine INSERT INTO manifest (filename, content_md5sum, md5sum, first_item, last_item, num_items, seq_num, size, timestamp, yymm) VALUES (?, ?, ?, ?, ?, ?, ?, ?, ?, ?)\n",
      "2019-02-03 19:54:38,978 INFO sqlalchemy.engine.base.Engine ('src/arXiv_src_0606_002.tar', '4e1313f6b583073e702e827b04b7f88e', '9d77ba930d1fe0c6d26c6e8ee891b0d8', 'cs0606008', 'quant-ph0606249', 2549, '2', 369392717, '2010-12-24 12:10:41', '0606')\n",
      "2019-02-03 19:54:38,981 INFO sqlalchemy.engine.base.Engine COMMIT\n",
      "2019-02-03 19:54:39,079 INFO sqlalchemy.engine.base.Engine BEGIN (implicit)\n",
      "2019-02-03 19:54:39,082 INFO sqlalchemy.engine.base.Engine INSERT INTO manifest (filename, content_md5sum, md5sum, first_item, last_item, num_items, seq_num, size, timestamp, yymm) VALUES (?, ?, ?, ?, ?, ?, ?, ?, ?, ?)\n",
      "2019-02-03 19:54:39,090 INFO sqlalchemy.engine.base.Engine ('src/arXiv_src_0607_001.tar', 'a8419813eba62ab21d63f37571da0200', '1dfe2bd632c307a1150c86869ea5c668', 'astro-ph0607001', 'hep-ex0607070', 1871, '1', 524690864, '2010-12-23 16:24:59', '0607')\n",
      "2019-02-03 19:54:39,097 INFO sqlalchemy.engine.base.Engine COMMIT\n",
      "2019-02-03 19:54:39,189 INFO sqlalchemy.engine.base.Engine BEGIN (implicit)\n",
      "2019-02-03 19:54:39,193 INFO sqlalchemy.engine.base.Engine INSERT INTO manifest (filename, content_md5sum, md5sum, first_item, last_item, num_items, seq_num, size, timestamp, yymm) VALUES (?, ?, ?, ?, ?, ?, ?, ?, ?, ?)\n",
      "2019-02-03 19:54:39,198 INFO sqlalchemy.engine.base.Engine ('src/arXiv_src_0607_002.tar', '48c92a25886d7103406030268d44b9aa', '1f5b058488aec3b49b2968cd36174637', 'hep-ex0607071', 'quant-ph0607224', 2326, '2', 306324850, '2010-12-24 12:17:41', '0607')\n",
      "2019-02-03 19:54:39,201 INFO sqlalchemy.engine.base.Engine COMMIT\n",
      "2019-02-03 19:54:39,313 INFO sqlalchemy.engine.base.Engine BEGIN (implicit)\n",
      "2019-02-03 19:54:39,316 INFO sqlalchemy.engine.base.Engine INSERT INTO manifest (filename, content_md5sum, md5sum, first_item, last_item, num_items, seq_num, size, timestamp, yymm) VALUES (?, ?, ?, ?, ?, ?, ?, ?, ?, ?)\n",
      "2019-02-03 19:54:39,322 INFO sqlalchemy.engine.base.Engine ('src/arXiv_src_0608_001.tar', '330aee3e3c38262408b4b5904b542bb5', 'ad4fc142e9f918961da1163e164b99bd', 'astro-ph0608001', 'hep-ph0608086', 1893, '1', 524308101, '2010-12-24 12:23:24', '0608')\n",
      "2019-02-03 19:54:39,326 INFO sqlalchemy.engine.base.Engine COMMIT\n",
      "2019-02-03 19:54:39,400 INFO sqlalchemy.engine.base.Engine BEGIN (implicit)\n",
      "2019-02-03 19:54:39,402 INFO sqlalchemy.engine.base.Engine INSERT INTO manifest (filename, content_md5sum, md5sum, first_item, last_item, num_items, seq_num, size, timestamp, yymm) VALUES (?, ?, ?, ?, ?, ?, ?, ?, ?, ?)\n",
      "2019-02-03 19:54:39,406 INFO sqlalchemy.engine.base.Engine ('src/arXiv_src_0608_002.tar', 'd985c19c28596f25f071ee9fa22b31a6', 'bc41e21f845f44b2402acc4f3b48adc5', 'hep-ph0608087', 'quant-ph0608251', 2171, '2', 309106408, '2010-12-24 12:32:52', '0608')\n",
      "2019-02-03 19:54:39,417 INFO sqlalchemy.engine.base.Engine COMMIT\n",
      "2019-02-03 19:54:39,499 INFO sqlalchemy.engine.base.Engine BEGIN (implicit)\n",
      "2019-02-03 19:54:39,501 INFO sqlalchemy.engine.base.Engine INSERT INTO manifest (filename, content_md5sum, md5sum, first_item, last_item, num_items, seq_num, size, timestamp, yymm) VALUES (?, ?, ?, ?, ?, ?, ?, ?, ?, ?)\n",
      "2019-02-03 19:54:39,506 INFO sqlalchemy.engine.base.Engine ('src/arXiv_src_0609_001.tar', 'cd3ee9d3042e4a9d69486a691055332c', '25eac74b8235428bf57d1596420b0a46', 'astro-ph0609001', 'hep-ex0609050', 1959, '1', 524320181, '2010-12-24 12:38:21', '0609')\n",
      "2019-02-03 19:54:39,509 INFO sqlalchemy.engine.base.Engine COMMIT\n",
      "2019-02-03 19:54:39,610 INFO sqlalchemy.engine.base.Engine BEGIN (implicit)\n",
      "2019-02-03 19:54:39,614 INFO sqlalchemy.engine.base.Engine INSERT INTO manifest (filename, content_md5sum, md5sum, first_item, last_item, num_items, seq_num, size, timestamp, yymm) VALUES (?, ?, ?, ?, ?, ?, ?, ?, ?, ?)\n",
      "2019-02-03 19:54:39,616 INFO sqlalchemy.engine.base.Engine ('src/arXiv_src_0609_002.tar', '54fb4c453673506b3ce0f3ef19ae3b3d', 'a151463f7ce1f572ffc91d97e0cff960', 'hep-ex0609051', 'quant-ph0609237', 2316, '2', 370262451, '2010-12-24 12:47:34', '0609')\n",
      "2019-02-03 19:54:39,628 INFO sqlalchemy.engine.base.Engine COMMIT\n",
      "2019-02-03 19:54:39,732 INFO sqlalchemy.engine.base.Engine BEGIN (implicit)\n",
      "2019-02-03 19:54:39,735 INFO sqlalchemy.engine.base.Engine INSERT INTO manifest (filename, content_md5sum, md5sum, first_item, last_item, num_items, seq_num, size, timestamp, yymm) VALUES (?, ?, ?, ?, ?, ?, ?, ?, ?, ?)\n",
      "2019-02-03 19:54:39,738 INFO sqlalchemy.engine.base.Engine ('src/arXiv_src_0610_001.tar', 'b827fa5bf6bd2a6c5c8bede86f23b6b8', '50ea12e310cd1e025a91ab701076ed2e', 'astro-ph0610001', 'cond-mat0610672', 1634, '1', 526643862, '2010-12-24 12:54:08', '0610')\n",
      "2019-02-03 19:54:39,741 INFO sqlalchemy.engine.base.Engine COMMIT\n",
      "2019-02-03 19:54:39,845 INFO sqlalchemy.engine.base.Engine BEGIN (implicit)\n",
      "2019-02-03 19:54:39,848 INFO sqlalchemy.engine.base.Engine INSERT INTO manifest (filename, content_md5sum, md5sum, first_item, last_item, num_items, seq_num, size, timestamp, yymm) VALUES (?, ?, ?, ?, ?, ?, ?, ?, ?, ?)\n",
      "2019-02-03 19:54:39,851 INFO sqlalchemy.engine.base.Engine ('src/arXiv_src_0610_002.tar', '18de87691d69158ad3ca654e43ca5a80', '236557003131dbec40213cf6038f319a', 'cond-mat0610673', 'quant-ph0610260', 3490, '2', 524588799, '2010-12-24 13:03:35', '0610')\n",
      "2019-02-03 19:54:39,855 INFO sqlalchemy.engine.base.Engine COMMIT\n",
      "2019-02-03 19:54:39,943 INFO sqlalchemy.engine.base.Engine BEGIN (implicit)\n",
      "2019-02-03 19:54:39,945 INFO sqlalchemy.engine.base.Engine INSERT INTO manifest (filename, content_md5sum, md5sum, first_item, last_item, num_items, seq_num, size, timestamp, yymm) VALUES (?, ?, ?, ?, ?, ?, ?, ?, ?, ?)\n",
      "2019-02-03 19:54:39,949 INFO sqlalchemy.engine.base.Engine ('src/arXiv_src_0610_003.tar', 'f310f27a77bef5fb8d57cd973895a217', '41a9bef5c3d23f6f7e0a1599e9b80afa', 'quant-ph0610261', 'quant-ph0610269', 9, '3', 1745424, '2010-12-24 13:12:50', '0610')\n",
      "2019-02-03 19:54:39,952 INFO sqlalchemy.engine.base.Engine COMMIT\n",
      "2019-02-03 19:54:40,043 INFO sqlalchemy.engine.base.Engine BEGIN (implicit)\n",
      "2019-02-03 19:54:40,045 INFO sqlalchemy.engine.base.Engine INSERT INTO manifest (filename, content_md5sum, md5sum, first_item, last_item, num_items, seq_num, size, timestamp, yymm) VALUES (?, ?, ?, ?, ?, ?, ?, ?, ?, ?)\n",
      "2019-02-03 19:54:40,048 INFO sqlalchemy.engine.base.Engine ('src/arXiv_src_0611_001.tar', '62740767c147ddfd313fa7913a9da405', '33d16ac2fa347087401714e81a9d1612', 'astro-ph0611001', 'cond-mat0611614', 1566, '1', 524355981, '2010-12-24 13:13:13', '0611')\n",
      "2019-02-03 19:54:40,051 INFO sqlalchemy.engine.base.Engine COMMIT\n",
      "2019-02-03 19:54:40,145 INFO sqlalchemy.engine.base.Engine BEGIN (implicit)\n",
      "2019-02-03 19:54:40,150 INFO sqlalchemy.engine.base.Engine INSERT INTO manifest (filename, content_md5sum, md5sum, first_item, last_item, num_items, seq_num, size, timestamp, yymm) VALUES (?, ?, ?, ?, ?, ?, ?, ?, ?, ?)\n",
      "2019-02-03 19:54:40,152 INFO sqlalchemy.engine.base.Engine ('src/arXiv_src_0611_002.tar', '74ba9a1197839db74c2f2b1981a3c67f', '0c5613f677e6fca9f6a8b45d4b604202', 'cond-mat0611615', 'quant-ph0611295', 3287, '2', 498920152, '2010-12-24 13:22:49', '0611')\n",
      "2019-02-03 19:54:40,158 INFO sqlalchemy.engine.base.Engine COMMIT\n",
      "2019-02-03 19:54:40,255 INFO sqlalchemy.engine.base.Engine BEGIN (implicit)\n",
      "2019-02-03 19:54:40,262 INFO sqlalchemy.engine.base.Engine INSERT INTO manifest (filename, content_md5sum, md5sum, first_item, last_item, num_items, seq_num, size, timestamp, yymm) VALUES (?, ?, ?, ?, ?, ?, ?, ?, ?, ?)\n",
      "2019-02-03 19:54:40,264 INFO sqlalchemy.engine.base.Engine ('src/arXiv_src_0612_001.tar', '169c1d5e13f58c3e8898d2b02d040b6a', '22c192e39faf94658730524033502582', 'astro-ph0612001', 'hep-lat0612026', 1920, '1', 524447264, '2010-12-24 13:31:51', '0612')\n",
      "2019-02-03 19:54:40,268 INFO sqlalchemy.engine.base.Engine COMMIT\n",
      "2019-02-03 19:54:40,357 INFO sqlalchemy.engine.base.Engine BEGIN (implicit)\n",
      "2019-02-03 19:54:40,360 INFO sqlalchemy.engine.base.Engine INSERT INTO manifest (filename, content_md5sum, md5sum, first_item, last_item, num_items, seq_num, size, timestamp, yymm) VALUES (?, ?, ?, ?, ?, ?, ?, ?, ?, ?)\n",
      "2019-02-03 19:54:40,371 INFO sqlalchemy.engine.base.Engine ('src/arXiv_src_0612_002.tar', '3bf4deeeb9d0797ccac37ee0c16b1bc4', '613134328e7f354c578daa7436eee545', 'hep-lat0612027', 'quant-ph0612229', 2376, '2', 340146241, '2010-12-24 13:41:24', '0612')\n",
      "2019-02-03 19:54:40,374 INFO sqlalchemy.engine.base.Engine COMMIT\n",
      "2019-02-03 19:54:40,475 INFO sqlalchemy.engine.base.Engine BEGIN (implicit)\n",
      "2019-02-03 19:54:40,478 INFO sqlalchemy.engine.base.Engine INSERT INTO manifest (filename, content_md5sum, md5sum, first_item, last_item, num_items, seq_num, size, timestamp, yymm) VALUES (?, ?, ?, ?, ?, ?, ?, ?, ?, ?)\n",
      "2019-02-03 19:54:40,482 INFO sqlalchemy.engine.base.Engine ('src/arXiv_src_0701_001.tar', '462ef2779d5bda5d979fdf4636d429aa', '7aee92bd623d19318992d04ee638abd5', 'astro-ph0701001', 'cond-mat0701696', 1621, '1', 524590492, '2010-12-23 16:35:02', '0701')\n",
      "2019-02-03 19:54:40,485 INFO sqlalchemy.engine.base.Engine COMMIT\n",
      "2019-02-03 19:54:40,576 INFO sqlalchemy.engine.base.Engine BEGIN (implicit)\n",
      "2019-02-03 19:54:40,578 INFO sqlalchemy.engine.base.Engine INSERT INTO manifest (filename, content_md5sum, md5sum, first_item, last_item, num_items, seq_num, size, timestamp, yymm) VALUES (?, ?, ?, ?, ?, ?, ?, ?, ?, ?)\n",
      "2019-02-03 19:54:40,582 INFO sqlalchemy.engine.base.Engine ('src/arXiv_src_0701_002.tar', '207ea4fa51bafe064db04b99ef369733', 'a3be880c76cb82423d6ad07706df52e7', 'cond-mat0701697', 'quant-ph0701246', 3032, '2', 458575949, '2010-12-24 16:00:07', '0701')\n",
      "2019-02-03 19:54:40,585 INFO sqlalchemy.engine.base.Engine COMMIT\n"
     ]
    },
    {
     "ename": "KeyboardInterrupt",
     "evalue": "",
     "output_type": "error",
     "traceback": [
      "\u001b[0;31m---------------------------------------------------------------------------\u001b[0m",
      "\u001b[0;31mKeyboardInterrupt\u001b[0m                         Traceback (most recent call last)",
      "\u001b[0;32m<ipython-input-190-3ded1b3a8ca7>\u001b[0m in \u001b[0;36m<module>\u001b[0;34m\u001b[0m\n\u001b[1;32m      3\u001b[0m     \u001b[0mf\u001b[0m \u001b[0;34m=\u001b[0m \u001b[0mcre\u001b[0m\u001b[0;34m.\u001b[0m\u001b[0mManifestTarFile\u001b[0m\u001b[0;34m(\u001b[0m\u001b[0;34m**\u001b[0m\u001b[0mline\u001b[0m\u001b[0;34m)\u001b[0m\u001b[0;34m\u001b[0m\u001b[0;34m\u001b[0m\u001b[0m\n\u001b[1;32m      4\u001b[0m     \u001b[0msess\u001b[0m\u001b[0;34m.\u001b[0m\u001b[0madd\u001b[0m\u001b[0;34m(\u001b[0m\u001b[0mf\u001b[0m\u001b[0;34m)\u001b[0m\u001b[0;34m\u001b[0m\u001b[0;34m\u001b[0m\u001b[0m\n\u001b[0;32m----> 5\u001b[0;31m     \u001b[0msess\u001b[0m\u001b[0;34m.\u001b[0m\u001b[0mcommit\u001b[0m\u001b[0;34m(\u001b[0m\u001b[0;34m)\u001b[0m\u001b[0;34m\u001b[0m\u001b[0;34m\u001b[0m\u001b[0m\n\u001b[0m",
      "\u001b[0;32m/usr/lib/python3.7/site-packages/sqlalchemy/orm/session.py\u001b[0m in \u001b[0;36mcommit\u001b[0;34m(self)\u001b[0m\n\u001b[1;32m   1006\u001b[0m                 \u001b[0;32mraise\u001b[0m \u001b[0msa_exc\u001b[0m\u001b[0;34m.\u001b[0m\u001b[0mInvalidRequestError\u001b[0m\u001b[0;34m(\u001b[0m\u001b[0;34m\"No transaction is begun.\"\u001b[0m\u001b[0;34m)\u001b[0m\u001b[0;34m\u001b[0m\u001b[0;34m\u001b[0m\u001b[0m\n\u001b[1;32m   1007\u001b[0m \u001b[0;34m\u001b[0m\u001b[0m\n\u001b[0;32m-> 1008\u001b[0;31m         \u001b[0mself\u001b[0m\u001b[0;34m.\u001b[0m\u001b[0mtransaction\u001b[0m\u001b[0;34m.\u001b[0m\u001b[0mcommit\u001b[0m\u001b[0;34m(\u001b[0m\u001b[0;34m)\u001b[0m\u001b[0;34m\u001b[0m\u001b[0;34m\u001b[0m\u001b[0m\n\u001b[0m\u001b[1;32m   1009\u001b[0m \u001b[0;34m\u001b[0m\u001b[0m\n\u001b[1;32m   1010\u001b[0m     \u001b[0;32mdef\u001b[0m \u001b[0mprepare\u001b[0m\u001b[0;34m(\u001b[0m\u001b[0mself\u001b[0m\u001b[0;34m)\u001b[0m\u001b[0;34m:\u001b[0m\u001b[0;34m\u001b[0m\u001b[0;34m\u001b[0m\u001b[0m\n",
      "\u001b[0;32m/usr/lib/python3.7/site-packages/sqlalchemy/orm/session.py\u001b[0m in \u001b[0;36mcommit\u001b[0;34m(self)\u001b[0m\n\u001b[1;32m    489\u001b[0m         \u001b[0;32mif\u001b[0m \u001b[0mself\u001b[0m\u001b[0;34m.\u001b[0m\u001b[0m_parent\u001b[0m \u001b[0;32mis\u001b[0m \u001b[0;32mNone\u001b[0m \u001b[0;32mor\u001b[0m \u001b[0mself\u001b[0m\u001b[0;34m.\u001b[0m\u001b[0mnested\u001b[0m\u001b[0;34m:\u001b[0m\u001b[0;34m\u001b[0m\u001b[0;34m\u001b[0m\u001b[0m\n\u001b[1;32m    490\u001b[0m             \u001b[0;32mfor\u001b[0m \u001b[0mt\u001b[0m \u001b[0;32min\u001b[0m \u001b[0mset\u001b[0m\u001b[0;34m(\u001b[0m\u001b[0mself\u001b[0m\u001b[0;34m.\u001b[0m\u001b[0m_connections\u001b[0m\u001b[0;34m.\u001b[0m\u001b[0mvalues\u001b[0m\u001b[0;34m(\u001b[0m\u001b[0;34m)\u001b[0m\u001b[0;34m)\u001b[0m\u001b[0;34m:\u001b[0m\u001b[0;34m\u001b[0m\u001b[0;34m\u001b[0m\u001b[0m\n\u001b[0;32m--> 491\u001b[0;31m                 \u001b[0mt\u001b[0m\u001b[0;34m[\u001b[0m\u001b[0;36m1\u001b[0m\u001b[0;34m]\u001b[0m\u001b[0;34m.\u001b[0m\u001b[0mcommit\u001b[0m\u001b[0;34m(\u001b[0m\u001b[0;34m)\u001b[0m\u001b[0;34m\u001b[0m\u001b[0;34m\u001b[0m\u001b[0m\n\u001b[0m\u001b[1;32m    492\u001b[0m \u001b[0;34m\u001b[0m\u001b[0m\n\u001b[1;32m    493\u001b[0m             \u001b[0mself\u001b[0m\u001b[0;34m.\u001b[0m\u001b[0m_state\u001b[0m \u001b[0;34m=\u001b[0m \u001b[0mCOMMITTED\u001b[0m\u001b[0;34m\u001b[0m\u001b[0;34m\u001b[0m\u001b[0m\n",
      "\u001b[0;32m/usr/lib/python3.7/site-packages/sqlalchemy/engine/base.py\u001b[0m in \u001b[0;36mcommit\u001b[0;34m(self)\u001b[0m\n\u001b[1;32m   1695\u001b[0m         \u001b[0;32mif\u001b[0m \u001b[0;32mnot\u001b[0m \u001b[0mself\u001b[0m\u001b[0;34m.\u001b[0m\u001b[0m_parent\u001b[0m\u001b[0;34m.\u001b[0m\u001b[0mis_active\u001b[0m\u001b[0;34m:\u001b[0m\u001b[0;34m\u001b[0m\u001b[0;34m\u001b[0m\u001b[0m\n\u001b[1;32m   1696\u001b[0m             \u001b[0;32mraise\u001b[0m \u001b[0mexc\u001b[0m\u001b[0;34m.\u001b[0m\u001b[0mInvalidRequestError\u001b[0m\u001b[0;34m(\u001b[0m\u001b[0;34m\"This transaction is inactive\"\u001b[0m\u001b[0;34m)\u001b[0m\u001b[0;34m\u001b[0m\u001b[0;34m\u001b[0m\u001b[0m\n\u001b[0;32m-> 1697\u001b[0;31m         \u001b[0mself\u001b[0m\u001b[0;34m.\u001b[0m\u001b[0m_do_commit\u001b[0m\u001b[0;34m(\u001b[0m\u001b[0;34m)\u001b[0m\u001b[0;34m\u001b[0m\u001b[0;34m\u001b[0m\u001b[0m\n\u001b[0m\u001b[1;32m   1698\u001b[0m         \u001b[0mself\u001b[0m\u001b[0;34m.\u001b[0m\u001b[0mis_active\u001b[0m \u001b[0;34m=\u001b[0m \u001b[0;32mFalse\u001b[0m\u001b[0;34m\u001b[0m\u001b[0;34m\u001b[0m\u001b[0m\n\u001b[1;32m   1699\u001b[0m \u001b[0;34m\u001b[0m\u001b[0m\n",
      "\u001b[0;32m/usr/lib/python3.7/site-packages/sqlalchemy/engine/base.py\u001b[0m in \u001b[0;36m_do_commit\u001b[0;34m(self)\u001b[0m\n\u001b[1;32m   1726\u001b[0m     \u001b[0;32mdef\u001b[0m \u001b[0m_do_commit\u001b[0m\u001b[0;34m(\u001b[0m\u001b[0mself\u001b[0m\u001b[0;34m)\u001b[0m\u001b[0;34m:\u001b[0m\u001b[0;34m\u001b[0m\u001b[0;34m\u001b[0m\u001b[0m\n\u001b[1;32m   1727\u001b[0m         \u001b[0;32mif\u001b[0m \u001b[0mself\u001b[0m\u001b[0;34m.\u001b[0m\u001b[0mis_active\u001b[0m\u001b[0;34m:\u001b[0m\u001b[0;34m\u001b[0m\u001b[0;34m\u001b[0m\u001b[0m\n\u001b[0;32m-> 1728\u001b[0;31m             \u001b[0mself\u001b[0m\u001b[0;34m.\u001b[0m\u001b[0mconnection\u001b[0m\u001b[0;34m.\u001b[0m\u001b[0m_commit_impl\u001b[0m\u001b[0;34m(\u001b[0m\u001b[0;34m)\u001b[0m\u001b[0;34m\u001b[0m\u001b[0;34m\u001b[0m\u001b[0m\n\u001b[0m\u001b[1;32m   1729\u001b[0m \u001b[0;34m\u001b[0m\u001b[0m\n\u001b[1;32m   1730\u001b[0m \u001b[0;34m\u001b[0m\u001b[0m\n",
      "\u001b[0;32m/usr/lib/python3.7/site-packages/sqlalchemy/engine/base.py\u001b[0m in \u001b[0;36m_commit_impl\u001b[0;34m(self, autocommit)\u001b[0m\n\u001b[1;32m    747\u001b[0m             \u001b[0mself\u001b[0m\u001b[0;34m.\u001b[0m\u001b[0mengine\u001b[0m\u001b[0;34m.\u001b[0m\u001b[0mdialect\u001b[0m\u001b[0;34m.\u001b[0m\u001b[0mdo_commit\u001b[0m\u001b[0;34m(\u001b[0m\u001b[0mself\u001b[0m\u001b[0;34m.\u001b[0m\u001b[0mconnection\u001b[0m\u001b[0;34m)\u001b[0m\u001b[0;34m\u001b[0m\u001b[0;34m\u001b[0m\u001b[0m\n\u001b[1;32m    748\u001b[0m         \u001b[0;32mexcept\u001b[0m \u001b[0mBaseException\u001b[0m \u001b[0;32mas\u001b[0m \u001b[0me\u001b[0m\u001b[0;34m:\u001b[0m\u001b[0;34m\u001b[0m\u001b[0;34m\u001b[0m\u001b[0m\n\u001b[0;32m--> 749\u001b[0;31m             \u001b[0mself\u001b[0m\u001b[0;34m.\u001b[0m\u001b[0m_handle_dbapi_exception\u001b[0m\u001b[0;34m(\u001b[0m\u001b[0me\u001b[0m\u001b[0;34m,\u001b[0m \u001b[0;32mNone\u001b[0m\u001b[0;34m,\u001b[0m \u001b[0;32mNone\u001b[0m\u001b[0;34m,\u001b[0m \u001b[0;32mNone\u001b[0m\u001b[0;34m,\u001b[0m \u001b[0;32mNone\u001b[0m\u001b[0;34m)\u001b[0m\u001b[0;34m\u001b[0m\u001b[0;34m\u001b[0m\u001b[0m\n\u001b[0m\u001b[1;32m    750\u001b[0m         \u001b[0;32mfinally\u001b[0m\u001b[0;34m:\u001b[0m\u001b[0;34m\u001b[0m\u001b[0;34m\u001b[0m\u001b[0m\n\u001b[1;32m    751\u001b[0m             if (\n",
      "\u001b[0;32m/usr/lib/python3.7/site-packages/sqlalchemy/engine/base.py\u001b[0m in \u001b[0;36m_handle_dbapi_exception\u001b[0;34m(self, e, statement, parameters, cursor, context)\u001b[0m\n\u001b[1;32m   1452\u001b[0m                 \u001b[0mutil\u001b[0m\u001b[0;34m.\u001b[0m\u001b[0mraise_from_cause\u001b[0m\u001b[0;34m(\u001b[0m\u001b[0msqlalchemy_exception\u001b[0m\u001b[0;34m,\u001b[0m \u001b[0mexc_info\u001b[0m\u001b[0;34m)\u001b[0m\u001b[0;34m\u001b[0m\u001b[0;34m\u001b[0m\u001b[0m\n\u001b[1;32m   1453\u001b[0m             \u001b[0;32melse\u001b[0m\u001b[0;34m:\u001b[0m\u001b[0;34m\u001b[0m\u001b[0;34m\u001b[0m\u001b[0m\n\u001b[0;32m-> 1454\u001b[0;31m                 \u001b[0mutil\u001b[0m\u001b[0;34m.\u001b[0m\u001b[0mreraise\u001b[0m\u001b[0;34m(\u001b[0m\u001b[0;34m*\u001b[0m\u001b[0mexc_info\u001b[0m\u001b[0;34m)\u001b[0m\u001b[0;34m\u001b[0m\u001b[0;34m\u001b[0m\u001b[0m\n\u001b[0m\u001b[1;32m   1455\u001b[0m \u001b[0;34m\u001b[0m\u001b[0m\n\u001b[1;32m   1456\u001b[0m         \u001b[0;32mfinally\u001b[0m\u001b[0;34m:\u001b[0m\u001b[0;34m\u001b[0m\u001b[0;34m\u001b[0m\u001b[0m\n",
      "\u001b[0;32m/usr/lib/python3.7/site-packages/sqlalchemy/util/compat.py\u001b[0m in \u001b[0;36mreraise\u001b[0;34m(tp, value, tb, cause)\u001b[0m\n\u001b[1;32m    275\u001b[0m         \u001b[0;32mif\u001b[0m \u001b[0mvalue\u001b[0m\u001b[0;34m.\u001b[0m\u001b[0m__traceback__\u001b[0m \u001b[0;32mis\u001b[0m \u001b[0;32mnot\u001b[0m \u001b[0mtb\u001b[0m\u001b[0;34m:\u001b[0m\u001b[0;34m\u001b[0m\u001b[0;34m\u001b[0m\u001b[0m\n\u001b[1;32m    276\u001b[0m             \u001b[0;32mraise\u001b[0m \u001b[0mvalue\u001b[0m\u001b[0;34m.\u001b[0m\u001b[0mwith_traceback\u001b[0m\u001b[0;34m(\u001b[0m\u001b[0mtb\u001b[0m\u001b[0;34m)\u001b[0m\u001b[0;34m\u001b[0m\u001b[0;34m\u001b[0m\u001b[0m\n\u001b[0;32m--> 277\u001b[0;31m         \u001b[0;32mraise\u001b[0m \u001b[0mvalue\u001b[0m\u001b[0;34m\u001b[0m\u001b[0;34m\u001b[0m\u001b[0m\n\u001b[0m\u001b[1;32m    278\u001b[0m \u001b[0;34m\u001b[0m\u001b[0m\n\u001b[1;32m    279\u001b[0m \u001b[0;34m\u001b[0m\u001b[0m\n",
      "\u001b[0;32m/usr/lib/python3.7/site-packages/sqlalchemy/engine/base.py\u001b[0m in \u001b[0;36m_commit_impl\u001b[0;34m(self, autocommit)\u001b[0m\n\u001b[1;32m    745\u001b[0m             \u001b[0mself\u001b[0m\u001b[0;34m.\u001b[0m\u001b[0mengine\u001b[0m\u001b[0;34m.\u001b[0m\u001b[0mlogger\u001b[0m\u001b[0;34m.\u001b[0m\u001b[0minfo\u001b[0m\u001b[0;34m(\u001b[0m\u001b[0;34m\"COMMIT\"\u001b[0m\u001b[0;34m)\u001b[0m\u001b[0;34m\u001b[0m\u001b[0;34m\u001b[0m\u001b[0m\n\u001b[1;32m    746\u001b[0m         \u001b[0;32mtry\u001b[0m\u001b[0;34m:\u001b[0m\u001b[0;34m\u001b[0m\u001b[0;34m\u001b[0m\u001b[0m\n\u001b[0;32m--> 747\u001b[0;31m             \u001b[0mself\u001b[0m\u001b[0;34m.\u001b[0m\u001b[0mengine\u001b[0m\u001b[0;34m.\u001b[0m\u001b[0mdialect\u001b[0m\u001b[0;34m.\u001b[0m\u001b[0mdo_commit\u001b[0m\u001b[0;34m(\u001b[0m\u001b[0mself\u001b[0m\u001b[0;34m.\u001b[0m\u001b[0mconnection\u001b[0m\u001b[0;34m)\u001b[0m\u001b[0;34m\u001b[0m\u001b[0;34m\u001b[0m\u001b[0m\n\u001b[0m\u001b[1;32m    748\u001b[0m         \u001b[0;32mexcept\u001b[0m \u001b[0mBaseException\u001b[0m \u001b[0;32mas\u001b[0m \u001b[0me\u001b[0m\u001b[0;34m:\u001b[0m\u001b[0;34m\u001b[0m\u001b[0;34m\u001b[0m\u001b[0m\n\u001b[1;32m    749\u001b[0m             \u001b[0mself\u001b[0m\u001b[0;34m.\u001b[0m\u001b[0m_handle_dbapi_exception\u001b[0m\u001b[0;34m(\u001b[0m\u001b[0me\u001b[0m\u001b[0;34m,\u001b[0m \u001b[0;32mNone\u001b[0m\u001b[0;34m,\u001b[0m \u001b[0;32mNone\u001b[0m\u001b[0;34m,\u001b[0m \u001b[0;32mNone\u001b[0m\u001b[0;34m,\u001b[0m \u001b[0;32mNone\u001b[0m\u001b[0;34m)\u001b[0m\u001b[0;34m\u001b[0m\u001b[0;34m\u001b[0m\u001b[0m\n",
      "\u001b[0;32m/usr/lib/python3.7/site-packages/sqlalchemy/engine/default.py\u001b[0m in \u001b[0;36mdo_commit\u001b[0;34m(self, dbapi_connection)\u001b[0m\n\u001b[1;32m    487\u001b[0m \u001b[0;34m\u001b[0m\u001b[0m\n\u001b[1;32m    488\u001b[0m     \u001b[0;32mdef\u001b[0m \u001b[0mdo_commit\u001b[0m\u001b[0;34m(\u001b[0m\u001b[0mself\u001b[0m\u001b[0;34m,\u001b[0m \u001b[0mdbapi_connection\u001b[0m\u001b[0;34m)\u001b[0m\u001b[0;34m:\u001b[0m\u001b[0;34m\u001b[0m\u001b[0;34m\u001b[0m\u001b[0m\n\u001b[0;32m--> 489\u001b[0;31m         \u001b[0mdbapi_connection\u001b[0m\u001b[0;34m.\u001b[0m\u001b[0mcommit\u001b[0m\u001b[0;34m(\u001b[0m\u001b[0;34m)\u001b[0m\u001b[0;34m\u001b[0m\u001b[0;34m\u001b[0m\u001b[0m\n\u001b[0m\u001b[1;32m    490\u001b[0m \u001b[0;34m\u001b[0m\u001b[0m\n\u001b[1;32m    491\u001b[0m     \u001b[0;32mdef\u001b[0m \u001b[0mdo_close\u001b[0m\u001b[0;34m(\u001b[0m\u001b[0mself\u001b[0m\u001b[0;34m,\u001b[0m \u001b[0mdbapi_connection\u001b[0m\u001b[0;34m)\u001b[0m\u001b[0;34m:\u001b[0m\u001b[0;34m\u001b[0m\u001b[0;34m\u001b[0m\u001b[0m\n",
      "\u001b[0;31mKeyboardInterrupt\u001b[0m: "
     ]
    }
   ],
   "source": [
    "# POPULATE THE MANIFEST TABLE (Careful)\n",
    "#for index, line in filedf.iterrows():\n",
    "    #line = filedf.iloc[50*k]\n",
    "    f = cre.ManifestTarFile(**line)\n",
    "    sess.add(f)\n",
    "    sess.commit()"
   ]
  },
  {
   "cell_type": "code",
   "execution_count": 227,
   "metadata": {},
   "outputs": [
    {
     "ename": "Exception",
     "evalue": "HTTP Error 400 in query",
     "output_type": "error",
     "traceback": [
      "\u001b[0;31m---------------------------------------------------------------------------\u001b[0m",
      "\u001b[0;31mException\u001b[0m                                 Traceback (most recent call last)",
      "\u001b[0;32m<ipython-input-227-efc5d915e990>\u001b[0m in \u001b[0;36m<module>\u001b[0;34m\u001b[0m\n\u001b[0;32m----> 1\u001b[0;31m \u001b[0mD\u001b[0m \u001b[0;34m=\u001b[0m \u001b[0marxiv\u001b[0m\u001b[0;34m.\u001b[0m\u001b[0mquery\u001b[0m\u001b[0;34m(\u001b[0m\u001b[0mid_list\u001b[0m\u001b[0;34m=\u001b[0m\u001b[0;34m[\u001b[0m\u001b[0;34m'1901.009'\u001b[0m\u001b[0;34m]\u001b[0m\u001b[0;34m)\u001b[0m\u001b[0;34m[\u001b[0m\u001b[0;36m0\u001b[0m\u001b[0;34m]\u001b[0m\u001b[0;34m\u001b[0m\u001b[0;34m\u001b[0m\u001b[0m\n\u001b[0m\u001b[1;32m      2\u001b[0m \u001b[0mg\u001b[0m \u001b[0;34m=\u001b[0m \u001b[0mcre\u001b[0m\u001b[0;34m.\u001b[0m\u001b[0mnew_article_register\u001b[0m\u001b[0;34m(\u001b[0m\u001b[0mD\u001b[0m\u001b[0;34m,\u001b[0m\u001b[0;36m2\u001b[0m\u001b[0;34m)\u001b[0m\u001b[0;34m\u001b[0m\u001b[0;34m\u001b[0m\u001b[0m\n\u001b[1;32m      3\u001b[0m \u001b[0msess\u001b[0m\u001b[0;34m.\u001b[0m\u001b[0madd\u001b[0m\u001b[0;34m(\u001b[0m\u001b[0mg\u001b[0m\u001b[0;34m)\u001b[0m\u001b[0;34m\u001b[0m\u001b[0;34m\u001b[0m\u001b[0m\n\u001b[1;32m      4\u001b[0m \u001b[0msess\u001b[0m\u001b[0;34m.\u001b[0m\u001b[0mcommit\u001b[0m\u001b[0;34m(\u001b[0m\u001b[0;34m)\u001b[0m\u001b[0;34m\u001b[0m\u001b[0;34m\u001b[0m\u001b[0m\n",
      "\u001b[0;32m~/MisDocumentos/arxivBulkDownload/arxivDownload/arxiv.py/arxiv/arxiv.py\u001b[0m in \u001b[0;36mquery\u001b[0;34m(search_query, id_list, prune, start, max_results, sort_by, sort_order)\u001b[0m\n\u001b[1;32m     32\u001b[0m     \u001b[0;32mif\u001b[0m \u001b[0mresults\u001b[0m\u001b[0;34m.\u001b[0m\u001b[0mget\u001b[0m\u001b[0;34m(\u001b[0m\u001b[0;34m'status'\u001b[0m\u001b[0;34m)\u001b[0m \u001b[0;34m!=\u001b[0m \u001b[0;36m200\u001b[0m\u001b[0;34m:\u001b[0m\u001b[0;34m\u001b[0m\u001b[0;34m\u001b[0m\u001b[0m\n\u001b[1;32m     33\u001b[0m         \u001b[0;31m# TODO: better error reporting\u001b[0m\u001b[0;34m\u001b[0m\u001b[0;34m\u001b[0m\u001b[0;34m\u001b[0m\u001b[0m\n\u001b[0;32m---> 34\u001b[0;31m         \u001b[0;32mraise\u001b[0m \u001b[0mException\u001b[0m\u001b[0;34m(\u001b[0m\u001b[0;34m\"HTTP Error \"\u001b[0m \u001b[0;34m+\u001b[0m \u001b[0mstr\u001b[0m\u001b[0;34m(\u001b[0m\u001b[0mresults\u001b[0m\u001b[0;34m.\u001b[0m\u001b[0mget\u001b[0m\u001b[0;34m(\u001b[0m\u001b[0;34m'status'\u001b[0m\u001b[0;34m,\u001b[0m \u001b[0;34m'no status'\u001b[0m\u001b[0;34m)\u001b[0m\u001b[0;34m)\u001b[0m \u001b[0;34m+\u001b[0m \u001b[0;34m\" in query\"\u001b[0m\u001b[0;34m)\u001b[0m\u001b[0;34m\u001b[0m\u001b[0;34m\u001b[0m\u001b[0m\n\u001b[0m\u001b[1;32m     35\u001b[0m     \u001b[0;32melse\u001b[0m\u001b[0;34m:\u001b[0m\u001b[0;34m\u001b[0m\u001b[0;34m\u001b[0m\u001b[0m\n\u001b[1;32m     36\u001b[0m         \u001b[0mresults\u001b[0m \u001b[0;34m=\u001b[0m \u001b[0mresults\u001b[0m\u001b[0;34m[\u001b[0m\u001b[0;34m'entries'\u001b[0m\u001b[0;34m]\u001b[0m\u001b[0;34m\u001b[0m\u001b[0;34m\u001b[0m\u001b[0m\n",
      "\u001b[0;31mException\u001b[0m: HTTP Error 400 in query"
     ]
    }
   ],
   "source": [
    "D = arxiv.query(id_list=['1901.009'])[0]\n",
    "g = cre.new_article_register(D,2)\n",
    "#sess.add(g)\n",
    "#sess.commit()"
   ]
  },
  {
   "cell_type": "code",
   "execution_count": 35,
   "metadata": {},
   "outputs": [
    {
     "name": "stdout",
     "output_type": "stream",
     "text": [
      "2020-01-31 23:32:41,487 INFO sqlalchemy.engine.base.Engine SELECT manifest.id AS manifest_id, manifest.filename AS manifest_filename, manifest.content_md5sum AS manifest_content_md5sum, manifest.md5sum AS manifest_md5sum, manifest.first_item AS manifest_first_item, manifest.last_item AS manifest_last_item, manifest.num_items AS manifest_num_items, manifest.seq_num AS manifest_seq_num, manifest.size AS manifest_size, manifest.timestamp AS manifest_timestamp, manifest.yymm AS manifest_yymm \n",
      "FROM manifest\n",
      "2020-01-31 23:32:41,500 INFO sqlalchemy.engine.base.Engine ()\n"
     ]
    }
   ],
   "source": [
    "q = sess.query(cre.ManifestTarFile)\n",
    "resu = q.filter(cre.ManifestTarFile.num_items > 3000)\n",
    "resu_set = set([f.filename for f in q.all()])"
   ]
  },
  {
   "cell_type": "code",
   "execution_count": 56,
   "metadata": {},
   "outputs": [],
   "source": [
    "diff_set = fname_set.difference(resu_set)"
   ]
  },
  {
   "cell_type": "code",
   "execution_count": 52,
   "metadata": {},
   "outputs": [
    {
     "data": {
      "text/plain": [
       "'src/arXiv_src_1901_012.tar'"
      ]
     },
     "execution_count": 52,
     "metadata": {},
     "output_type": "execute_result"
    }
   ],
   "source": [
    "diff_set.pop()"
   ]
  },
  {
   "cell_type": "code",
   "execution_count": 55,
   "metadata": {},
   "outputs": [
    {
     "data": {
      "text/plain": [
       "0"
      ]
     },
     "execution_count": 55,
     "metadata": {},
     "output_type": "execute_result"
    }
   ],
   "source": [
    "len(diff_set)"
   ]
  },
  {
   "cell_type": "code",
   "execution_count": 54,
   "metadata": {},
   "outputs": [],
   "source": [
    "while diff_set:\n",
    "    diff_set.pop()"
   ]
  }
 ],
 "metadata": {
  "jupytext": {
   "formats": "ipynb,py:light"
  },
  "kernelspec": {
   "display_name": "Python 3",
   "language": "python",
   "name": "python3"
  },
  "language_info": {
   "codemirror_mode": {
    "name": "ipython",
    "version": 3
   },
   "file_extension": ".py",
   "mimetype": "text/x-python",
   "name": "python",
   "nbconvert_exporter": "python",
   "pygments_lexer": "ipython3",
   "version": "3.8.0"
  }
 },
 "nbformat": 4,
 "nbformat_minor": 4
}
